{
 "cells": [
  {
   "cell_type": "markdown",
   "metadata": {},
   "source": [
    "<h1>Data setup</h1>\n",
    "<h2>Use our function to read the data file</h2>"
   ]
  },
  {
   "cell_type": "code",
   "execution_count": 3,
   "metadata": {
    "collapsed": true
   },
   "outputs": [],
   "source": [
    "def read_311_data(datafile):\n",
    "    import pandas as pd\n",
    "    import numpy as np\n",
    "    \n",
    "    #Add the fix_zip function\n",
    "    def fix_zip(input_zip):\n",
    "        try:\n",
    "            input_zip = int(float(input_zip))\n",
    "        except:\n",
    "            try:\n",
    "                input_zip = int(input_zip.split('-')[0])\n",
    "            except:\n",
    "                return np.NaN\n",
    "        if input_zip < 10000 or input_zip > 19999:\n",
    "            return np.NaN\n",
    "        return str(input_zip)\n",
    "    \n",
    "    #Read the file\n",
    "    df = pd.read_csv(datafile,index_col='Unique Key')\n",
    "    \n",
    "    #fix the zip\n",
    "    df['Incident Zip'] = df['Incident Zip'].apply(fix_zip)\n",
    "    \n",
    "    #drop all rows that have any nans in them (note the easier syntax!)\n",
    "    \n",
    "    df = df.dropna(how='any')\n",
    "    \n",
    "    #get rid of unspecified boroughs\n",
    "    df = df[df['Borough'] != 'Unspecified']\n",
    "    \n",
    "    #Convert times to datetime and create a processing time column\n",
    "    \n",
    "    import datetime\n",
    "    df['Created Date'] = df['Created Date'].apply(lambda x:datetime.datetime.strptime(x,'%m/%d/%Y %I:%M:%S %p'))\n",
    "    df['Closed Date'] = df['Closed Date'].apply(lambda x:datetime.datetime.strptime(x,'%m/%d/%Y %I:%M:%S %p'))\n",
    "    df['processing_time'] =  df['Closed Date'] - df['Created Date']\n",
    "    \n",
    "    #Finally, get rid of negative processing times and return the final data frame\n",
    "    \n",
    "    df = df[df['processing_time']>=datetime.timedelta(0,0,0)]\n",
    "    \n",
    "    return df\n",
    "    "
   ]
  },
  {
   "cell_type": "code",
   "execution_count": 4,
   "metadata": {},
   "outputs": [
    {
     "name": "stderr",
     "output_type": "stream",
     "text": [
      "/Users/william/anaconda3/lib/python3.6/site-packages/IPython/core/interactiveshell.py:2802: DtypeWarning: Columns (4) have mixed types. Specify dtype option on import or set low_memory=False.\n",
      "  if self.run_code(code, result):\n"
     ]
    }
   ],
   "source": [
    "datafile = \"nyc_311_data_subset-2.csv\"\n",
    "data = read_311_data(datafile)"
   ]
  },
  {
   "cell_type": "code",
   "execution_count": 5,
   "metadata": {},
   "outputs": [
    {
     "data": {
      "text/html": [
       "<div>\n",
       "<style scoped>\n",
       "    .dataframe tbody tr th:only-of-type {\n",
       "        vertical-align: middle;\n",
       "    }\n",
       "\n",
       "    .dataframe tbody tr th {\n",
       "        vertical-align: top;\n",
       "    }\n",
       "\n",
       "    .dataframe thead th {\n",
       "        text-align: right;\n",
       "    }\n",
       "</style>\n",
       "<table border=\"1\" class=\"dataframe\">\n",
       "  <thead>\n",
       "    <tr style=\"text-align: right;\">\n",
       "      <th></th>\n",
       "      <th>Created Date</th>\n",
       "      <th>Closed Date</th>\n",
       "      <th>Agency</th>\n",
       "      <th>Incident Zip</th>\n",
       "      <th>Borough</th>\n",
       "      <th>Latitude</th>\n",
       "      <th>Longitude</th>\n",
       "      <th>processing_time</th>\n",
       "    </tr>\n",
       "    <tr>\n",
       "      <th>Unique Key</th>\n",
       "      <th></th>\n",
       "      <th></th>\n",
       "      <th></th>\n",
       "      <th></th>\n",
       "      <th></th>\n",
       "      <th></th>\n",
       "      <th></th>\n",
       "      <th></th>\n",
       "    </tr>\n",
       "  </thead>\n",
       "  <tbody>\n",
       "    <tr>\n",
       "      <th>1</th>\n",
       "      <td>2016-09-01 00:33:42</td>\n",
       "      <td>2016-09-16 01:06:56</td>\n",
       "      <td>DCA</td>\n",
       "      <td>10001</td>\n",
       "      <td>MANHATTAN</td>\n",
       "      <td>40.744790</td>\n",
       "      <td>-73.988834</td>\n",
       "      <td>15 days 00:33:14</td>\n",
       "    </tr>\n",
       "    <tr>\n",
       "      <th>1</th>\n",
       "      <td>2016-09-01 20:16:24</td>\n",
       "      <td>2016-09-10 18:08:25</td>\n",
       "      <td>HPD</td>\n",
       "      <td>11691</td>\n",
       "      <td>QUEENS</td>\n",
       "      <td>40.600554</td>\n",
       "      <td>-73.750704</td>\n",
       "      <td>8 days 21:52:01</td>\n",
       "    </tr>\n",
       "    <tr>\n",
       "      <th>1</th>\n",
       "      <td>2016-09-01 12:17:00</td>\n",
       "      <td>2016-09-07 12:00:00</td>\n",
       "      <td>DSNY</td>\n",
       "      <td>11211</td>\n",
       "      <td>BROOKLYN</td>\n",
       "      <td>40.704925</td>\n",
       "      <td>-73.962007</td>\n",
       "      <td>5 days 23:43:00</td>\n",
       "    </tr>\n",
       "    <tr>\n",
       "      <th>1</th>\n",
       "      <td>2016-09-01 12:10:22</td>\n",
       "      <td>2016-09-10 14:23:44</td>\n",
       "      <td>HPD</td>\n",
       "      <td>10027</td>\n",
       "      <td>MANHATTAN</td>\n",
       "      <td>40.812322</td>\n",
       "      <td>-73.955338</td>\n",
       "      <td>9 days 02:13:22</td>\n",
       "    </tr>\n",
       "    <tr>\n",
       "      <th>1</th>\n",
       "      <td>2016-09-01 12:32:32</td>\n",
       "      <td>2016-09-11 02:03:37</td>\n",
       "      <td>HPD</td>\n",
       "      <td>10452</td>\n",
       "      <td>BRONX</td>\n",
       "      <td>40.839529</td>\n",
       "      <td>-73.922534</td>\n",
       "      <td>9 days 13:31:05</td>\n",
       "    </tr>\n",
       "  </tbody>\n",
       "</table>\n",
       "</div>"
      ],
      "text/plain": [
       "                  Created Date         Closed Date Agency Incident Zip  \\\n",
       "Unique Key                                                               \n",
       "1          2016-09-01 00:33:42 2016-09-16 01:06:56    DCA        10001   \n",
       "1          2016-09-01 20:16:24 2016-09-10 18:08:25    HPD        11691   \n",
       "1          2016-09-01 12:17:00 2016-09-07 12:00:00   DSNY        11211   \n",
       "1          2016-09-01 12:10:22 2016-09-10 14:23:44    HPD        10027   \n",
       "1          2016-09-01 12:32:32 2016-09-11 02:03:37    HPD        10452   \n",
       "\n",
       "              Borough   Latitude  Longitude  processing_time  \n",
       "Unique Key                                                    \n",
       "1           MANHATTAN  40.744790 -73.988834 15 days 00:33:14  \n",
       "1              QUEENS  40.600554 -73.750704  8 days 21:52:01  \n",
       "1            BROOKLYN  40.704925 -73.962007  5 days 23:43:00  \n",
       "1           MANHATTAN  40.812322 -73.955338  9 days 02:13:22  \n",
       "1               BRONX  40.839529 -73.922534  9 days 13:31:05  "
      ]
     },
     "execution_count": 5,
     "metadata": {},
     "output_type": "execute_result"
    }
   ],
   "source": [
    "data.head()"
   ]
  },
  {
   "cell_type": "markdown",
   "metadata": {},
   "source": [
    "<h1>Plotting data on google maps</h1>\n",
    "<h2>gmplot library</h2>\n",
    "https://github.com/vgm64/gmplot"
   ]
  },
  {
   "cell_type": "code",
   "execution_count": 6,
   "metadata": {
    "collapsed": true
   },
   "outputs": [],
   "source": [
    "#!pip install gmplot --upgrade"
   ]
  },
  {
   "cell_type": "markdown",
   "metadata": {},
   "source": [
    "<h3>Our data dataframe contains latitudes and longitudes for each complaint.</h3>\n",
    "<h3>We can draw a heatmap that will help us see the relative concentration of complaints using lats and lons</h3>\n",
    "\n"
   ]
  },
  {
   "cell_type": "markdown",
   "metadata": {},
   "source": [
    "<h3>Set up the map</h3>\n",
    "<h4>GoogleMapPlotter constructor</h4>\n",
    "<ul>\n",
    "<li>GoogleMapPlotter(center_lat, center_lng, zoom)\n",
    "<li>from_geocode(location_string,zoom)\n"
   ]
  },
  {
   "cell_type": "code",
   "execution_count": 7,
   "metadata": {
    "collapsed": true
   },
   "outputs": [],
   "source": [
    "\n",
    "# import gmplot\n",
    "# #gmap = gmplot.GoogleMapPlotter(40.7128, 74.0059, 8)\n",
    "# gmap = gmplot.GoogleMapPlotter.from_geocode(\"New York\",10)"
   ]
  },
  {
   "cell_type": "markdown",
   "metadata": {},
   "source": [
    "<h3>Then generate the heatmap passing the two data series (latitude and longitude) to the function</h3>"
   ]
  },
  {
   "cell_type": "code",
   "execution_count": 8,
   "metadata": {
    "collapsed": true
   },
   "outputs": [],
   "source": [
    "#Then generate a heatmap using the latitudes and longitudes\n",
    "#gmap.heatmap(data['Latitude'], data['Longitude'])"
   ]
  },
  {
   "cell_type": "markdown",
   "metadata": {},
   "source": [
    "<h3>Save the heatmap to an html file</h3>\n",
    "<h4>The html file can be viewed, printed, or included in another html page</h4>"
   ]
  },
  {
   "cell_type": "code",
   "execution_count": 9,
   "metadata": {
    "collapsed": true
   },
   "outputs": [],
   "source": [
    "#gmap.draw('incidents3.html')"
   ]
  },
  {
   "cell_type": "markdown",
   "metadata": {},
   "source": [
    "<h1>Let's do some grouping operations</h1>"
   ]
  },
  {
   "cell_type": "markdown",
   "metadata": {},
   "source": [
    "<h2>Incidents by Borough</h2>"
   ]
  },
  {
   "cell_type": "code",
   "execution_count": 10,
   "metadata": {
    "collapsed": true
   },
   "outputs": [],
   "source": [
    "%matplotlib inline"
   ]
  },
  {
   "cell_type": "markdown",
   "metadata": {},
   "source": [
    "<h2>Group data by borough and plot a bar chart of the incident count</h2>"
   ]
  },
  {
   "cell_type": "code",
   "execution_count": 11,
   "metadata": {},
   "outputs": [
    {
     "data": {
      "text/plain": [
       "<matplotlib.axes._subplots.AxesSubplot at 0x11e4f0e48>"
      ]
     },
     "execution_count": 11,
     "metadata": {},
     "output_type": "execute_result"
    },
    {
     "data": {
      "image/png": "[encoded data removed]",
      "text/plain": [
       "<matplotlib.figure.Figure at 0x11e4f7208>"
      ]
     },
     "metadata": {},
     "output_type": "display_data"
    }
   ],
   "source": [
    "borough_group = data.groupby('Borough')\n",
    "borough_group.size().plot(kind='bar')\n",
    "#kind can be 'hist', 'scatter'"
   ]
  },
  {
   "cell_type": "markdown",
   "metadata": {},
   "source": [
    "<h1>Incidents by Agency</h1>"
   ]
  },
  {
   "cell_type": "code",
   "execution_count": 12,
   "metadata": {},
   "outputs": [
    {
     "data": {
      "text/plain": [
       "<matplotlib.axes._subplots.AxesSubplot at 0x11e4ee2e8>"
      ]
     },
     "execution_count": 12,
     "metadata": {},
     "output_type": "execute_result"
    },
    {
     "data": {
      "image/png": "[encoded data removed]",
      "text/plain": [
       "<matplotlib.figure.Figure at 0x11e4ede80>"
      ]
     },
     "metadata": {},
     "output_type": "display_data"
    }
   ],
   "source": [
    "agency_group = data.groupby('Agency')\n",
    "agency_group.size().plot(kind='bar')"
   ]
  },
  {
   "cell_type": "markdown",
   "metadata": {},
   "source": [
    "<h2>Let's combine the two in a single graph</h2>\n"
   ]
  },
  {
   "cell_type": "code",
   "execution_count": 13,
   "metadata": {},
   "outputs": [
    {
     "data": {
      "text/plain": [
       "<matplotlib.axes._subplots.AxesSubplot at 0x11e4eb1d0>"
      ]
     },
     "execution_count": 13,
     "metadata": {},
     "output_type": "execute_result"
    },
    {
     "data": {
      "image/png": "[encoded data removed]",
      "text/plain": [
       "<matplotlib.figure.Figure at 0x11e4dfa90>"
      ]
     },
     "metadata": {},
     "output_type": "display_data"
    }
   ],
   "source": [
    "agency_borough = data.groupby(['Agency','Borough'])\n",
    "agency_borough.size().plot(kind='bar')"
   ]
  },
  {
   "cell_type": "markdown",
   "metadata": {},
   "source": [
    "<h2>This is quite unreadable and pointless!</h2>"
   ]
  },
  {
   "cell_type": "markdown",
   "metadata": {},
   "source": [
    "<h3>We can unstack the groups so that we get borough by agency</h3>"
   ]
  },
  {
   "cell_type": "code",
   "execution_count": 14,
   "metadata": {},
   "outputs": [
    {
     "data": {
      "text/plain": [
       "<matplotlib.axes._subplots.AxesSubplot at 0x11e4ad400>"
      ]
     },
     "execution_count": 14,
     "metadata": {},
     "output_type": "execute_result"
    },
    {
     "data": {
      "image/png": "[encoded data removed]",
      "text/plain": [
       "<matplotlib.figure.Figure at 0x11e4e7748>"
      ]
     },
     "metadata": {},
     "output_type": "display_data"
    }
   ],
   "source": [
    "agency_borough.size().unstack().plot(kind='bar')"
   ]
  },
  {
   "cell_type": "markdown",
   "metadata": {},
   "source": [
    "<h3>Increase the size of the image and add a title</h3>"
   ]
  },
  {
   "cell_type": "code",
   "execution_count": 15,
   "metadata": {},
   "outputs": [
    {
     "data": {
      "text/plain": [
       "<matplotlib.axes._subplots.AxesSubplot at 0x11e4400b8>"
      ]
     },
     "execution_count": 15,
     "metadata": {},
     "output_type": "execute_result"
    },
    {
     "data": {
      "image/png": "[encoded data removed]",
      "text/plain": [
       "<matplotlib.figure.Figure at 0x11e44b3c8>"
      ]
     },
     "metadata": {},
     "output_type": "display_data"
    }
   ],
   "source": [
    "\n",
    "agency_borough = data.groupby(['Agency','Borough'])\n",
    "agency_borough.size().unstack().plot(kind='bar',title=\"Incidents in each Agency by Borough\",figsize=(15,15))\n"
   ]
  },
  {
   "cell_type": "markdown",
   "metadata": {},
   "source": [
    "<h1>Digression: The pandas groupby function</h1>"
   ]
  },
  {
   "cell_type": "markdown",
   "metadata": {},
   "source": [
    "<h4>You can use functions to group data</h4>"
   ]
  },
  {
   "cell_type": "code",
   "execution_count": 16,
   "metadata": {
    "collapsed": true
   },
   "outputs": [],
   "source": [
    "import pandas as pd\n",
    "writers = pd.DataFrame({'Author':['George Orwell','John Steinbeck',\n",
    "                                  'Pearl Buck','Agatha Christie'],\n",
    "                        'Country':['UK','USA','USA','UK'],\n",
    "                        'Gender':['M','M','F','F'],\n",
    "                        'Age':[46,66,80,85]})\n",
    "                        \n"
   ]
  },
  {
   "cell_type": "code",
   "execution_count": 17,
   "metadata": {},
   "outputs": [
    {
     "data": {
      "text/html": [
       "<div>\n",
       "<style scoped>\n",
       "    .dataframe tbody tr th:only-of-type {\n",
       "        vertical-align: middle;\n",
       "    }\n",
       "\n",
       "    .dataframe tbody tr th {\n",
       "        vertical-align: top;\n",
       "    }\n",
       "\n",
       "    .dataframe thead th {\n",
       "        text-align: right;\n",
       "    }\n",
       "</style>\n",
       "<table border=\"1\" class=\"dataframe\">\n",
       "  <thead>\n",
       "    <tr style=\"text-align: right;\">\n",
       "      <th></th>\n",
       "      <th>Age</th>\n",
       "      <th>Author</th>\n",
       "      <th>Country</th>\n",
       "      <th>Gender</th>\n",
       "    </tr>\n",
       "  </thead>\n",
       "  <tbody>\n",
       "    <tr>\n",
       "      <th>0</th>\n",
       "      <td>46</td>\n",
       "      <td>George Orwell</td>\n",
       "      <td>UK</td>\n",
       "      <td>M</td>\n",
       "    </tr>\n",
       "    <tr>\n",
       "      <th>1</th>\n",
       "      <td>66</td>\n",
       "      <td>John Steinbeck</td>\n",
       "      <td>USA</td>\n",
       "      <td>M</td>\n",
       "    </tr>\n",
       "    <tr>\n",
       "      <th>2</th>\n",
       "      <td>80</td>\n",
       "      <td>Pearl Buck</td>\n",
       "      <td>USA</td>\n",
       "      <td>F</td>\n",
       "    </tr>\n",
       "    <tr>\n",
       "      <th>3</th>\n",
       "      <td>85</td>\n",
       "      <td>Agatha Christie</td>\n",
       "      <td>UK</td>\n",
       "      <td>F</td>\n",
       "    </tr>\n",
       "  </tbody>\n",
       "</table>\n",
       "</div>"
      ],
      "text/plain": [
       "   Age           Author Country Gender\n",
       "0   46    George Orwell      UK      M\n",
       "1   66   John Steinbeck     USA      M\n",
       "2   80       Pearl Buck     USA      F\n",
       "3   85  Agatha Christie      UK      F"
      ]
     },
     "execution_count": 17,
     "metadata": {},
     "output_type": "execute_result"
    }
   ],
   "source": [
    "writers"
   ]
  },
  {
   "cell_type": "markdown",
   "metadata": {},
   "source": [
    "<h4>Group by country</h4>"
   ]
  },
  {
   "cell_type": "code",
   "execution_count": 18,
   "metadata": {},
   "outputs": [
    {
     "data": {
      "text/html": [
       "<div>\n",
       "<style scoped>\n",
       "    .dataframe tbody tr th:only-of-type {\n",
       "        vertical-align: middle;\n",
       "    }\n",
       "\n",
       "    .dataframe tbody tr th {\n",
       "        vertical-align: top;\n",
       "    }\n",
       "\n",
       "    .dataframe thead th {\n",
       "        text-align: right;\n",
       "    }\n",
       "</style>\n",
       "<table border=\"1\" class=\"dataframe\">\n",
       "  <thead>\n",
       "    <tr style=\"text-align: right;\">\n",
       "      <th></th>\n",
       "      <th>Age</th>\n",
       "      <th>Author</th>\n",
       "      <th>Gender</th>\n",
       "    </tr>\n",
       "    <tr>\n",
       "      <th>Country</th>\n",
       "      <th></th>\n",
       "      <th></th>\n",
       "      <th></th>\n",
       "    </tr>\n",
       "  </thead>\n",
       "  <tbody>\n",
       "    <tr>\n",
       "      <th>UK</th>\n",
       "      <td>131</td>\n",
       "      <td>George OrwellAgatha Christie</td>\n",
       "      <td>MF</td>\n",
       "    </tr>\n",
       "    <tr>\n",
       "      <th>USA</th>\n",
       "      <td>146</td>\n",
       "      <td>John SteinbeckPearl Buck</td>\n",
       "      <td>MF</td>\n",
       "    </tr>\n",
       "  </tbody>\n",
       "</table>\n",
       "</div>"
      ],
      "text/plain": [
       "         Age                        Author Gender\n",
       "Country                                          \n",
       "UK       131  George OrwellAgatha Christie     MF\n",
       "USA      146      John SteinbeckPearl Buck     MF"
      ]
     },
     "execution_count": 18,
     "metadata": {},
     "output_type": "execute_result"
    }
   ],
   "source": [
    "grouped = writers.groupby('Country')\n",
    "grouped.first()\n",
    "grouped.last()\n",
    "grouped.sum()\n",
    "grouped.mean()\n",
    "grouped.apply(sum)"
   ]
  },
  {
   "cell_type": "code",
   "execution_count": 19,
   "metadata": {},
   "outputs": [
    {
     "data": {
      "text/plain": [
       "{'UK': Int64Index([0, 3], dtype='int64'),\n",
       " 'USA': Int64Index([1, 2], dtype='int64')}"
      ]
     },
     "execution_count": 19,
     "metadata": {},
     "output_type": "execute_result"
    }
   ],
   "source": [
    "grouped.groups"
   ]
  },
  {
   "cell_type": "markdown",
   "metadata": {},
   "source": [
    "<h4>Group by multiple columns</h4>"
   ]
  },
  {
   "cell_type": "code",
   "execution_count": 20,
   "metadata": {},
   "outputs": [
    {
     "data": {
      "text/plain": [
       "{('UK', 'F'): Int64Index([3], dtype='int64'),\n",
       " ('UK', 'M'): Int64Index([0], dtype='int64'),\n",
       " ('USA', 'F'): Int64Index([2], dtype='int64'),\n",
       " ('USA', 'M'): Int64Index([1], dtype='int64')}"
      ]
     },
     "execution_count": 20,
     "metadata": {},
     "output_type": "execute_result"
    }
   ],
   "source": [
    "grouped = writers.groupby(['Country','Gender'])\n",
    "grouped.groups"
   ]
  },
  {
   "cell_type": "markdown",
   "metadata": {},
   "source": [
    "<h4>Group by age groups</h4>"
   ]
  },
  {
   "cell_type": "code",
   "execution_count": 21,
   "metadata": {
    "collapsed": true
   },
   "outputs": [],
   "source": [
    "def age_groups(df,index,col):\n",
    "    print(index,col)\n",
    "    if df[col].iloc[index] < 30:\n",
    "        return 'Young'\n",
    "    if df[col].iloc[index] < 60:\n",
    "        return 'Middle'\n",
    "    else:\n",
    "        return 'Old'"
   ]
  },
  {
   "cell_type": "code",
   "execution_count": 22,
   "metadata": {},
   "outputs": [
    {
     "data": {
      "text/plain": [
       "46"
      ]
     },
     "execution_count": 22,
     "metadata": {},
     "output_type": "execute_result"
    }
   ],
   "source": [
    "writers['Age'].iloc[0]"
   ]
  },
  {
   "cell_type": "code",
   "execution_count": 23,
   "metadata": {},
   "outputs": [
    {
     "name": "stdout",
     "output_type": "stream",
     "text": [
      "0 Age\n",
      "1 Age\n",
      "2 Age\n",
      "3 Age\n"
     ]
    },
    {
     "data": {
      "text/plain": [
       "{'Middle': Int64Index([0], dtype='int64'),\n",
       " 'Old': Int64Index([1, 2, 3], dtype='int64')}"
      ]
     },
     "execution_count": 23,
     "metadata": {},
     "output_type": "execute_result"
    }
   ],
   "source": [
    "grouped = writers.groupby(lambda x: age_groups(writers,x,'Age'))\n",
    "grouped.groups"
   ]
  },
  {
   "cell_type": "markdown",
   "metadata": {},
   "source": [
    "<h2>Grouping by the values in a column</h2>\n",
    "<h3>For example, grouping the data by values in a column that are greater than or less than zero</h3>"
   ]
  },
  {
   "cell_type": "code",
   "execution_count": 24,
   "metadata": {
    "collapsed": true
   },
   "outputs": [],
   "source": [
    "import numpy as np "
   ]
  },
  {
   "cell_type": "code",
   "execution_count": 25,
   "metadata": {},
   "outputs": [
    {
     "data": {
      "text/plain": [
       "array([[ 1.57730071e+00,  4.65071758e-02, -2.06927598e-01,\n",
       "         8.70540279e-01, -2.52588822e-01],\n",
       "       [-9.41041396e-02, -1.44544011e-04, -2.54862881e+00,\n",
       "        -6.08129442e-01,  1.00790850e+00],\n",
       "       [ 2.13793246e-01,  1.97313898e-02, -1.05359651e+00,\n",
       "        -1.60314397e+00, -1.12107373e+00],\n",
       "       [ 9.34306039e-01, -1.80130116e+00, -1.22656938e-01,\n",
       "         4.13781753e-01,  1.79947801e-02],\n",
       "       [ 1.14554035e+00, -2.33289145e+00, -2.71956789e+00,\n",
       "         2.44548892e-01,  4.40129637e-01]])"
      ]
     },
     "execution_count": 25,
     "metadata": {},
     "output_type": "execute_result"
    }
   ],
   "source": [
    "np.random.randn(5, 5)"
   ]
  },
  {
   "cell_type": "code",
   "execution_count": 26,
   "metadata": {},
   "outputs": [
    {
     "data": {
      "text/html": [
       "<div>\n",
       "<style scoped>\n",
       "    .dataframe tbody tr th:only-of-type {\n",
       "        vertical-align: middle;\n",
       "    }\n",
       "\n",
       "    .dataframe tbody tr th {\n",
       "        vertical-align: top;\n",
       "    }\n",
       "\n",
       "    .dataframe thead th {\n",
       "        text-align: right;\n",
       "    }\n",
       "</style>\n",
       "<table border=\"1\" class=\"dataframe\">\n",
       "  <thead>\n",
       "    <tr style=\"text-align: right;\">\n",
       "      <th></th>\n",
       "      <th>a</th>\n",
       "      <th>b</th>\n",
       "      <th>c</th>\n",
       "      <th>d</th>\n",
       "      <th>e</th>\n",
       "    </tr>\n",
       "  </thead>\n",
       "  <tbody>\n",
       "    <tr>\n",
       "      <th>Joe</th>\n",
       "      <td>-0.507985</td>\n",
       "      <td>-1.327733</td>\n",
       "      <td>-1.309636</td>\n",
       "      <td>-0.303993</td>\n",
       "      <td>-1.684696</td>\n",
       "    </tr>\n",
       "    <tr>\n",
       "      <th>Steve</th>\n",
       "      <td>1.175965</td>\n",
       "      <td>-0.122822</td>\n",
       "      <td>-1.680508</td>\n",
       "      <td>-0.202626</td>\n",
       "      <td>-0.008105</td>\n",
       "    </tr>\n",
       "    <tr>\n",
       "      <th>Wes</th>\n",
       "      <td>1.088135</td>\n",
       "      <td>-0.340674</td>\n",
       "      <td>0.695376</td>\n",
       "      <td>-0.066217</td>\n",
       "      <td>-1.272071</td>\n",
       "    </tr>\n",
       "    <tr>\n",
       "      <th>Jim</th>\n",
       "      <td>-1.220948</td>\n",
       "      <td>-0.620222</td>\n",
       "      <td>-1.186883</td>\n",
       "      <td>-0.064918</td>\n",
       "      <td>0.297104</td>\n",
       "    </tr>\n",
       "    <tr>\n",
       "      <th>Travis</th>\n",
       "      <td>1.294763</td>\n",
       "      <td>0.312961</td>\n",
       "      <td>-1.015610</td>\n",
       "      <td>-1.020150</td>\n",
       "      <td>-1.430703</td>\n",
       "    </tr>\n",
       "  </tbody>\n",
       "</table>\n",
       "</div>"
      ],
      "text/plain": [
       "               a         b         c         d         e\n",
       "Joe    -0.507985 -1.327733 -1.309636 -0.303993 -1.684696\n",
       "Steve   1.175965 -0.122822 -1.680508 -0.202626 -0.008105\n",
       "Wes     1.088135 -0.340674  0.695376 -0.066217 -1.272071\n",
       "Jim    -1.220948 -0.620222 -1.186883 -0.064918  0.297104\n",
       "Travis  1.294763  0.312961 -1.015610 -1.020150 -1.430703"
      ]
     },
     "execution_count": 26,
     "metadata": {},
     "output_type": "execute_result"
    }
   ],
   "source": [
    "people = pd.DataFrame(np.random.randn(5, 5), columns=['a', 'b', 'c', 'd', 'e'], index=['Joe', 'Steve', 'Wes', 'Jim', 'Travis'])\n",
    "people"
   ]
  },
  {
   "cell_type": "markdown",
   "metadata": {},
   "source": [
    "<h3>Write a function that takes three arguments - a dataframe, an index, and a column name and returns the grouping for that row</h3>"
   ]
  },
  {
   "cell_type": "code",
   "execution_count": 27,
   "metadata": {},
   "outputs": [
    {
     "data": {
      "text/plain": [
       "-0.5079853398049531"
      ]
     },
     "execution_count": 27,
     "metadata": {},
     "output_type": "execute_result"
    }
   ],
   "source": [
    "people['a'].loc['Joe']"
   ]
  },
  {
   "cell_type": "code",
   "execution_count": 28,
   "metadata": {
    "collapsed": true
   },
   "outputs": [],
   "source": [
    "def GroupColFunc(df, ind, col):\n",
    "    if df[col].loc[ind] > 0:\n",
    "        return 'Group1'\n",
    "    else:\n",
    "        return 'Group2'"
   ]
  },
  {
   "cell_type": "code",
   "execution_count": 29,
   "metadata": {},
   "outputs": [
    {
     "data": {
      "text/plain": [
       "{'Group1': Index(['Steve', 'Wes', 'Travis'], dtype='object'),\n",
       " 'Group2': Index(['Joe', 'Jim'], dtype='object')}"
      ]
     },
     "execution_count": 29,
     "metadata": {},
     "output_type": "execute_result"
    }
   ],
   "source": [
    "people.groupby(lambda x: GroupColFunc(people, x, 'a')).groups"
   ]
  },
  {
   "cell_type": "markdown",
   "metadata": {},
   "source": [
    "<h2>Now we can compute stats on these groups</h2>"
   ]
  },
  {
   "cell_type": "code",
   "execution_count": 30,
   "metadata": {},
   "outputs": [
    {
     "name": "stdout",
     "output_type": "stream",
     "text": [
      "               a         b         c         d         e\n",
      "Group1  1.186288 -0.050178 -0.666914 -0.429665 -0.903626\n",
      "Group2 -0.864467 -0.973977 -1.248259 -0.184455 -0.693796\n",
      "               a         b         c         d         e\n",
      "Group1  0.103700  0.332818  1.225724  0.515904  0.779590\n",
      "Group2  0.504141  0.500285  0.086800  0.169051  1.401344\n"
     ]
    }
   ],
   "source": [
    "print(people.groupby(lambda x: GroupColFunc(people, x, 'a')).mean())\n",
    "print(people.groupby(lambda x: GroupColFunc(people, x, 'a')).std())"
   ]
  },
  {
   "cell_type": "markdown",
   "metadata": {},
   "source": [
    "<h1>Incidents by time</h1>\n",
    "<p>We know the creation date of each incident so we can build a bar graph of number of incidents by month\n",
    "<p>Not particularly useful with a few months data but if we had all data from 2010, we could use this sort of\n",
    "analysis to eyeball trends and seasonality\n",
    "<p>We're going to need to do some data manipulation for this"
   ]
  },
  {
   "cell_type": "markdown",
   "metadata": {},
   "source": [
    "<h3>We'll start by creating a new date field yyyymm"
   ]
  },
  {
   "cell_type": "code",
   "execution_count": 31,
   "metadata": {},
   "outputs": [
    {
     "data": {
      "text/plain": [
       "Unique Key\n",
       "1   2016-09-20 15:02:25\n",
       "1   2016-09-20 11:36:47\n",
       "1   2016-09-20 16:41:40\n",
       "1   2016-09-20 11:36:46\n",
       "1   2016-09-20 13:41:33\n",
       "Name: Created Date, dtype: datetime64[ns]"
      ]
     },
     "execution_count": 31,
     "metadata": {},
     "output_type": "execute_result"
    }
   ],
   "source": [
    "data['Created Date'].tail()"
   ]
  },
  {
   "cell_type": "code",
   "execution_count": 32,
   "metadata": {
    "collapsed": true
   },
   "outputs": [],
   "source": [
    "import datetime\n",
    "data['yyyymm'] = data['Created Date'].apply(lambda x:datetime.datetime.strftime(x,'%Y%m'))"
   ]
  },
  {
   "cell_type": "code",
   "execution_count": 33,
   "metadata": {},
   "outputs": [
    {
     "data": {
      "text/plain": [
       "Unique Key\n",
       "1    201609\n",
       "1    201609\n",
       "1    201609\n",
       "1    201609\n",
       "1    201609\n",
       "Name: yyyymm, dtype: object"
      ]
     },
     "execution_count": 33,
     "metadata": {},
     "output_type": "execute_result"
    }
   ],
   "source": [
    "data['yyyymm'].head()"
   ]
  },
  {
   "cell_type": "code",
   "execution_count": 34,
   "metadata": {},
   "outputs": [
    {
     "data": {
      "text/plain": [
       "<matplotlib.axes._subplots.AxesSubplot at 0x11e121898>"
      ]
     },
     "execution_count": 34,
     "metadata": {},
     "output_type": "execute_result"
    },
    {
     "data": {
      "image/png": "[encoded data removed]",
      "text/plain": [
       "<matplotlib.figure.Figure at 0x11e11f048>"
      ]
     },
     "metadata": {},
     "output_type": "display_data"
    }
   ],
   "source": [
    "date_agency = data.groupby(['yyyymm','Agency'])\n",
    "date_agency.size().unstack().plot(kind='bar',figsize=(15,15))"
   ]
  },
  {
   "cell_type": "markdown",
   "metadata": {},
   "source": [
    "<h1>Examining agencies</h1>"
   ]
  },
  {
   "cell_type": "markdown",
   "metadata": {},
   "source": [
    "<h2>We'll look at the frequency by agency and report the top 5 values</h2>"
   ]
  },
  {
   "cell_type": "code",
   "execution_count": 35,
   "metadata": {},
   "outputs": [
    {
     "data": {
      "text/plain": [
       "Agency\n",
       "NYPD     273683\n",
       "HPD      244815\n",
       "DOT       66178\n",
       "DSNY      63321\n",
       "DEP       60346\n",
       "DOB       34821\n",
       "DHS       15083\n",
       "DOHMH     14188\n",
       "DPR       10830\n",
       "TLC        7129\n",
       "DCA        5760\n",
       "FDNY       1676\n",
       "DOF         579\n",
       "DOE         454\n",
       "DOITT       134\n",
       "EDC         123\n",
       "3-1-1       102\n",
       "DFTA        101\n",
       "dtype: int64"
      ]
     },
     "execution_count": 35,
     "metadata": {},
     "output_type": "execute_result"
    }
   ],
   "source": [
    "data.groupby('Agency').size().sort_values(ascending=False)"
   ]
  },
  {
   "cell_type": "code",
   "execution_count": 36,
   "metadata": {},
   "outputs": [
    {
     "data": {
      "text/plain": [
       "<matplotlib.axes._subplots.AxesSubplot at 0x11e13f400>"
      ]
     },
     "execution_count": 36,
     "metadata": {},
     "output_type": "execute_result"
    },
    {
     "data": {
      "image/png": "[encoded data removed]",
      "text/plain": [
       "<matplotlib.figure.Figure at 0x11e131518>"
      ]
     },
     "metadata": {},
     "output_type": "display_data"
    }
   ],
   "source": [
    "data.groupby('Agency').size().sort_values(ascending=False).plot(kind='bar', figsize=(20,4))"
   ]
  },
  {
   "cell_type": "markdown",
   "metadata": {},
   "source": [
    "<h3>We can drill down into complaints by Agency by borough</h3>"
   ]
  },
  {
   "cell_type": "code",
   "execution_count": 37,
   "metadata": {},
   "outputs": [
    {
     "data": {
      "text/html": [
       "<div>\n",
       "<style scoped>\n",
       "    .dataframe tbody tr th:only-of-type {\n",
       "        vertical-align: middle;\n",
       "    }\n",
       "\n",
       "    .dataframe tbody tr th {\n",
       "        vertical-align: top;\n",
       "    }\n",
       "\n",
       "    .dataframe thead th {\n",
       "        text-align: right;\n",
       "    }\n",
       "</style>\n",
       "<table border=\"1\" class=\"dataframe\">\n",
       "  <thead>\n",
       "    <tr style=\"text-align: right;\">\n",
       "      <th></th>\n",
       "      <th>Created Date</th>\n",
       "      <th>Closed Date</th>\n",
       "      <th>Agency</th>\n",
       "      <th>Incident Zip</th>\n",
       "      <th>Borough</th>\n",
       "      <th>Latitude</th>\n",
       "      <th>Longitude</th>\n",
       "      <th>processing_time</th>\n",
       "      <th>yyyymm</th>\n",
       "    </tr>\n",
       "    <tr>\n",
       "      <th>Unique Key</th>\n",
       "      <th></th>\n",
       "      <th></th>\n",
       "      <th></th>\n",
       "      <th></th>\n",
       "      <th></th>\n",
       "      <th></th>\n",
       "      <th></th>\n",
       "      <th></th>\n",
       "      <th></th>\n",
       "    </tr>\n",
       "  </thead>\n",
       "  <tbody>\n",
       "    <tr>\n",
       "      <th>1</th>\n",
       "      <td>2016-09-01 00:33:42</td>\n",
       "      <td>2016-09-16 01:06:56</td>\n",
       "      <td>DCA</td>\n",
       "      <td>10001</td>\n",
       "      <td>MANHATTAN</td>\n",
       "      <td>40.744790</td>\n",
       "      <td>-73.988834</td>\n",
       "      <td>15 days 00:33:14</td>\n",
       "      <td>201609</td>\n",
       "    </tr>\n",
       "    <tr>\n",
       "      <th>1</th>\n",
       "      <td>2016-09-01 20:16:24</td>\n",
       "      <td>2016-09-10 18:08:25</td>\n",
       "      <td>HPD</td>\n",
       "      <td>11691</td>\n",
       "      <td>QUEENS</td>\n",
       "      <td>40.600554</td>\n",
       "      <td>-73.750704</td>\n",
       "      <td>8 days 21:52:01</td>\n",
       "      <td>201609</td>\n",
       "    </tr>\n",
       "    <tr>\n",
       "      <th>1</th>\n",
       "      <td>2016-09-01 12:17:00</td>\n",
       "      <td>2016-09-07 12:00:00</td>\n",
       "      <td>DSNY</td>\n",
       "      <td>11211</td>\n",
       "      <td>BROOKLYN</td>\n",
       "      <td>40.704925</td>\n",
       "      <td>-73.962007</td>\n",
       "      <td>5 days 23:43:00</td>\n",
       "      <td>201609</td>\n",
       "    </tr>\n",
       "    <tr>\n",
       "      <th>1</th>\n",
       "      <td>2016-09-01 12:10:22</td>\n",
       "      <td>2016-09-10 14:23:44</td>\n",
       "      <td>HPD</td>\n",
       "      <td>10027</td>\n",
       "      <td>MANHATTAN</td>\n",
       "      <td>40.812322</td>\n",
       "      <td>-73.955338</td>\n",
       "      <td>9 days 02:13:22</td>\n",
       "      <td>201609</td>\n",
       "    </tr>\n",
       "    <tr>\n",
       "      <th>1</th>\n",
       "      <td>2016-09-01 12:32:32</td>\n",
       "      <td>2016-09-11 02:03:37</td>\n",
       "      <td>HPD</td>\n",
       "      <td>10452</td>\n",
       "      <td>BRONX</td>\n",
       "      <td>40.839529</td>\n",
       "      <td>-73.922534</td>\n",
       "      <td>9 days 13:31:05</td>\n",
       "      <td>201609</td>\n",
       "    </tr>\n",
       "  </tbody>\n",
       "</table>\n",
       "</div>"
      ],
      "text/plain": [
       "                  Created Date         Closed Date Agency Incident Zip  \\\n",
       "Unique Key                                                               \n",
       "1          2016-09-01 00:33:42 2016-09-16 01:06:56    DCA        10001   \n",
       "1          2016-09-01 20:16:24 2016-09-10 18:08:25    HPD        11691   \n",
       "1          2016-09-01 12:17:00 2016-09-07 12:00:00   DSNY        11211   \n",
       "1          2016-09-01 12:10:22 2016-09-10 14:23:44    HPD        10027   \n",
       "1          2016-09-01 12:32:32 2016-09-11 02:03:37    HPD        10452   \n",
       "\n",
       "              Borough   Latitude  Longitude  processing_time  yyyymm  \n",
       "Unique Key                                                            \n",
       "1           MANHATTAN  40.744790 -73.988834 15 days 00:33:14  201609  \n",
       "1              QUEENS  40.600554 -73.750704  8 days 21:52:01  201609  \n",
       "1            BROOKLYN  40.704925 -73.962007  5 days 23:43:00  201609  \n",
       "1           MANHATTAN  40.812322 -73.955338  9 days 02:13:22  201609  \n",
       "1               BRONX  40.839529 -73.922534  9 days 13:31:05  201609  "
      ]
     },
     "execution_count": 37,
     "metadata": {},
     "output_type": "execute_result"
    }
   ],
   "source": [
    "data.head()"
   ]
  },
  {
   "cell_type": "code",
   "execution_count": 38,
   "metadata": {
    "collapsed": true
   },
   "outputs": [],
   "source": [
    "agency_borough = data.groupby(['Agency', 'Borough']).size().unstack()"
   ]
  },
  {
   "cell_type": "code",
   "execution_count": 39,
   "metadata": {},
   "outputs": [
    {
     "data": {
      "text/html": [
       "<div>\n",
       "<style scoped>\n",
       "    .dataframe tbody tr th:only-of-type {\n",
       "        vertical-align: middle;\n",
       "    }\n",
       "\n",
       "    .dataframe tbody tr th {\n",
       "        vertical-align: top;\n",
       "    }\n",
       "\n",
       "    .dataframe thead th {\n",
       "        text-align: right;\n",
       "    }\n",
       "</style>\n",
       "<table border=\"1\" class=\"dataframe\">\n",
       "  <thead>\n",
       "    <tr style=\"text-align: right;\">\n",
       "      <th>Borough</th>\n",
       "      <th>BRONX</th>\n",
       "      <th>BROOKLYN</th>\n",
       "      <th>MANHATTAN</th>\n",
       "      <th>QUEENS</th>\n",
       "      <th>STATEN ISLAND</th>\n",
       "    </tr>\n",
       "    <tr>\n",
       "      <th>Agency</th>\n",
       "      <th></th>\n",
       "      <th></th>\n",
       "      <th></th>\n",
       "      <th></th>\n",
       "      <th></th>\n",
       "    </tr>\n",
       "  </thead>\n",
       "  <tbody>\n",
       "    <tr>\n",
       "      <th>3-1-1</th>\n",
       "      <td>17.0</td>\n",
       "      <td>28.0</td>\n",
       "      <td>23.0</td>\n",
       "      <td>28.0</td>\n",
       "      <td>6.0</td>\n",
       "    </tr>\n",
       "    <tr>\n",
       "      <th>DCA</th>\n",
       "      <td>958.0</td>\n",
       "      <td>1532.0</td>\n",
       "      <td>1529.0</td>\n",
       "      <td>1547.0</td>\n",
       "      <td>194.0</td>\n",
       "    </tr>\n",
       "    <tr>\n",
       "      <th>DEP</th>\n",
       "      <td>5837.0</td>\n",
       "      <td>17917.0</td>\n",
       "      <td>17315.0</td>\n",
       "      <td>15216.0</td>\n",
       "      <td>4061.0</td>\n",
       "    </tr>\n",
       "    <tr>\n",
       "      <th>DFTA</th>\n",
       "      <td>21.0</td>\n",
       "      <td>33.0</td>\n",
       "      <td>24.0</td>\n",
       "      <td>21.0</td>\n",
       "      <td>2.0</td>\n",
       "    </tr>\n",
       "    <tr>\n",
       "      <th>DHS</th>\n",
       "      <td>397.0</td>\n",
       "      <td>1130.0</td>\n",
       "      <td>12767.0</td>\n",
       "      <td>734.0</td>\n",
       "      <td>55.0</td>\n",
       "    </tr>\n",
       "  </tbody>\n",
       "</table>\n",
       "</div>"
      ],
      "text/plain": [
       "Borough   BRONX  BROOKLYN  MANHATTAN   QUEENS  STATEN ISLAND\n",
       "Agency                                                      \n",
       "3-1-1      17.0      28.0       23.0     28.0            6.0\n",
       "DCA       958.0    1532.0     1529.0   1547.0          194.0\n",
       "DEP      5837.0   17917.0    17315.0  15216.0         4061.0\n",
       "DFTA       21.0      33.0       24.0     21.0            2.0\n",
       "DHS       397.0    1130.0    12767.0    734.0           55.0"
      ]
     },
     "execution_count": 39,
     "metadata": {},
     "output_type": "execute_result"
    }
   ],
   "source": [
    "agency_borough.head()"
   ]
  },
  {
   "cell_type": "markdown",
   "metadata": {},
   "source": [
    "<h3>We can create 'top 5 Agency' subplots subplots for each borough</h3>"
   ]
  },
  {
   "cell_type": "code",
   "execution_count": 40,
   "metadata": {
    "scrolled": true
   },
   "outputs": [
    {
     "name": "stdout",
     "output_type": "stream",
     "text": [
      "0 BRONX Agency\n",
      "3-1-1       17.0\n",
      "DCA        958.0\n",
      "DEP       5837.0\n",
      "DFTA        21.0\n",
      "DHS        397.0\n",
      "DOB       5160.0\n",
      "DOE        129.0\n",
      "DOF        143.0\n",
      "DOHMH     2406.0\n",
      "DOITT        7.0\n",
      "DOT       8682.0\n",
      "DPR       1416.0\n",
      "DSNY      6406.0\n",
      "EDC          1.0\n",
      "FDNY        39.0\n",
      "HPD      77774.0\n",
      "NYPD     48837.0\n",
      "TLC        318.0\n",
      "Name: BRONX, dtype: float64\n",
      "1 BROOKLYN Agency\n",
      "3-1-1       28.0\n",
      "DCA       1532.0\n",
      "DEP      17917.0\n",
      "DFTA        33.0\n",
      "DHS       1130.0\n",
      "DOB      10993.0\n",
      "DOE        127.0\n",
      "DOF        161.0\n",
      "DOHMH     4481.0\n",
      "DOITT       18.0\n",
      "DOT      19176.0\n",
      "DPR       2929.0\n",
      "DSNY     22208.0\n",
      "EDC         62.0\n",
      "FDNY       127.0\n",
      "HPD      81382.0\n",
      "NYPD     88973.0\n",
      "TLC       1238.0\n",
      "Name: BROOKLYN, dtype: float64\n",
      "2 MANHATTAN Agency\n",
      "3-1-1       23.0\n",
      "DCA       1529.0\n",
      "DEP      17315.0\n",
      "DFTA        24.0\n",
      "DHS      12767.0\n",
      "DOB       6507.0\n",
      "DOE         49.0\n",
      "DOF        153.0\n",
      "DOHMH     3759.0\n",
      "DOITT       91.0\n",
      "DOT       9673.0\n",
      "DPR       1103.0\n",
      "DSNY      6079.0\n",
      "EDC         41.0\n",
      "FDNY      1344.0\n",
      "HPD      51017.0\n",
      "NYPD     55841.0\n",
      "TLC       4393.0\n",
      "Name: MANHATTAN, dtype: float64\n",
      "3 QUEENS Agency\n",
      "3-1-1       28.0\n",
      "DCA       1547.0\n",
      "DEP      15216.0\n",
      "DFTA        21.0\n",
      "DHS        734.0\n",
      "DOB      10567.0\n",
      "DOE        136.0\n",
      "DOF        112.0\n",
      "DOHMH     2814.0\n",
      "DOITT       18.0\n",
      "DOT      22096.0\n",
      "DPR       3897.0\n",
      "DSNY     18125.0\n",
      "EDC         15.0\n",
      "FDNY       158.0\n",
      "HPD      31080.0\n",
      "NYPD     69931.0\n",
      "TLC       1146.0\n",
      "Name: QUEENS, dtype: float64\n",
      "4 STATEN ISLAND Agency\n",
      "3-1-1        6.0\n",
      "DCA        194.0\n",
      "DEP       4061.0\n",
      "DFTA         2.0\n",
      "DHS         55.0\n",
      "DOB       1594.0\n",
      "DOE         13.0\n",
      "DOF         10.0\n",
      "DOHMH      728.0\n",
      "DOITT        NaN\n",
      "DOT       6551.0\n",
      "DPR       1485.0\n",
      "DSNY     10503.0\n",
      "EDC          4.0\n",
      "FDNY         8.0\n",
      "HPD       3562.0\n",
      "NYPD     10101.0\n",
      "TLC         34.0\n",
      "Name: STATEN ISLAND, dtype: float64\n"
     ]
    }
   ],
   "source": [
    "for i, (label, col) in enumerate(agency_borough.iteritems()):\n",
    "    print(i, label, col)"
   ]
  },
  {
   "cell_type": "code",
   "execution_count": 41,
   "metadata": {},
   "outputs": [
    {
     "data": {
      "text/plain": [
       "Agency\n",
       "HPD     77774.0\n",
       "NYPD    48837.0\n",
       "DOT      8682.0\n",
       "DSNY     6406.0\n",
       "DEP      5837.0\n",
       "Name: BRONX, dtype: float64"
      ]
     },
     "execution_count": 41,
     "metadata": {},
     "output_type": "execute_result"
    }
   ],
   "source": [
    "agency_borough['BRONX'].sort_values(ascending=False)[:5] "
   ]
  },
  {
   "cell_type": "code",
   "execution_count": 43,
   "metadata": {},
   "outputs": [
    {
     "data": {
      "image/png": "[encoded data removed]",
      "text/plain": [
       "<matplotlib.figure.Figure at 0x11e4282e8>"
      ]
     },
     "metadata": {},
     "output_type": "display_data"
    }
   ],
   "source": [
    "#We'll arrange the subplots in two rows and three columns. \n",
    "#Since we have only 5 boroughs, one plot will be blank\n",
    "COL_NUM = 2\n",
    "ROW_NUM = 3\n",
    "import matplotlib.pyplot as plt\n",
    "fig, axes = plt.subplots(ROW_NUM, COL_NUM, figsize=(12,12))\n",
    "\n",
    "for i, (label, col) in enumerate(agency_borough.iteritems()): \n",
    "    ax = axes[int(i/COL_NUM), i%COL_NUM]\n",
    "    col = col.sort_values(ascending=False)[:5] \n",
    "    col.plot(kind='barh', ax=ax)\n",
    "    ax.set_title(label)\n",
    "\n",
    "plt.tight_layout() "
   ]
  },
  {
   "cell_type": "code",
   "execution_count": 44,
   "metadata": {
    "scrolled": true
   },
   "outputs": [
    {
     "name": "stdout",
     "output_type": "stream",
     "text": [
      "0 (0, 0) AxesSubplot(0.0686343,0.690509;0.415066x0.278472)\n",
      "1 (0, 1) AxesSubplot(0.563247,0.690509;0.415066x0.278472)\n",
      "2 (1, 0) AxesSubplot(0.0686343,0.361343;0.415066x0.278472)\n",
      "3 (1, 1) AxesSubplot(0.563247,0.361343;0.415066x0.278472)\n",
      "4 (2, 0) AxesSubplot(0.0686343,0.0321759;0.415066x0.278472)\n"
     ]
    }
   ],
   "source": [
    "for i in range(5):\n",
    "    ax = axes[int(i/2), i%2]\n",
    "    print(i, (int(i/2), i%2), ax)"
   ]
  },
  {
   "cell_type": "code",
   "execution_count": 45,
   "metadata": {
    "collapsed": true,
    "scrolled": true
   },
   "outputs": [],
   "source": [
    "# for i, (label, col) in enumerate(agency_borough.iteritems()): \n",
    "#     print(i,label,col)"
   ]
  },
  {
   "cell_type": "markdown",
   "metadata": {},
   "source": [
    "<h1>Processing time</h1>\n",
    "<h2>We can compute simple statistics on processing time</h2>"
   ]
  },
  {
   "cell_type": "code",
   "execution_count": 46,
   "metadata": {
    "collapsed": true
   },
   "outputs": [],
   "source": [
    "grouped = data[['processing_time','Borough']].groupby('Borough')"
   ]
  },
  {
   "cell_type": "code",
   "execution_count": 47,
   "metadata": {},
   "outputs": [
    {
     "data": {
      "text/html": [
       "<div>\n",
       "<style scoped>\n",
       "    .dataframe tbody tr th:only-of-type {\n",
       "        vertical-align: middle;\n",
       "    }\n",
       "\n",
       "    .dataframe tbody tr th {\n",
       "        vertical-align: top;\n",
       "    }\n",
       "\n",
       "    .dataframe thead tr th {\n",
       "        text-align: left;\n",
       "    }\n",
       "\n",
       "    .dataframe thead tr:last-of-type th {\n",
       "        text-align: right;\n",
       "    }\n",
       "</style>\n",
       "<table border=\"1\" class=\"dataframe\">\n",
       "  <thead>\n",
       "    <tr>\n",
       "      <th></th>\n",
       "      <th colspan=\"8\" halign=\"left\">processing_time</th>\n",
       "    </tr>\n",
       "    <tr>\n",
       "      <th></th>\n",
       "      <th>count</th>\n",
       "      <th>mean</th>\n",
       "      <th>std</th>\n",
       "      <th>min</th>\n",
       "      <th>25%</th>\n",
       "      <th>50%</th>\n",
       "      <th>75%</th>\n",
       "      <th>max</th>\n",
       "    </tr>\n",
       "    <tr>\n",
       "      <th>Borough</th>\n",
       "      <th></th>\n",
       "      <th></th>\n",
       "      <th></th>\n",
       "      <th></th>\n",
       "      <th></th>\n",
       "      <th></th>\n",
       "      <th></th>\n",
       "      <th></th>\n",
       "    </tr>\n",
       "  </thead>\n",
       "  <tbody>\n",
       "    <tr>\n",
       "      <th>BRONX</th>\n",
       "      <td>158548</td>\n",
       "      <td>5 days 11:22:39.529133</td>\n",
       "      <td>10 days 19:29:45.763262</td>\n",
       "      <td>0 days 00:00:00</td>\n",
       "      <td>0 days 05:48:38.250000</td>\n",
       "      <td>1 days 21:27:00</td>\n",
       "      <td>5 days 19:48:12.750000</td>\n",
       "      <td>145 days 00:23:57</td>\n",
       "    </tr>\n",
       "    <tr>\n",
       "      <th>BROOKLYN</th>\n",
       "      <td>252515</td>\n",
       "      <td>5 days 01:22:08.762913</td>\n",
       "      <td>11 days 20:44:39.914032</td>\n",
       "      <td>0 days 00:00:00</td>\n",
       "      <td>0 days 02:33:20.500000</td>\n",
       "      <td>0 days 20:19:00</td>\n",
       "      <td>4 days 05:20:01</td>\n",
       "      <td>146 days 17:26:50</td>\n",
       "    </tr>\n",
       "    <tr>\n",
       "      <th>MANHATTAN</th>\n",
       "      <td>171708</td>\n",
       "      <td>5 days 07:43:58.957480</td>\n",
       "      <td>12 days 01:57:03.858305</td>\n",
       "      <td>0 days 00:00:00</td>\n",
       "      <td>0 days 02:03:43</td>\n",
       "      <td>0 days 22:13:02.500000</td>\n",
       "      <td>4 days 11:06:08.500000</td>\n",
       "      <td>139 days 22:41:59</td>\n",
       "    </tr>\n",
       "    <tr>\n",
       "      <th>QUEENS</th>\n",
       "      <td>177641</td>\n",
       "      <td>4 days 22:17:46.753142</td>\n",
       "      <td>13 days 02:00:32.516708</td>\n",
       "      <td>0 days 00:00:00</td>\n",
       "      <td>0 days 02:07:59</td>\n",
       "      <td>0 days 10:15:11</td>\n",
       "      <td>3 days 20:47:00</td>\n",
       "      <td>148 days 13:10:54</td>\n",
       "    </tr>\n",
       "    <tr>\n",
       "      <th>STATEN ISLAND</th>\n",
       "      <td>38911</td>\n",
       "      <td>5 days 00:57:16.541826</td>\n",
       "      <td>12 days 00:18:49.372858</td>\n",
       "      <td>0 days 00:00:00</td>\n",
       "      <td>0 days 02:54:00</td>\n",
       "      <td>0 days 22:11:06</td>\n",
       "      <td>4 days 15:24:28</td>\n",
       "      <td>139 days 22:06:35</td>\n",
       "    </tr>\n",
       "  </tbody>\n",
       "</table>\n",
       "</div>"
      ],
      "text/plain": [
       "              processing_time                          \\\n",
       "                        count                    mean   \n",
       "Borough                                                 \n",
       "BRONX                  158548  5 days 11:22:39.529133   \n",
       "BROOKLYN               252515  5 days 01:22:08.762913   \n",
       "MANHATTAN              171708  5 days 07:43:58.957480   \n",
       "QUEENS                 177641  4 days 22:17:46.753142   \n",
       "STATEN ISLAND           38911  5 days 00:57:16.541826   \n",
       "\n",
       "                                                         \\\n",
       "                                   std              min   \n",
       "Borough                                                   \n",
       "BRONX          10 days 19:29:45.763262  0 days 00:00:00   \n",
       "BROOKLYN       11 days 20:44:39.914032  0 days 00:00:00   \n",
       "MANHATTAN      12 days 01:57:03.858305  0 days 00:00:00   \n",
       "QUEENS         13 days 02:00:32.516708  0 days 00:00:00   \n",
       "STATEN ISLAND  12 days 00:18:49.372858  0 days 00:00:00   \n",
       "\n",
       "                                                               \\\n",
       "                                  25%                     50%   \n",
       "Borough                                                         \n",
       "BRONX          0 days 05:48:38.250000         1 days 21:27:00   \n",
       "BROOKLYN       0 days 02:33:20.500000         0 days 20:19:00   \n",
       "MANHATTAN             0 days 02:03:43  0 days 22:13:02.500000   \n",
       "QUEENS                0 days 02:07:59         0 days 10:15:11   \n",
       "STATEN ISLAND         0 days 02:54:00         0 days 22:11:06   \n",
       "\n",
       "                                                          \n",
       "                                  75%                max  \n",
       "Borough                                                   \n",
       "BRONX          5 days 19:48:12.750000  145 days 00:23:57  \n",
       "BROOKLYN              4 days 05:20:01  146 days 17:26:50  \n",
       "MANHATTAN      4 days 11:06:08.500000  139 days 22:41:59  \n",
       "QUEENS                3 days 20:47:00  148 days 13:10:54  \n",
       "STATEN ISLAND         4 days 15:24:28  139 days 22:06:35  "
      ]
     },
     "execution_count": 47,
     "metadata": {},
     "output_type": "execute_result"
    }
   ],
   "source": [
    "grouped.describe()"
   ]
  },
  {
   "cell_type": "markdown",
   "metadata": {},
   "source": [
    "<h3>But it is easier to convert the timedelta processing_time into floats for calculation purposes</h3>"
   ]
  },
  {
   "cell_type": "code",
   "execution_count": 48,
   "metadata": {
    "collapsed": true
   },
   "outputs": [],
   "source": [
    "import numpy as np\n",
    "#The time it takes to process. Cleaned up\n",
    "data['float_time'] =data['processing_time'].apply(lambda x:x/np.timedelta64(1, 'D'))"
   ]
  },
  {
   "cell_type": "code",
   "execution_count": 49,
   "metadata": {},
   "outputs": [
    {
     "data": {
      "text/plain": [
       "pandas.core.series.Series"
      ]
     },
     "execution_count": 49,
     "metadata": {},
     "output_type": "execute_result"
    }
   ],
   "source": [
    "type(data['processing_time'])"
   ]
  },
  {
   "cell_type": "code",
   "execution_count": 50,
   "metadata": {
    "collapsed": true
   },
   "outputs": [],
   "source": [
    "#'15 days 00:33:14'/np.timedelta64(1, 'D')"
   ]
  },
  {
   "cell_type": "code",
   "execution_count": 51,
   "metadata": {},
   "outputs": [
    {
     "data": {
      "text/html": [
       "<div>\n",
       "<style scoped>\n",
       "    .dataframe tbody tr th:only-of-type {\n",
       "        vertical-align: middle;\n",
       "    }\n",
       "\n",
       "    .dataframe tbody tr th {\n",
       "        vertical-align: top;\n",
       "    }\n",
       "\n",
       "    .dataframe thead th {\n",
       "        text-align: right;\n",
       "    }\n",
       "</style>\n",
       "<table border=\"1\" class=\"dataframe\">\n",
       "  <thead>\n",
       "    <tr style=\"text-align: right;\">\n",
       "      <th></th>\n",
       "      <th>Created Date</th>\n",
       "      <th>Closed Date</th>\n",
       "      <th>Agency</th>\n",
       "      <th>Incident Zip</th>\n",
       "      <th>Borough</th>\n",
       "      <th>Latitude</th>\n",
       "      <th>Longitude</th>\n",
       "      <th>processing_time</th>\n",
       "      <th>yyyymm</th>\n",
       "      <th>float_time</th>\n",
       "    </tr>\n",
       "    <tr>\n",
       "      <th>Unique Key</th>\n",
       "      <th></th>\n",
       "      <th></th>\n",
       "      <th></th>\n",
       "      <th></th>\n",
       "      <th></th>\n",
       "      <th></th>\n",
       "      <th></th>\n",
       "      <th></th>\n",
       "      <th></th>\n",
       "      <th></th>\n",
       "    </tr>\n",
       "  </thead>\n",
       "  <tbody>\n",
       "    <tr>\n",
       "      <th>1</th>\n",
       "      <td>2016-09-01 00:33:42</td>\n",
       "      <td>2016-09-16 01:06:56</td>\n",
       "      <td>DCA</td>\n",
       "      <td>10001</td>\n",
       "      <td>MANHATTAN</td>\n",
       "      <td>40.744790</td>\n",
       "      <td>-73.988834</td>\n",
       "      <td>15 days 00:33:14</td>\n",
       "      <td>201609</td>\n",
       "      <td>15.023079</td>\n",
       "    </tr>\n",
       "    <tr>\n",
       "      <th>1</th>\n",
       "      <td>2016-09-01 20:16:24</td>\n",
       "      <td>2016-09-10 18:08:25</td>\n",
       "      <td>HPD</td>\n",
       "      <td>11691</td>\n",
       "      <td>QUEENS</td>\n",
       "      <td>40.600554</td>\n",
       "      <td>-73.750704</td>\n",
       "      <td>8 days 21:52:01</td>\n",
       "      <td>201609</td>\n",
       "      <td>8.911123</td>\n",
       "    </tr>\n",
       "    <tr>\n",
       "      <th>1</th>\n",
       "      <td>2016-09-01 12:17:00</td>\n",
       "      <td>2016-09-07 12:00:00</td>\n",
       "      <td>DSNY</td>\n",
       "      <td>11211</td>\n",
       "      <td>BROOKLYN</td>\n",
       "      <td>40.704925</td>\n",
       "      <td>-73.962007</td>\n",
       "      <td>5 days 23:43:00</td>\n",
       "      <td>201609</td>\n",
       "      <td>5.988194</td>\n",
       "    </tr>\n",
       "    <tr>\n",
       "      <th>1</th>\n",
       "      <td>2016-09-01 12:10:22</td>\n",
       "      <td>2016-09-10 14:23:44</td>\n",
       "      <td>HPD</td>\n",
       "      <td>10027</td>\n",
       "      <td>MANHATTAN</td>\n",
       "      <td>40.812322</td>\n",
       "      <td>-73.955338</td>\n",
       "      <td>9 days 02:13:22</td>\n",
       "      <td>201609</td>\n",
       "      <td>9.092616</td>\n",
       "    </tr>\n",
       "    <tr>\n",
       "      <th>1</th>\n",
       "      <td>2016-09-01 12:32:32</td>\n",
       "      <td>2016-09-11 02:03:37</td>\n",
       "      <td>HPD</td>\n",
       "      <td>10452</td>\n",
       "      <td>BRONX</td>\n",
       "      <td>40.839529</td>\n",
       "      <td>-73.922534</td>\n",
       "      <td>9 days 13:31:05</td>\n",
       "      <td>201609</td>\n",
       "      <td>9.563252</td>\n",
       "    </tr>\n",
       "    <tr>\n",
       "      <th>1</th>\n",
       "      <td>2016-09-01 20:16:24</td>\n",
       "      <td>2016-09-10 18:08:24</td>\n",
       "      <td>HPD</td>\n",
       "      <td>11691</td>\n",
       "      <td>QUEENS</td>\n",
       "      <td>40.600554</td>\n",
       "      <td>-73.750704</td>\n",
       "      <td>8 days 21:52:00</td>\n",
       "      <td>201609</td>\n",
       "      <td>8.911111</td>\n",
       "    </tr>\n",
       "    <tr>\n",
       "      <th>1</th>\n",
       "      <td>2016-09-01 08:35:00</td>\n",
       "      <td>2016-09-07 12:00:00</td>\n",
       "      <td>DSNY</td>\n",
       "      <td>11428</td>\n",
       "      <td>QUEENS</td>\n",
       "      <td>40.721866</td>\n",
       "      <td>-73.745982</td>\n",
       "      <td>6 days 03:25:00</td>\n",
       "      <td>201609</td>\n",
       "      <td>6.142361</td>\n",
       "    </tr>\n",
       "    <tr>\n",
       "      <th>1</th>\n",
       "      <td>2016-09-01 13:19:42</td>\n",
       "      <td>2016-09-16 14:32:35</td>\n",
       "      <td>DOT</td>\n",
       "      <td>11101</td>\n",
       "      <td>QUEENS</td>\n",
       "      <td>40.746875</td>\n",
       "      <td>-73.952711</td>\n",
       "      <td>15 days 01:12:53</td>\n",
       "      <td>201609</td>\n",
       "      <td>15.050613</td>\n",
       "    </tr>\n",
       "    <tr>\n",
       "      <th>1</th>\n",
       "      <td>2016-09-01 11:00:00</td>\n",
       "      <td>2016-09-08 12:00:00</td>\n",
       "      <td>DSNY</td>\n",
       "      <td>10075</td>\n",
       "      <td>MANHATTAN</td>\n",
       "      <td>40.773336</td>\n",
       "      <td>-73.955054</td>\n",
       "      <td>7 days 01:00:00</td>\n",
       "      <td>201609</td>\n",
       "      <td>7.041667</td>\n",
       "    </tr>\n",
       "    <tr>\n",
       "      <th>1</th>\n",
       "      <td>2016-09-01 11:45:00</td>\n",
       "      <td>2016-09-03 12:00:00</td>\n",
       "      <td>DSNY</td>\n",
       "      <td>11215</td>\n",
       "      <td>BROOKLYN</td>\n",
       "      <td>40.662002</td>\n",
       "      <td>-73.983668</td>\n",
       "      <td>2 days 00:15:00</td>\n",
       "      <td>201609</td>\n",
       "      <td>2.010417</td>\n",
       "    </tr>\n",
       "    <tr>\n",
       "      <th>1</th>\n",
       "      <td>2016-09-01 10:11:45</td>\n",
       "      <td>2016-09-16 11:11:38</td>\n",
       "      <td>DOT</td>\n",
       "      <td>11101</td>\n",
       "      <td>QUEENS</td>\n",
       "      <td>40.745492</td>\n",
       "      <td>-73.953174</td>\n",
       "      <td>15 days 00:59:53</td>\n",
       "      <td>201609</td>\n",
       "      <td>15.041586</td>\n",
       "    </tr>\n",
       "    <tr>\n",
       "      <th>1</th>\n",
       "      <td>2016-09-01 08:22:53</td>\n",
       "      <td>2016-09-16 07:42:02</td>\n",
       "      <td>DOT</td>\n",
       "      <td>11210</td>\n",
       "      <td>BROOKLYN</td>\n",
       "      <td>40.631530</td>\n",
       "      <td>-73.954573</td>\n",
       "      <td>14 days 23:19:09</td>\n",
       "      <td>201609</td>\n",
       "      <td>14.971632</td>\n",
       "    </tr>\n",
       "    <tr>\n",
       "      <th>1</th>\n",
       "      <td>2016-09-01 17:31:04</td>\n",
       "      <td>2016-09-16 10:10:02</td>\n",
       "      <td>DOT</td>\n",
       "      <td>11231</td>\n",
       "      <td>BROOKLYN</td>\n",
       "      <td>40.677629</td>\n",
       "      <td>-73.998190</td>\n",
       "      <td>14 days 16:38:58</td>\n",
       "      <td>201609</td>\n",
       "      <td>14.693727</td>\n",
       "    </tr>\n",
       "    <tr>\n",
       "      <th>1</th>\n",
       "      <td>2016-09-01 08:50:41</td>\n",
       "      <td>2016-09-16 11:12:47</td>\n",
       "      <td>DOT</td>\n",
       "      <td>11210</td>\n",
       "      <td>BROOKLYN</td>\n",
       "      <td>40.628450</td>\n",
       "      <td>-73.947200</td>\n",
       "      <td>15 days 02:22:06</td>\n",
       "      <td>201609</td>\n",
       "      <td>15.098681</td>\n",
       "    </tr>\n",
       "    <tr>\n",
       "      <th>1</th>\n",
       "      <td>2016-09-01 14:19:21</td>\n",
       "      <td>2016-09-16 14:11:08</td>\n",
       "      <td>DOT</td>\n",
       "      <td>11101</td>\n",
       "      <td>QUEENS</td>\n",
       "      <td>40.745866</td>\n",
       "      <td>-73.955148</td>\n",
       "      <td>14 days 23:51:47</td>\n",
       "      <td>201609</td>\n",
       "      <td>14.994294</td>\n",
       "    </tr>\n",
       "    <tr>\n",
       "      <th>1</th>\n",
       "      <td>2016-09-01 12:46:35</td>\n",
       "      <td>2016-09-16 11:53:24</td>\n",
       "      <td>DOT</td>\n",
       "      <td>11217</td>\n",
       "      <td>BROOKLYN</td>\n",
       "      <td>40.687518</td>\n",
       "      <td>-73.986320</td>\n",
       "      <td>14 days 23:06:49</td>\n",
       "      <td>201609</td>\n",
       "      <td>14.963067</td>\n",
       "    </tr>\n",
       "    <tr>\n",
       "      <th>1</th>\n",
       "      <td>2016-09-01 13:33:58</td>\n",
       "      <td>2016-09-16 12:55:18</td>\n",
       "      <td>DOT</td>\n",
       "      <td>11231</td>\n",
       "      <td>BROOKLYN</td>\n",
       "      <td>40.683742</td>\n",
       "      <td>-73.995233</td>\n",
       "      <td>14 days 23:21:20</td>\n",
       "      <td>201609</td>\n",
       "      <td>14.973148</td>\n",
       "    </tr>\n",
       "    <tr>\n",
       "      <th>1</th>\n",
       "      <td>2016-09-01 13:51:10</td>\n",
       "      <td>2016-09-11 02:05:38</td>\n",
       "      <td>HPD</td>\n",
       "      <td>10457</td>\n",
       "      <td>BRONX</td>\n",
       "      <td>40.852417</td>\n",
       "      <td>-73.899753</td>\n",
       "      <td>9 days 12:14:28</td>\n",
       "      <td>201609</td>\n",
       "      <td>9.510046</td>\n",
       "    </tr>\n",
       "    <tr>\n",
       "      <th>1</th>\n",
       "      <td>2016-09-01 12:34:41</td>\n",
       "      <td>2016-09-10 15:01:05</td>\n",
       "      <td>HPD</td>\n",
       "      <td>10033</td>\n",
       "      <td>MANHATTAN</td>\n",
       "      <td>40.846318</td>\n",
       "      <td>-73.932740</td>\n",
       "      <td>9 days 02:26:24</td>\n",
       "      <td>201609</td>\n",
       "      <td>9.101667</td>\n",
       "    </tr>\n",
       "    <tr>\n",
       "      <th>1</th>\n",
       "      <td>2016-09-01 07:03:00</td>\n",
       "      <td>2016-09-07 07:30:00</td>\n",
       "      <td>DEP</td>\n",
       "      <td>11209</td>\n",
       "      <td>BROOKLYN</td>\n",
       "      <td>40.636674</td>\n",
       "      <td>-74.036517</td>\n",
       "      <td>6 days 00:27:00</td>\n",
       "      <td>201609</td>\n",
       "      <td>6.018750</td>\n",
       "    </tr>\n",
       "    <tr>\n",
       "      <th>1</th>\n",
       "      <td>2016-09-01 12:29:29</td>\n",
       "      <td>2016-09-11 02:03:37</td>\n",
       "      <td>HPD</td>\n",
       "      <td>10452</td>\n",
       "      <td>BRONX</td>\n",
       "      <td>40.839529</td>\n",
       "      <td>-73.922534</td>\n",
       "      <td>9 days 13:34:08</td>\n",
       "      <td>201609</td>\n",
       "      <td>9.565370</td>\n",
       "    </tr>\n",
       "    <tr>\n",
       "      <th>1</th>\n",
       "      <td>2016-09-01 17:32:16</td>\n",
       "      <td>2016-09-16 07:20:23</td>\n",
       "      <td>DOT</td>\n",
       "      <td>11201</td>\n",
       "      <td>BROOKLYN</td>\n",
       "      <td>40.694792</td>\n",
       "      <td>-73.994299</td>\n",
       "      <td>14 days 13:48:07</td>\n",
       "      <td>201609</td>\n",
       "      <td>14.575081</td>\n",
       "    </tr>\n",
       "    <tr>\n",
       "      <th>1</th>\n",
       "      <td>2016-09-01 08:53:22</td>\n",
       "      <td>2016-09-16 09:03:59</td>\n",
       "      <td>DOT</td>\n",
       "      <td>11201</td>\n",
       "      <td>BROOKLYN</td>\n",
       "      <td>40.687137</td>\n",
       "      <td>-73.990174</td>\n",
       "      <td>15 days 00:10:37</td>\n",
       "      <td>201609</td>\n",
       "      <td>15.007373</td>\n",
       "    </tr>\n",
       "    <tr>\n",
       "      <th>1</th>\n",
       "      <td>2016-09-01 17:36:25</td>\n",
       "      <td>2016-09-16 09:47:33</td>\n",
       "      <td>DOT</td>\n",
       "      <td>11210</td>\n",
       "      <td>BROOKLYN</td>\n",
       "      <td>40.631101</td>\n",
       "      <td>-73.952534</td>\n",
       "      <td>14 days 16:11:08</td>\n",
       "      <td>201609</td>\n",
       "      <td>14.674398</td>\n",
       "    </tr>\n",
       "    <tr>\n",
       "      <th>1</th>\n",
       "      <td>2016-09-01 17:46:07</td>\n",
       "      <td>2016-09-16 09:49:54</td>\n",
       "      <td>DOT</td>\n",
       "      <td>11367</td>\n",
       "      <td>QUEENS</td>\n",
       "      <td>40.729686</td>\n",
       "      <td>-73.815145</td>\n",
       "      <td>14 days 16:03:47</td>\n",
       "      <td>201609</td>\n",
       "      <td>14.669294</td>\n",
       "    </tr>\n",
       "    <tr>\n",
       "      <th>1</th>\n",
       "      <td>2016-09-01 13:12:00</td>\n",
       "      <td>2016-09-02 12:00:00</td>\n",
       "      <td>DSNY</td>\n",
       "      <td>10029</td>\n",
       "      <td>MANHATTAN</td>\n",
       "      <td>40.787104</td>\n",
       "      <td>-73.945002</td>\n",
       "      <td>0 days 22:48:00</td>\n",
       "      <td>201609</td>\n",
       "      <td>0.950000</td>\n",
       "    </tr>\n",
       "    <tr>\n",
       "      <th>1</th>\n",
       "      <td>2016-09-01 09:05:00</td>\n",
       "      <td>2016-09-08 12:00:00</td>\n",
       "      <td>DSNY</td>\n",
       "      <td>10021</td>\n",
       "      <td>MANHATTAN</td>\n",
       "      <td>40.768324</td>\n",
       "      <td>-73.955137</td>\n",
       "      <td>7 days 02:55:00</td>\n",
       "      <td>201609</td>\n",
       "      <td>7.121528</td>\n",
       "    </tr>\n",
       "    <tr>\n",
       "      <th>1</th>\n",
       "      <td>2016-09-01 12:00:31</td>\n",
       "      <td>2016-09-16 11:48:36</td>\n",
       "      <td>DOT</td>\n",
       "      <td>10028</td>\n",
       "      <td>MANHATTAN</td>\n",
       "      <td>40.774136</td>\n",
       "      <td>-73.951363</td>\n",
       "      <td>14 days 23:48:05</td>\n",
       "      <td>201609</td>\n",
       "      <td>14.991725</td>\n",
       "    </tr>\n",
       "    <tr>\n",
       "      <th>1</th>\n",
       "      <td>2016-09-01 12:19:34</td>\n",
       "      <td>2016-09-16 07:20:17</td>\n",
       "      <td>DOT</td>\n",
       "      <td>10034</td>\n",
       "      <td>MANHATTAN</td>\n",
       "      <td>40.867919</td>\n",
       "      <td>-73.920454</td>\n",
       "      <td>14 days 19:00:43</td>\n",
       "      <td>201609</td>\n",
       "      <td>14.792164</td>\n",
       "    </tr>\n",
       "    <tr>\n",
       "      <th>1</th>\n",
       "      <td>2016-09-01 09:57:16</td>\n",
       "      <td>2016-09-16 09:01:46</td>\n",
       "      <td>DOT</td>\n",
       "      <td>11217</td>\n",
       "      <td>BROOKLYN</td>\n",
       "      <td>40.687773</td>\n",
       "      <td>-73.987001</td>\n",
       "      <td>14 days 23:04:30</td>\n",
       "      <td>201609</td>\n",
       "      <td>14.961458</td>\n",
       "    </tr>\n",
       "    <tr>\n",
       "      <th>...</th>\n",
       "      <td>...</td>\n",
       "      <td>...</td>\n",
       "      <td>...</td>\n",
       "      <td>...</td>\n",
       "      <td>...</td>\n",
       "      <td>...</td>\n",
       "      <td>...</td>\n",
       "      <td>...</td>\n",
       "      <td>...</td>\n",
       "      <td>...</td>\n",
       "    </tr>\n",
       "    <tr>\n",
       "      <th>1</th>\n",
       "      <td>2016-09-19 17:26:00</td>\n",
       "      <td>2016-09-20 12:00:00</td>\n",
       "      <td>DSNY</td>\n",
       "      <td>10314</td>\n",
       "      <td>STATEN ISLAND</td>\n",
       "      <td>40.588305</td>\n",
       "      <td>-74.189829</td>\n",
       "      <td>0 days 18:34:00</td>\n",
       "      <td>201609</td>\n",
       "      <td>0.773611</td>\n",
       "    </tr>\n",
       "    <tr>\n",
       "      <th>1</th>\n",
       "      <td>2016-09-20 20:01:00</td>\n",
       "      <td>2016-09-22 23:30:00</td>\n",
       "      <td>DEP</td>\n",
       "      <td>11694</td>\n",
       "      <td>QUEENS</td>\n",
       "      <td>40.578039</td>\n",
       "      <td>-73.855113</td>\n",
       "      <td>2 days 03:29:00</td>\n",
       "      <td>201609</td>\n",
       "      <td>2.145139</td>\n",
       "    </tr>\n",
       "    <tr>\n",
       "      <th>1</th>\n",
       "      <td>2016-09-20 22:14:00</td>\n",
       "      <td>2016-09-21 11:49:00</td>\n",
       "      <td>DOT</td>\n",
       "      <td>11217</td>\n",
       "      <td>BROOKLYN</td>\n",
       "      <td>40.682149</td>\n",
       "      <td>-73.982856</td>\n",
       "      <td>0 days 13:35:00</td>\n",
       "      <td>201609</td>\n",
       "      <td>0.565972</td>\n",
       "    </tr>\n",
       "    <tr>\n",
       "      <th>1</th>\n",
       "      <td>2016-09-18 11:07:47</td>\n",
       "      <td>2016-09-19 13:40:00</td>\n",
       "      <td>DOT</td>\n",
       "      <td>10462</td>\n",
       "      <td>BRONX</td>\n",
       "      <td>40.838781</td>\n",
       "      <td>-73.852665</td>\n",
       "      <td>1 days 02:32:13</td>\n",
       "      <td>201609</td>\n",
       "      <td>1.105706</td>\n",
       "    </tr>\n",
       "    <tr>\n",
       "      <th>1</th>\n",
       "      <td>2016-09-20 11:02:09</td>\n",
       "      <td>2017-01-26 00:00:00</td>\n",
       "      <td>DOB</td>\n",
       "      <td>11216</td>\n",
       "      <td>BROOKLYN</td>\n",
       "      <td>40.690931</td>\n",
       "      <td>-73.945431</td>\n",
       "      <td>127 days 12:57:51</td>\n",
       "      <td>201609</td>\n",
       "      <td>127.540174</td>\n",
       "    </tr>\n",
       "    <tr>\n",
       "      <th>1</th>\n",
       "      <td>2016-09-19 16:31:00</td>\n",
       "      <td>2016-09-19 16:31:00</td>\n",
       "      <td>DSNY</td>\n",
       "      <td>11236</td>\n",
       "      <td>BROOKLYN</td>\n",
       "      <td>40.649318</td>\n",
       "      <td>-73.904170</td>\n",
       "      <td>0 days 00:00:00</td>\n",
       "      <td>201609</td>\n",
       "      <td>0.000000</td>\n",
       "    </tr>\n",
       "    <tr>\n",
       "      <th>1</th>\n",
       "      <td>2016-09-20 19:09:42</td>\n",
       "      <td>2016-09-20 21:29:00</td>\n",
       "      <td>NYPD</td>\n",
       "      <td>11205</td>\n",
       "      <td>BROOKLYN</td>\n",
       "      <td>40.694865</td>\n",
       "      <td>-73.979214</td>\n",
       "      <td>0 days 02:19:18</td>\n",
       "      <td>201609</td>\n",
       "      <td>0.096736</td>\n",
       "    </tr>\n",
       "    <tr>\n",
       "      <th>1</th>\n",
       "      <td>2016-09-20 16:13:04</td>\n",
       "      <td>2016-09-21 11:00:00</td>\n",
       "      <td>DOT</td>\n",
       "      <td>10462</td>\n",
       "      <td>BRONX</td>\n",
       "      <td>40.835874</td>\n",
       "      <td>-73.848426</td>\n",
       "      <td>0 days 18:46:56</td>\n",
       "      <td>201609</td>\n",
       "      <td>0.782593</td>\n",
       "    </tr>\n",
       "    <tr>\n",
       "      <th>1</th>\n",
       "      <td>2016-09-20 13:08:00</td>\n",
       "      <td>2016-09-28 21:55:00</td>\n",
       "      <td>DOT</td>\n",
       "      <td>10468</td>\n",
       "      <td>BRONX</td>\n",
       "      <td>40.863033</td>\n",
       "      <td>-73.909054</td>\n",
       "      <td>8 days 08:47:00</td>\n",
       "      <td>201609</td>\n",
       "      <td>8.365972</td>\n",
       "    </tr>\n",
       "    <tr>\n",
       "      <th>1</th>\n",
       "      <td>2016-09-20 13:36:18</td>\n",
       "      <td>2016-09-20 16:14:47</td>\n",
       "      <td>NYPD</td>\n",
       "      <td>11357</td>\n",
       "      <td>QUEENS</td>\n",
       "      <td>40.789638</td>\n",
       "      <td>-73.814111</td>\n",
       "      <td>0 days 02:38:29</td>\n",
       "      <td>201609</td>\n",
       "      <td>0.110058</td>\n",
       "    </tr>\n",
       "    <tr>\n",
       "      <th>1</th>\n",
       "      <td>2016-09-20 21:22:00</td>\n",
       "      <td>2016-09-21 10:21:00</td>\n",
       "      <td>DOT</td>\n",
       "      <td>11368</td>\n",
       "      <td>QUEENS</td>\n",
       "      <td>40.756870</td>\n",
       "      <td>-73.857055</td>\n",
       "      <td>0 days 12:59:00</td>\n",
       "      <td>201609</td>\n",
       "      <td>0.540972</td>\n",
       "    </tr>\n",
       "    <tr>\n",
       "      <th>1</th>\n",
       "      <td>2016-09-20 12:27:00</td>\n",
       "      <td>2016-09-21 00:30:00</td>\n",
       "      <td>DOT</td>\n",
       "      <td>10461</td>\n",
       "      <td>BRONX</td>\n",
       "      <td>40.838262</td>\n",
       "      <td>-73.836541</td>\n",
       "      <td>0 days 12:03:00</td>\n",
       "      <td>201609</td>\n",
       "      <td>0.502083</td>\n",
       "    </tr>\n",
       "    <tr>\n",
       "      <th>1</th>\n",
       "      <td>2016-09-20 13:55:00</td>\n",
       "      <td>2016-09-22 08:10:00</td>\n",
       "      <td>DEP</td>\n",
       "      <td>11217</td>\n",
       "      <td>BROOKLYN</td>\n",
       "      <td>40.677542</td>\n",
       "      <td>-73.979681</td>\n",
       "      <td>1 days 18:15:00</td>\n",
       "      <td>201609</td>\n",
       "      <td>1.760417</td>\n",
       "    </tr>\n",
       "    <tr>\n",
       "      <th>1</th>\n",
       "      <td>2016-09-20 14:08:00</td>\n",
       "      <td>2016-09-21 14:08:00</td>\n",
       "      <td>DEP</td>\n",
       "      <td>11238</td>\n",
       "      <td>BROOKLYN</td>\n",
       "      <td>40.673232</td>\n",
       "      <td>-73.965010</td>\n",
       "      <td>1 days 00:00:00</td>\n",
       "      <td>201609</td>\n",
       "      <td>1.000000</td>\n",
       "    </tr>\n",
       "    <tr>\n",
       "      <th>1</th>\n",
       "      <td>2016-09-20 07:51:00</td>\n",
       "      <td>2016-09-21 11:46:00</td>\n",
       "      <td>DOT</td>\n",
       "      <td>11222</td>\n",
       "      <td>BROOKLYN</td>\n",
       "      <td>40.725309</td>\n",
       "      <td>-73.957521</td>\n",
       "      <td>1 days 03:55:00</td>\n",
       "      <td>201609</td>\n",
       "      <td>1.163194</td>\n",
       "    </tr>\n",
       "    <tr>\n",
       "      <th>1</th>\n",
       "      <td>2016-09-20 08:56:00</td>\n",
       "      <td>2016-09-20 10:20:00</td>\n",
       "      <td>DEP</td>\n",
       "      <td>11209</td>\n",
       "      <td>BROOKLYN</td>\n",
       "      <td>40.632837</td>\n",
       "      <td>-74.027230</td>\n",
       "      <td>0 days 01:24:00</td>\n",
       "      <td>201609</td>\n",
       "      <td>0.058333</td>\n",
       "    </tr>\n",
       "    <tr>\n",
       "      <th>1</th>\n",
       "      <td>2016-09-20 06:22:00</td>\n",
       "      <td>2016-09-23 12:45:00</td>\n",
       "      <td>DEP</td>\n",
       "      <td>10029</td>\n",
       "      <td>MANHATTAN</td>\n",
       "      <td>40.787172</td>\n",
       "      <td>-73.949982</td>\n",
       "      <td>3 days 06:23:00</td>\n",
       "      <td>201609</td>\n",
       "      <td>3.265972</td>\n",
       "    </tr>\n",
       "    <tr>\n",
       "      <th>1</th>\n",
       "      <td>2016-09-20 00:06:00</td>\n",
       "      <td>2016-09-22 22:45:00</td>\n",
       "      <td>DEP</td>\n",
       "      <td>10027</td>\n",
       "      <td>MANHATTAN</td>\n",
       "      <td>40.808013</td>\n",
       "      <td>-73.950129</td>\n",
       "      <td>2 days 22:39:00</td>\n",
       "      <td>201609</td>\n",
       "      <td>2.943750</td>\n",
       "    </tr>\n",
       "    <tr>\n",
       "      <th>1</th>\n",
       "      <td>2016-09-20 03:05:03</td>\n",
       "      <td>2016-09-20 07:58:48</td>\n",
       "      <td>NYPD</td>\n",
       "      <td>10030</td>\n",
       "      <td>MANHATTAN</td>\n",
       "      <td>40.816358</td>\n",
       "      <td>-73.940220</td>\n",
       "      <td>0 days 04:53:45</td>\n",
       "      <td>201609</td>\n",
       "      <td>0.203993</td>\n",
       "    </tr>\n",
       "    <tr>\n",
       "      <th>1</th>\n",
       "      <td>2016-09-20 20:42:00</td>\n",
       "      <td>2017-01-13 08:56:00</td>\n",
       "      <td>DOT</td>\n",
       "      <td>10314</td>\n",
       "      <td>STATEN ISLAND</td>\n",
       "      <td>40.611248</td>\n",
       "      <td>-74.169591</td>\n",
       "      <td>114 days 12:14:00</td>\n",
       "      <td>201609</td>\n",
       "      <td>114.509722</td>\n",
       "    </tr>\n",
       "    <tr>\n",
       "      <th>1</th>\n",
       "      <td>2016-09-20 18:31:14</td>\n",
       "      <td>2016-09-20 20:42:14</td>\n",
       "      <td>NYPD</td>\n",
       "      <td>11205</td>\n",
       "      <td>BROOKLYN</td>\n",
       "      <td>40.694865</td>\n",
       "      <td>-73.979214</td>\n",
       "      <td>0 days 02:11:00</td>\n",
       "      <td>201609</td>\n",
       "      <td>0.090972</td>\n",
       "    </tr>\n",
       "    <tr>\n",
       "      <th>1</th>\n",
       "      <td>2016-09-20 19:35:12</td>\n",
       "      <td>2016-09-20 21:39:22</td>\n",
       "      <td>NYPD</td>\n",
       "      <td>11205</td>\n",
       "      <td>BROOKLYN</td>\n",
       "      <td>40.694865</td>\n",
       "      <td>-73.979214</td>\n",
       "      <td>0 days 02:04:10</td>\n",
       "      <td>201609</td>\n",
       "      <td>0.086227</td>\n",
       "    </tr>\n",
       "    <tr>\n",
       "      <th>1</th>\n",
       "      <td>2016-09-20 10:19:24</td>\n",
       "      <td>2016-09-21 05:09:13</td>\n",
       "      <td>DHS</td>\n",
       "      <td>10025</td>\n",
       "      <td>MANHATTAN</td>\n",
       "      <td>40.796495</td>\n",
       "      <td>-73.970431</td>\n",
       "      <td>0 days 18:49:49</td>\n",
       "      <td>201609</td>\n",
       "      <td>0.784595</td>\n",
       "    </tr>\n",
       "    <tr>\n",
       "      <th>1</th>\n",
       "      <td>2016-09-20 17:01:30</td>\n",
       "      <td>2016-09-20 21:34:44</td>\n",
       "      <td>NYPD</td>\n",
       "      <td>10024</td>\n",
       "      <td>MANHATTAN</td>\n",
       "      <td>40.788312</td>\n",
       "      <td>-73.976502</td>\n",
       "      <td>0 days 04:33:14</td>\n",
       "      <td>201609</td>\n",
       "      <td>0.189745</td>\n",
       "    </tr>\n",
       "    <tr>\n",
       "      <th>1</th>\n",
       "      <td>2016-09-20 04:11:00</td>\n",
       "      <td>2016-09-20 11:30:00</td>\n",
       "      <td>DEP</td>\n",
       "      <td>10014</td>\n",
       "      <td>MANHATTAN</td>\n",
       "      <td>40.734051</td>\n",
       "      <td>-74.004247</td>\n",
       "      <td>0 days 07:19:00</td>\n",
       "      <td>201609</td>\n",
       "      <td>0.304861</td>\n",
       "    </tr>\n",
       "    <tr>\n",
       "      <th>1</th>\n",
       "      <td>2016-09-20 15:02:25</td>\n",
       "      <td>2016-09-24 09:33:13</td>\n",
       "      <td>HPD</td>\n",
       "      <td>10469</td>\n",
       "      <td>BRONX</td>\n",
       "      <td>40.877527</td>\n",
       "      <td>-73.847712</td>\n",
       "      <td>3 days 18:30:48</td>\n",
       "      <td>201609</td>\n",
       "      <td>3.771389</td>\n",
       "    </tr>\n",
       "    <tr>\n",
       "      <th>1</th>\n",
       "      <td>2016-09-20 11:36:47</td>\n",
       "      <td>2016-10-21 20:02:42</td>\n",
       "      <td>HPD</td>\n",
       "      <td>10029</td>\n",
       "      <td>MANHATTAN</td>\n",
       "      <td>40.791709</td>\n",
       "      <td>-73.937064</td>\n",
       "      <td>31 days 08:25:55</td>\n",
       "      <td>201609</td>\n",
       "      <td>31.351331</td>\n",
       "    </tr>\n",
       "    <tr>\n",
       "      <th>1</th>\n",
       "      <td>2016-09-20 16:41:40</td>\n",
       "      <td>2016-09-24 09:41:28</td>\n",
       "      <td>HPD</td>\n",
       "      <td>10460</td>\n",
       "      <td>BRONX</td>\n",
       "      <td>40.833706</td>\n",
       "      <td>-73.895943</td>\n",
       "      <td>3 days 16:59:48</td>\n",
       "      <td>201609</td>\n",
       "      <td>3.708194</td>\n",
       "    </tr>\n",
       "    <tr>\n",
       "      <th>1</th>\n",
       "      <td>2016-09-20 11:36:46</td>\n",
       "      <td>2016-10-21 20:02:41</td>\n",
       "      <td>HPD</td>\n",
       "      <td>10029</td>\n",
       "      <td>MANHATTAN</td>\n",
       "      <td>40.791709</td>\n",
       "      <td>-73.937064</td>\n",
       "      <td>31 days 08:25:55</td>\n",
       "      <td>201609</td>\n",
       "      <td>31.351331</td>\n",
       "    </tr>\n",
       "    <tr>\n",
       "      <th>1</th>\n",
       "      <td>2016-09-20 13:41:33</td>\n",
       "      <td>2016-10-11 02:04:05</td>\n",
       "      <td>HPD</td>\n",
       "      <td>11432</td>\n",
       "      <td>QUEENS</td>\n",
       "      <td>40.711279</td>\n",
       "      <td>-73.788951</td>\n",
       "      <td>20 days 12:22:32</td>\n",
       "      <td>201609</td>\n",
       "      <td>20.515648</td>\n",
       "    </tr>\n",
       "  </tbody>\n",
       "</table>\n",
       "<p>799323 rows × 10 columns</p>\n",
       "</div>"
      ],
      "text/plain": [
       "                  Created Date         Closed Date Agency Incident Zip  \\\n",
       "Unique Key                                                               \n",
       "1          2016-09-01 00:33:42 2016-09-16 01:06:56    DCA        10001   \n",
       "1          2016-09-01 20:16:24 2016-09-10 18:08:25    HPD        11691   \n",
       "1          2016-09-01 12:17:00 2016-09-07 12:00:00   DSNY        11211   \n",
       "1          2016-09-01 12:10:22 2016-09-10 14:23:44    HPD        10027   \n",
       "1          2016-09-01 12:32:32 2016-09-11 02:03:37    HPD        10452   \n",
       "1          2016-09-01 20:16:24 2016-09-10 18:08:24    HPD        11691   \n",
       "1          2016-09-01 08:35:00 2016-09-07 12:00:00   DSNY        11428   \n",
       "1          2016-09-01 13:19:42 2016-09-16 14:32:35    DOT        11101   \n",
       "1          2016-09-01 11:00:00 2016-09-08 12:00:00   DSNY        10075   \n",
       "1          2016-09-01 11:45:00 2016-09-03 12:00:00   DSNY        11215   \n",
       "1          2016-09-01 10:11:45 2016-09-16 11:11:38    DOT        11101   \n",
       "1          2016-09-01 08:22:53 2016-09-16 07:42:02    DOT        11210   \n",
       "1          2016-09-01 17:31:04 2016-09-16 10:10:02    DOT        11231   \n",
       "1          2016-09-01 08:50:41 2016-09-16 11:12:47    DOT        11210   \n",
       "1          2016-09-01 14:19:21 2016-09-16 14:11:08    DOT        11101   \n",
       "1          2016-09-01 12:46:35 2016-09-16 11:53:24    DOT        11217   \n",
       "1          2016-09-01 13:33:58 2016-09-16 12:55:18    DOT        11231   \n",
       "1          2016-09-01 13:51:10 2016-09-11 02:05:38    HPD        10457   \n",
       "1          2016-09-01 12:34:41 2016-09-10 15:01:05    HPD        10033   \n",
       "1          2016-09-01 07:03:00 2016-09-07 07:30:00    DEP        11209   \n",
       "1          2016-09-01 12:29:29 2016-09-11 02:03:37    HPD        10452   \n",
       "1          2016-09-01 17:32:16 2016-09-16 07:20:23    DOT        11201   \n",
       "1          2016-09-01 08:53:22 2016-09-16 09:03:59    DOT        11201   \n",
       "1          2016-09-01 17:36:25 2016-09-16 09:47:33    DOT        11210   \n",
       "1          2016-09-01 17:46:07 2016-09-16 09:49:54    DOT        11367   \n",
       "1          2016-09-01 13:12:00 2016-09-02 12:00:00   DSNY        10029   \n",
       "1          2016-09-01 09:05:00 2016-09-08 12:00:00   DSNY        10021   \n",
       "1          2016-09-01 12:00:31 2016-09-16 11:48:36    DOT        10028   \n",
       "1          2016-09-01 12:19:34 2016-09-16 07:20:17    DOT        10034   \n",
       "1          2016-09-01 09:57:16 2016-09-16 09:01:46    DOT        11217   \n",
       "...                        ...                 ...    ...          ...   \n",
       "1          2016-09-19 17:26:00 2016-09-20 12:00:00   DSNY        10314   \n",
       "1          2016-09-20 20:01:00 2016-09-22 23:30:00    DEP        11694   \n",
       "1          2016-09-20 22:14:00 2016-09-21 11:49:00    DOT        11217   \n",
       "1          2016-09-18 11:07:47 2016-09-19 13:40:00    DOT        10462   \n",
       "1          2016-09-20 11:02:09 2017-01-26 00:00:00    DOB        11216   \n",
       "1          2016-09-19 16:31:00 2016-09-19 16:31:00   DSNY        11236   \n",
       "1          2016-09-20 19:09:42 2016-09-20 21:29:00   NYPD        11205   \n",
       "1          2016-09-20 16:13:04 2016-09-21 11:00:00    DOT        10462   \n",
       "1          2016-09-20 13:08:00 2016-09-28 21:55:00    DOT        10468   \n",
       "1          2016-09-20 13:36:18 2016-09-20 16:14:47   NYPD        11357   \n",
       "1          2016-09-20 21:22:00 2016-09-21 10:21:00    DOT        11368   \n",
       "1          2016-09-20 12:27:00 2016-09-21 00:30:00    DOT        10461   \n",
       "1          2016-09-20 13:55:00 2016-09-22 08:10:00    DEP        11217   \n",
       "1          2016-09-20 14:08:00 2016-09-21 14:08:00    DEP        11238   \n",
       "1          2016-09-20 07:51:00 2016-09-21 11:46:00    DOT        11222   \n",
       "1          2016-09-20 08:56:00 2016-09-20 10:20:00    DEP        11209   \n",
       "1          2016-09-20 06:22:00 2016-09-23 12:45:00    DEP        10029   \n",
       "1          2016-09-20 00:06:00 2016-09-22 22:45:00    DEP        10027   \n",
       "1          2016-09-20 03:05:03 2016-09-20 07:58:48   NYPD        10030   \n",
       "1          2016-09-20 20:42:00 2017-01-13 08:56:00    DOT        10314   \n",
       "1          2016-09-20 18:31:14 2016-09-20 20:42:14   NYPD        11205   \n",
       "1          2016-09-20 19:35:12 2016-09-20 21:39:22   NYPD        11205   \n",
       "1          2016-09-20 10:19:24 2016-09-21 05:09:13    DHS        10025   \n",
       "1          2016-09-20 17:01:30 2016-09-20 21:34:44   NYPD        10024   \n",
       "1          2016-09-20 04:11:00 2016-09-20 11:30:00    DEP        10014   \n",
       "1          2016-09-20 15:02:25 2016-09-24 09:33:13    HPD        10469   \n",
       "1          2016-09-20 11:36:47 2016-10-21 20:02:42    HPD        10029   \n",
       "1          2016-09-20 16:41:40 2016-09-24 09:41:28    HPD        10460   \n",
       "1          2016-09-20 11:36:46 2016-10-21 20:02:41    HPD        10029   \n",
       "1          2016-09-20 13:41:33 2016-10-11 02:04:05    HPD        11432   \n",
       "\n",
       "                  Borough   Latitude  Longitude   processing_time  yyyymm  \\\n",
       "Unique Key                                                                  \n",
       "1               MANHATTAN  40.744790 -73.988834  15 days 00:33:14  201609   \n",
       "1                  QUEENS  40.600554 -73.750704   8 days 21:52:01  201609   \n",
       "1                BROOKLYN  40.704925 -73.962007   5 days 23:43:00  201609   \n",
       "1               MANHATTAN  40.812322 -73.955338   9 days 02:13:22  201609   \n",
       "1                   BRONX  40.839529 -73.922534   9 days 13:31:05  201609   \n",
       "1                  QUEENS  40.600554 -73.750704   8 days 21:52:00  201609   \n",
       "1                  QUEENS  40.721866 -73.745982   6 days 03:25:00  201609   \n",
       "1                  QUEENS  40.746875 -73.952711  15 days 01:12:53  201609   \n",
       "1               MANHATTAN  40.773336 -73.955054   7 days 01:00:00  201609   \n",
       "1                BROOKLYN  40.662002 -73.983668   2 days 00:15:00  201609   \n",
       "1                  QUEENS  40.745492 -73.953174  15 days 00:59:53  201609   \n",
       "1                BROOKLYN  40.631530 -73.954573  14 days 23:19:09  201609   \n",
       "1                BROOKLYN  40.677629 -73.998190  14 days 16:38:58  201609   \n",
       "1                BROOKLYN  40.628450 -73.947200  15 days 02:22:06  201609   \n",
       "1                  QUEENS  40.745866 -73.955148  14 days 23:51:47  201609   \n",
       "1                BROOKLYN  40.687518 -73.986320  14 days 23:06:49  201609   \n",
       "1                BROOKLYN  40.683742 -73.995233  14 days 23:21:20  201609   \n",
       "1                   BRONX  40.852417 -73.899753   9 days 12:14:28  201609   \n",
       "1               MANHATTAN  40.846318 -73.932740   9 days 02:26:24  201609   \n",
       "1                BROOKLYN  40.636674 -74.036517   6 days 00:27:00  201609   \n",
       "1                   BRONX  40.839529 -73.922534   9 days 13:34:08  201609   \n",
       "1                BROOKLYN  40.694792 -73.994299  14 days 13:48:07  201609   \n",
       "1                BROOKLYN  40.687137 -73.990174  15 days 00:10:37  201609   \n",
       "1                BROOKLYN  40.631101 -73.952534  14 days 16:11:08  201609   \n",
       "1                  QUEENS  40.729686 -73.815145  14 days 16:03:47  201609   \n",
       "1               MANHATTAN  40.787104 -73.945002   0 days 22:48:00  201609   \n",
       "1               MANHATTAN  40.768324 -73.955137   7 days 02:55:00  201609   \n",
       "1               MANHATTAN  40.774136 -73.951363  14 days 23:48:05  201609   \n",
       "1               MANHATTAN  40.867919 -73.920454  14 days 19:00:43  201609   \n",
       "1                BROOKLYN  40.687773 -73.987001  14 days 23:04:30  201609   \n",
       "...                   ...        ...        ...               ...     ...   \n",
       "1           STATEN ISLAND  40.588305 -74.189829   0 days 18:34:00  201609   \n",
       "1                  QUEENS  40.578039 -73.855113   2 days 03:29:00  201609   \n",
       "1                BROOKLYN  40.682149 -73.982856   0 days 13:35:00  201609   \n",
       "1                   BRONX  40.838781 -73.852665   1 days 02:32:13  201609   \n",
       "1                BROOKLYN  40.690931 -73.945431 127 days 12:57:51  201609   \n",
       "1                BROOKLYN  40.649318 -73.904170   0 days 00:00:00  201609   \n",
       "1                BROOKLYN  40.694865 -73.979214   0 days 02:19:18  201609   \n",
       "1                   BRONX  40.835874 -73.848426   0 days 18:46:56  201609   \n",
       "1                   BRONX  40.863033 -73.909054   8 days 08:47:00  201609   \n",
       "1                  QUEENS  40.789638 -73.814111   0 days 02:38:29  201609   \n",
       "1                  QUEENS  40.756870 -73.857055   0 days 12:59:00  201609   \n",
       "1                   BRONX  40.838262 -73.836541   0 days 12:03:00  201609   \n",
       "1                BROOKLYN  40.677542 -73.979681   1 days 18:15:00  201609   \n",
       "1                BROOKLYN  40.673232 -73.965010   1 days 00:00:00  201609   \n",
       "1                BROOKLYN  40.725309 -73.957521   1 days 03:55:00  201609   \n",
       "1                BROOKLYN  40.632837 -74.027230   0 days 01:24:00  201609   \n",
       "1               MANHATTAN  40.787172 -73.949982   3 days 06:23:00  201609   \n",
       "1               MANHATTAN  40.808013 -73.950129   2 days 22:39:00  201609   \n",
       "1               MANHATTAN  40.816358 -73.940220   0 days 04:53:45  201609   \n",
       "1           STATEN ISLAND  40.611248 -74.169591 114 days 12:14:00  201609   \n",
       "1                BROOKLYN  40.694865 -73.979214   0 days 02:11:00  201609   \n",
       "1                BROOKLYN  40.694865 -73.979214   0 days 02:04:10  201609   \n",
       "1               MANHATTAN  40.796495 -73.970431   0 days 18:49:49  201609   \n",
       "1               MANHATTAN  40.788312 -73.976502   0 days 04:33:14  201609   \n",
       "1               MANHATTAN  40.734051 -74.004247   0 days 07:19:00  201609   \n",
       "1                   BRONX  40.877527 -73.847712   3 days 18:30:48  201609   \n",
       "1               MANHATTAN  40.791709 -73.937064  31 days 08:25:55  201609   \n",
       "1                   BRONX  40.833706 -73.895943   3 days 16:59:48  201609   \n",
       "1               MANHATTAN  40.791709 -73.937064  31 days 08:25:55  201609   \n",
       "1                  QUEENS  40.711279 -73.788951  20 days 12:22:32  201609   \n",
       "\n",
       "            float_time  \n",
       "Unique Key              \n",
       "1            15.023079  \n",
       "1             8.911123  \n",
       "1             5.988194  \n",
       "1             9.092616  \n",
       "1             9.563252  \n",
       "1             8.911111  \n",
       "1             6.142361  \n",
       "1            15.050613  \n",
       "1             7.041667  \n",
       "1             2.010417  \n",
       "1            15.041586  \n",
       "1            14.971632  \n",
       "1            14.693727  \n",
       "1            15.098681  \n",
       "1            14.994294  \n",
       "1            14.963067  \n",
       "1            14.973148  \n",
       "1             9.510046  \n",
       "1             9.101667  \n",
       "1             6.018750  \n",
       "1             9.565370  \n",
       "1            14.575081  \n",
       "1            15.007373  \n",
       "1            14.674398  \n",
       "1            14.669294  \n",
       "1             0.950000  \n",
       "1             7.121528  \n",
       "1            14.991725  \n",
       "1            14.792164  \n",
       "1            14.961458  \n",
       "...                ...  \n",
       "1             0.773611  \n",
       "1             2.145139  \n",
       "1             0.565972  \n",
       "1             1.105706  \n",
       "1           127.540174  \n",
       "1             0.000000  \n",
       "1             0.096736  \n",
       "1             0.782593  \n",
       "1             8.365972  \n",
       "1             0.110058  \n",
       "1             0.540972  \n",
       "1             0.502083  \n",
       "1             1.760417  \n",
       "1             1.000000  \n",
       "1             1.163194  \n",
       "1             0.058333  \n",
       "1             3.265972  \n",
       "1             2.943750  \n",
       "1             0.203993  \n",
       "1           114.509722  \n",
       "1             0.090972  \n",
       "1             0.086227  \n",
       "1             0.784595  \n",
       "1             0.189745  \n",
       "1             0.304861  \n",
       "1             3.771389  \n",
       "1            31.351331  \n",
       "1             3.708194  \n",
       "1            31.351331  \n",
       "1            20.515648  \n",
       "\n",
       "[799323 rows x 10 columns]"
      ]
     },
     "execution_count": 51,
     "metadata": {},
     "output_type": "execute_result"
    }
   ],
   "source": [
    "data"
   ]
  },
  {
   "cell_type": "markdown",
   "metadata": {},
   "source": [
    "<h2>Now we can compute stats easily</h2>"
   ]
  },
  {
   "cell_type": "code",
   "execution_count": 52,
   "metadata": {},
   "outputs": [
    {
     "data": {
      "text/html": [
       "<div>\n",
       "<style scoped>\n",
       "    .dataframe tbody tr th:only-of-type {\n",
       "        vertical-align: middle;\n",
       "    }\n",
       "\n",
       "    .dataframe tbody tr th {\n",
       "        vertical-align: top;\n",
       "    }\n",
       "\n",
       "    .dataframe thead th {\n",
       "        text-align: right;\n",
       "    }\n",
       "</style>\n",
       "<table border=\"1\" class=\"dataframe\">\n",
       "  <thead>\n",
       "    <tr style=\"text-align: right;\">\n",
       "      <th></th>\n",
       "      <th>float_time</th>\n",
       "    </tr>\n",
       "    <tr>\n",
       "      <th>Agency</th>\n",
       "      <th></th>\n",
       "    </tr>\n",
       "  </thead>\n",
       "  <tbody>\n",
       "    <tr>\n",
       "      <th>EDC</th>\n",
       "      <td>49.604041</td>\n",
       "    </tr>\n",
       "    <tr>\n",
       "      <th>FDNY</th>\n",
       "      <td>32.995208</td>\n",
       "    </tr>\n",
       "    <tr>\n",
       "      <th>DPR</th>\n",
       "      <td>24.395774</td>\n",
       "    </tr>\n",
       "    <tr>\n",
       "      <th>TLC</th>\n",
       "      <td>24.196724</td>\n",
       "    </tr>\n",
       "    <tr>\n",
       "      <th>DOITT</th>\n",
       "      <td>18.300134</td>\n",
       "    </tr>\n",
       "    <tr>\n",
       "      <th>DOHMH</th>\n",
       "      <td>15.897552</td>\n",
       "    </tr>\n",
       "    <tr>\n",
       "      <th>DOB</th>\n",
       "      <td>12.345634</td>\n",
       "    </tr>\n",
       "    <tr>\n",
       "      <th>DOE</th>\n",
       "      <td>11.360792</td>\n",
       "    </tr>\n",
       "    <tr>\n",
       "      <th>DCA</th>\n",
       "      <td>9.254590</td>\n",
       "    </tr>\n",
       "    <tr>\n",
       "      <th>HPD</th>\n",
       "      <td>8.799452</td>\n",
       "    </tr>\n",
       "    <tr>\n",
       "      <th>DFTA</th>\n",
       "      <td>8.465869</td>\n",
       "    </tr>\n",
       "    <tr>\n",
       "      <th>DOT</th>\n",
       "      <td>4.447129</td>\n",
       "    </tr>\n",
       "    <tr>\n",
       "      <th>DEP</th>\n",
       "      <td>3.520583</td>\n",
       "    </tr>\n",
       "    <tr>\n",
       "      <th>DSNY</th>\n",
       "      <td>3.052327</td>\n",
       "    </tr>\n",
       "    <tr>\n",
       "      <th>DOF</th>\n",
       "      <td>2.728715</td>\n",
       "    </tr>\n",
       "    <tr>\n",
       "      <th>DHS</th>\n",
       "      <td>0.207951</td>\n",
       "    </tr>\n",
       "    <tr>\n",
       "      <th>NYPD</th>\n",
       "      <td>0.205126</td>\n",
       "    </tr>\n",
       "    <tr>\n",
       "      <th>3-1-1</th>\n",
       "      <td>0.016513</td>\n",
       "    </tr>\n",
       "  </tbody>\n",
       "</table>\n",
       "</div>"
      ],
      "text/plain": [
       "        float_time\n",
       "Agency            \n",
       "EDC      49.604041\n",
       "FDNY     32.995208\n",
       "DPR      24.395774\n",
       "TLC      24.196724\n",
       "DOITT    18.300134\n",
       "DOHMH    15.897552\n",
       "DOB      12.345634\n",
       "DOE      11.360792\n",
       "DCA       9.254590\n",
       "HPD       8.799452\n",
       "DFTA      8.465869\n",
       "DOT       4.447129\n",
       "DEP       3.520583\n",
       "DSNY      3.052327\n",
       "DOF       2.728715\n",
       "DHS       0.207951\n",
       "NYPD      0.205126\n",
       "3-1-1     0.016513"
      ]
     },
     "execution_count": 52,
     "metadata": {},
     "output_type": "execute_result"
    }
   ],
   "source": [
    "grouped = data[['float_time','Agency']].groupby('Agency')\n",
    "grouped.mean().sort_values('float_time',ascending=False)"
   ]
  },
  {
   "cell_type": "code",
   "execution_count": 53,
   "metadata": {},
   "outputs": [
    {
     "data": {
      "text/plain": [
       "<matplotlib.axes._subplots.AxesSubplot at 0x11e173c88>"
      ]
     },
     "execution_count": 53,
     "metadata": {},
     "output_type": "execute_result"
    },
    {
     "data": {
      "image/png": "[encoded data removed]",
      "text/plain": [
       "<matplotlib.figure.Figure at 0x11e46dba8>"
      ]
     },
     "metadata": {},
     "output_type": "display_data"
    }
   ],
   "source": [
    "data['float_time'].hist(bins=50)"
   ]
  },
  {
   "cell_type": "markdown",
   "metadata": {
    "collapsed": true
   },
   "source": [
    "<h1>Other useful visualization libraries</h1>\n",
    "<h2>seaborn: https://seaborn.pydata.org/</h2>\n",
    "<h2>bokeh: http://bokeh.pydata.org/en/latest/</h2>\n",
    "<h2>plotly: https://plot.ly/</h2>\n"
   ]
  },
  {
   "cell_type": "code",
   "execution_count": null,
   "metadata": {
    "collapsed": true
   },
   "outputs": [],
   "source": []
  }
 ],
 "metadata": {
  "anaconda-cloud": {},
  "kernelspec": {
   "display_name": "Python 3",
   "language": "python",
   "name": "python3"
  },
  "language_info": {
   "codemirror_mode": {
    "name": "ipython",
    "version": 3
   },
   "file_extension": ".py",
   "mimetype": "text/x-python",
   "name": "python",
   "nbconvert_exporter": "python",
   "pygments_lexer": "ipython3",
   "version": "3.6.3"
  },
  "toc": {
   "nav_menu": {},
   "number_sections": true,
   "sideBar": true,
   "skip_h1_title": false,
   "toc_cell": false,
   "toc_position": {},
   "toc_section_display": "block",
   "toc_window_display": false
  },
  "varInspector": {
   "cols": {
    "lenName": 16,
    "lenType": 16,
    "lenVar": 40
   },
   "kernels_config": {
    "python": {
     "delete_cmd_postfix": "",
     "delete_cmd_prefix": "del ",
     "library": "var_list.py",
     "varRefreshCmd": "print(var_dic_list())"
    },
    "r": {
     "delete_cmd_postfix": ") ",
     "delete_cmd_prefix": "rm(",
     "library": "var_list.r",
     "varRefreshCmd": "cat(var_dic_list()) "
    }
   },
   "types_to_exclude": [
    "module",
    "function",
    "builtin_function_or_method",
    "instance",
    "_Feature"
   ],
   "window_display": false
  }
 },
 "nbformat": 4,
 "nbformat_minor": 1
}
