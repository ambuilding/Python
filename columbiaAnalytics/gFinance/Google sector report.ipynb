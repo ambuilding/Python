{
 "cells": [
  {
   "cell_type": "code",
   "execution_count": 10,
   "metadata": {
    "collapsed": true
   },
   "outputs": [],
   "source": [
    "from bs4 import BeautifulSoup\n",
    "\n",
    "with open(\"Energy.htm\") as fp:\n",
    "    soup = BeautifulSoup(fp, \"lxml\")"
   ]
  },
  {
   "cell_type": "code",
   "execution_count": 11,
   "metadata": {
    "collapsed": true
   },
   "outputs": [],
   "source": [
    "#print(soup.prettify())"
   ]
  },
  {
   "cell_type": "code",
   "execution_count": 12,
   "metadata": {},
   "outputs": [
    {
     "data": {
      "text/plain": [
       "'5.31'"
      ]
     },
     "execution_count": 12,
     "metadata": {},
     "output_type": "execute_result"
    }
   ],
   "source": [
    "topmovers = soup.find_all('table', class_='topmovers')\n",
    "#print(topmovers.prettify())\n",
    "#type(topmovers)\n",
    "trs = topmovers[0].find_all('tr')\n",
    "trs[1]\n",
    "equity = trs[1].find('a').get_text()\n",
    "change = trs[1].find('span', class_=\"chg\").get_text()\n",
    "changes = trs[1].find_all('span', class_=\"chg\")\n",
    "change = changes[1].get_text()\n",
    "change = change[1:][:-2]\n",
    "change"
   ]
  },
  {
   "cell_type": "code",
   "execution_count": 13,
   "metadata": {
    "collapsed": true
   },
   "outputs": [],
   "source": [
    "len(topmovers[0].find_all('tr'))\n",
    "tr = topmovers[0].find('tr')     "
   ]
  },
  {
   "cell_type": "code",
   "execution_count": 14,
   "metadata": {
    "collapsed": true
   },
   "outputs": [],
   "source": [
    "# topmover = soup.find('table', class_='topmovers')\n",
    "# print(topmover.prettify())\n",
    "#equity = topmovers[0].find_all('tr').find('a').get_text()\n",
    "#equity\n",
    "# change = topmover.find('span', class_=\"chg\").get_text()\n",
    "# change"
   ]
  },
  {
   "cell_type": "code",
   "execution_count": 15,
   "metadata": {
    "collapsed": true
   },
   "outputs": [],
   "source": [
    "with open(\"Google finance.htm\") as fp:\n",
    "    soup = BeautifulSoup(fp, \"lxml\")"
   ]
  },
  {
   "cell_type": "code",
   "execution_count": 16,
   "metadata": {},
   "outputs": [
    {
     "data": {
      "text/plain": [
       "{'Basic Materials': -0.35, 'Energy': -1.48, 'Industrials': -0.46}"
      ]
     },
     "execution_count": 16,
     "metadata": {},
     "output_type": "execute_result"
    }
   ],
   "source": [
    "sector = soup.find_all('div', id='secperf')\n",
    "trs = sector[0].find_all('tr')\n",
    "\n",
    "#trs[7].find('span', class_=\"chr\").get_text()[:-1]\n",
    "#trs[7].find('a').get_text()\n",
    "\n",
    "sum = {}\n",
    "for i in range(1,8,3):\n",
    "    sector = trs[i].find('a').get_text()\n",
    "    change = trs[i].find('span', class_=\"chr\").get_text()[:-1]\n",
    "    sum[sector] = float(change)\n",
    "sum"
   ]
  },
  {
   "cell_type": "code",
   "execution_count": 17,
   "metadata": {
    "collapsed": true
   },
   "outputs": [],
   "source": [
    "def get_sector_sum():\n",
    "    with open(\"Google Finance.htm\") as fp:\n",
    "        soup = BeautifulSoup(fp, \"lxml\")\n",
    "        \n",
    "    sector = soup.find_all('div', id='secperf')\n",
    "    trs = sector[0].find_all('tr')\n",
    "    sum = {}\n",
    "    \n",
    "    for i in range(1,8,3):\n",
    "        sector = trs[i].find('a').get_text()\n",
    "        change = trs[i].find('span', class_=\"chr\").get_text()[:-1]\n",
    "        sum[sector] = float(change)\n",
    "        \n",
    "    return sum"
   ]
  },
  {
   "cell_type": "code",
   "execution_count": 18,
   "metadata": {
    "collapsed": true
   },
   "outputs": [],
   "source": [
    "def get_movers(file):\n",
    "    movers = {}\n",
    "    \n",
    "    with open(file) as fp:\n",
    "        soup = BeautifulSoup(fp, \"lxml\")\n",
    "\n",
    "    try:\n",
    "        topmovers = soup.find_all('table', class_='topmovers')\n",
    "        trs = topmovers[0].find_all('tr')\n",
    "        for tr in trs[1:6]:\n",
    "            equity = tr.find('a').get_text()\n",
    "            change = tr.find_all('span', class_=\"chg\")[1].get_text()[1:][:-2]\n",
    "            movers[equity] = float(change)\n",
    "            \n",
    "        for tr in trs[7:12]:\n",
    "            equity = tr.find('a').get_text()\n",
    "            change = tr.find_all('span', class_=\"chr\")[1].get_text()[1:][:-2]\n",
    "            movers[equity] = float(change)\n",
    "            \n",
    "        return movers\n",
    "    except:\n",
    "        return None\n",
    "    "
   ]
  },
  {
   "cell_type": "code",
   "execution_count": 19,
   "metadata": {
    "collapsed": true
   },
   "outputs": [],
   "source": [
    "def get_top_equity(movers, biggest):\n",
    "    for equity in movers:\n",
    "        if movers[equity] == biggest:\n",
    "            break\n",
    "            \n",
    "    return equity \n"
   ]
  },
  {
   "cell_type": "code",
   "execution_count": 20,
   "metadata": {
    "collapsed": true,
    "scrolled": true
   },
   "outputs": [],
   "source": [
    "#len(get_changes(\"Energy.htm\"))\n",
    "#Energy.items()\n",
    "\n",
    "def get_biggest(sector):\n",
    "    biggest_gainer = {}\n",
    "    biggest_loser = {}\n",
    "    \n",
    "    file = sector + \".htm\"\n",
    "    movers = get_movers(file)\n",
    "    gainer_c = max(movers.values())\n",
    "    loser_c = min(movers.values())\n",
    "\n",
    "    biggest_gainer[\"equity\"] = get_top_equity(movers, gainer_c)\n",
    "    biggest_gainer[\"change\"] = gainer_c\n",
    "\n",
    "    biggest_loser[\"equity\"] = get_top_equity(movers, loser_c)\n",
    "    biggest_loser[\"change\"] = loser_c\n",
    "    \n",
    "    return [biggest_gainer, biggest_loser]\n"
   ]
  },
  {
   "cell_type": "code",
   "execution_count": 21,
   "metadata": {
    "collapsed": true
   },
   "outputs": [],
   "source": [
    "def google_sector_report():\n",
    "    from bs4 import BeautifulSoup\n",
    "    import json\n",
    "    \n",
    "    results = {}\n",
    "    result = {}\n",
    "    Energy = {}\n",
    "    BasicMaterials = {}\n",
    "    Industrials = {}\n",
    "\n",
    "    Energy[\"biggest_gainer\"] = get_biggest(\"Energy\")[0]\n",
    "    Energy[\"biggest_loser\"] = get_biggest(\"Energy\")[1]\n",
    "    Energy[\"change\"] = get_sector_sum()[\"Energy\"]\n",
    "    BasicMaterials[\"biggest_gainer\"] = get_biggest(\"Basic Materials\")[0]\n",
    "    BasicMaterials[\"biggest_loser\"] = get_biggest(\"Basic Materials\")[1]\n",
    "    BasicMaterials[\"change\"] = get_sector_sum()[\"Basic Materials\"]\n",
    "    Industrials[\"biggest_gainer\"] = get_biggest(\"Industrials\")[0]\n",
    "    Industrials[\"biggest_loser\"] = get_biggest(\"Industrials\")[1]\n",
    "    Industrials[\"change\"] = get_sector_sum()[\"Industrials\"]\n",
    "\n",
    "    result[\"Energy\"] = Energy\n",
    "    result[\"Basic Materials\"] = BasicMaterials\n",
    "    result[\"Industrials\"] = Industrials\n",
    "    results[\"result\"] = result\n",
    "    \n",
    "    return json.dumps(results)"
   ]
  },
  {
   "cell_type": "code",
   "execution_count": 24,
   "metadata": {},
   "outputs": [
    {
     "data": {
      "text/plain": [
       "'{\"result\": {\"Energy\": {\"biggest_gainer\": {\"equity\": \"McDermott International\", \"change\": 5.31}, \"biggest_loser\": {\"equity\": \"Bill Barrett Corporation\", \"change\": -13.18}, \"change\": -1.48}, \"Basic Materials\": {\"biggest_gainer\": {\"equity\": \"Gold Fields Limited (ADR)\", \"change\": 3.22}, \"biggest_loser\": {\"equity\": \"Jaguar Mining Inc (USA)\", \"change\": -5.85}, \"change\": -0.35}, \"Industrials\": {\"biggest_gainer\": {\"equity\": \"LML Payment Systems, Inc.\", \"change\": 633.43}, \"biggest_loser\": {\"equity\": \"Chicago Bridge & Iron Co\", \"change\": -12.07}, \"change\": -0.46}}}'"
      ]
     },
     "execution_count": 24,
     "metadata": {},
     "output_type": "execute_result"
    }
   ],
   "source": [
    "google_sector_report()"
   ]
  },
  {
   "cell_type": "code",
   "execution_count": null,
   "metadata": {
    "collapsed": true
   },
   "outputs": [],
   "source": []
  }
 ],
 "metadata": {
  "kernelspec": {
   "display_name": "Python 3",
   "language": "python",
   "name": "python3"
  },
  "language_info": {
   "codemirror_mode": {
    "name": "ipython",
    "version": 3
   },
   "file_extension": ".py",
   "mimetype": "text/x-python",
   "name": "python",
   "nbconvert_exporter": "python",
   "pygments_lexer": "ipython3",
   "version": "3.6.3"
  }
 },
 "nbformat": 4,
 "nbformat_minor": 2
}
