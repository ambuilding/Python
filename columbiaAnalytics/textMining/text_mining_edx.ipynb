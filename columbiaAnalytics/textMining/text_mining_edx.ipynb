{
 "cells": [
  {
   "cell_type": "code",
   "execution_count": 1,
   "metadata": {
    "collapsed": true
   },
   "outputs": [],
   "source": [
    "import nltk\n",
    "#nltk.download()"
   ]
  },
  {
   "cell_type": "markdown",
   "metadata": {},
   "source": [
    "<h1>Working with text!</h1>\n"
   ]
  },
  {
   "cell_type": "markdown",
   "metadata": {},
   "source": [
    "<h2>Sentiment Analysis</h2>\n",
    "Identify entities and emotions in a sentence and use these to determine if the entity is being viewed positively or negatively"
   ]
  },
  {
   "cell_type": "markdown",
   "metadata": {},
   "source": [
    "<h3>Easy examples</h3>\n",
    "<li>I had an <b style=\"color:green\">excellent</b> souffle at the restaurant Cavity Maker</li>\n",
    "<li>Excellent is a positive word for both the souffle as well as for the restaurant</li>"
   ]
  },
  {
   "cell_type": "markdown",
   "metadata": {},
   "source": [
    "<h3>Not so easy examples</h3>\n",
    "<h4>Often, looking at words alone is not enough to figure out the sentiment</h4>\n",
    "<li><i>The Girl on the Train is an <span style=\"color:green\">excellent</span> book for a ‘stuck at home’ snow day</i></li> This one is easy since it includes an explicit positive opinion using a positive word\n",
    "<li><i>The Girl on the Train is an <span style=\"color:green\">excellent</span> book for using as a liner for your cat’s litter box</i></li> Not so simple! The positive word \"excellent\" is used with a negative connotation. \n",
    "<li><i>The Girl on the Train is <span style=\"color:green\">better</span> than Gone Girl</i></li> The positive word is used as a comparator. Whether the writer likes The Girl on the Train or not depends on what he or she thinks of Gone Girl"
   ]
  },
  {
   "cell_type": "markdown",
   "metadata": {},
   "source": [
    "<h4>Bottom line</h4>\n",
    "Sentiment analysis is generally a starting point in analyzing a text and is then coupled with other techniques (e.g., topic analysis)"
   ]
  },
  {
   "cell_type": "markdown",
   "metadata": {},
   "source": [
    "<h2>Sentiment analysis is usually done using a corpus of positive and negative words</h2>\n",
    "<li>Some sources compile lists of positive and negative words\n",
    "<li>Others include the polarity - the degree of positivity or negativity - of each word"
   ]
  },
  {
   "cell_type": "markdown",
   "metadata": {},
   "source": [
    "<h2>Sources of sentiment coded words</h2>\n",
    "<ol>\n",
    "<li>Hu and Liu's sentiment analysis lexicon: words coded as either positive or negative</li>\n",
    "<ul>\n",
    "<li>http://ptrckprry.com/course/ssd/data/positive-words.txt\n",
    "<li>http://ptrckprry.com/course/ssd/data/negative-words.txt\n",
    "</ul>\n",
    "<li>NRC Emotion Lexicon: words coded into emotional categories (many languages)</li>\n",
    "<ul>\n",
    "<li>http://saifmohammad.com/WebPages/NRC-Emotion-Lexicon.htm</li>\n",
    "</ul>\n",
    "<li>SentiWordNet: Lists of words weighted by positive or negative sentiment. Includes guidance on how to use the words</li>\n",
    "<ul>\n",
    "<li>http://sentiwordnet.isti.cnr.it/</li>\n",
    "</ul>\n",
    "<li>Vadar Sentiment tool: 7800 words with positive or negative polarity</li>\n",
    "<ul>\n",
    "<li>Included with python nltk</li>\n",
    "</ul>\n",
    "</ol>"
   ]
  },
  {
   "cell_type": "markdown",
   "metadata": {},
   "source": [
    "<h2>Our examples</h2>\n",
    "<li>Compiled set of 15 reviews each of four neighborhood restaurants\n",
    "<li>Presidential inaugural addresses (from Washington to Trump)\n",
    "<li>Some data from yelp (very limited!)"
   ]
  },
  {
   "cell_type": "markdown",
   "metadata": {},
   "source": [
    "<h3>Simple sentiment analysis</h3>\n",
    "Compute the proportion of positive and negative words in a text"
   ]
  },
  {
   "cell_type": "code",
   "execution_count": 2,
   "metadata": {
    "collapsed": true
   },
   "outputs": [],
   "source": [
    "def get_words(url):\n",
    "    import requests\n",
    "    words = requests.get(url).content.decode('latin-1')\n",
    "    word_list = words.split('\\n')\n",
    "    index = 0\n",
    "    while index < len(word_list):\n",
    "        word = word_list[index]\n",
    "        if ';' in word or not word:\n",
    "            word_list.pop(index)\n",
    "        else:\n",
    "            index+=1\n",
    "    return word_list\n",
    "\n",
    "#Get lists of positive and negative words\n",
    "p_url = 'http://ptrckprry.com/course/ssd/data/positive-words.txt'\n",
    "n_url = 'http://ptrckprry.com/course/ssd/data/negative-words.txt'\n",
    "positive_words = get_words(p_url)\n",
    "negative_words = get_words(n_url)"
   ]
  },
  {
   "cell_type": "code",
   "execution_count": 3,
   "metadata": {
    "collapsed": true
   },
   "outputs": [],
   "source": [
    "import requests\n",
    "p_url = 'http://ptrckprry.com/course/ssd/data/positive-words.txt'\n",
    "words = requests.get(p_url).content.decode('latin-1')\n",
    "word_list = words.split('\\n')"
   ]
  },
  {
   "cell_type": "code",
   "execution_count": 4,
   "metadata": {},
   "outputs": [
    {
     "data": {
      "text/plain": [
       "'pear'"
      ]
     },
     "execution_count": 4,
     "metadata": {},
     "output_type": "execute_result"
    }
   ],
   "source": [
    "';' in word_list[2]\n",
    "# not ''\n",
    "fruits = ['apple', 'orange', 'pear']\n",
    "fruits.pop(2)"
   ]
  },
  {
   "cell_type": "code",
   "execution_count": 5,
   "metadata": {},
   "outputs": [
    {
     "data": {
      "text/plain": [
       "['apple', 'orange']"
      ]
     },
     "execution_count": 5,
     "metadata": {},
     "output_type": "execute_result"
    }
   ],
   "source": [
    "fruits"
   ]
  },
  {
   "cell_type": "markdown",
   "metadata": {},
   "source": [
    "<h4>Read the text being analyzed and count the proportion of positive and negative words in the text</h4>\n"
   ]
  },
  {
   "cell_type": "code",
   "execution_count": 6,
   "metadata": {
    "collapsed": true
   },
   "outputs": [],
   "source": [
    "with open('data/community.txt','r') as f:\n",
    "    community = f.read()\n",
    "with open('data/le_monde.txt','r') as f:\n",
    "    le_monde = f.read()\n"
   ]
  },
  {
   "cell_type": "markdown",
   "metadata": {},
   "source": [
    "<h4>Compute sentiment by looking at the proportion of positive and negative words in the text</h4>"
   ]
  },
  {
   "cell_type": "code",
   "execution_count": 7,
   "metadata": {},
   "outputs": [
    {
     "name": "stdout",
     "output_type": "stream",
     "text": [
      "community 5.09%\t 1.12%\t 3.97%\n",
      "le monde  5.33%\t 1.49%\t 3.85%\n"
     ]
    }
   ],
   "source": [
    "from nltk import word_tokenize\n",
    "cpos = cneg = lpos = lneg = 0\n",
    "for word in word_tokenize(community):\n",
    "    if word in positive_words:\n",
    "        cpos+=1\n",
    "    if word in negative_words:\n",
    "        cneg+=1\n",
    "for word in word_tokenize(le_monde):\n",
    "    if word in positive_words:\n",
    "        lpos+=1\n",
    "    if word in negative_words:\n",
    "        lneg+=1\n",
    "print(\"community {0:1.2f}%\\t {1:1.2f}%\\t {2:1.2f}%\".format(cpos/len(word_tokenize(community))*100,\n",
    "                                                        cneg/len(word_tokenize(community))*100,\n",
    "                                                        (cpos-cneg)/len(word_tokenize(community))*100))\n",
    "print(\"le monde  {0:1.2f}%\\t {1:1.2f}%\\t {2:1.2f}%\".format(lpos/len(word_tokenize(le_monde))*100,\n",
    "                                                        lneg/len(word_tokenize(le_monde))*100,\n",
    "                                                        (lpos-lneg)/len(word_tokenize(le_monde))*100))\n"
   ]
  },
  {
   "cell_type": "markdown",
   "metadata": {},
   "source": [
    "<h2>Simple sentiment analysis using NRC data</h2>\n",
    "<li>NRC data codifies words with emotions</li>\n",
    "<li>14,182 words are coded into 2 sentiments and 8 emotions</li>\n"
   ]
  },
  {
   "cell_type": "markdown",
   "metadata": {},
   "source": [
    "<h4>For example, the word abandonment is associated with anger, fear, sadness and has a negative sentiment</h4>\n",
    "<li>abandoned\tanger\t1\n",
    "<li>abandoned\tanticipation\t0\n",
    "<li>abandoned\tdisgust\t0\n",
    "<li>abandoned\tfear\t1\n",
    "<li>abandoned\tjoy\t0\n",
    "<li>abandoned\tnegative\t1\n",
    "<li>abandoned\tpositive\t0\n",
    "<li>abandoned\tsadness\t1\n",
    "<li>abandoned\tsurprise\t0\n",
    "<li>abandoned\ttrust\t0"
   ]
  },
  {
   "cell_type": "markdown",
   "metadata": {},
   "source": [
    "<h4>Read the NRC sentiment data</h4>"
   ]
  },
  {
   "cell_type": "code",
   "execution_count": 8,
   "metadata": {
    "collapsed": true
   },
   "outputs": [],
   "source": [
    "nrc = \"data/NRC-emotion-lexicon-wordlevel-alphabetized-v0.92.txt\"\n",
    "count=0\n",
    "emotion_dict=dict()\n",
    "with open(nrc,'r') as f:\n",
    "    all_lines = list()\n",
    "    for line in f:\n",
    "        if count < 46:\n",
    "            count+=1\n",
    "            continue\n",
    "        line = line.strip().split('\\t')\n",
    "        if int(line[2]) == 1:\n",
    "            if emotion_dict.get(line[0]):\n",
    "                emotion_dict[line[0]].append(line[1])\n",
    "            else:\n",
    "                emotion_dict[line[0]] = [line[1]]\n",
    "        "
   ]
  },
  {
   "cell_type": "code",
   "execution_count": 9,
   "metadata": {},
   "outputs": [
    {
     "name": "stdout",
     "output_type": "stream",
     "text": [
      "['a', 'b', '1']\n",
      "['aback', 'joy', '0']\n"
     ]
    }
   ],
   "source": [
    "with open(\"data/test.txt\",'r') as f:\n",
    "    for line in f:\n",
    "        #print(type(line))\n",
    "        line = line.strip().split('\\t')\n",
    "        print(line)"
   ]
  },
  {
   "cell_type": "code",
   "execution_count": 10,
   "metadata": {},
   "outputs": [
    {
     "data": {
      "text/plain": [
       "['aback', 'joy', '0']"
      ]
     },
     "execution_count": 10,
     "metadata": {},
     "output_type": "execute_result"
    }
   ],
   "source": [
    "line_t = 'aback\tjoy\t0'\n",
    "line_t = line_t.strip().split('\\t')\n",
    "line_t"
   ]
  },
  {
   "cell_type": "code",
   "execution_count": 11,
   "metadata": {},
   "outputs": [
    {
     "data": {
      "text/plain": [
       "{'abacus': ['trust'],\n",
       " 'abandon': ['fear', 'negative', 'sadness'],\n",
       " 'abandoned': ['anger', 'fear', 'negative', 'sadness'],\n",
       " 'abandonment': ['anger', 'fear', 'negative', 'sadness', 'surprise'],\n",
       " 'abba': ['positive'],\n",
       " 'abbot': ['trust'],\n",
       " 'abduction': ['fear', 'negative', 'sadness', 'surprise'],\n",
       " 'aberrant': ['negative'],\n",
       " 'aberration': ['disgust', 'negative'],\n",
       " 'abhor': ['anger', 'disgust', 'fear', 'negative'],\n",
       " 'abhorrent': ['anger', 'disgust', 'fear', 'negative'],\n",
       " 'ability': ['positive'],\n",
       " 'abject': ['disgust', 'negative'],\n",
       " 'abnormal': ['disgust', 'negative'],\n",
       " 'abolish': ['anger', 'negative'],\n",
       " 'abolition': ['negative'],\n",
       " 'abominable': ['disgust', 'fear', 'negative'],\n",
       " 'abomination': ['anger', 'disgust', 'fear', 'negative'],\n",
       " 'abort': ['negative'],\n",
       " 'abortion': ['disgust', 'fear', 'negative', 'sadness'],\n",
       " 'abortive': ['negative', 'sadness'],\n",
       " 'abovementioned': ['positive'],\n",
       " 'abrasion': ['negative'],\n",
       " 'abrogate': ['negative'],\n",
       " 'abrupt': ['surprise'],\n",
       " 'abscess': ['negative', 'sadness'],\n",
       " 'absence': ['fear', 'negative', 'sadness'],\n",
       " 'absent': ['negative', 'sadness'],\n",
       " 'absentee': ['negative', 'sadness'],\n",
       " 'absenteeism': ['negative'],\n",
       " 'absolute': ['positive'],\n",
       " 'absolution': ['joy', 'positive', 'trust'],\n",
       " 'absorbed': ['positive'],\n",
       " 'absurd': ['negative'],\n",
       " 'absurdity': ['negative'],\n",
       " 'abundance': ['anticipation',\n",
       "  'disgust',\n",
       "  'joy',\n",
       "  'negative',\n",
       "  'positive',\n",
       "  'trust'],\n",
       " 'abundant': ['joy', 'positive'],\n",
       " 'abuse': ['anger', 'disgust', 'fear', 'negative', 'sadness'],\n",
       " 'abysmal': ['negative', 'sadness'],\n",
       " 'abyss': ['fear', 'negative', 'sadness'],\n",
       " 'academic': ['positive', 'trust'],\n",
       " 'academy': ['positive'],\n",
       " 'accelerate': ['anticipation'],\n",
       " 'acceptable': ['positive'],\n",
       " 'acceptance': ['positive'],\n",
       " 'accessible': ['positive'],\n",
       " 'accident': ['fear', 'negative', 'sadness', 'surprise'],\n",
       " 'accidental': ['fear', 'negative', 'surprise'],\n",
       " 'accidentally': ['surprise'],\n",
       " 'accolade': ['anticipation', 'joy', 'positive', 'surprise', 'trust'],\n",
       " 'accommodation': ['positive'],\n",
       " 'accompaniment': ['anticipation', 'joy', 'positive', 'trust'],\n",
       " 'accomplish': ['joy', 'positive'],\n",
       " 'accomplished': ['joy', 'positive'],\n",
       " 'accomplishment': ['positive'],\n",
       " 'accord': ['positive', 'trust'],\n",
       " 'account': ['trust'],\n",
       " 'accountability': ['positive', 'trust'],\n",
       " 'accountable': ['positive', 'trust'],\n",
       " 'accountant': ['trust'],\n",
       " 'accounts': ['trust'],\n",
       " 'accredited': ['positive', 'trust'],\n",
       " 'accueil': ['positive'],\n",
       " 'accurate': ['positive', 'trust'],\n",
       " 'accursed': ['anger', 'fear', 'negative', 'sadness'],\n",
       " 'accusation': ['anger', 'disgust', 'negative'],\n",
       " 'accusative': ['negative'],\n",
       " 'accused': ['anger', 'fear', 'negative'],\n",
       " 'accuser': ['anger', 'fear', 'negative'],\n",
       " 'accusing': ['anger', 'fear', 'negative'],\n",
       " 'ace': ['positive'],\n",
       " 'ache': ['negative', 'sadness'],\n",
       " 'achieve': ['joy', 'positive', 'trust'],\n",
       " 'achievement': ['anticipation', 'joy', 'positive', 'trust'],\n",
       " 'aching': ['negative', 'sadness'],\n",
       " 'acid': ['negative'],\n",
       " 'acknowledgment': ['positive'],\n",
       " 'acquire': ['positive'],\n",
       " 'acquiring': ['anticipation', 'positive'],\n",
       " 'acrobat': ['fear', 'joy', 'positive', 'trust'],\n",
       " 'action': ['positive'],\n",
       " 'actionable': ['anger', 'disgust', 'negative'],\n",
       " 'actual': ['positive'],\n",
       " 'acuity': ['positive'],\n",
       " 'acumen': ['positive'],\n",
       " 'adapt': ['positive'],\n",
       " 'adaptable': ['positive'],\n",
       " 'adder': ['anger', 'disgust', 'fear', 'negative', 'sadness'],\n",
       " 'addiction': ['negative'],\n",
       " 'addresses': ['anticipation', 'positive'],\n",
       " 'adept': ['positive'],\n",
       " 'adequacy': ['positive'],\n",
       " 'adhering': ['trust'],\n",
       " 'adipose': ['negative'],\n",
       " 'adjudicate': ['fear', 'negative'],\n",
       " 'adjunct': ['positive'],\n",
       " 'administrative': ['trust'],\n",
       " 'admirable': ['joy', 'positive', 'trust'],\n",
       " 'admiral': ['positive', 'trust'],\n",
       " 'admiration': ['joy', 'positive', 'trust'],\n",
       " 'admire': ['positive', 'trust'],\n",
       " 'admirer': ['positive'],\n",
       " 'admissible': ['positive', 'trust'],\n",
       " 'admonition': ['fear', 'negative'],\n",
       " 'adorable': ['joy', 'positive'],\n",
       " 'adoration': ['joy', 'positive', 'trust'],\n",
       " 'adore': ['anticipation', 'joy', 'positive', 'trust'],\n",
       " 'adrift': ['anticipation', 'fear', 'negative', 'sadness'],\n",
       " 'adulterated': ['negative'],\n",
       " 'adultery': ['disgust', 'negative', 'sadness'],\n",
       " 'advance': ['anticipation', 'fear', 'joy', 'positive', 'surprise'],\n",
       " 'advanced': ['positive'],\n",
       " 'advancement': ['positive'],\n",
       " 'advantage': ['positive'],\n",
       " 'advantageous': ['positive'],\n",
       " 'advent': ['anticipation', 'joy', 'positive', 'trust'],\n",
       " 'adventure': ['anticipation', 'positive'],\n",
       " 'adventurous': ['positive'],\n",
       " 'adversary': ['anger', 'negative'],\n",
       " 'adverse': ['anger', 'disgust', 'fear', 'negative', 'sadness'],\n",
       " 'adversity': ['anger', 'fear', 'negative', 'sadness'],\n",
       " 'advice': ['trust'],\n",
       " 'advisable': ['positive', 'trust'],\n",
       " 'advise': ['positive', 'trust'],\n",
       " 'advised': ['trust'],\n",
       " 'adviser': ['positive', 'trust'],\n",
       " 'advocacy': ['anger', 'anticipation', 'joy', 'positive', 'trust'],\n",
       " 'advocate': ['trust'],\n",
       " 'aesthetic': ['positive'],\n",
       " 'aesthetics': ['joy', 'positive'],\n",
       " 'affable': ['positive'],\n",
       " 'affection': ['joy', 'positive', 'trust'],\n",
       " 'affiliated': ['positive'],\n",
       " 'affirm': ['positive', 'trust'],\n",
       " 'affirmation': ['positive'],\n",
       " 'affirmative': ['positive'],\n",
       " 'affirmatively': ['positive', 'trust'],\n",
       " 'afflict': ['fear', 'negative', 'sadness'],\n",
       " 'afflicted': ['negative'],\n",
       " 'affliction': ['disgust', 'fear', 'negative', 'sadness'],\n",
       " 'affluence': ['joy', 'positive'],\n",
       " 'affluent': ['positive'],\n",
       " 'afford': ['positive'],\n",
       " 'affront': ['anger', 'disgust', 'fear', 'negative', 'sadness', 'surprise'],\n",
       " 'afraid': ['fear', 'negative'],\n",
       " 'aftermath': ['anger', 'disgust', 'fear', 'negative', 'sadness'],\n",
       " 'aftertaste': ['negative'],\n",
       " 'aga': ['fear', 'positive', 'trust'],\n",
       " 'aggravated': ['anger', 'negative'],\n",
       " 'aggravating': ['anger', 'negative', 'sadness'],\n",
       " 'aggravation': ['anger', 'disgust', 'negative'],\n",
       " 'aggression': ['anger', 'fear', 'negative'],\n",
       " 'aggressive': ['anger', 'fear', 'negative'],\n",
       " 'aggressor': ['anger', 'fear', 'negative'],\n",
       " 'aghast': ['disgust', 'fear', 'negative', 'surprise'],\n",
       " 'agile': ['positive'],\n",
       " 'agility': ['positive'],\n",
       " 'agitated': ['anger', 'negative'],\n",
       " 'agitation': ['anger', 'negative'],\n",
       " 'agonizing': ['fear', 'negative'],\n",
       " 'agony': ['anger', 'fear', 'negative', 'sadness'],\n",
       " 'agree': ['positive'],\n",
       " 'agreeable': ['positive', 'trust'],\n",
       " 'agreed': ['positive', 'trust'],\n",
       " 'agreeing': ['positive', 'trust'],\n",
       " 'agreement': ['positive', 'trust'],\n",
       " 'agriculture': ['positive'],\n",
       " 'aground': ['negative'],\n",
       " 'ahead': ['positive'],\n",
       " 'aid': ['positive'],\n",
       " 'aiding': ['positive'],\n",
       " 'ail': ['negative', 'sadness'],\n",
       " 'ailing': ['fear', 'negative', 'sadness'],\n",
       " 'aimless': ['negative'],\n",
       " 'airport': ['anticipation'],\n",
       " 'airs': ['disgust', 'negative'],\n",
       " 'akin': ['trust'],\n",
       " 'alabaster': ['positive'],\n",
       " 'alarm': ['fear', 'negative', 'surprise'],\n",
       " 'alarming': ['fear', 'negative', 'surprise'],\n",
       " 'alb': ['trust'],\n",
       " 'alcoholism': ['anger', 'disgust', 'fear', 'negative', 'sadness'],\n",
       " 'alertness': ['anticipation', 'fear', 'positive', 'surprise'],\n",
       " 'alerts': ['anticipation', 'fear', 'surprise'],\n",
       " 'alien': ['disgust', 'fear', 'negative'],\n",
       " 'alienate': ['anger', 'disgust', 'negative'],\n",
       " 'alienated': ['negative', 'sadness'],\n",
       " 'alienation': ['anger', 'disgust', 'fear', 'negative', 'sadness'],\n",
       " 'alimentation': ['positive'],\n",
       " 'alimony': ['negative'],\n",
       " 'alive': ['anticipation', 'joy', 'positive', 'trust'],\n",
       " 'allay': ['positive'],\n",
       " 'allegation': ['anger', 'negative'],\n",
       " 'allege': ['negative'],\n",
       " 'allegiance': ['positive', 'trust'],\n",
       " 'allegro': ['positive'],\n",
       " 'alleviate': ['positive'],\n",
       " 'alleviation': ['positive'],\n",
       " 'alliance': ['trust'],\n",
       " 'allied': ['positive', 'trust'],\n",
       " 'allowable': ['positive'],\n",
       " 'allure': ['anticipation', 'joy', 'positive', 'surprise'],\n",
       " 'alluring': ['positive'],\n",
       " 'ally': ['positive', 'trust'],\n",
       " 'almighty': ['positive'],\n",
       " 'aloha': ['anticipation', 'joy', 'positive'],\n",
       " 'aloof': ['negative'],\n",
       " 'altercation': ['anger', 'negative'],\n",
       " 'amaze': ['surprise'],\n",
       " 'amazingly': ['joy', 'positive', 'surprise'],\n",
       " 'ambassador': ['positive', 'trust'],\n",
       " 'ambiguous': ['negative'],\n",
       " 'ambition': ['anticipation', 'joy', 'positive', 'trust'],\n",
       " 'ambulance': ['fear', 'trust'],\n",
       " 'ambush': ['anger', 'fear', 'negative', 'surprise'],\n",
       " 'ameliorate': ['positive'],\n",
       " 'amen': ['joy', 'positive', 'trust'],\n",
       " 'amenable': ['positive'],\n",
       " 'amend': ['positive'],\n",
       " 'amends': ['positive'],\n",
       " 'amenity': ['positive'],\n",
       " 'amiable': ['positive'],\n",
       " 'amicable': ['joy', 'positive'],\n",
       " 'ammonia': ['disgust'],\n",
       " 'amnesia': ['negative'],\n",
       " 'amnesty': ['joy', 'positive'],\n",
       " 'amortization': ['trust'],\n",
       " 'amour': ['anticipation', 'joy', 'positive', 'trust'],\n",
       " 'amphetamines': ['disgust', 'negative'],\n",
       " 'amuse': ['joy', 'positive'],\n",
       " 'amused': ['joy', 'positive'],\n",
       " 'amusement': ['joy', 'positive'],\n",
       " 'amusing': ['joy', 'positive'],\n",
       " 'anaconda': ['disgust', 'fear', 'negative'],\n",
       " 'anal': ['negative'],\n",
       " 'analyst': ['anticipation', 'positive', 'trust'],\n",
       " 'anarchism': ['anger', 'fear', 'negative'],\n",
       " 'anarchist': ['anger', 'fear', 'negative'],\n",
       " 'anarchy': ['anger', 'fear', 'negative'],\n",
       " 'anathema': ['anger', 'disgust', 'fear', 'negative', 'sadness'],\n",
       " 'ancestral': ['trust'],\n",
       " 'anchor': ['positive'],\n",
       " 'anchorage': ['positive', 'sadness'],\n",
       " 'ancient': ['negative'],\n",
       " 'angel': ['anticipation', 'joy', 'positive', 'surprise', 'trust'],\n",
       " 'angelic': ['joy', 'positive', 'trust'],\n",
       " 'anger': ['anger', 'negative'],\n",
       " 'angina': ['fear', 'negative'],\n",
       " 'angling': ['anticipation', 'negative'],\n",
       " 'angry': ['anger', 'disgust', 'negative'],\n",
       " 'anguish': ['anger', 'fear', 'negative', 'sadness'],\n",
       " 'animate': ['positive'],\n",
       " 'animated': ['joy', 'positive'],\n",
       " 'animosity': ['anger', 'disgust', 'fear', 'negative', 'sadness'],\n",
       " 'animus': ['anger', 'negative'],\n",
       " 'annihilate': ['anger', 'fear', 'negative'],\n",
       " 'annihilated': ['anger', 'fear', 'negative', 'sadness'],\n",
       " 'annihilation': ['anger', 'fear', 'negative', 'sadness'],\n",
       " 'announcement': ['anticipation'],\n",
       " 'annoy': ['anger', 'disgust', 'negative'],\n",
       " 'annoyance': ['anger', 'disgust', 'negative'],\n",
       " 'annoying': ['anger', 'negative'],\n",
       " 'annul': ['negative'],\n",
       " 'annulment': ['negative', 'sadness'],\n",
       " 'anomaly': ['fear', 'negative', 'surprise'],\n",
       " 'anonymous': ['negative'],\n",
       " 'answerable': ['trust'],\n",
       " 'antagonism': ['anger', 'negative'],\n",
       " 'antagonist': ['anger', 'negative'],\n",
       " 'antagonistic': ['anger', 'disgust', 'negative'],\n",
       " 'anthrax': ['disgust', 'fear', 'negative', 'sadness'],\n",
       " 'antibiotics': ['positive'],\n",
       " 'antichrist': ['anger', 'disgust', 'fear', 'negative'],\n",
       " 'anticipation': ['anticipation'],\n",
       " 'anticipatory': ['anticipation'],\n",
       " 'antidote': ['anticipation', 'positive', 'trust'],\n",
       " 'antifungal': ['positive', 'trust'],\n",
       " 'antipathy': ['anger', 'disgust', 'negative'],\n",
       " 'antiquated': ['negative'],\n",
       " 'antique': ['positive'],\n",
       " 'antiseptic': ['positive', 'trust'],\n",
       " 'antisocial': ['anger', 'disgust', 'fear', 'negative', 'sadness'],\n",
       " 'antithesis': ['anger', 'negative'],\n",
       " 'anxiety': ['anger', 'anticipation', 'fear', 'negative', 'sadness'],\n",
       " 'anxious': ['anticipation', 'fear', 'negative'],\n",
       " 'apache': ['fear', 'negative'],\n",
       " 'apathetic': ['negative', 'sadness'],\n",
       " 'apathy': ['negative', 'sadness'],\n",
       " 'aphid': ['disgust', 'negative'],\n",
       " 'aplomb': ['positive'],\n",
       " 'apologetic': ['positive', 'trust'],\n",
       " 'apologize': ['positive', 'sadness', 'trust'],\n",
       " 'apology': ['positive'],\n",
       " 'apostle': ['positive', 'trust'],\n",
       " 'apostolic': ['trust'],\n",
       " 'appalling': ['disgust', 'fear', 'negative'],\n",
       " 'apparition': ['fear', 'surprise'],\n",
       " 'appeal': ['anticipation'],\n",
       " 'appendicitis': ['fear', 'negative', 'sadness'],\n",
       " 'applause': ['joy', 'positive', 'surprise', 'trust'],\n",
       " 'applicant': ['anticipation'],\n",
       " 'appreciation': ['joy', 'positive', 'trust'],\n",
       " 'apprehend': ['fear'],\n",
       " 'apprehension': ['fear', 'negative'],\n",
       " 'apprehensive': ['anticipation', 'fear', 'negative'],\n",
       " 'apprentice': ['trust'],\n",
       " 'approaching': ['anticipation'],\n",
       " 'approbation': ['positive', 'trust'],\n",
       " 'appropriation': ['negative'],\n",
       " 'approval': ['positive'],\n",
       " 'approve': ['joy', 'positive', 'trust'],\n",
       " 'approving': ['positive'],\n",
       " 'apt': ['positive'],\n",
       " 'aptitude': ['positive'],\n",
       " 'arbiter': ['trust'],\n",
       " 'arbitration': ['anticipation'],\n",
       " 'arbitrator': ['trust'],\n",
       " 'archaeology': ['anticipation', 'positive'],\n",
       " 'archaic': ['negative'],\n",
       " 'architecture': ['trust'],\n",
       " 'ardent': ['anticipation', 'joy', 'positive'],\n",
       " 'ardor': ['positive'],\n",
       " 'arduous': ['negative'],\n",
       " 'argue': ['anger', 'negative'],\n",
       " 'argument': ['anger', 'negative'],\n",
       " 'argumentation': ['anger'],\n",
       " 'argumentative': ['negative'],\n",
       " 'arguments': ['anger'],\n",
       " 'arid': ['negative', 'sadness'],\n",
       " 'aristocracy': ['positive'],\n",
       " 'aristocratic': ['positive'],\n",
       " 'armament': ['anger', 'fear'],\n",
       " 'armaments': ['fear', 'negative'],\n",
       " 'armed': ['anger', 'fear', 'negative', 'positive'],\n",
       " 'armor': ['fear', 'positive', 'trust'],\n",
       " 'armored': ['fear'],\n",
       " 'armory': ['trust'],\n",
       " 'aroma': ['positive'],\n",
       " 'arouse': ['anticipation', 'positive'],\n",
       " 'arraignment': ['anger', 'fear', 'negative', 'sadness'],\n",
       " 'array': ['positive'],\n",
       " 'arrears': ['negative'],\n",
       " 'arrest': ['negative'],\n",
       " 'arrival': ['anticipation'],\n",
       " 'arrive': ['anticipation'],\n",
       " 'arrogance': ['negative'],\n",
       " 'arrogant': ['anger', 'disgust', 'negative'],\n",
       " 'arsenic': ['disgust', 'fear', 'negative', 'sadness'],\n",
       " 'arson': ['anger', 'fear', 'negative'],\n",
       " 'art': ['anticipation', 'joy', 'positive', 'sadness', 'surprise'],\n",
       " 'articulate': ['positive'],\n",
       " 'articulation': ['positive'],\n",
       " 'artillery': ['fear', 'negative'],\n",
       " 'artisan': ['positive'],\n",
       " 'artiste': ['positive'],\n",
       " 'artistic': ['positive'],\n",
       " 'ascendancy': ['positive'],\n",
       " 'ascent': ['positive'],\n",
       " 'ash': ['negative'],\n",
       " 'ashamed': ['disgust', 'negative', 'sadness'],\n",
       " 'ashes': ['negative', 'sadness'],\n",
       " 'asp': ['fear'],\n",
       " 'aspiration': ['anticipation', 'joy', 'positive', 'surprise', 'trust'],\n",
       " 'aspire': ['anticipation', 'joy', 'positive'],\n",
       " 'aspiring': ['anticipation', 'joy', 'positive', 'trust'],\n",
       " 'ass': ['negative'],\n",
       " 'assail': ['anger', 'fear', 'negative', 'surprise'],\n",
       " 'assailant': ['anger', 'fear', 'negative', 'sadness'],\n",
       " 'assassin': ['anger', 'fear', 'negative', 'sadness'],\n",
       " 'assassinate': ['anger', 'fear', 'negative'],\n",
       " 'assassination': ['anger', 'fear', 'negative', 'sadness'],\n",
       " 'assault': ['anger', 'fear', 'negative'],\n",
       " 'assembly': ['positive', 'trust'],\n",
       " 'assent': ['positive'],\n",
       " 'asserting': ['positive', 'trust'],\n",
       " 'assessment': ['surprise', 'trust'],\n",
       " 'assessor': ['trust'],\n",
       " 'assets': ['positive'],\n",
       " 'asshole': ['anger', 'disgust', 'negative'],\n",
       " 'assignee': ['trust'],\n",
       " 'assist': ['positive', 'trust'],\n",
       " 'assistance': ['positive'],\n",
       " 'associate': ['positive', 'trust'],\n",
       " 'association': ['trust'],\n",
       " 'assuage': ['positive'],\n",
       " 'assurance': ['positive', 'trust'],\n",
       " 'assure': ['trust'],\n",
       " 'assured': ['positive', 'trust'],\n",
       " 'assuredly': ['trust'],\n",
       " 'astonishingly': ['positive', 'surprise'],\n",
       " 'astonishment': ['joy', 'positive', 'surprise'],\n",
       " 'astray': ['fear', 'negative'],\n",
       " 'astringent': ['negative'],\n",
       " 'astrologer': ['anticipation', 'positive'],\n",
       " 'astronaut': ['positive'],\n",
       " 'astronomer': ['anticipation', 'positive'],\n",
       " 'astute': ['positive'],\n",
       " 'asylum': ['fear', 'negative'],\n",
       " 'asymmetry': ['disgust'],\n",
       " 'atheism': ['negative'],\n",
       " 'atherosclerosis': ['fear', 'negative', 'sadness'],\n",
       " 'athlete': ['positive'],\n",
       " 'athletic': ['positive'],\n",
       " 'atom': ['positive'],\n",
       " 'atone': ['anticipation', 'joy', 'positive', 'trust'],\n",
       " 'atonement': ['positive'],\n",
       " 'atrocious': ['anger', 'disgust', 'negative'],\n",
       " 'atrocity': ['anger', 'disgust', 'fear', 'negative', 'sadness'],\n",
       " 'atrophy': ['disgust', 'fear', 'negative', 'sadness'],\n",
       " 'attachment': ['positive'],\n",
       " 'attack': ['anger', 'fear', 'negative'],\n",
       " 'attacking': ['anger', 'disgust', 'fear', 'negative', 'sadness', 'surprise'],\n",
       " 'attainable': ['anticipation', 'positive'],\n",
       " 'attainment': ['positive'],\n",
       " 'attempt': ['anticipation'],\n",
       " 'attendance': ['anticipation'],\n",
       " 'attendant': ['positive', 'trust'],\n",
       " 'attention': ['positive'],\n",
       " 'attentive': ['positive', 'trust'],\n",
       " 'attenuated': ['negative'],\n",
       " 'attenuation': ['negative', 'sadness'],\n",
       " 'attest': ['positive', 'trust'],\n",
       " 'attestation': ['trust'],\n",
       " 'attorney': ['anger', 'fear', 'positive', 'trust'],\n",
       " 'attraction': ['positive'],\n",
       " 'attractiveness': ['positive'],\n",
       " 'auction': ['anticipation'],\n",
       " 'audacity': ['negative'],\n",
       " 'audience': ['anticipation'],\n",
       " 'auditor': ['fear', 'trust'],\n",
       " 'augment': ['positive'],\n",
       " 'august': ['positive'],\n",
       " 'aunt': ['positive', 'trust'],\n",
       " 'aura': ['positive'],\n",
       " 'auspicious': ['anticipation', 'joy', 'positive'],\n",
       " 'austere': ['fear', 'negative', 'sadness'],\n",
       " 'austerity': ['negative'],\n",
       " 'authentic': ['joy', 'positive', 'trust'],\n",
       " 'authenticate': ['trust'],\n",
       " 'authentication': ['trust'],\n",
       " 'authenticity': ['positive', 'trust'],\n",
       " 'author': ['positive', 'trust'],\n",
       " 'authoritative': ['positive', 'trust'],\n",
       " 'authority': ['positive', 'trust'],\n",
       " 'authorization': ['positive', 'trust'],\n",
       " 'authorize': ['trust'],\n",
       " 'authorized': ['positive'],\n",
       " 'autocratic': ['negative'],\n",
       " 'automatic': ['trust'],\n",
       " 'autopsy': ['disgust', 'fear', 'negative', 'sadness'],\n",
       " 'avalanche': ['fear', 'negative', 'sadness', 'surprise'],\n",
       " 'avarice': ['anger', 'disgust', 'negative'],\n",
       " 'avatar': ['positive'],\n",
       " 'avenger': ['anger', 'negative'],\n",
       " 'averse': ['anger', 'disgust', 'fear', 'negative'],\n",
       " 'aversion': ['anger', 'disgust', 'fear', 'negative'],\n",
       " 'avoid': ['fear', 'negative'],\n",
       " 'avoidance': ['fear', 'negative'],\n",
       " 'avoiding': ['fear'],\n",
       " 'await': ['anticipation'],\n",
       " 'award': ['anticipation', 'joy', 'positive', 'surprise', 'trust'],\n",
       " 'awful': ['anger', 'disgust', 'fear', 'negative', 'sadness'],\n",
       " 'awkwardness': ['disgust', 'negative'],\n",
       " 'awry': ['negative'],\n",
       " 'axiom': ['trust'],\n",
       " 'axiomatic': ['trust'],\n",
       " 'ay': ['positive'],\n",
       " 'aye': ['positive'],\n",
       " 'babble': ['negative'],\n",
       " 'babbling': ['negative'],\n",
       " 'baboon': ['disgust', 'negative'],\n",
       " 'baby': ['joy', 'positive'],\n",
       " 'babysitter': ['trust'],\n",
       " 'baccalaureate': ['positive'],\n",
       " 'backbone': ['anger', 'positive', 'trust'],\n",
       " 'backer': ['trust'],\n",
       " 'backward': ['negative'],\n",
       " 'backwards': ['disgust', 'negative'],\n",
       " 'backwater': ['negative', 'sadness'],\n",
       " 'bacteria': ['disgust', 'fear', 'negative', 'sadness'],\n",
       " 'bacterium': ['disgust', 'fear', 'negative'],\n",
       " 'bad': ['anger', 'disgust', 'fear', 'negative', 'sadness'],\n",
       " 'badge': ['trust'],\n",
       " 'badger': ['anger', 'negative'],\n",
       " 'badly': ['negative', 'sadness'],\n",
       " 'badness': ['anger', 'disgust', 'fear', 'negative'],\n",
       " 'bailiff': ['fear', 'negative', 'trust'],\n",
       " 'bait': ['fear', 'negative', 'trust'],\n",
       " 'balance': ['positive'],\n",
       " 'balanced': ['positive'],\n",
       " 'bale': ['fear', 'negative'],\n",
       " 'balk': ['negative'],\n",
       " 'ballad': ['positive'],\n",
       " 'ballet': ['positive'],\n",
       " 'ballot': ['anticipation', 'positive', 'trust'],\n",
       " 'balm': ['anticipation', 'joy', 'negative', 'positive'],\n",
       " 'balsam': ['positive'],\n",
       " 'ban': ['negative'],\n",
       " 'bandit': ['negative'],\n",
       " 'bane': ['anger', 'disgust', 'fear', 'negative'],\n",
       " 'bang': ['anger', 'disgust', 'fear', 'negative', 'sadness', 'surprise'],\n",
       " 'banger': ['anger', 'anticipation', 'fear', 'negative', 'surprise'],\n",
       " 'banish': ['anger', 'disgust', 'fear', 'negative', 'sadness'],\n",
       " 'banished': ['anger', 'fear', 'negative', 'sadness'],\n",
       " 'banishment': ['anger', 'disgust', 'negative', 'sadness'],\n",
       " 'bank': ['trust'],\n",
       " 'banker': ['trust'],\n",
       " 'bankrupt': ['fear', 'negative', 'sadness'],\n",
       " 'bankruptcy': ['anger', 'disgust', 'fear', 'negative', 'sadness'],\n",
       " 'banquet': ['anticipation', 'joy', 'positive'],\n",
       " 'banshee': ['anger', 'disgust', 'fear', 'negative', 'sadness'],\n",
       " 'baptism': ['positive'],\n",
       " 'baptismal': ['joy', 'positive'],\n",
       " 'barb': ['anger', 'negative'],\n",
       " 'barbarian': ['fear', 'negative'],\n",
       " 'barbaric': ['anger', 'disgust', 'fear', 'negative'],\n",
       " 'barbarism': ['negative'],\n",
       " 'bard': ['positive'],\n",
       " 'barf': ['disgust'],\n",
       " 'bargain': ['positive', 'trust'],\n",
       " 'bark': ['anger', 'negative'],\n",
       " 'barred': ['negative'],\n",
       " 'barren': ['negative', 'sadness'],\n",
       " 'barricade': ['fear', 'negative'],\n",
       " 'barrier': ['anger', 'negative'],\n",
       " 'barrow': ['disgust'],\n",
       " 'bartender': ['trust'],\n",
       " 'barter': ['trust'],\n",
       " 'base': ['trust'],\n",
       " 'baseless': ['negative'],\n",
       " 'basketball': ['anticipation', 'joy', 'positive'],\n",
       " 'bastard': ['disgust', 'negative', 'sadness'],\n",
       " 'bastion': ['anger', 'positive'],\n",
       " 'bath': ['positive'],\n",
       " 'battalion': ['anger'],\n",
       " 'batter': ['anger', 'fear', 'negative'],\n",
       " 'battered': ['fear', 'negative', 'sadness'],\n",
       " 'battery': ['anger', 'negative'],\n",
       " 'battle': ['anger', 'negative'],\n",
       " 'battled': ['anger', 'fear', 'negative', 'sadness'],\n",
       " 'battlefield': ['fear', 'negative'],\n",
       " 'bawdy': ['negative'],\n",
       " 'bayonet': ['anger', 'fear', 'negative'],\n",
       " 'beach': ['joy'],\n",
       " 'beam': ['joy', 'positive'],\n",
       " 'beaming': ['anticipation', 'joy', 'positive'],\n",
       " 'bear': ['anger', 'fear'],\n",
       " 'bearer': ['negative'],\n",
       " 'bearish': ['anger', 'fear'],\n",
       " 'beast': ['anger', 'fear', 'negative'],\n",
       " 'beastly': ['disgust', 'fear', 'negative'],\n",
       " 'beating': ['anger', 'fear', 'negative', 'sadness'],\n",
       " 'beautification': ['joy', 'positive', 'trust'],\n",
       " 'beautiful': ['joy', 'positive'],\n",
       " 'beautify': ['joy', 'positive'],\n",
       " 'beauty': ['joy', 'positive'],\n",
       " 'bedrock': ['positive', 'trust'],\n",
       " 'bee': ['anger', 'fear'],\n",
       " 'beer': ['joy', 'positive'],\n",
       " 'befall': ['negative'],\n",
       " 'befitting': ['positive'],\n",
       " 'befriend': ['joy', 'positive', 'trust'],\n",
       " 'beg': ['negative', 'sadness'],\n",
       " 'beggar': ['negative', 'sadness'],\n",
       " 'begging': ['negative'],\n",
       " 'begun': ['anticipation'],\n",
       " 'behemoth': ['fear', 'negative'],\n",
       " 'beholden': ['negative'],\n",
       " 'belated': ['negative'],\n",
       " 'believed': ['trust'],\n",
       " 'believer': ['trust'],\n",
       " 'believing': ['positive', 'trust'],\n",
       " 'belittle': ['anger', 'disgust', 'fear', 'negative', 'sadness'],\n",
       " 'belligerent': ['anger', 'fear', 'negative'],\n",
       " 'bellows': ['anger'],\n",
       " 'belt': ['anger', 'fear', 'negative'],\n",
       " 'bender': ['negative'],\n",
       " 'benefactor': ['positive', 'trust'],\n",
       " 'beneficial': ['positive'],\n",
       " 'benefit': ['positive'],\n",
       " 'benevolence': ['joy', 'positive', 'trust'],\n",
       " 'benign': ['joy', 'positive'],\n",
       " 'bequest': ['trust'],\n",
       " 'bereaved': ['negative', 'sadness'],\n",
       " 'bereavement': ['negative', 'sadness'],\n",
       " 'bereft': ['negative'],\n",
       " 'berserk': ['anger', 'negative'],\n",
       " 'berth': ['positive'],\n",
       " 'bestial': ['disgust', 'fear', 'negative'],\n",
       " 'betray': ['anger', 'disgust', 'negative', 'sadness', 'surprise'],\n",
       " 'betrayal': ['anger', 'disgust', 'negative', 'sadness'],\n",
       " 'betrothed': ['anticipation', 'joy', 'positive', 'trust'],\n",
       " 'betterment': ['positive'],\n",
       " 'beverage': ['positive'],\n",
       " 'beware': ['anticipation', 'fear', 'negative'],\n",
       " 'bewildered': ['fear', 'negative', 'surprise'],\n",
       " 'bewilderment': ['fear', 'surprise'],\n",
       " 'bias': ['anger', 'negative'],\n",
       " 'biased': ['negative'],\n",
       " 'biblical': ['positive'],\n",
       " 'bickering': ['anger', 'disgust', 'negative'],\n",
       " 'biennial': ['anticipation'],\n",
       " 'bier': ['fear', 'negative', 'sadness'],\n",
       " 'bigot': ['anger', 'disgust', 'fear', 'negative'],\n",
       " 'bigoted': ['anger', 'disgust', 'fear', 'negative', 'sadness'],\n",
       " 'bile': ['anger', 'disgust', 'negative'],\n",
       " 'bilingual': ['positive'],\n",
       " 'biopsy': ['fear', 'negative'],\n",
       " 'birch': ['anger', 'disgust', 'fear', 'negative'],\n",
       " 'birth': ['anticipation', 'fear', 'joy', 'positive', 'trust'],\n",
       " 'birthday': ['anticipation', 'joy', 'positive', 'surprise'],\n",
       " 'birthplace': ['anger', 'negative'],\n",
       " 'bitch': ['anger', 'disgust', 'fear', 'negative', 'sadness'],\n",
       " 'bite': ['negative'],\n",
       " 'bitterly': ['anger', 'disgust', 'negative', 'sadness'],\n",
       " 'bitterness': ['anger', 'disgust', 'negative', 'sadness'],\n",
       " 'bizarre': ['negative', 'surprise'],\n",
       " 'black': ['negative', 'sadness'],\n",
       " 'blackjack': ['negative'],\n",
       " 'blackmail': ['anger', 'fear', 'negative'],\n",
       " 'blackness': ['fear', 'negative', 'sadness'],\n",
       " 'blame': ['anger', 'disgust', 'negative'],\n",
       " 'blameless': ['positive'],\n",
       " 'bland': ['negative'],\n",
       " 'blanket': ['trust'],\n",
       " 'blasphemous': ['anger', 'disgust', 'negative'],\n",
       " 'blasphemy': ['anger', 'negative'],\n",
       " 'blast': ['anger', 'fear', 'negative', 'surprise'],\n",
       " 'blatant': ['anger', 'disgust', 'negative'],\n",
       " 'blather': ['negative'],\n",
       " 'blaze': ['anger', 'negative'],\n",
       " 'bleak': ['negative', 'sadness'],\n",
       " 'bleeding': ['disgust', 'fear', 'negative', 'sadness'],\n",
       " 'blemish': ['anger', 'disgust', 'fear', 'negative', 'sadness'],\n",
       " 'bless': ['anticipation', 'joy', 'positive', 'trust'],\n",
       " 'blessed': ['joy', 'positive'],\n",
       " 'blessing': ['anticipation', 'joy', 'positive', 'trust'],\n",
       " 'blessings': ['anticipation', 'joy', 'positive', 'surprise', 'trust'],\n",
       " 'blight': ['disgust', 'fear', 'negative', 'sadness'],\n",
       " 'blighted': ['disgust', 'negative', 'sadness'],\n",
       " 'blind': ['negative'],\n",
       " 'blinded': ['negative'],\n",
       " 'blindfold': ['anticipation', 'fear', 'surprise'],\n",
       " 'blindly': ['negative', 'sadness'],\n",
       " 'blindness': ['negative', 'sadness'],\n",
       " 'bliss': ['joy', 'positive'],\n",
       " 'blissful': ['joy', 'positive'],\n",
       " 'blister': ['disgust', 'negative'],\n",
       " 'blitz': ['surprise'],\n",
       " 'bloated': ['disgust', 'negative'],\n",
       " 'blob': ['disgust', 'fear', 'negative'],\n",
       " 'blockade': ['anger', 'fear', 'negative', 'sadness'],\n",
       " 'bloodless': ['positive'],\n",
       " 'bloodshed': ['anger', 'disgust', 'fear', 'negative', 'sadness', 'surprise'],\n",
       " 'bloodthirsty': ['anger', 'disgust', 'fear', 'negative'],\n",
       " 'bloody': ['anger', 'disgust', 'fear', 'negative', 'sadness'],\n",
       " 'bloom': ['anticipation', 'joy', 'positive', 'trust'],\n",
       " 'blossom': ['joy', 'positive'],\n",
       " 'blot': ['negative'],\n",
       " 'blower': ['negative'],\n",
       " 'blowout': ['negative'],\n",
       " 'blue': ['sadness'],\n",
       " 'blues': ['fear', 'negative', 'sadness'],\n",
       " 'bluff': ['negative'],\n",
       " 'blunder': ['disgust', 'negative', 'sadness'],\n",
       " 'blur': ['negative'],\n",
       " 'blurred': ['negative'],\n",
       " 'blush': ['negative'],\n",
       " 'board': ['anticipation'],\n",
       " 'boast': ['negative', 'positive'],\n",
       " 'boasting': ['negative'],\n",
       " 'bodyguard': ['positive', 'trust'],\n",
       " 'bog': ['negative'],\n",
       " 'bogus': ['anger', 'disgust', 'negative'],\n",
       " 'boil': ['disgust', 'negative'],\n",
       " 'boilerplate': ['negative'],\n",
       " 'boisterous': ['anger', 'anticipation', 'joy', 'negative', 'positive'],\n",
       " 'bold': ['positive'],\n",
       " 'boldness': ['positive'],\n",
       " 'bolster': ['positive'],\n",
       " 'bomb': ['anger', 'fear', 'negative', 'sadness', 'surprise'],\n",
       " 'bombard': ['anger', 'fear', 'negative'],\n",
       " 'bombardment': ['anger', 'fear', 'negative'],\n",
       " 'bombed': ['disgust', 'negative'],\n",
       " 'bomber': ['fear', 'sadness'],\n",
       " 'bonanza': ['joy', 'positive'],\n",
       " 'bondage': ['fear', 'negative', 'sadness'],\n",
       " 'bonds': ['negative'],\n",
       " 'bonne': ['positive'],\n",
       " 'bonus': ['anticipation', 'joy', 'positive', 'surprise'],\n",
       " 'boo': ['negative'],\n",
       " 'booby': ['negative'],\n",
       " 'bookish': ['positive'],\n",
       " 'bookshop': ['positive'],\n",
       " 'bookworm': ['negative', 'positive'],\n",
       " 'boomerang': ['anticipation', 'trust'],\n",
       " 'boon': ['positive'],\n",
       " 'booze': ['negative'],\n",
       " 'bore': ['negative'],\n",
       " 'boredom': ['negative', 'sadness'],\n",
       " 'boring': ['negative'],\n",
       " 'borrower': ['negative'],\n",
       " 'bother': ['negative'],\n",
       " 'bothering': ['anger', 'negative', 'sadness'],\n",
       " 'bottom': ['negative', 'sadness'],\n",
       " 'bottomless': ['fear'],\n",
       " 'bound': ['negative'],\n",
       " 'bountiful': ['anticipation', 'joy', 'positive'],\n",
       " 'bounty': ['anticipation', 'joy', 'positive', 'trust'],\n",
       " 'bouquet': ['joy', 'positive', 'trust'],\n",
       " 'bout': ['anger', 'negative'],\n",
       " 'bovine': ['disgust', 'negative'],\n",
       " 'bowels': ['disgust'],\n",
       " 'boxing': ['anger'],\n",
       " 'boy': ['disgust', 'negative'],\n",
       " 'boycott': ['negative'],\n",
       " 'brag': ['negative'],\n",
       " 'brains': ['positive'],\n",
       " 'bran': ['disgust'],\n",
       " 'brandy': ['negative'],\n",
       " 'bravado': ['negative'],\n",
       " 'bravery': ['positive'],\n",
       " 'brawl': ['anger', 'disgust', 'fear', 'negative'],\n",
       " 'brazen': ['anger', 'negative'],\n",
       " 'breach': ['negative'],\n",
       " 'break': ['surprise'],\n",
       " 'breakdown': ['negative'],\n",
       " 'breakfast': ['positive'],\n",
       " 'breakneck': ['negative'],\n",
       " 'breakup': ['negative', 'sadness'],\n",
       " 'bribe': ['negative'],\n",
       " 'bribery': ['disgust', 'negative'],\n",
       " 'bridal': ['anticipation', 'joy', 'positive', 'trust'],\n",
       " 'bride': ['anticipation', 'joy', 'positive', 'trust'],\n",
       " 'bridegroom': ['anticipation', 'joy', 'positive', 'trust'],\n",
       " 'bridesmaid': ['joy', 'positive', 'trust'],\n",
       " 'brigade': ['fear', 'negative'],\n",
       " 'brighten': ['joy', 'positive', 'surprise', 'trust'],\n",
       " 'brightness': ['positive'],\n",
       " 'brilliant': ['anticipation', 'joy', 'positive', 'trust'],\n",
       " 'brimstone': ['anger', 'fear', 'negative'],\n",
       " 'bristle': ['negative'],\n",
       " 'broadside': ['anticipation', 'negative'],\n",
       " 'brocade': ['positive'],\n",
       " 'broil': ['anger', 'negative'],\n",
       " 'broke': ['fear', 'negative', 'sadness'],\n",
       " 'broken': ['anger', 'fear', 'negative', 'sadness'],\n",
       " 'brothel': ['disgust', 'negative'],\n",
       " 'brother': ['positive', 'trust'],\n",
       " 'brotherhood': ['positive', 'trust'],\n",
       " 'brotherly': ['anticipation', 'joy', 'positive', 'trust'],\n",
       " 'bruise': ['anticipation', 'negative'],\n",
       " 'brunt': ['anger', 'negative'],\n",
       " 'brutal': ['anger', 'fear', 'negative'],\n",
       " 'brutality': ['anger', 'fear', 'negative'],\n",
       " 'brute': ['anger', 'fear', 'negative', 'sadness'],\n",
       " 'buck': ['fear', 'negative', 'positive', 'surprise'],\n",
       " 'buddy': ['anticipation', 'joy', 'positive', 'trust'],\n",
       " 'budget': ['trust'],\n",
       " 'buffet': ['anger', 'negative'],\n",
       " 'bug': ['disgust', 'fear', 'negative'],\n",
       " 'bugaboo': ['anger', 'fear', 'negative', 'sadness'],\n",
       " 'bugle': ['anticipation'],\n",
       " 'build': ['positive'],\n",
       " 'building': ['positive'],\n",
       " 'bulbous': ['negative'],\n",
       " 'bulldog': ['positive'],\n",
       " 'bulletproof': ['positive'],\n",
       " 'bully': ['anger', 'fear', 'negative'],\n",
       " 'bum': ['disgust', 'negative', 'sadness'],\n",
       " 'bummer': ['anger', 'disgust', 'negative'],\n",
       " 'bunker': ['fear'],\n",
       " 'buoy': ['positive'],\n",
       " 'burdensome': ['fear', 'negative', 'sadness'],\n",
       " 'bureaucracy': ['negative', 'trust'],\n",
       " 'bureaucrat': ['disgust', 'negative'],\n",
       " 'burglar': ['disgust', 'fear', 'negative'],\n",
       " 'burglary': ['negative'],\n",
       " 'burial': ['anger', 'fear', 'negative', 'sadness'],\n",
       " 'buried': ['fear', 'negative', 'sadness'],\n",
       " 'burke': ['anger', 'disgust', 'fear', 'negative', 'sadness'],\n",
       " 'burlesque': ['surprise'],\n",
       " 'burnt': ['disgust', 'negative'],\n",
       " 'bursary': ['trust'],\n",
       " 'bury': ['sadness'],\n",
       " 'buss': ['joy', 'positive'],\n",
       " 'busted': ['anger', 'fear', 'negative'],\n",
       " 'butcher': ['anger', 'disgust', 'fear', 'negative'],\n",
       " 'butler': ['positive', 'trust'],\n",
       " 'butt': ['negative'],\n",
       " 'buttery': ['positive'],\n",
       " 'buxom': ['positive'],\n",
       " 'buzz': ['anticipation', 'fear', 'positive'],\n",
       " 'buzzed': ['negative'],\n",
       " 'bye': ['anticipation'],\n",
       " 'bylaw': ['trust'],\n",
       " 'cab': ['positive'],\n",
       " 'cabal': ['fear', 'negative'],\n",
       " 'cabinet': ['positive', 'trust'],\n",
       " 'cable': ['surprise'],\n",
       " 'cacophony': ['anger', 'disgust', 'negative'],\n",
       " 'cad': ['anger', 'disgust', 'negative'],\n",
       " 'cadaver': ['disgust', 'fear', 'negative', 'sadness', 'surprise'],\n",
       " 'cafe': ['positive'],\n",
       " 'cage': ['negative', 'sadness'],\n",
       " 'calamity': ['sadness'],\n",
       " 'calculating': ['negative'],\n",
       " 'calculation': ['anticipation'],\n",
       " 'calculator': ['positive', 'trust'],\n",
       " 'calf': ['joy', 'positive', 'trust'],\n",
       " 'callous': ['anger', 'disgust', 'negative'],\n",
       " 'calls': ['anticipation', 'negative', 'trust'],\n",
       " 'calm': ['positive'],\n",
       " 'camouflage': ['surprise'],\n",
       " 'camouflaged': ['surprise'],\n",
       " 'campaigning': ['anger', 'fear', 'negative'],\n",
       " 'canary': ['positive'],\n",
       " 'cancel': ['negative', 'sadness'],\n",
       " 'cancer': ['anger', 'disgust', 'fear', 'negative', 'sadness'],\n",
       " 'candid': ['anticipation', 'joy', 'positive', 'surprise', 'trust'],\n",
       " 'candidate': ['positive'],\n",
       " 'candied': ['positive'],\n",
       " 'cane': ['anger', 'fear'],\n",
       " 'canker': ['anger', 'disgust', 'negative'],\n",
       " 'cannibal': ['disgust', 'fear', 'negative'],\n",
       " 'cannibalism': ['disgust', 'negative'],\n",
       " 'cannon': ['anger', 'fear', 'negative'],\n",
       " 'canons': ['trust'],\n",
       " 'cap': ['anticipation', 'trust'],\n",
       " 'capitalist': ['positive'],\n",
       " 'captain': ['positive'],\n",
       " 'captivate': ['anticipation', 'joy', 'positive', 'surprise', 'trust'],\n",
       " 'captivating': ['positive'],\n",
       " 'captive': ['fear', 'negative', 'sadness'],\n",
       " 'captivity': ['negative', 'sadness'],\n",
       " 'captor': ['fear', 'negative'],\n",
       " 'capture': ['negative'],\n",
       " 'carcass': ['disgust', 'fear', 'negative', 'sadness'],\n",
       " 'carcinoma': ['fear', 'negative', 'sadness'],\n",
       " 'cardiomyopathy': ['fear', 'negative', 'sadness'],\n",
       " 'career': ['anticipation', 'positive'],\n",
       " 'careful': ['positive'],\n",
       " 'carefully': ['positive'],\n",
       " 'carelessness': ['anger', 'disgust', 'negative'],\n",
       " 'caress': ['positive'],\n",
       " 'caretaker': ['positive', 'trust'],\n",
       " 'caricature': ['negative'],\n",
       " 'caries': ['disgust', 'negative'],\n",
       " 'carnage': ['anger', 'disgust', 'fear', 'negative', 'sadness', 'surprise'],\n",
       " 'carnal': ['negative'],\n",
       " 'carnivorous': ['fear', 'negative'],\n",
       " 'carol': ['joy', 'positive', 'trust'],\n",
       " 'cartel': ['negative'],\n",
       " 'cartridge': ['fear'],\n",
       " 'cascade': ['positive'],\n",
       " 'case': ['fear', 'negative', 'sadness'],\n",
       " 'cash': ['anger', 'anticipation', 'fear', 'joy', 'positive', 'trust'],\n",
       " 'cashier': ['trust'],\n",
       " 'casket': ['fear', 'negative', 'sadness'],\n",
       " 'caste': ['negative'],\n",
       " 'casualty': ['anger', 'fear', 'negative', 'sadness'],\n",
       " 'cataract': ['anticipation', 'fear', 'negative', 'sadness'],\n",
       " 'catastrophe': ['anger',\n",
       "  'disgust',\n",
       "  'fear',\n",
       "  'negative',\n",
       "  'sadness',\n",
       "  'surprise'],\n",
       " 'catch': ['surprise'],\n",
       " 'catechism': ['disgust'],\n",
       " 'categorical': ['positive'],\n",
       " 'cater': ['positive'],\n",
       " 'cathartic': ['positive'],\n",
       " 'cathedral': ['joy', 'positive', 'trust'],\n",
       " 'catheter': ['negative'],\n",
       " 'caution': ['anger', 'anticipation', 'fear', 'negative'],\n",
       " 'cautionary': ['fear'],\n",
       " 'cautious': ['anticipation', 'fear', 'positive', 'trust'],\n",
       " 'cautiously': ['fear', 'positive'],\n",
       " 'cede': ['negative'],\n",
       " 'celebrated': ['anticipation', 'joy', 'positive'],\n",
       " 'celebrating': ['anticipation', 'joy', 'positive'],\n",
       " 'celebration': ['anticipation', 'joy', 'positive', 'surprise', 'trust'],\n",
       " 'celebrity': ['anger',\n",
       "  'anticipation',\n",
       "  'disgust',\n",
       "  'joy',\n",
       "  'negative',\n",
       "  'positive',\n",
       "  'surprise',\n",
       "  'trust'],\n",
       " 'celestial': ['anticipation', 'joy', 'positive'],\n",
       " 'cement': ['anticipation', 'trust'],\n",
       " 'cemetery': ['fear', 'negative', 'sadness'],\n",
       " 'censor': ['anger', 'disgust', 'fear', 'negative', 'trust'],\n",
       " 'censure': ['negative'],\n",
       " 'center': ['positive', 'trust'],\n",
       " 'centurion': ['positive'],\n",
       " 'cerebral': ['positive'],\n",
       " 'ceremony': ['joy', 'positive', 'surprise'],\n",
       " 'certainty': ['positive'],\n",
       " 'certify': ['trust'],\n",
       " 'cess': ['disgust', 'negative'],\n",
       " 'cessation': ['negative'],\n",
       " 'chaff': ['anger', 'fear', 'negative'],\n",
       " 'chafing': ['negative'],\n",
       " 'chagrin': ['disgust', 'negative', 'sadness'],\n",
       " 'chairman': ['positive', 'trust'],\n",
       " 'chairwoman': ['positive', 'trust'],\n",
       " 'challenge': ['anger', 'fear', 'negative'],\n",
       " 'champion': ['anticipation', 'joy', 'positive', 'trust'],\n",
       " 'chance': ['surprise'],\n",
       " 'chancellor': ['trust'],\n",
       " 'change': ['fear'],\n",
       " 'changeable': ['anticipation', 'surprise'],\n",
       " 'chant': ['anger', 'anticipation', 'joy', 'positive', 'surprise'],\n",
       " 'chaos': ['anger', 'fear', 'negative', 'sadness'],\n",
       " 'chaotic': ['anger', 'negative'],\n",
       " 'chaplain': ['trust'],\n",
       " 'charade': ['negative'],\n",
       " 'chargeable': ['fear', 'negative', 'sadness'],\n",
       " 'charger': ['positive'],\n",
       " 'charitable': ['anticipation', 'joy', 'positive', 'trust'],\n",
       " 'charity': ['joy', 'positive'],\n",
       " 'charm': ['positive'],\n",
       " 'charmed': ['joy', 'negative', 'positive'],\n",
       " 'charming': ['positive'],\n",
       " 'chart': ['trust'],\n",
       " 'chase': ['negative'],\n",
       " 'chasm': ['fear'],\n",
       " 'chastisement': ['negative'],\n",
       " 'chastity': ['anticipation', 'positive', 'trust'],\n",
       " 'chattering': ['positive'],\n",
       " 'chatty': ['negative'],\n",
       " 'cheap': ['negative'],\n",
       " 'cheat': ['anger', 'disgust', 'negative'],\n",
       " 'checklist': ['positive', 'trust'],\n",
       " 'cheer': ['anticipation', 'joy', 'positive', 'surprise', 'trust'],\n",
       " 'cheerful': ['joy', 'positive', 'surprise'],\n",
       " 'cheerfulness': ['anticipation', 'joy', 'positive', 'trust'],\n",
       " 'cheering': ['joy', 'positive'],\n",
       " 'cheery': ['anticipation', 'joy', 'positive'],\n",
       " 'cheesecake': ['negative'],\n",
       " 'chemist': ['positive', 'trust'],\n",
       " 'cherish': ['anticipation', 'joy', 'positive', 'surprise', 'trust'],\n",
       " 'cherry': ['positive'],\n",
       " 'chicane': ['anticipation', 'negative', 'surprise', 'trust'],\n",
       " 'chicken': ['fear'],\n",
       " 'chieftain': ['positive'],\n",
       " 'child': ['anticipation', 'joy', 'positive'],\n",
       " 'childhood': ['joy', 'positive'],\n",
       " 'childish': ['negative'],\n",
       " 'chilly': ['negative'],\n",
       " 'chimera': ['fear', 'surprise'],\n",
       " 'chirp': ['joy', 'positive'],\n",
       " 'chisel': ['positive'],\n",
       " 'chivalry': ['positive'],\n",
       " 'chloroform': ['negative'],\n",
       " 'chocolate': ['anticipation', 'joy', 'positive', 'trust'],\n",
       " 'choice': ['positive'],\n",
       " 'choir': ['joy', 'positive', 'trust'],\n",
       " 'choke': ['anger', 'negative', 'sadness'],\n",
       " 'cholera': ['disgust', 'fear', 'negative', 'sadness'],\n",
       " 'chop': ['negative'],\n",
       " 'choral': ['joy', 'positive'],\n",
       " 'chore': ['negative'],\n",
       " 'chorus': ['positive'],\n",
       " 'chosen': ['positive'],\n",
       " 'chowder': ['positive'],\n",
       " 'chronic': ['negative', 'sadness'],\n",
       " 'chronicle': ['positive', 'trust'],\n",
       " 'chuckle': ['anticipation', 'joy', 'positive', 'surprise', 'trust'],\n",
       " 'church': ['anticipation', 'joy', 'positive', 'trust'],\n",
       " 'cider': ['positive'],\n",
       " 'cigarette': ['negative'],\n",
       " 'circumcision': ['positive'],\n",
       " 'circumvention': ['negative', 'positive'],\n",
       " 'citizen': ['positive'],\n",
       " 'civil': ['positive'],\n",
       " 'civility': ['positive'],\n",
       " 'civilization': ['positive', 'trust'],\n",
       " 'civilized': ['joy', 'positive', 'trust'],\n",
       " 'claimant': ['anger', 'disgust'],\n",
       " 'clairvoyant': ['positive'],\n",
       " 'clamor': ['anger', 'anticipation', 'disgust', 'negative', 'surprise'],\n",
       " 'clan': ['trust'],\n",
       " 'clap': ['anticipation', 'joy', 'positive', 'trust'],\n",
       " 'clarify': ['positive'],\n",
       " 'clash': ['anger', 'negative'],\n",
       " 'clashing': ['anger', 'fear', 'negative'],\n",
       " 'classic': ['positive'],\n",
       " 'classical': ['positive'],\n",
       " 'classics': ['joy', 'positive'],\n",
       " 'classify': ['positive'],\n",
       " 'claw': ['anger', 'fear', 'negative'],\n",
       " 'clean': ['joy', 'positive', 'trust'],\n",
       " 'cleaning': ['positive'],\n",
       " 'cleanliness': ['positive'],\n",
       " 'cleanly': ['positive'],\n",
       " 'cleanse': ['positive'],\n",
       " 'cleansing': ['positive'],\n",
       " 'clearance': ['positive', 'trust'],\n",
       " 'clearness': ['positive'],\n",
       " 'cleave': ['fear'],\n",
       " 'clerical': ['positive', 'trust'],\n",
       " 'clever': ['positive'],\n",
       " 'cleverness': ['positive'],\n",
       " 'cliff': ['fear'],\n",
       " 'climax': ['anticipation', 'joy', 'positive', 'surprise', 'trust'],\n",
       " 'clock': ['anticipation'],\n",
       " 'cloister': ['negative'],\n",
       " 'closeness': ['joy', 'positive', 'trust'],\n",
       " ...}"
      ]
     },
     "execution_count": 11,
     "metadata": {},
     "output_type": "execute_result"
    }
   ],
   "source": [
    "emotion_dict"
   ]
  },
  {
   "cell_type": "markdown",
   "metadata": {},
   "source": [
    "<h4>Functionalize this</h4>"
   ]
  },
  {
   "cell_type": "code",
   "execution_count": 12,
   "metadata": {
    "collapsed": true
   },
   "outputs": [],
   "source": [
    "def get_nrc_data():\n",
    "    nrc = \"data/NRC-emotion-lexicon-wordlevel-alphabetized-v0.92.txt\"\n",
    "    count=0\n",
    "    emotion_dict=dict()\n",
    "    with open(nrc,'r') as f:\n",
    "        all_lines = list()\n",
    "        for line in f:\n",
    "            if count < 46:\n",
    "                count+=1\n",
    "                continue\n",
    "            line = line.strip().split('\\t')\n",
    "            if int(line[2]) == 1:\n",
    "                if emotion_dict.get(line[0]):\n",
    "                    emotion_dict[line[0]].append(line[1])\n",
    "                else:\n",
    "                    emotion_dict[line[0]] = [line[1]]\n",
    "    return emotion_dict"
   ]
  },
  {
   "cell_type": "code",
   "execution_count": 13,
   "metadata": {},
   "outputs": [
    {
     "data": {
      "text/plain": [
       "['anger', 'fear', 'negative', 'sadness']"
      ]
     },
     "execution_count": 13,
     "metadata": {},
     "output_type": "execute_result"
    }
   ],
   "source": [
    "emotion_dict = get_nrc_data()\n",
    "emotion_dict['abandoned']"
   ]
  },
  {
   "cell_type": "markdown",
   "metadata": {},
   "source": [
    "<h1>Yelp API</h1>\n",
    "<li>We'll use data from yelp to figure out useful things about restaurants near Columbia\n",
    "<li>https://www.yelp.com/developers/documentation/v3\n",
    "<li>log into yelp (top right hand corner of the page)\n",
    "<li>Click <span style=\"color:blue\">Create App</span> on the left hand menu bar\n",
    "<li>Enter app info (leave optional stuff blank)\n",
    "<li>Copy the client id and API key to a secure place (this notebook should do the trick or use a text file!)\n",
    "<li>You might need to generate the API key by clicking on Manage App after creating an App. Make sure you get one!"
   ]
  },
  {
   "cell_type": "markdown",
   "metadata": {},
   "source": [
    "<h2>If you can't get the Yelp API to work, scroll down to the cell marked \"YELP FALLBACK\" and use the fallback option to get the data and continue with this exercise!</h2>"
   ]
  },
  {
   "cell_type": "markdown",
   "metadata": {},
   "source": [
    "<h2>Important note</h2>\n",
    "<li>The Yelp API has changed since the video accompanying this lecture was recorded\n",
    "<li>There will be some differences between what the video says and what you see here, particularly when refering to the get_reviews function\n",
    "<li>But they are fairly small and you should be able to figure out what's what\n"
   ]
  },
  {
   "cell_type": "code",
   "execution_count": 14,
   "metadata": {
    "collapsed": true
   },
   "outputs": [],
   "source": [
    "CLIENT_ID = \"\"\n",
    "API_KEY = \"\""
   ]
  },
  {
   "cell_type": "markdown",
   "metadata": {},
   "source": [
    "<h2>I've saved my keys in a file and will use those. Don't run the next cell!</h2>"
   ]
  },
  {
   "cell_type": "code",
   "execution_count": 15,
   "metadata": {
    "collapsed": true
   },
   "outputs": [],
   "source": [
    "with open('data/yelp_fusion.txt','r') as f:\n",
    "    count = 0\n",
    "    for line in f:\n",
    "        if count == 0:\n",
    "            CLIENT_ID = line.strip()\n",
    "        if count == 1:\n",
    "            API_KEY = line.strip()\n",
    "        count+=1\n"
   ]
  },
  {
   "cell_type": "code",
   "execution_count": 16,
   "metadata": {
    "collapsed": true
   },
   "outputs": [],
   "source": [
    "#Check that you have the keys\n",
    "#print(CLIENT_ID,API_KEY)"
   ]
  },
  {
   "cell_type": "code",
   "execution_count": 17,
   "metadata": {
    "collapsed": true
   },
   "outputs": [],
   "source": [
    "# API constants, you shouldn't have to change these.\n",
    "API_HOST = 'https://api.yelp.com' #The API url header\n",
    "SEARCH_PATH = '/v3/businesses/search' #The path for an API request to find businesses\n",
    "BUSINESS_PATH = '/v3/businesses/'  # The path to get data for a single business"
   ]
  },
  {
   "cell_type": "markdown",
   "metadata": {},
   "source": [
    "<h3>Now we can get reviews</h3>\n",
    "<li>get_reviews(location,number=15) returns the reviews of \"number\" (default=15) restaurants in the vicinity of \"location\"\n",
    "<li>First, we'll write a function that gets  restaurants in the vicinity of location\n",
    "\n"
   ]
  },
  {
   "cell_type": "code",
   "execution_count": 18,
   "metadata": {
    "collapsed": true
   },
   "outputs": [],
   "source": [
    "def get_restaurants(api_key,location,number=15):\n",
    "    import requests\n",
    "    \n",
    "    #First we get the access token\n",
    "    #Set up the search data dictionary\n",
    "    search_data = {\n",
    "    'term': \"restaurant\",\n",
    "    'location': location.replace(' ', '+'),\n",
    "    'limit': number\n",
    "    }\n",
    "    url = API_HOST + SEARCH_PATH\n",
    "    headers = {\n",
    "        'Authorization': 'Bearer %s' % api_key,\n",
    "    }\n",
    "    response = requests.request('GET', url, headers=headers, params=search_data).json()\n",
    "    businesses = response.get('businesses')\n",
    "    return businesses"
   ]
  },
  {
   "cell_type": "code",
   "execution_count": 20,
   "metadata": {},
   "outputs": [
    {
     "data": {
      "text/plain": [
       "[{'alias': 'harlem-taco-and-bowl-company-new-york',\n",
       "  'categories': [{'alias': 'latin', 'title': 'Latin American'},\n",
       "   {'alias': 'asianfusion', 'title': 'Asian Fusion'},\n",
       "   {'alias': 'tacos', 'title': 'Tacos'}],\n",
       "  'coordinates': {'latitude': 40.80869, 'longitude': -73.95202},\n",
       "  'display_phone': '(609) 464-4646',\n",
       "  'distance': 893.7727905885778,\n",
       "  'id': '_FrbMrCJQMUEoNiKJA3q_w',\n",
       "  'image_url': 'https://s3-media2.fl.yelpcdn.com/bphoto/QsLIa6DPEPnOLe4o_d0CpA/o.jpg',\n",
       "  'is_closed': False,\n",
       "  'location': {'address1': '2288 Frederick Douglass Blvd',\n",
       "   'address2': '',\n",
       "   'address3': None,\n",
       "   'city': 'New York',\n",
       "   'country': 'US',\n",
       "   'display_address': ['2288 Frederick Douglass Blvd', 'New York, NY 10027'],\n",
       "   'state': 'NY',\n",
       "   'zip_code': '10027'},\n",
       "  'name': 'Harlem Taco & Bowl Company',\n",
       "  'phone': '+16094644646',\n",
       "  'price': '$',\n",
       "  'rating': 4.5,\n",
       "  'review_count': 15,\n",
       "  'transactions': ['delivery', 'pickup'],\n",
       "  'url': 'https://www.yelp.com/biz/harlem-taco-and-bowl-company-new-york?adjust_creative=7A5lajj4qvHSDM97Kg-x4g&utm_campaign=yelp_api_v3&utm_medium=api_v3_business_search&utm_source=7A5lajj4qvHSDM97Kg-x4g'},\n",
       " {'alias': 'il-gatto-nero-new-york',\n",
       "  'categories': [{'alias': 'italian', 'title': 'Italian'},\n",
       "   {'alias': 'salad', 'title': 'Salad'},\n",
       "   {'alias': 'pizza', 'title': 'Pizza'}],\n",
       "  'coordinates': {'latitude': 40.80101, 'longitude': -73.96752},\n",
       "  'display_phone': '(212) 203-9954',\n",
       "  'distance': 841.5464102083622,\n",
       "  'id': 'zGGIbJyhDZQk3y-PbUVdsA',\n",
       "  'image_url': 'https://s3-media1.fl.yelpcdn.com/bphoto/1q_MwLw0O4zsFSD33qyQsg/o.jpg',\n",
       "  'is_closed': False,\n",
       "  'location': {'address1': '2758 Broadway',\n",
       "   'address2': None,\n",
       "   'address3': '',\n",
       "   'city': 'New York',\n",
       "   'country': 'US',\n",
       "   'display_address': ['2758 Broadway', 'New York, NY 10025'],\n",
       "   'state': 'NY',\n",
       "   'zip_code': '10025'},\n",
       "  'name': 'Il Gatto Nero',\n",
       "  'phone': '+12122039954',\n",
       "  'price': '$$$',\n",
       "  'rating': 3.0,\n",
       "  'review_count': 9,\n",
       "  'transactions': ['delivery', 'pickup'],\n",
       "  'url': 'https://www.yelp.com/biz/il-gatto-nero-new-york?adjust_creative=7A5lajj4qvHSDM97Kg-x4g&utm_campaign=yelp_api_v3&utm_medium=api_v3_business_search&utm_source=7A5lajj4qvHSDM97Kg-x4g'},\n",
       " {'alias': 'grain-house-new-york-2',\n",
       "  'categories': [{'alias': 'szechuan', 'title': 'Szechuan'}],\n",
       "  'coordinates': {'latitude': 40.800127673827, 'longitude': -73.9657538384199},\n",
       "  'display_phone': '(212) 531-1130',\n",
       "  'distance': 870.7377051327389,\n",
       "  'id': 'a93NwZxjkPQydJxR42oPyg',\n",
       "  'image_url': 'https://s3-media3.fl.yelpcdn.com/bphoto/I1HqCpQGpp_sLavL78Tm1A/o.jpg',\n",
       "  'is_closed': False,\n",
       "  'location': {'address1': '929 Amsterdam Ave',\n",
       "   'address2': '',\n",
       "   'address3': None,\n",
       "   'city': 'New York',\n",
       "   'country': 'US',\n",
       "   'display_address': ['929 Amsterdam Ave', 'New York, NY 10025'],\n",
       "   'state': 'NY',\n",
       "   'zip_code': '10025'},\n",
       "  'name': 'Grain House',\n",
       "  'phone': '+12125311130',\n",
       "  'rating': 3.5,\n",
       "  'review_count': 12,\n",
       "  'transactions': [],\n",
       "  'url': 'https://www.yelp.com/biz/grain-house-new-york-2?adjust_creative=7A5lajj4qvHSDM97Kg-x4g&utm_campaign=yelp_api_v3&utm_medium=api_v3_business_search&utm_source=7A5lajj4qvHSDM97Kg-x4g'},\n",
       " {'alias': 'marlow-bistro-new-york',\n",
       "  'categories': [{'alias': 'mediterranean', 'title': 'Mediterranean'},\n",
       "   {'alias': 'pizza', 'title': 'Pizza'},\n",
       "   {'alias': 'venues', 'title': 'Venues & Event Spaces'}],\n",
       "  'coordinates': {'latitude': 40.8028109023738,\n",
       "   'longitude': -73.9641991912535},\n",
       "  'display_phone': '(212) 662-9020',\n",
       "  'distance': 547.384365435194,\n",
       "  'id': 'MdFV5IBcX-Ni6I4Zy1EqIw',\n",
       "  'image_url': 'https://s3-media2.fl.yelpcdn.com/bphoto/-t5ApW-QyN6043o3i2gdUQ/o.jpg',\n",
       "  'is_closed': False,\n",
       "  'location': {'address1': '1018 Amsterdam Ave',\n",
       "   'address2': '',\n",
       "   'address3': None,\n",
       "   'city': 'New York',\n",
       "   'country': 'US',\n",
       "   'display_address': ['1018 Amsterdam Ave', 'New York, NY 10025'],\n",
       "   'state': 'NY',\n",
       "   'zip_code': '10025'},\n",
       "  'name': 'Marlow Bistro',\n",
       "  'phone': '+12126629020',\n",
       "  'price': '$$',\n",
       "  'rating': 4.0,\n",
       "  'review_count': 161,\n",
       "  'transactions': ['delivery', 'pickup'],\n",
       "  'url': 'https://www.yelp.com/biz/marlow-bistro-new-york?adjust_creative=7A5lajj4qvHSDM97Kg-x4g&utm_campaign=yelp_api_v3&utm_medium=api_v3_business_search&utm_source=7A5lajj4qvHSDM97Kg-x4g'},\n",
       " {'alias': 'flat-top-new-york',\n",
       "  'categories': [{'alias': 'newamerican', 'title': 'American (New)'},\n",
       "   {'alias': 'cafes', 'title': 'Cafes'},\n",
       "   {'alias': 'breakfast_brunch', 'title': 'Breakfast & Brunch'}],\n",
       "  'coordinates': {'latitude': 40.810041, 'longitude': -73.958693},\n",
       "  'display_phone': '(646) 820-7735',\n",
       "  'distance': 424.3853457755761,\n",
       "  'id': 'E2mNgb479B3BCfwi2G_KdQ',\n",
       "  'image_url': 'https://s3-media1.fl.yelpcdn.com/bphoto/y2YlqtpKU2tciozvngNbsg/o.jpg',\n",
       "  'is_closed': False,\n",
       "  'location': {'address1': '1241 Amsterdam Ave',\n",
       "   'address2': '',\n",
       "   'address3': '',\n",
       "   'city': 'New York',\n",
       "   'country': 'US',\n",
       "   'display_address': ['1241 Amsterdam Ave', 'New York, NY 10027'],\n",
       "   'state': 'NY',\n",
       "   'zip_code': '10027'},\n",
       "  'name': 'Flat Top',\n",
       "  'phone': '+16468207735',\n",
       "  'price': '$$',\n",
       "  'rating': 4.0,\n",
       "  'review_count': 358,\n",
       "  'transactions': ['restaurant_reservation'],\n",
       "  'url': 'https://www.yelp.com/biz/flat-top-new-york?adjust_creative=7A5lajj4qvHSDM97Kg-x4g&utm_campaign=yelp_api_v3&utm_medium=api_v3_business_search&utm_source=7A5lajj4qvHSDM97Kg-x4g'},\n",
       " {'alias': 'pisticci-new-york',\n",
       "  'categories': [{'alias': 'italian', 'title': 'Italian'}],\n",
       "  'coordinates': {'latitude': 40.8141624, 'longitude': -73.960288},\n",
       "  'display_phone': '(212) 932-3500',\n",
       "  'distance': 776.1804413075187,\n",
       "  'id': 'wZkZmjZEJDraLJgAalnHvA',\n",
       "  'image_url': 'https://s3-media4.fl.yelpcdn.com/bphoto/6v6_REhrIdMm03La5RZNfQ/o.jpg',\n",
       "  'is_closed': False,\n",
       "  'location': {'address1': '125 La Salle St',\n",
       "   'address2': '',\n",
       "   'address3': '',\n",
       "   'city': 'New York',\n",
       "   'country': 'US',\n",
       "   'display_address': ['125 La Salle St', 'New York, NY 10027'],\n",
       "   'state': 'NY',\n",
       "   'zip_code': '10027'},\n",
       "  'name': 'Pisticci',\n",
       "  'phone': '+12129323500',\n",
       "  'price': '$$',\n",
       "  'rating': 4.0,\n",
       "  'review_count': 688,\n",
       "  'transactions': ['restaurant_reservation', 'delivery', 'pickup'],\n",
       "  'url': 'https://www.yelp.com/biz/pisticci-new-york?adjust_creative=7A5lajj4qvHSDM97Kg-x4g&utm_campaign=yelp_api_v3&utm_medium=api_v3_business_search&utm_source=7A5lajj4qvHSDM97Kg-x4g'},\n",
       " {'alias': 'b2-harlem-new-york',\n",
       "  'categories': [{'alias': 'seafood', 'title': 'Seafood'},\n",
       "   {'alias': 'wine_bars', 'title': 'Wine Bars'},\n",
       "   {'alias': 'breakfast_brunch', 'title': 'Breakfast & Brunch'}],\n",
       "  'coordinates': {'latitude': 40.80613, 'longitude': -73.95317},\n",
       "  'display_phone': '(212) 280-2248',\n",
       "  'distance': 793.9511026213332,\n",
       "  'id': 'Fl2z1edJw3MONc9rERWRMg',\n",
       "  'image_url': 'https://s3-media2.fl.yelpcdn.com/bphoto/LiKZcRmEjmENv6jf60iSGQ/o.jpg',\n",
       "  'is_closed': False,\n",
       "  'location': {'address1': '271 W 119th St',\n",
       "   'address2': '',\n",
       "   'address3': None,\n",
       "   'city': 'New York',\n",
       "   'country': 'US',\n",
       "   'display_address': ['271 W 119th St', 'New York, NY 10026'],\n",
       "   'state': 'NY',\n",
       "   'zip_code': '10026'},\n",
       "  'name': 'B2 Harlem',\n",
       "  'phone': '+12122802248',\n",
       "  'price': '$$',\n",
       "  'rating': 4.0,\n",
       "  'review_count': 146,\n",
       "  'transactions': ['restaurant_reservation'],\n",
       "  'url': 'https://www.yelp.com/biz/b2-harlem-new-york?adjust_creative=7A5lajj4qvHSDM97Kg-x4g&utm_campaign=yelp_api_v3&utm_medium=api_v3_business_search&utm_source=7A5lajj4qvHSDM97Kg-x4g'},\n",
       " {'alias': 'rdv-rendezvous-new-york-3',\n",
       "  'categories': [{'alias': 'cocktailbars', 'title': 'Cocktail Bars'},\n",
       "   {'alias': 'french', 'title': 'French'},\n",
       "   {'alias': 'desserts', 'title': 'Desserts'}],\n",
       "  'coordinates': {'latitude': 40.802040664408, 'longitude': -73.956772898909},\n",
       "  'display_phone': '(212) 222-8952',\n",
       "  'distance': 783.1277417155325,\n",
       "  'id': '6nnhmOgTeI6QmQS1LhMD9Q',\n",
       "  'image_url': 'https://s3-media3.fl.yelpcdn.com/bphoto/nyYvPx6OSoh7gCXlXwtLsg/o.jpg',\n",
       "  'is_closed': False,\n",
       "  'location': {'address1': '2072 Frederick Douglass Blvd',\n",
       "   'address2': None,\n",
       "   'address3': None,\n",
       "   'city': 'New York',\n",
       "   'country': 'US',\n",
       "   'display_address': ['2072 Frederick Douglass Blvd', 'New York, NY 10026'],\n",
       "   'state': 'NY',\n",
       "   'zip_code': '10026'},\n",
       "  'name': 'RDV Rendezvous',\n",
       "  'phone': '+12122228952',\n",
       "  'price': '$$',\n",
       "  'rating': 4.0,\n",
       "  'review_count': 99,\n",
       "  'transactions': ['restaurant_reservation'],\n",
       "  'url': 'https://www.yelp.com/biz/rdv-rendezvous-new-york-3?adjust_creative=7A5lajj4qvHSDM97Kg-x4g&utm_campaign=yelp_api_v3&utm_medium=api_v3_business_search&utm_source=7A5lajj4qvHSDM97Kg-x4g'},\n",
       " {'alias': 'lolos-seafood-shack-new-york',\n",
       "  'categories': [{'alias': 'seafood', 'title': 'Seafood'},\n",
       "   {'alias': 'bars', 'title': 'Bars'}],\n",
       "  'coordinates': {'latitude': 40.80486, 'longitude': -73.95567},\n",
       "  'display_phone': '(646) 649-3356',\n",
       "  'distance': 650.9380567219152,\n",
       "  'id': 'XOnspIaW6mYVmrvgqOaYSQ',\n",
       "  'image_url': 'https://s3-media3.fl.yelpcdn.com/bphoto/KPT7UUYDhCSfs1E8NUfeKw/o.jpg',\n",
       "  'is_closed': False,\n",
       "  'location': {'address1': '303 W 116th St',\n",
       "   'address2': '',\n",
       "   'address3': '',\n",
       "   'city': 'New York',\n",
       "   'country': 'US',\n",
       "   'display_address': ['303 W 116th St', 'New York, NY 10026'],\n",
       "   'state': 'NY',\n",
       "   'zip_code': '10026'},\n",
       "  'name': \"Lolo's Seafood Shack\",\n",
       "  'phone': '+16466493356',\n",
       "  'price': '$$',\n",
       "  'rating': 4.0,\n",
       "  'review_count': 483,\n",
       "  'transactions': ['delivery', 'pickup', 'restaurant_reservation'],\n",
       "  'url': 'https://www.yelp.com/biz/lolos-seafood-shack-new-york?adjust_creative=7A5lajj4qvHSDM97Kg-x4g&utm_campaign=yelp_api_v3&utm_medium=api_v3_business_search&utm_source=7A5lajj4qvHSDM97Kg-x4g'},\n",
       " {'alias': 'lido-new-york',\n",
       "  'categories': [{'alias': 'italian', 'title': 'Italian'},\n",
       "   {'alias': 'breakfast_brunch', 'title': 'Breakfast & Brunch'},\n",
       "   {'alias': 'cocktailbars', 'title': 'Cocktail Bars'}],\n",
       "  'coordinates': {'latitude': 40.8049797781916,\n",
       "   'longitude': -73.9548260014624},\n",
       "  'display_phone': '(646) 490-8575',\n",
       "  'distance': 709.9515841347533,\n",
       "  'id': 'J9xVQScnr0lYWl61_mLXMA',\n",
       "  'image_url': 'https://s3-media2.fl.yelpcdn.com/bphoto/eAL47KFJilFQxgGNrhhGmg/o.jpg',\n",
       "  'is_closed': False,\n",
       "  'location': {'address1': '2168 Frederick Douglass Blvd',\n",
       "   'address2': '',\n",
       "   'address3': '',\n",
       "   'city': 'New York',\n",
       "   'country': 'US',\n",
       "   'display_address': ['2168 Frederick Douglass Blvd', 'New York, NY 10026'],\n",
       "   'state': 'NY',\n",
       "   'zip_code': '10026'},\n",
       "  'name': 'Lido',\n",
       "  'phone': '+16464908575',\n",
       "  'price': '$$',\n",
       "  'rating': 4.0,\n",
       "  'review_count': 796,\n",
       "  'transactions': [],\n",
       "  'url': 'https://www.yelp.com/biz/lido-new-york?adjust_creative=7A5lajj4qvHSDM97Kg-x4g&utm_campaign=yelp_api_v3&utm_medium=api_v3_business_search&utm_source=7A5lajj4qvHSDM97Kg-x4g'},\n",
       " {'alias': 'blvd-bistro-new-york',\n",
       "  'categories': [{'alias': 'tradamerican', 'title': 'American (Traditional)'},\n",
       "   {'alias': 'soulfood', 'title': 'Soul Food'}],\n",
       "  'coordinates': {'latitude': 40.8058608, 'longitude': -73.9469981},\n",
       "  'display_phone': '(212) 678-6200',\n",
       "  'distance': 1321.478576838226,\n",
       "  'id': 'Z-hDHjP4Eza6BA4G97tzVA',\n",
       "  'image_url': 'https://s3-media1.fl.yelpcdn.com/bphoto/lML0a7MlD13TSsKjD-V_pQ/o.jpg',\n",
       "  'is_closed': False,\n",
       "  'location': {'address1': '239 Lenox Ave',\n",
       "   'address2': '',\n",
       "   'address3': '',\n",
       "   'city': 'New York',\n",
       "   'country': 'US',\n",
       "   'display_address': ['239 Lenox Ave', 'New York, NY 10027'],\n",
       "   'state': 'NY',\n",
       "   'zip_code': '10027'},\n",
       "  'name': 'BLVD Bistro',\n",
       "  'phone': '+12126786200',\n",
       "  'price': '$$',\n",
       "  'rating': 4.0,\n",
       "  'review_count': 544,\n",
       "  'transactions': ['restaurant_reservation'],\n",
       "  'url': 'https://www.yelp.com/biz/blvd-bistro-new-york?adjust_creative=7A5lajj4qvHSDM97Kg-x4g&utm_campaign=yelp_api_v3&utm_medium=api_v3_business_search&utm_source=7A5lajj4qvHSDM97Kg-x4g'},\n",
       " {'alias': 'arco-cafe-new-york',\n",
       "  'categories': [{'alias': 'italian', 'title': 'Italian'}],\n",
       "  'coordinates': {'latitude': 40.7988462, 'longitude': -73.967065},\n",
       "  'display_phone': '(212) 665-0033',\n",
       "  'distance': 1060.2161121465517,\n",
       "  'id': 'f_1BjTChf6bobreSRpqhsw',\n",
       "  'image_url': 'https://s3-media4.fl.yelpcdn.com/bphoto/WMC-GLfLlBaOWcaJhahQLQ/o.jpg',\n",
       "  'is_closed': False,\n",
       "  'location': {'address1': '886 Amsterdam Ave',\n",
       "   'address2': None,\n",
       "   'address3': '',\n",
       "   'city': 'New York',\n",
       "   'country': 'US',\n",
       "   'display_address': ['886 Amsterdam Ave', 'New York, NY 10025'],\n",
       "   'state': 'NY',\n",
       "   'zip_code': '10025'},\n",
       "  'name': 'Arco Cafe',\n",
       "  'phone': '+12126650033',\n",
       "  'price': '$$',\n",
       "  'rating': 4.5,\n",
       "  'review_count': 210,\n",
       "  'transactions': ['delivery', 'pickup', 'restaurant_reservation'],\n",
       "  'url': 'https://www.yelp.com/biz/arco-cafe-new-york?adjust_creative=7A5lajj4qvHSDM97Kg-x4g&utm_campaign=yelp_api_v3&utm_medium=api_v3_business_search&utm_source=7A5lajj4qvHSDM97Kg-x4g'},\n",
       " {'alias': 'belle-harlem-new-york',\n",
       "  'categories': [{'alias': 'newamerican', 'title': 'American (New)'},\n",
       "   {'alias': 'southern', 'title': 'Southern'},\n",
       "   {'alias': 'comfortfood', 'title': 'Comfort Food'}],\n",
       "  'coordinates': {'latitude': 40.8173, 'longitude': -73.94171},\n",
       "  'display_phone': '(347) 819-4076',\n",
       "  'distance': 2059.308722773427,\n",
       "  'id': '8G6H30Krmj8-OHs6hZfT1g',\n",
       "  'image_url': 'https://s3-media1.fl.yelpcdn.com/bphoto/8u9oTOuaxR7q_Hy5mbfzgw/o.jpg',\n",
       "  'is_closed': False,\n",
       "  'location': {'address1': '2363 Adam Clayton Powell Blvd',\n",
       "   'address2': None,\n",
       "   'address3': '',\n",
       "   'city': 'New York',\n",
       "   'country': 'US',\n",
       "   'display_address': ['2363 Adam Clayton Powell Blvd', 'New York, NY 10030'],\n",
       "   'state': 'NY',\n",
       "   'zip_code': '10030'},\n",
       "  'name': 'Belle Harlem',\n",
       "  'phone': '+13478194076',\n",
       "  'price': '$$$',\n",
       "  'rating': 5.0,\n",
       "  'review_count': 76,\n",
       "  'transactions': [],\n",
       "  'url': 'https://www.yelp.com/biz/belle-harlem-new-york?adjust_creative=7A5lajj4qvHSDM97Kg-x4g&utm_campaign=yelp_api_v3&utm_medium=api_v3_business_search&utm_source=7A5lajj4qvHSDM97Kg-x4g'},\n",
       " {'alias': 'la-diagonal-new-york-5',\n",
       "  'categories': [{'alias': 'bars', 'title': 'Bars'},\n",
       "   {'alias': 'newmexican', 'title': 'New Mexican Cuisine'},\n",
       "   {'alias': 'tapas', 'title': 'Tapas Bars'}],\n",
       "  'coordinates': {'latitude': 40.8061, 'longitude': -73.95302},\n",
       "  'display_phone': '(212) 418-1220',\n",
       "  'distance': 814.7926818514202,\n",
       "  'id': '8p1HTzXEcC3TCbLz59xMng',\n",
       "  'image_url': 'https://s3-media2.fl.yelpcdn.com/bphoto/o5CX9OCHQMoHDTstw2W9Pw/o.jpg',\n",
       "  'is_closed': False,\n",
       "  'location': {'address1': '185 St Nicholas Ave',\n",
       "   'address2': None,\n",
       "   'address3': None,\n",
       "   'city': 'New York',\n",
       "   'country': 'US',\n",
       "   'display_address': ['185 St Nicholas Ave', 'New York, NY 10026'],\n",
       "   'state': 'NY',\n",
       "   'zip_code': '10026'},\n",
       "  'name': 'La Diagonal',\n",
       "  'phone': '+12124181220',\n",
       "  'price': '$$',\n",
       "  'rating': 4.0,\n",
       "  'review_count': 106,\n",
       "  'transactions': ['delivery', 'pickup', 'restaurant_reservation'],\n",
       "  'url': 'https://www.yelp.com/biz/la-diagonal-new-york-5?adjust_creative=7A5lajj4qvHSDM97Kg-x4g&utm_campaign=yelp_api_v3&utm_medium=api_v3_business_search&utm_source=7A5lajj4qvHSDM97Kg-x4g'},\n",
       " {'alias': 'koko-wings-new-york',\n",
       "  'categories': [{'alias': 'korean', 'title': 'Korean'},\n",
       "   {'alias': 'chicken_wings', 'title': 'Chicken Wings'}],\n",
       "  'coordinates': {'latitude': 40.8008499, 'longitude': -73.96742},\n",
       "  'display_phone': '(212) 932-7722',\n",
       "  'distance': 849.0378527626017,\n",
       "  'id': 'z28cRtpdfiJfzIp1vkMAwQ',\n",
       "  'image_url': 'https://s3-media3.fl.yelpcdn.com/bphoto/kF-d6RK04WzBQjlpmCXJJA/o.jpg',\n",
       "  'is_closed': False,\n",
       "  'location': {'address1': '248 W 106th St',\n",
       "   'address2': None,\n",
       "   'address3': '',\n",
       "   'city': 'New York',\n",
       "   'country': 'US',\n",
       "   'display_address': ['248 W 106th St', 'New York, NY 10025'],\n",
       "   'state': 'NY',\n",
       "   'zip_code': '10025'},\n",
       "  'name': 'Koko Wings',\n",
       "  'phone': '+12129327722',\n",
       "  'price': '$$',\n",
       "  'rating': 3.5,\n",
       "  'review_count': 250,\n",
       "  'transactions': ['delivery', 'pickup'],\n",
       "  'url': 'https://www.yelp.com/biz/koko-wings-new-york?adjust_creative=7A5lajj4qvHSDM97Kg-x4g&utm_campaign=yelp_api_v3&utm_medium=api_v3_business_search&utm_source=7A5lajj4qvHSDM97Kg-x4g'}]"
      ]
     },
     "execution_count": 20,
     "metadata": {},
     "output_type": "execute_result"
    }
   ],
   "source": [
    "get_restaurants(API_KEY,\"Columbia University, New York, NY\")"
   ]
  },
  {
   "cell_type": "markdown",
   "metadata": {},
   "source": [
    "<h4>Then a function that, given a business id, returns a string containing the reviews</h4>\n"
   ]
  },
  {
   "cell_type": "code",
   "execution_count": 21,
   "metadata": {
    "collapsed": true
   },
   "outputs": [],
   "source": [
    "def get_business_review(api_key,business_id):\n",
    "    import json\n",
    "    import requests\n",
    "    business_path = BUSINESS_PATH + business_id+\"/reviews\"\n",
    "    url = API_HOST + business_path\n",
    "\n",
    "    headers = {\n",
    "        'Authorization': 'Bearer %s' % api_key,\n",
    "    }\n",
    "\n",
    "\n",
    "    response = requests.request('GET', url, headers=headers).json()\n",
    "   \n",
    "    review_text = ''\n",
    "    for review in response['reviews']:\n",
    "        review_text += review['text']\n",
    "    return review_text"
   ]
  },
  {
   "cell_type": "code",
   "execution_count": 22,
   "metadata": {},
   "outputs": [
    {
     "data": {
      "text/plain": [
       "\"If I didn't get it wrong, brunch is available till 3:30pm on weekends. We got there at 2pm, waited about 5-10min and got seated, so I think reservation...I like the food here... but have to give a poor rating because I had an absolutely horrible experience with the serving staff tonight. I enjoyed coming here...Came here after the Harlem Arts Festival with my family. There were 5 of us total. The place was fully packed for brunch at about 2pm. The place is also...\""
      ]
     },
     "execution_count": 22,
     "metadata": {},
     "output_type": "execute_result"
    }
   ],
   "source": [
    "get_business_review(API_KEY,'flat-top-new-york')"
   ]
  },
  {
   "cell_type": "markdown",
   "metadata": {},
   "source": [
    "<h4>Finally, put all this together to get review data for the set of restaurants</h4>\n"
   ]
  },
  {
   "cell_type": "code",
   "execution_count": 23,
   "metadata": {
    "collapsed": true
   },
   "outputs": [],
   "source": [
    "def get_reviews(location,number=15):\n",
    "\n",
    "    restaurants = get_restaurants(API_KEY,location,number)\n",
    "\n",
    "    if not restaurants:\n",
    "        return None\n",
    "    review_list = list()\n",
    "    for restaurant in restaurants:\n",
    "        restaurant_name = restaurant['name']\n",
    "        restaurant_id = restaurant['id']\n",
    "        review_text = get_business_review(API_KEY,restaurant_id)\n",
    "        \n",
    "        review_list.append((restaurant_id,restaurant_name,review_text))\n",
    "    return review_list\n",
    "        \n"
   ]
  },
  {
   "cell_type": "code",
   "execution_count": 24,
   "metadata": {
    "collapsed": true
   },
   "outputs": [],
   "source": [
    "all_snippets = get_reviews(\"Columbia University, New York, NY\")"
   ]
  },
  {
   "cell_type": "code",
   "execution_count": 25,
   "metadata": {},
   "outputs": [
    {
     "data": {
      "text/plain": [
       "('_FrbMrCJQMUEoNiKJA3q_w',\n",
       " 'Harlem Taco & Bowl Company',\n",
       " 'Harlem Taco & Bowl Company is new to the scene in Harlem. Got to try one of their massive bowls this evening.\\n\\nThe staff was super friendly and helped me...I ordered \"The Basic Taco\" and a side of chips and guacamole for delivery and it came quicker than the  estimated time! \\n\\nThe sauce on the tacos was...Just another one of your Chipotle spin-off restaurants. The best starting ingredients to mix in to one of your bowls are the jasmine rice (they add some...')"
      ]
     },
     "execution_count": 25,
     "metadata": {},
     "output_type": "execute_result"
    }
   ],
   "source": [
    "#Check to see if we got all the reviews\n",
    "type(all_snippets)\n",
    "all_snippets[0]"
   ]
  },
  {
   "cell_type": "markdown",
   "metadata": {},
   "source": [
    "<h2>YELP FALLBACK</h2>\n",
    "<li>Make sure you've downloaded the file \"yelp_data.pickle\" (look under files for Text Mining)\n",
    "<li>Make sure it is in the same directory as your notebook\n",
    "<li>Then run the next cell"
   ]
  },
  {
   "cell_type": "code",
   "execution_count": 26,
   "metadata": {},
   "outputs": [
    {
     "data": {
      "text/plain": [
       "[('elmas-new-york',\n",
       "  \"Elma's\",\n",
       "  'Jimmy is the best!  Very kind and generous portions.  I am vegan and they have lots of good stuff to offer, including healthy cookies.  Their customer...Upon visiting Harlem after 10yrs I was TRULY delighted to see there was now  a \"juice spot\" in my old neighborhood. I initially just looked in as I was...WHAT A GEM IN HARLEM! RUN, don\\'t walk, TO THIS PLACE! \\n\\nThe son & mother duo make your meals, smoothies and juices with SUCH LOVE!\\n\\nSuch an intimate setting...'),\n",
       " ('lolos-seafood-shack-new-york',\n",
       "  \"Lolo's Seafood Shack\",\n",
       "  'The subtle entrance is right near the 116 street  C train stop.   They have a well put together image and delicious grub.\\n\\nI was a bit suprised when I...\"Hmm, that was interesting...looks like in order for us to get to Manhattan we\\'ll have to deal with some insane shutdowns and reroutes on the subway this...So Yelp recommends this place in Harlem near the Hamilton House. It\\'s a combination Caribbean and Cape Cod fusion place, so of course we had to check it...'),\n",
       " ('flat-top-new-york',\n",
       "  'Flat Top',\n",
       "  'Came here after the Harlem Arts Festival with my family. There were 5 of us total. The place was fully packed for brunch at about 2pm. The place is also...Returned for dinner and had a fantastic experience. Started with a decent margarita then had:\\n\\n+ The bone marrow, which at something like $11-12, has to be...A super cute brunch spot on the UWS. \\n\\nWe came in around 2PM on Sunday. It was pretty packed but we got seated at the bar right away. We ordered gronola and...'),\n",
       " ('friedmans-new-york-62',\n",
       "  \"Friedman's\",\n",
       "  \"Yum!\\n\\nLove this place. It's cute and cozy and the food is great. I love the fish tacos (yay for Sriracha mayo).Food is a solid 3 stars with a star knocked off for poor service. \\n \\nWent around 11am for brunch and it was half full. Menu offerings is not impressive....This place is definitely a popular brunch spot with the Columbia crowd! My group was really lucky to get seated when we arrived. I LOVE that fact that they...\"),\n",
       " ('b2-harlem-new-york',\n",
       "  'B2 Harlem',\n",
       "  'Absolutely magnificent. We loved everything about B2 Harlem . The Food was exceptional, our staff was great , the ambiance and the music spot on. We are...I guess this place must be very new, but they are lacking wait staff and organization. I was brought the brunch menu as I came in for dinner. The manager or...The food was absolutely amazing but for some reason after literally an hour of all you can drink mimosa (two hours) we stopped getting mimosa. Even the...'),\n",
       " ('amy-ruths-new-york',\n",
       "  \"Amy Ruth's\",\n",
       "  'Food was great, but only four stars due to extremely slow service. The server was nice, but it took 15 minutes for someone to take our drink order, another...Had a bad experience here on Christmas Day   My guests & I waited over an hour for someone to take our order.  The waitress seemed more fixated on a table...It was ooooooook\\n\\nI remember coming here almost every month a while ago (8 years in the past) and I really enjoyed the place. Jump forward a few years and I...'),\n",
       " ('seak-edgewater-3',\n",
       "  'SEAK',\n",
       "  \"We were seated fairly quickly on Friday night. The place has a spacious seating hall and some areas have a good view. The staff is attentive and friendly....Definitely fusion. If your looking for authentic cuisine, you can skip this. Ordered take out, about 30 minutes before closing time. my wife and I ordered...We have eaten here 3 times since they opened and gotten take out on numerous occasions. It's a nice addition to the neighborhood. We previously went to...\"),\n",
       " ('clay-new-york-3',\n",
       "  'Clay',\n",
       "  'Freshly made- locally sourced- friendly staff- delicious food.\\n\\nThis is a really easy place to go with a group or alone. Beautiful neighborhood surrounded...Needed to grab a bite before I headed to Wakanda. I was struggling to find a manly word to describe this place but F it... it is CUTE. Still hard for me to...I am eternally grateful for the foodie couple at my gym who recommended Clay. I never would have known about it otherwise. Living on the UWS, I pretty much...'),\n",
       " ('la-salle-dumpling-room-new-york',\n",
       "  'La Salle Dumpling Room',\n",
       "  \"I really miss my mom's cooking and this place hits the spot. We ordered the pork xiao long bao (soup dumplings), beef wrapped in scallion pancake, beef...My husband and I love this place, we both work nearby, at the conservatory and we used to go there every time we had a chance. Many times we went there we...8.30pm i put in my order\\n8.59pm still no food.\\nSo they forgot to put my order in so waiting for 30 minutes now on my mofo dumplings. Very curious if they...\"),\n",
       " ('thai-market-new-york',\n",
       "  'Thai Market',\n",
       "  'Decent Thai food but nothing too special. There was a weird smell in the restaurant while we were eating (one of the bathrooms was under construction) which...Never got past the gate keepers at the front desk.  \\n\\nI was meeting someone at 6:00 and arrived 15 minutes early.  The restaurant was nearly empty - only a...Thai Market is a gem on the UWS. Their food is reasonably priced and the portions are filling - you will probably even need to take a to-go box home for all...'),\n",
       " ('junzi-kitchen-new-york',\n",
       "  'Junzi Kitchen',\n",
       "  \"This is an update - \\nA couple of weeks ago I found an invite in the newsletter about the monthly dinners curated by Chef Lucas. I was curious and bought...Came here around 11:30PM, there aren't many restaurants open at late night around the neighborhood. So it's always nice to have a spot like this that you...Yummy fast casual dining featuring noodle bowls and bings. With healthy toppings and a delicious assortment of Chinese beverages, this place is putting a...\"),\n",
       " ('pisticci-new-york',\n",
       "  'Pisticci',\n",
       "  \"Easily best Italian restaurant in upper west!\\n\\nThey have jazz playing every Sunday night. The place is huge, you can actually walk in and get a seat on...A lovely bistro in the Columbia University area. The food is hearty Italian, usually with excellent specials. \\n\\nHomemade mozzarella is TDF. Wine list could...I've lived in the neighborhood for 8 years, and sadly this place has really fallen off. Had the Pisticci pomodoro tonight and it was under sauced. A few...\"),\n",
       " ('belle-harlem-new-york',\n",
       "  'Belle Harlem',\n",
       "  \"What an amazingly warm and special place. Co-owners Daryl and Melissa have created this special space to feel like a dinner-party, so there are only 12...What an amazing and fun experience!  It's like being in your friend's kitchen, watching them cook for you. Excellent food, cooked and plated to perfection....Wow! In short, everything was delicious and the staff was very friendly.\\n\\nFood:\\nMac & cheese spring rolls - so good. Make sure to get a bite of the bacon...\"),\n",
       " ('babbalucci-new-york',\n",
       "  'Babbalucci',\n",
       "  \"I've been to Babbalucci's several times and each visit is always just as good as the last. Let's get into it...\\n\\nDecor: Babba's is a small, clean, dimly...My boyfriend and I came here for our Valentine's day dinner... they wouldn't take a reservation (they only take them for parties of more than 4 I believe),...Came here on a Whim around 11:30 thinking we would be able to have drinks and a light meal after finishing work at 10pm. Every restaurant/lounge along Lenox...\"),\n",
       " ('lido-new-york',\n",
       "  'Lido',\n",
       "  \"Had dinner at Lido yesterday and we had very good experience. The atmosphere is very nice, the food was good and the service was absolutely outstanding....Such a nice place and a wonderful addition to this beautiful neighborhood. The inside is very simple, clean, yet elegant. Menu is not overloaded with boring...I came in to celebrate my co-worker's birthday for brunch. This spot is pretty great. From the outside it looks like a small spot but in the inside it is...\")]"
      ]
     },
     "execution_count": 26,
     "metadata": {},
     "output_type": "execute_result"
    }
   ],
   "source": [
    "import pickle\n",
    "with open ('yelp_data.pickle', 'rb') as fp:\n",
    "    all_snippets = pickle.load(fp)\n",
    "#test that it has loaded correctly\n",
    "all_snippets"
   ]
  },
  {
   "cell_type": "markdown",
   "metadata": {},
   "source": [
    "<h2>A function that analyzes emotions</h2>"
   ]
  },
  {
   "cell_type": "code",
   "execution_count": 27,
   "metadata": {
    "collapsed": true
   },
   "outputs": [],
   "source": [
    "def emotion_analyzer(text,emotion_dict=emotion_dict):\n",
    "    #Set up the result dictionary\n",
    "    emotions = {x for y in emotion_dict.values() for x in y}\n",
    "    emotion_count = dict()\n",
    "    for emotion in emotions:\n",
    "        emotion_count[emotion] = 0\n",
    "\n",
    "    #Analyze the text and normalize by total number of words\n",
    "    total_words = len(text.split())\n",
    "    for word in text.split():\n",
    "        if emotion_dict.get(word):\n",
    "            for emotion in emotion_dict.get(word):\n",
    "                emotion_count[emotion] += 1/len(text.split())\n",
    "    return emotion_count"
   ]
  },
  {
   "cell_type": "code",
   "execution_count": 28,
   "metadata": {
    "collapsed": true,
    "scrolled": true
   },
   "outputs": [],
   "source": [
    "#emotion_dict.values()"
   ]
  },
  {
   "cell_type": "code",
   "execution_count": 29,
   "metadata": {},
   "outputs": [
    {
     "data": {
      "text/plain": [
       "{'anger': 0,\n",
       " 'anticipation': 0,\n",
       " 'disgust': 0,\n",
       " 'fear': 0,\n",
       " 'joy': 0,\n",
       " 'negative': 0,\n",
       " 'positive': 0,\n",
       " 'sadness': 0,\n",
       " 'surprise': 0,\n",
       " 'trust': 0}"
      ]
     },
     "execution_count": 29,
     "metadata": {},
     "output_type": "execute_result"
    }
   ],
   "source": [
    "emotions = {x for y in emotion_dict.values() for x in y}\n",
    "emotions\n",
    "# type(emotions)\n",
    "emotion_count = dict()\n",
    "for emotion in emotions:\n",
    "    emotion_count[emotion] = 0\n",
    "emotion_count"
   ]
  },
  {
   "cell_type": "code",
   "execution_count": 30,
   "metadata": {},
   "outputs": [
    {
     "data": {
      "text/plain": [
       "0.011904761904761904"
      ]
     },
     "execution_count": 30,
     "metadata": {},
     "output_type": "execute_result"
    }
   ],
   "source": [
    "text = get_business_review(API_KEY,'flat-top-new-york')\n",
    "total_words = len(text.split())\n",
    "1/total_words"
   ]
  },
  {
   "cell_type": "code",
   "execution_count": 31,
   "metadata": {
    "scrolled": true
   },
   "outputs": [
    {
     "name": "stdout",
     "output_type": "stream",
     "text": [
      "If\n",
      "Have not found this key\n"
     ]
    },
    {
     "data": {
      "text/plain": [
       "['joy', 'positive']"
      ]
     },
     "execution_count": 31,
     "metadata": {},
     "output_type": "execute_result"
    }
   ],
   "source": [
    "print(text.split()[0])\n",
    "print(emotion_dict.get(text.split()[0], 'Have not found this key'))\n",
    "emotion_dict.get('joy')"
   ]
  },
  {
   "cell_type": "code",
   "execution_count": 32,
   "metadata": {},
   "outputs": [
    {
     "data": {
      "text/plain": [
       "{'anger',\n",
       " 'anticipation',\n",
       " 'disgust',\n",
       " 'fear',\n",
       " 'joy',\n",
       " 'negative',\n",
       " 'positive',\n",
       " 'sadness',\n",
       " 'surprise',\n",
       " 'trust'}"
      ]
     },
     "execution_count": 32,
     "metadata": {},
     "output_type": "execute_result"
    }
   ],
   "source": [
    "emotions = set()\n",
    "for y in emotion_dict.values():\n",
    "    for x in y:\n",
    "        emotions.add(x)\n",
    "emotions"
   ]
  },
  {
   "cell_type": "markdown",
   "metadata": {},
   "source": [
    "<h4>Now we can analyze the emotional content of the review snippets</h4>"
   ]
  },
  {
   "cell_type": "code",
   "execution_count": 33,
   "metadata": {},
   "outputs": [
    {
     "name": "stdout",
     "output_type": "stream",
     "text": [
      "restaurant   fear\ttrust negative positive joy   disgust anticip sadness surprise\n",
      "Elma's       0.00\t0.06\t0.01\t0.10\t0.07\t0.00\t0.05\t0.01\t0.02\n",
      "Lolo's Sea   0.01\t0.01\t0.01\t0.04\t0.02\t0.00\t0.01\t0.00\t0.01\n",
      "Flat Top     0.00\t0.02\t0.00\t0.06\t0.01\t0.00\t0.01\t0.00\t0.00\n",
      "Friedman's   0.00\t0.04\t0.00\t0.08\t0.05\t0.00\t0.01\t0.00\t0.01\n",
      "B2 Harlem    0.00\t0.01\t0.02\t0.04\t0.02\t0.00\t0.01\t0.01\t0.01\n",
      "Amy Ruth's   0.01\t0.00\t0.01\t0.01\t0.00\t0.01\t0.01\t0.01\t0.00\n",
      "SEAK         0.00\t0.05\t0.01\t0.06\t0.03\t0.00\t0.01\t0.00\t0.01\n",
      "Clay         0.00\t0.04\t0.02\t0.07\t0.04\t0.00\t0.04\t0.00\t0.00\n",
      "La Salle D   0.00\t0.00\t0.00\t0.01\t0.01\t0.00\t0.02\t0.00\t0.00\n",
      "Thai Marke   0.00\t0.03\t0.02\t0.03\t0.03\t0.02\t0.00\t0.00\t0.00\n",
      "Junzi Kitc   0.00\t0.03\t0.01\t0.05\t0.04\t0.00\t0.01\t0.01\t0.01\n",
      "Pisticci     0.00\t0.04\t0.01\t0.04\t0.04\t0.00\t0.03\t0.03\t0.01\n",
      "Belle Harl   0.00\t0.00\t0.03\t0.06\t0.06\t0.00\t0.01\t0.00\t0.01\n",
      "Babbalucci   0.00\t0.01\t0.00\t0.02\t0.01\t0.00\t0.01\t0.00\t0.01\n",
      "Lido         0.00\t0.06\t0.01\t0.10\t0.09\t0.00\t0.05\t0.00\t0.05\n"
     ]
    }
   ],
   "source": [
    "print(\"%-12s %1s\\t%1s %1s %1s %1s   %1s %1s %1s %1s\"%(\n",
    "        \"restaurant\",\"fear\",\"trust\",\"negative\",\"positive\",\"joy\",\"disgust\",\"anticip\",\n",
    "        \"sadness\",\"surprise\"))\n",
    "        \n",
    "for snippet in all_snippets:\n",
    "    text = snippet[2]\n",
    "    result = emotion_analyzer(text)\n",
    "    print(\"%-12s %1.2f\\t%1.2f\\t%1.2f\\t%1.2f\\t%1.2f\\t%1.2f\\t%1.2f\\t%1.2f\\t%1.2f\"%(\n",
    "        snippet[1][0:10],result['fear'],result['trust'],\n",
    "          result['negative'],result['positive'],result['joy'],result['disgust'],\n",
    "          result['anticipation'],result['sadness'],result['surprise']))\n"
   ]
  },
  {
   "cell_type": "markdown",
   "metadata": {},
   "source": [
    "<h4>Let's functionalize this</h4>"
   ]
  },
  {
   "cell_type": "code",
   "execution_count": 34,
   "metadata": {},
   "outputs": [
    {
     "name": "stdout",
     "output_type": "stream",
     "text": [
      "restaurant           fear\ttrust negative positive joy   disgust anticip sadness surprise\n",
      "Elma's               0.00\t0.06\t0.01\t0.10\t0.07\t0.00\t0.05\t0.01\t0.02\n",
      "Lolo's Seafood Shack 0.01\t0.01\t0.01\t0.04\t0.02\t0.00\t0.01\t0.00\t0.01\n",
      "Flat Top             0.00\t0.02\t0.00\t0.06\t0.01\t0.00\t0.01\t0.00\t0.00\n",
      "Friedman's           0.00\t0.04\t0.00\t0.08\t0.05\t0.00\t0.01\t0.00\t0.01\n",
      "B2 Harlem            0.00\t0.01\t0.02\t0.04\t0.02\t0.00\t0.01\t0.01\t0.01\n",
      "Amy Ruth's           0.01\t0.00\t0.01\t0.01\t0.00\t0.01\t0.01\t0.01\t0.00\n",
      "SEAK                 0.00\t0.05\t0.01\t0.06\t0.03\t0.00\t0.01\t0.00\t0.01\n",
      "Clay                 0.00\t0.04\t0.02\t0.07\t0.04\t0.00\t0.04\t0.00\t0.00\n",
      "La Salle Dumpling Ro 0.00\t0.00\t0.00\t0.01\t0.01\t0.00\t0.02\t0.00\t0.00\n",
      "Thai Market          0.00\t0.03\t0.02\t0.03\t0.03\t0.02\t0.00\t0.00\t0.00\n",
      "Junzi Kitchen        0.00\t0.03\t0.01\t0.05\t0.04\t0.00\t0.01\t0.01\t0.01\n",
      "Pisticci             0.00\t0.04\t0.01\t0.04\t0.04\t0.00\t0.03\t0.03\t0.01\n",
      "Belle Harlem         0.00\t0.00\t0.03\t0.06\t0.06\t0.00\t0.01\t0.00\t0.01\n",
      "Babbalucci           0.00\t0.01\t0.00\t0.02\t0.01\t0.00\t0.01\t0.00\t0.01\n",
      "Lido                 0.00\t0.06\t0.01\t0.10\t0.09\t0.00\t0.05\t0.00\t0.05\n"
     ]
    }
   ],
   "source": [
    "def comparative_emotion_analyzer(text_tuples):\n",
    "    print(\"%-20s %1s\\t%1s %1s %1s %1s   %1s %1s %1s %1s\"%(\n",
    "            \"restaurant\",\"fear\",\"trust\",\"negative\",\"positive\",\"joy\",\"disgust\",\"anticip\",\n",
    "            \"sadness\",\"surprise\"))\n",
    "        \n",
    "    for text_tuple in text_tuples:\n",
    "        text = text_tuple[2] \n",
    "        result = emotion_analyzer(text)\n",
    "        print(\"%-20s %1.2f\\t%1.2f\\t%1.2f\\t%1.2f\\t%1.2f\\t%1.2f\\t%1.2f\\t%1.2f\\t%1.2f\"%(\n",
    "            text_tuple[1][0:20],result['fear'],result['trust'],\n",
    "              result['negative'],result['positive'],result['joy'],result['disgust'],\n",
    "              result['anticipation'],result['sadness'],result['surprise']))\n",
    "        \n",
    "#And test it        \n",
    "comparative_emotion_analyzer(all_snippets)"
   ]
  },
  {
   "cell_type": "markdown",
   "metadata": {},
   "source": [
    "<h4>And let's functionalize the yelp stuff as well</h4>\n",
    "<li>Comment out the line get_reviews(address,number) if the yelp api is not working for you"
   ]
  },
  {
   "cell_type": "code",
   "execution_count": 35,
   "metadata": {},
   "outputs": [
    {
     "name": "stdout",
     "output_type": "stream",
     "text": [
      "restaurant           fear\ttrust negative positive joy   disgust anticip sadness surprise\n",
      "Harlem Taco & Bowl C 0.00\t0.01\t0.00\t0.02\t0.01\t0.00\t0.02\t0.00\t0.00\n",
      "Il Gatto Nero        0.02\t0.01\t0.01\t0.03\t0.02\t0.01\t0.00\t0.00\t0.01\n",
      "Grain House          0.00\t0.02\t0.00\t0.01\t0.00\t0.00\t0.01\t0.00\t0.00\n",
      "Marlow Bistro        0.01\t0.05\t0.00\t0.07\t0.05\t0.00\t0.02\t0.00\t0.02\n",
      "Flat Top             0.02\t0.02\t0.02\t0.02\t0.01\t0.01\t0.01\t0.01\t0.00\n",
      "RDV Rendezvous       0.01\t0.03\t0.01\t0.04\t0.03\t0.01\t0.00\t0.01\t0.00\n",
      "Pisticci             0.01\t0.03\t0.00\t0.05\t0.05\t0.00\t0.03\t0.00\t0.01\n",
      "Arco Cafe            0.00\t0.07\t0.00\t0.08\t0.06\t0.00\t0.02\t0.01\t0.03\n",
      "B2 Harlem            0.00\t0.02\t0.02\t0.06\t0.02\t0.00\t0.02\t0.01\t0.01\n",
      "Lolo's Seafood Shack 0.00\t0.04\t0.00\t0.04\t0.02\t0.00\t0.01\t0.00\t0.00\n",
      "Koko Wings           0.01\t0.02\t0.05\t0.01\t0.01\t0.00\t0.01\t0.01\t0.01\n",
      "Rebecca's            0.01\t0.03\t0.00\t0.05\t0.04\t0.00\t0.05\t0.01\t0.04\n",
      "Lido                 0.00\t0.03\t0.00\t0.05\t0.04\t0.00\t0.05\t0.00\t0.03\n",
      "BLVD Bistro          0.00\t0.05\t0.01\t0.06\t0.05\t0.01\t0.02\t0.00\t0.01\n",
      "Thai Market          0.00\t0.03\t0.03\t0.04\t0.01\t0.03\t0.00\t0.00\t0.00\n"
     ]
    }
   ],
   "source": [
    "def analyze_nearby_restaurants(address,number=15):\n",
    "    snippets = get_reviews(address,number)\n",
    "    comparative_emotion_analyzer(snippets)\n",
    "\n",
    "#And test it    \n",
    "analyze_nearby_restaurants(\"Community Food and Juice, New York, NY\",15)"
   ]
  },
  {
   "cell_type": "code",
   "execution_count": 36,
   "metadata": {
    "scrolled": false
   },
   "outputs": [
    {
     "name": "stdout",
     "output_type": "stream",
     "text": [
      "restaurant           fear\ttrust negative positive joy   disgust anticip sadness surprise\n",
      "Sweet Nola's         0.00\t0.04\t0.00\t0.08\t0.06\t0.00\t0.04\t0.00\t0.01\n",
      "Bonnie Blue          0.01\t0.01\t0.01\t0.01\t0.01\t0.01\t0.00\t0.01\t0.00\n",
      "The Butcher Station  0.00\t0.01\t0.00\t0.06\t0.04\t0.00\t0.01\t0.00\t0.00\n",
      "Steamy's Cafe        0.00\t0.04\t0.00\t0.06\t0.05\t0.00\t0.02\t0.00\t0.01\n",
      "Oak Stone Craft Pizz 0.00\t0.05\t0.01\t0.05\t0.03\t0.00\t0.07\t0.00\t0.01\n",
      "Skrimp Shack         0.00\t0.00\t0.00\t0.04\t0.01\t0.00\t0.00\t0.00\t0.00\n",
      "Up In Smoke BBQ      0.00\t0.05\t0.00\t0.05\t0.00\t0.00\t0.00\t0.00\t0.00\n",
      "Neighborhood Italian 0.04\t0.04\t0.02\t0.05\t0.04\t0.00\t0.01\t0.00\t0.01\n",
      "Apple Valley Cafe    0.00\t0.04\t0.01\t0.06\t0.04\t0.00\t0.02\t0.00\t0.01\n",
      "Chopped Corner Tacos 0.00\t0.00\t0.00\t0.04\t0.00\t0.00\t0.00\t0.00\t0.00\n",
      "Violino Ristorante I 0.00\t0.00\t0.01\t0.01\t0.00\t0.00\t0.03\t0.00\t0.00\n",
      "La Niçoise Cafe      0.00\t0.01\t0.01\t0.04\t0.02\t0.01\t0.00\t0.01\t0.00\n",
      "Roma's Old Town Wood 0.00\t0.01\t0.01\t0.04\t0.01\t0.01\t0.01\t0.01\t0.00\n",
      "Sexi-Mexi Burrito Ba 0.00\t0.02\t0.00\t0.06\t0.01\t0.00\t0.01\t0.00\t0.01\n",
      "Village Market & Bis 0.00\t0.07\t0.01\t0.09\t0.08\t0.00\t0.04\t0.00\t0.02\n"
     ]
    }
   ],
   "source": [
    "#Test it on some other place\n",
    "#This won't work if your yelp api is not working!\n",
    "analyze_nearby_restaurants(\"221 Baker Street\",15)"
   ]
  },
  {
   "cell_type": "code",
   "execution_count": 37,
   "metadata": {
    "collapsed": true,
    "scrolled": true
   },
   "outputs": [],
   "source": [
    "#analyze_nearby_restaurants(\"Cornell University, New York, NY\",15)"
   ]
  },
  {
   "cell_type": "markdown",
   "metadata": {},
   "source": [
    "<h2>Simple analysis: Word Clouds</h2>"
   ]
  },
  {
   "cell_type": "markdown",
   "metadata": {},
   "source": [
    "<h4>Let's see what sort of words the snippets use</h4>\n",
    "<li>First we'll combine all snippets into one string\n",
    "<li>Then we'll generate a word cloud using the words in the string\n",
    "<li>You may need to install wordcloud using pip\n",
    "<li>pip install wordcloud"
   ]
  },
  {
   "cell_type": "code",
   "execution_count": 38,
   "metadata": {
    "collapsed": true
   },
   "outputs": [],
   "source": [
    "#!pip install wordcloud"
   ]
  },
  {
   "cell_type": "code",
   "execution_count": 39,
   "metadata": {
    "collapsed": true,
    "scrolled": true
   },
   "outputs": [],
   "source": [
    "#all_snippets"
   ]
  },
  {
   "cell_type": "code",
   "execution_count": 40,
   "metadata": {},
   "outputs": [
    {
     "data": {
      "text/plain": [
       "'Jimmy is the best!  Very kind and generous portions.  I am vegan and they have lots of good stuff to offer, including healthy cookies.  Their customer...Upon visiting Harlem after 10yrs I was TRULY delighted to see there was now  a \"juice spot\" in my old neighborhood. I initially just looked in as I was...WHAT A GEM IN HARLEM! RUN, don\\'t walk, TO THIS PLACE! \\n\\nThe son & mother duo make your meals, smoothies and juices with SUCH LOVE!\\n\\nSuch an intimate setting...The subtle entrance is right near the 116 street  C train stop.   They have a well put together image and delicious grub.\\n\\nI was a bit suprised when I...\"Hmm, that was interesting...looks like in order for us to get to Manhattan we\\'ll have to deal with some insane shutdowns and reroutes on the subway this...So Yelp recommends this place in Harlem near the Hamilton House. It\\'s a combination Caribbean and Cape Cod fusion place, so of course we had to check it...Came here after the Harlem Arts Festival with my family. There were 5 of us total. The place was fully packed for brunch at about 2pm. The place is also...Returned for dinner and had a fantastic experience. Started with a decent margarita then had:\\n\\n+ The bone marrow, which at something like $11-12, has to be...A super cute brunch spot on the UWS. \\n\\nWe came in around 2PM on Sunday. It was pretty packed but we got seated at the bar right away. We ordered gronola and...Yum!\\n\\nLove this place. It\\'s cute and cozy and the food is great. I love the fish tacos (yay for Sriracha mayo).Food is a solid 3 stars with a star knocked off for poor service. \\n \\nWent around 11am for brunch and it was half full. Menu offerings is not impressive....This place is definitely a popular brunch spot with the Columbia crowd! My group was really lucky to get seated when we arrived. I LOVE that fact that they...Absolutely magnificent. We loved everything about B2 Harlem . The Food was exceptional, our staff was great , the ambiance and the music spot on. We are...I guess this place must be very new, but they are lacking wait staff and organization. I was brought the brunch menu as I came in for dinner. The manager or...The food was absolutely amazing but for some reason after literally an hour of all you can drink mimosa (two hours) we stopped getting mimosa. Even the...Food was great, but only four stars due to extremely slow service. The server was nice, but it took 15 minutes for someone to take our drink order, another...Had a bad experience here on Christmas Day   My guests & I waited over an hour for someone to take our order.  The waitress seemed more fixated on a table...It was ooooooook\\n\\nI remember coming here almost every month a while ago (8 years in the past) and I really enjoyed the place. Jump forward a few years and I...We were seated fairly quickly on Friday night. The place has a spacious seating hall and some areas have a good view. The staff is attentive and friendly....Definitely fusion. If your looking for authentic cuisine, you can skip this. Ordered take out, about 30 minutes before closing time. my wife and I ordered...We have eaten here 3 times since they opened and gotten take out on numerous occasions. It\\'s a nice addition to the neighborhood. We previously went to...Freshly made- locally sourced- friendly staff- delicious food.\\n\\nThis is a really easy place to go with a group or alone. Beautiful neighborhood surrounded...Needed to grab a bite before I headed to Wakanda. I was struggling to find a manly word to describe this place but F it... it is CUTE. Still hard for me to...I am eternally grateful for the foodie couple at my gym who recommended Clay. I never would have known about it otherwise. Living on the UWS, I pretty much...I really miss my mom\\'s cooking and this place hits the spot. We ordered the pork xiao long bao (soup dumplings), beef wrapped in scallion pancake, beef...My husband and I love this place, we both work nearby, at the conservatory and we used to go there every time we had a chance. Many times we went there we...8.30pm i put in my order\\n8.59pm still no food.\\nSo they forgot to put my order in so waiting for 30 minutes now on my mofo dumplings. Very curious if they...Decent Thai food but nothing too special. There was a weird smell in the restaurant while we were eating (one of the bathrooms was under construction) which...Never got past the gate keepers at the front desk.  \\n\\nI was meeting someone at 6:00 and arrived 15 minutes early.  The restaurant was nearly empty - only a...Thai Market is a gem on the UWS. Their food is reasonably priced and the portions are filling - you will probably even need to take a to-go box home for all...This is an update - \\nA couple of weeks ago I found an invite in the newsletter about the monthly dinners curated by Chef Lucas. I was curious and bought...Came here around 11:30PM, there aren\\'t many restaurants open at late night around the neighborhood. So it\\'s always nice to have a spot like this that you...Yummy fast casual dining featuring noodle bowls and bings. With healthy toppings and a delicious assortment of Chinese beverages, this place is putting a...Easily best Italian restaurant in upper west!\\n\\nThey have jazz playing every Sunday night. The place is huge, you can actually walk in and get a seat on...A lovely bistro in the Columbia University area. The food is hearty Italian, usually with excellent specials. \\n\\nHomemade mozzarella is TDF. Wine list could...I\\'ve lived in the neighborhood for 8 years, and sadly this place has really fallen off. Had the Pisticci pomodoro tonight and it was under sauced. A few...What an amazingly warm and special place. Co-owners Daryl and Melissa have created this special space to feel like a dinner-party, so there are only 12...What an amazing and fun experience!  It\\'s like being in your friend\\'s kitchen, watching them cook for you. Excellent food, cooked and plated to perfection....Wow! In short, everything was delicious and the staff was very friendly.\\n\\nFood:\\nMac & cheese spring rolls - so good. Make sure to get a bite of the bacon...I\\'ve been to Babbalucci\\'s several times and each visit is always just as good as the last. Let\\'s get into it...\\n\\nDecor: Babba\\'s is a small, clean, dimly...My boyfriend and I came here for our Valentine\\'s day dinner... they wouldn\\'t take a reservation (they only take them for parties of more than 4 I believe),...Came here on a Whim around 11:30 thinking we would be able to have drinks and a light meal after finishing work at 10pm. Every restaurant/lounge along Lenox...Had dinner at Lido yesterday and we had very good experience. The atmosphere is very nice, the food was good and the service was absolutely outstanding....Such a nice place and a wonderful addition to this beautiful neighborhood. The inside is very simple, clean, yet elegant. Menu is not overloaded with boring...I came in to celebrate my co-worker\\'s birthday for brunch. This spot is pretty great. From the outside it looks like a small spot but in the inside it is...'"
      ]
     },
     "execution_count": 40,
     "metadata": {},
     "output_type": "execute_result"
    }
   ],
   "source": [
    "text=''\n",
    "for snippet in all_snippets:\n",
    "    text+=snippet[2]\n",
    "text"
   ]
  },
  {
   "cell_type": "code",
   "execution_count": 41,
   "metadata": {},
   "outputs": [
    {
     "data": {
      "image/png": "[encoded data removed]",
      "text/plain": [
       "<matplotlib.figure.Figure at 0x108ed70f0>"
      ]
     },
     "metadata": {},
     "output_type": "display_data"
    }
   ],
   "source": [
    "from wordcloud import WordCloud, STOPWORDS\n",
    "import matplotlib.pyplot as plt\n",
    "%matplotlib inline\n",
    "\n",
    "wordcloud = WordCloud(stopwords=STOPWORDS,background_color='white',width=3000,height=3000).generate(text)\n",
    "\n",
    "plt.imshow(wordcloud)\n",
    "plt.axis('off')\n",
    "plt.show()"
   ]
  },
  {
   "cell_type": "markdown",
   "metadata": {},
   "source": [
    "<h2>Let's do a detailed comparison of local restaurants</h2>\n",
    "<h4>I've saved a few reviews for each restaurant in four directories</h4>\n",
    "<h4>We'll use the PlainTextCorpusReader to read these directories</h4>\n",
    "<li>PlainTextCorpusReader reads all matching files in a directory and saves them by file-ids"
   ]
  },
  {
   "cell_type": "code",
   "execution_count": 42,
   "metadata": {
    "collapsed": true
   },
   "outputs": [],
   "source": [
    "import nltk\n",
    "from nltk.corpus import PlaintextCorpusReader\n",
    "community_root = \"data/community\"\n",
    "le_monde_root = \"data/le_monde\"\n",
    "community_files = \"community.*\"\n",
    "le_monde_files = \"le_monde.*\"\n",
    "heights_root = \"data/heights\"\n",
    "heights_files = \"heights.*\"\n",
    "amigos_root = \"data/amigos\"\n",
    "amigos_files = \"amigos.*\"\n",
    "community_data = PlaintextCorpusReader(community_root,community_files)\n",
    "le_monde_data = PlaintextCorpusReader(le_monde_root,le_monde_files)\n",
    "heights_data = PlaintextCorpusReader(heights_root,heights_files)\n",
    "amigos_data = PlaintextCorpusReader(amigos_root,amigos_files)"
   ]
  },
  {
   "cell_type": "code",
   "execution_count": 43,
   "metadata": {},
   "outputs": [
    {
     "data": {
      "text/plain": [
       "['amigos.1',\n",
       " 'amigos.10',\n",
       " 'amigos.11',\n",
       " 'amigos.12',\n",
       " 'amigos.13',\n",
       " 'amigos.14',\n",
       " 'amigos.15',\n",
       " 'amigos.16',\n",
       " 'amigos.17',\n",
       " 'amigos.18',\n",
       " 'amigos.19',\n",
       " 'amigos.2',\n",
       " 'amigos.20',\n",
       " 'amigos.21',\n",
       " 'amigos.3',\n",
       " 'amigos.4',\n",
       " 'amigos.5',\n",
       " 'amigos.6',\n",
       " 'amigos.7',\n",
       " 'amigos.8',\n",
       " 'amigos.9']"
      ]
     },
     "execution_count": 43,
     "metadata": {},
     "output_type": "execute_result"
    }
   ],
   "source": [
    "amigos_data.fileids()"
   ]
  },
  {
   "cell_type": "code",
   "execution_count": 44,
   "metadata": {},
   "outputs": [
    {
     "data": {
      "text/plain": [
       "'I see all these bad reviews, but speaking for myself, I\\'ve never gotten bad service here, or had a negative experience in the least--and I\\'m here about once a week.\\n\\nThe atmosphere is fun and laid back, but not in a divey way. I\\'ve never had a bad dish, although some are merely average; however, a few are A+: THE QUESADILLAS, the Queso Fundido, and the margaritas are among the best I\\'ve ever had. The guacamole is above average.\\n\\nAlso, they have really great specials during the week--I believe one day is something like $21.95 for unlimited quesadillas + 5 margaritas? That sounds so impossible even as I type it but I\\'m pretty sure that\\'s correct\\nMy friend and I decided to go out on Cinco de Mayo but we wanted something close to home with a nice vibe, people and good music and food. I remember a friend telling me about this place a while back. So I decided to make a reservation.  Not only did we get there and find that it was packed BUT the receptionist explained that since we did make reservations,  we were priority on the list. \\n\\nWe found some seats at the bar and got some drinks. No more than 20 minutes later were we seated. The staff was great,  the food was great,  the drinks were AMAZING! The music was beautiful and the vibe was on point. \\n\\nI will DEFINITELY be going back with even more people! I love it!\\n\\nWe stopped at Amigos while walking the length of Broadway (yes, all 13 miles of it) and were craving a quick bite for lunch. It\\'s located on a cute and busy strip along Broadway, not far from Bank Street and a few doors down from the Seinfeld famous Tom\\'s Restaurant.  \\n\\nThey had both sidewalk and indoor seating available when we visited. We opted for indoor near the window. Service was prompt and courteous while we were here--no complaints at all. They provide complimentary chips and salsa which is always a pro.\\n\\nThe menu is ample--for both food and drink options. Definitely a TON of specials (each day has a different food special, brunch specials on the weekends, $3 margaritas during the day). Definitely a place you can get a great bang for your buck.\\n\\nWe both opted for quesadillas (shrimp and chicken) and were surprised to see it came with three medium sized quesadillas, along with sides of rice and beans. Huge portion! Quality was average I\\'d say, we were satisfied but not blown away. Would definitely come here again for happy hour specials though--looked like a fun spot!\\nYeah what a terrible place. The waiter hated us from the second we walked in. We had to ask no less than 5 times over the course of our meal for water refills, at least 3 for more chips, and I had to go get the check myself. Possibly the most blasé service I have had ever, but at least in the last long time. \\n\\nThe food was decent, though, which is surprising considering the horrific service. My shrimp enchiladas had a good flavor if they were drenched in oil. Guac was good and you can customize the spiciness and ingredients. The spicy margarita was really top notch, and at $11 I\\'ve gotten to the point where I think that\\'s a fair price for a cocktail.\\n\\nWhen I went to retrieve the check since we had been sitting for a good 20 minutes, I told the manager what a terrible experience we had. He was like, \"Oh, I\\'m so sorry, service is top notch, I\\'m so sorry, please come back and see us again\" asking for my name and stuff. Yeah I mean I won\\'t be back because I don\\'t live in NY but I would never go back anyway.\\nThe worst service that I have had in a long time. We waited for 20 minutes, had to seat ourselves and get our own menus, and ended up leaving without even getting spoken to or given water. Won\\'t be coming back.\\nAfter walking around the area, we decided to give this place a try. We had a choice of either sitting at the booths or sitting near the bar. We opted to sit near the bar and was immediately seated. The back of the restaurant and the restaurant looked a little sketchy. Daughter ordered the Arroz Con Pollo and thought it was a bit bland. It tasted like Chicken Fried Rice. Hubs ordered the Tilapia Tacos and thought it was pretty good. I liked the fact that the tilapia was fried and the fish wasn\\'t overcooked. I ordered the Enchilada with Salsa Verde and it was spicy and pretty good. Daughter ended up eating my order because it was tastier. She had a little reaction on her lip and scared herself because she thought there was peanuts in my Enchilada entree. We asked our waiter and he went to the kitchen to make sure that there wasn\\'t any in our orders. He reassured us that everything was safe. Turned out that she didn\\'t get a reaction to peanuts. \\n\\nMy enchilada was very spicy and her lips ended up feeling tingly from it and it scared her. But, the waiter was very nice in reassuring her that the food was safe. Service was very friendly, though. Will return to try other items when in the area.\\nwo stars for Amigos : ( \\n\\nI\\'m here in NYC visiting friends for a couple of days . My best friends works in Columbia university area so we decided to have lunch there ! The famous Tom\\'s restaurant was packed so we chose Amigos ! They had happy hour & of course lunch specials .\\n\\nSitting at the bar ... We were overlooked several times by the bartender . He finally came over & dropped off menus & Walked off ... *welcome to New York * lol . Moments like that I wish southern charm & manners ! He eventually came back & asked if we wanted drinks . Water first then we ordered margaritas. They were on special for $5. The size was very small . The quality of the tequila was very much a cheaper option . Ehhh could have passed on that . \\n\\nOn to food ... I ordered the quesadilla special , it came with rice & beans . We sat there for about 15 mins after ordering & no one brought us chips & salsa . We asked & his reply was \" it\\'s only for customers eating food but since I ordered food we could get some . \" I read over the menu to see if that was in small print somewhere .My friends decided they would just nibble on chips until they figured out what they wanted . Owen , who was rude but hey , guess it\\'s the NY thing, assumed my friend was fasting because she didn\\'t order anything . *side eye * we asked for his name & we talked for a bit . He was very cranky because he normally doesn\\'t work that shift & implied he makes more during breakfast lol . Sigh .... So that was the reason behind crappy service ???\\n\\nMy best friend raved about the service & this place prior to walking in . Her usual person wasn\\'t there & she apologized for my experience . I didn\\'t finish my food because the rice & beans seemed microwaved . You can\\'t really mess up a quesadilla ... It was ehhhh ok . Overall, I wouldn\\'t go back to Amigos unless it was the last option in the area . The drinks were subpar ... I left with a little buzz & the urge to eat something else . There\\'s tons of other food options in the Colombia university area to try !\\nAmigos is a nice little Mexican restaurant on the UWS, and conveniently located a block away from work. The first time I went there I had a quesadilla which was just blah. How can someone mess up a quesadilla you might ask? Same question I had. Needless to say, I hadn\\'t gone back to Amigos in over a year. \\n\\nI recently went back with a group of coworkers for drinks and had a more pleasant experience. We went around 4pm on a Friday and the restaurant was pretty empty. I had a peach and a strawberry margarita on the rocks, which were about $5-6. While at first they didn\\'t taste very strong, it definitely caught back up to me later. The strawberry tasted like any stars every margarita that you\\'ve ever had while the peach was actually pretty delicious. We also ordered the guacamole with pineapple and pomegranate and WOW. It was so delicious and the pineapple and pomegranate were the perfect touch. \\n\\nIf you want cheap margaritas and amazing guac, check out Amigos.\\nLate night happy hour is amazing with Erik! He\\'s the best bartender--so attentive and full of energy! \\n\\nCome to Amigos for a great time with great people!\\nMy cousin recommended i try this place out...she knows i love margaritas and burritos. I wasted no time paying Amigos a visit.  It\\'s a really cute place, very spacious. i was somewhat surprised at how big it was. After being seated i was given the complimentary chip and salsa. The chips were warm what i feel is always an excellent touch. I started off with a coconut margarita and it came in a little mason jar. I was a little taken back because it was so small, maybe the size of the glass threw me off. None the less it was very taste, and i had 2 additional. I was craving nachos, but i ordered the fish tacos. The order came with 3 tacos and a side of rice and beans.The portion was a great size i couldn\\'t finish it all. The tacos weren\\'t anything to go cray about, but they were good for the most part. I\\'ll def be back. It\\'s a kool place to have dinner with friends are just grab a few drinks. The waiter was very attentive...i didn\\'t have to flag him down for anything because he constantly checked on my table\\nand those surrounding\\nCame here on a Thursday night with some friends for drinks and food. The place is okay, the decor is cute but the place is getting a bit withered down. The staff is really friendly. The only thing I didn\\'t like is that every time we asked our waiter for something he kind of acted annoyed at times. I had a chicken quesadilla it was really good. I also had two frozen margaritas which were also very delicious but small in size.\\nThis is so far from the REAL Mexican food I\\'m used to in California. Fortunately, the service is very nice. I do enjoy the chips, just wish their salsa was spicier and more flavorful.\\n\\nMy girl loves the food and she\\'s from California as well, I guess she must have been away for too long. Her favorite is the carnitas tacos.\\n\\nWe just had brunch there today and it was so-so. I had the chilaquiles... My friend loved his torta.\\nI thought this place was great, friendly service & reasonable prices. lunch special $10!  I had a quesadilla.  It was good , I don\\'t understand these reviewers who say differently. Enough of you bratty California clowns  - no good mexican in NYC - GO back there.\\nAmigos is so much fun! I went for the quesadillas and margarita Tuesday night special. The quesadillas were okay but the margaritas are definitely worth it! Very strong! We had Matt as our waiter and he was awesome! The manager is so sweet!\\nNah, terrible service.\\n\\nAsked for a drink and she said and I quote \"cry about it, cry about it. Shut up.\"\\n\\nAll I asked for was another drink, I was not saying anything else.  Not cool at all. Solid deal, but mean people. \\nOne Of The Worst Restaurant I\\'ve Ever Been To In My Life! The Waiter Was So Rude. After My Friend And I Sit Down. He Came Over Unfriendly! Asking Are You Ready? Seemed As If He Had Something Better To Do? The Way He Was Acting. We Just Gotten Up In Left Before Ordering. Unbelievable! I Thought Your Going To Be Nice To Make Tips? No???? Never Again\\nThe food was ok the Guac was really tasty the drinks are ok the strawberry margarita was good and the bulldog was so so. The chicken chicharrón burrito I enjoyed a bit. Waiters were attentive and very nice.\\nOne of the worst Mexican restaurants! I love Mexican food and this is very inferior. We live across the street so we keep coming hoping it improves only to be repeatedly disappointed.\\nThey were good for a while when they first opened. It\\'s popular with the students I suppose, which is why they still have a lease with Columbia. Today the chips were burnt. The Queso fundido with chorizo was mostly chorizo. The guacamole didn\\'t taste like anything. The salsa is chopped tomatoes and not much else.\\nPlantains-only a few were ripe... it\\'s hopeless!\\nDo NOT go here if you\\'re looking for good Mexican food, or good food period. Went here with a friend and ate one of the worst meals I\\'ve had in a really long time. The fish bowl we ordered tasted like diluted tequila with a splash of juice -- drank about 1/5 of it. The fajitas I ordered were bland, and what flavor the chicken did have tasted like it came straight from a can. Rice was overlooked and dry, beans were mushy and tasteless. Ate about 1/4 of my food, and my friend, who ordered fish tacos, ate about the same because her dish was so bad. Service was also mediocre...\\n\\nTo top that off, i got sick from what little I ate! Had a stomach bug for about 36 hours :(\\nI was around the area and heard about the good drink and food specials so I decided to check this place out. There was no wait, which is always a plus.\\n\\nMy friend and I both had a frozen Mango Coronarita, which was inexpensive and strong as well. The service was a little slow, but I can make the exception because our waitress told us she just got employed the day before.\\n\\nWe had the guacamole chips and dip for an appetizer, which was pretty good. The best part about this place is that it has soooo many great food and drink specials-DAILY! Recommended for those who love unlimited drinks and sliders!\\nMy friend and I were starving and looking for a place with decently priced margaritas to celebrate the day before Cinco de Mayo. After stopping at a few places, we decided to take advantage of Amigos outdoor seating while we still could (we got to the restaurant at around 5pm). The outdoor tables get good sunlight in the afternoon and evening so we were very comfortable in the 60-something degree weather.\\nOur first happy surprise was our free 6 ounce margaritas we got for checking in on Foursquare. I am usually not a huge fan of frozen margs, but these were excellent and very strong, and the (optional) mango flavoring was a nice addition. Yeah, they\\'re small but they are only $5 (all day, except 11-1pm when they are $3!). I got the larger version later for $10 which is more than double the size of the small version. Before we even had a chance to order drinks, we were brought a basket of chips and chunky slsa, which was excellent and very flavorful.\\nMy friend and I were starving but were planning on drinking and dining for a few hours, so after we started off with the nachos topped with chorizo ($15). The nachos were HUGE and were almost too much for the both of us, but we manned (and womaned) up and finished the plate. There was no way we were going to eat anything else, so we just hung out outside for a while. \\nI ended up calling a couple other friends to join us, and we moved inside after it got chilly. My friend and I moved onto Bull Dogs (margaritas with an upside down coronita stuck inside), which ended up being a great decision. They were tasty and definitely not a bad deal at $10. My other friend split a fish bowl for $19 and while it was good, the jury is still out as to whether or not there was actually alcohol in it.\\nAll in all the drinks and food were good and it was a fun atmosphere. I could definitely see myself coming back for drinks at the bar with a girl friend, and I am already trying to wrangle up friends for brunch.\\nI  would have ordered another drink (we were there for about 6 hours) but the waitress never came back and by that time we were ready to go. Despite the slow service, the manager was very nice and friendly and checked up on up multiple times. Additionally, the manager ended up comping 2 small and 2 large margaritas at our table, instead of the 4 small margaritas we got from the Foursquare deal which was really nice and saved us $10.\\nAsk for Angela! She is awesome!\\nI will definitely be going back!\\n'"
      ]
     },
     "execution_count": 44,
     "metadata": {},
     "output_type": "execute_result"
    }
   ],
   "source": [
    "amigos_data.raw()"
   ]
  },
  {
   "cell_type": "markdown",
   "metadata": {},
   "source": [
    "<h4>We need to modify comparitive_emotion_analyzer to tell it where the restaurant name and the text is in the tuple</h4>"
   ]
  },
  {
   "cell_type": "code",
   "execution_count": 45,
   "metadata": {
    "collapsed": true
   },
   "outputs": [
    {
     "name": "stdout",
     "output_type": "stream",
     "text": [
      "restaurant           fear\ttrust negative positive joy   disgust anticip sadness surprise\n",
      "Elma's               0.00\t0.06\t0.01\t0.10\t0.07\t0.00\t0.05\t0.01\t0.02\n",
      "Lolo's Seafood Shack 0.01\t0.01\t0.01\t0.04\t0.02\t0.00\t0.01\t0.00\t0.01\n",
      "Flat Top             0.00\t0.02\t0.00\t0.06\t0.01\t0.00\t0.01\t0.00\t0.00\n",
      "Friedman's           0.00\t0.04\t0.00\t0.08\t0.05\t0.00\t0.01\t0.00\t0.01\n",
      "B2 Harlem            0.00\t0.01\t0.02\t0.04\t0.02\t0.00\t0.01\t0.01\t0.01\n",
      "Amy Ruth's           0.01\t0.00\t0.01\t0.01\t0.00\t0.01\t0.01\t0.01\t0.00\n",
      "SEAK                 0.00\t0.05\t0.01\t0.06\t0.03\t0.00\t0.01\t0.00\t0.01\n",
      "Clay                 0.00\t0.04\t0.02\t0.07\t0.04\t0.00\t0.04\t0.00\t0.00\n",
      "La Salle Dumpling Ro 0.00\t0.00\t0.00\t0.01\t0.01\t0.00\t0.02\t0.00\t0.00\n",
      "Thai Market          0.00\t0.03\t0.02\t0.03\t0.03\t0.02\t0.00\t0.00\t0.00\n",
      "Junzi Kitchen        0.00\t0.03\t0.01\t0.05\t0.04\t0.00\t0.01\t0.01\t0.01\n",
      "Pisticci             0.00\t0.04\t0.01\t0.04\t0.04\t0.00\t0.03\t0.03\t0.01\n",
      "Belle Harlem         0.00\t0.00\t0.03\t0.06\t0.06\t0.00\t0.01\t0.00\t0.01\n",
      "Babbalucci           0.00\t0.01\t0.00\t0.02\t0.01\t0.00\t0.01\t0.00\t0.01\n",
      "Lido                 0.00\t0.06\t0.01\t0.10\t0.09\t0.00\t0.05\t0.00\t0.05\n"
     ]
    }
   ],
   "source": [
    "def comparative_emotion_analyzer(text_tuples,name_location=1,text_location=2):\n",
    "    print(\"%-20s %1s\\t%1s %1s %1s %1s   %1s %1s %1s %1s\"%(\n",
    "            \"restaurant\",\"fear\",\"trust\",\"negative\",\"positive\",\"joy\",\"disgust\",\"anticip\",\n",
    "            \"sadness\",\"surprise\"))\n",
    "        \n",
    "    for text_tuple in text_tuples:\n",
    "        text = text_tuple[text_location] \n",
    "        result = emotion_analyzer(text)\n",
    "        print(\"%-20s %1.2f\\t%1.2f\\t%1.2f\\t%1.2f\\t%1.2f\\t%1.2f\\t%1.2f\\t%1.2f\\t%1.2f\"%(\n",
    "            text_tuple[name_location][0:20],result['fear'],result['trust'],\n",
    "              result['negative'],result['positive'],result['joy'],result['disgust'],\n",
    "              result['anticipation'],result['sadness'],result['surprise']))\n",
    "        \n",
    "#And test it        \n",
    "comparative_emotion_analyzer(all_snippets)"
   ]
  },
  {
   "cell_type": "code",
   "execution_count": 46,
   "metadata": {},
   "outputs": [
    {
     "name": "stdout",
     "output_type": "stream",
     "text": [
      "restaurant           fear\ttrust negative positive joy   disgust anticip sadness surprise\n",
      "community            0.00\t0.03\t0.01\t0.05\t0.03\t0.01\t0.02\t0.01\t0.01\n",
      "le monde             0.00\t0.03\t0.01\t0.04\t0.02\t0.00\t0.02\t0.00\t0.01\n",
      "heights              0.00\t0.03\t0.01\t0.04\t0.03\t0.00\t0.03\t0.01\t0.01\n",
      "amigos               0.01\t0.03\t0.01\t0.04\t0.03\t0.01\t0.02\t0.01\t0.01\n"
     ]
    }
   ],
   "source": [
    "restaurant_data = [('community',community_data.raw()),('le monde',le_monde_data.raw())\n",
    "                  ,('heights',heights_data.raw()), ('amigos',amigos_data.raw())]\n",
    "comparative_emotion_analyzer(restaurant_data,0,1)"
   ]
  },
  {
   "cell_type": "markdown",
   "metadata": {},
   "source": [
    "<h2>Simple Analysis: Complexity</h2>\n",
    "<h4>We'll look at four complexity factors</h4>\n",
    "<li>average word length: longer words adds to complexity\n",
    "<li>average sentence length: longer sentences are more complex (unless the text is rambling!)\n",
    "<li>vocabulary: the ratio of unique words used to the total number of words (more variety, more complexity)"
   ]
  },
  {
   "cell_type": "markdown",
   "metadata": {},
   "source": [
    "<b>token:</b> A sequence (or group) of characters of interest. For e.g., in the below analysis, a token = a word\n",
    "<li>Generally: A token is the base unit of analysis</li>\n",
    "<li>So, the first step is to convert text into tokens and nltk text object</li>"
   ]
  },
  {
   "cell_type": "code",
   "execution_count": 47,
   "metadata": {},
   "outputs": [
    {
     "name": "stdout",
     "output_type": "stream",
     "text": [
      "188\n",
      "2595\n"
     ]
    }
   ],
   "source": [
    "#Construct tokens (words/sentences) from the text\n",
    "text = le_monde_data.raw()\n",
    "import nltk\n",
    "from nltk import sent_tokenize,word_tokenize \n",
    "sentences = nltk.Text(sent_tokenize(text))\n",
    "print(len(sentences))\n",
    "words = nltk.Text(word_tokenize(text))\n",
    "print(len(words))"
   ]
  },
  {
   "cell_type": "code",
   "execution_count": 48,
   "metadata": {},
   "outputs": [
    {
     "name": "stdout",
     "output_type": "stream",
     "text": [
      "num_chars num_chars/num_words num_words/num_sentences len(vocab)/num_words\n",
      "12332.000000\t\t4\t\t13\t\t0.29132947976878615\n"
     ]
    }
   ],
   "source": [
    "num_chars=len(text)\n",
    "num_words=len(word_tokenize(text))\n",
    "num_sentences=len(sent_tokenize(text))\n",
    "vocab = {x.lower() for x in word_tokenize(text)} # the number of unique words. add it to a set of words.\n",
    "\n",
    "print(\"%1s %1s %1s %1s\"%(\"num_chars\",\"num_chars/num_words\",\"num_words/num_sentences\",\"len(vocab)/num_words\"))\n",
    "print(\"%1f\\t\\t%1s\\t\\t%1s\\t\\t%1s\"%(num_chars,int(num_chars/num_words),int(num_words/num_sentences),(len(vocab)/num_words)))"
   ]
  },
  {
   "cell_type": "markdown",
   "metadata": {},
   "source": [
    "<h4>Functionalize this</h4>"
   ]
  },
  {
   "cell_type": "code",
   "execution_count": 49,
   "metadata": {
    "collapsed": true
   },
   "outputs": [],
   "source": [
    "def get_complexity(text):\n",
    "    num_chars=len(text)\n",
    "    num_words=len(word_tokenize(text))\n",
    "    num_sentences=len(sent_tokenize(text))\n",
    "    vocab = {x.lower() for x in word_tokenize(text)}\n",
    "    \n",
    "    return len(vocab),int(num_chars/num_words),int(num_words/num_sentences),len(vocab)/num_words"
   ]
  },
  {
   "cell_type": "code",
   "execution_count": 50,
   "metadata": {},
   "outputs": [
    {
     "data": {
      "text/plain": [
       "(756, 4, 13, 0.29132947976878615)"
      ]
     },
     "execution_count": 50,
     "metadata": {},
     "output_type": "execute_result"
    }
   ],
   "source": [
    "get_complexity(le_monde_data.raw())"
   ]
  },
  {
   "cell_type": "code",
   "execution_count": 51,
   "metadata": {},
   "outputs": [
    {
     "name": "stdout",
     "output_type": "stream",
     "text": [
      "community      \t1029.00\t4.00\t16.00\t0.28\n",
      "le monde       \t756.00\t4.00\t13.00\t0.29\n",
      "heights        \t720.00\t4.00\t16.00\t0.28\n",
      "amigos         \t792.00\t4.00\t15.00\t0.24\n"
     ]
    }
   ],
   "source": [
    "for text in restaurant_data:\n",
    "    (vocab,word_size,sent_size,vocab_to_text) = get_complexity(text[1])\n",
    "    print(\"{0:15s}\\t{1:1.2f}\\t{2:1.2f}\\t{3:1.2f}\\t{4:1.2f}\".format(text[0],vocab,word_size,sent_size,vocab_to_text))\n",
    "    \n",
    "# le monde actually has the lowest sentence complexity. 13"
   ]
  },
  {
   "cell_type": "markdown",
   "metadata": {},
   "source": [
    "<h4>We could do a word cloud comparison</h4>\n",
    "We'll remove short words and look only at words longer than 6 letters"
   ]
  },
  {
   "cell_type": "code",
   "execution_count": 52,
   "metadata": {},
   "outputs": [
    {
     "data": {
      "text/plain": [
       "('community',\n",
       " 'I ate here Monday night for a working dinner with a coworker. I immediately saw its reason for name, beyond the owner\\'s fandom of the show of the same name: the tablet setup are nearly all communal long tables. There\\'re rather few non-shared tables which is fine as not only is NYC filled with such setup but there\\'s a liveliness in the Columbia area vibe which prefers this setup. There\\'s a shortage of such nice sit-down restaurants in the Columbia area so this place is not only capitalizing on its presence but doing so with great style and flare.\\n\\nI ordered the beef burger which was very juicy, perfectly lean, well sauced, cooked as desired (medium-well, for those who wonder), and paired with a dill pickle, a handmade cole slaw that lacked mayo (which is good as mayo\\'s pure trans-fat), and a spindle of fries. My coworker got the salmon sandwich, same review applies.\\n\\nAwesome bar alongside, but we didn\\'t patronize it. Vast amounts of seating and an open kitchen where tons of food is prepared live makes for a fun environ.\\n\\nI accidentally left my headphones, called to ask if it was found, and fetched them the day later. The staff were so helpful, kind, and soft-spoken about recovering and returning it that I\\'m duly humbled. Thanks, all!\\nThe food here is quite good, and I have no complaints in that area. The reason for only two stars is the cost of that food--OMG are they overpriced. My wife and I went here for breakfast. We each ordered blueberry pancakes and a cup of coffee--no fresh fruit, no juice, no bacon. The pancakes were $13 and the coffee was $4, so the initial bill was $34. The tax was $3, and I left a tip of $6--resulting in a final total of $43 for a breakfast of flapjacks and coffee. Now I know this is NY and costs here are higher--but $43!  Ugh!  There are a lot of nice places in the city where you can get a very good breakfast for 1/3rd to 1/2 less than Community. I recommend you seek them out.\\nThis is such a good brunch spot! The food, service & ambiance was exactly what we were looking for. We sat at an adorable table on the outdoor patio and our waiter (sadly forgot his name) was awesome.\\n\\nI started with a raspberry iced tea & ordered the community custom egg white omelette with sautéed spinach & mushrooms and a side of smoked salmon. The omelette was thin (I would ask for eggs more well done next time) and was jam packed with veggies. The mushrooms were perfectly cooked. The salmon was so fresh and delicious. \\n\\nMy friend got the house smoked salmon plate. He loved it! I used some of the chive cream cheese on the toast that came with the eggs - highly recommend asking for some on the side! \\n\\nWe also shared & loved the fruit salad. We were pleasantly surprised by how big it was and the fruit was all very fresh. \\n\\nOverall, great brunch & highly recommend for a lovely brunch! Such a cute neighborhood spot and perfect for a pre-park brunch.\\nThis place is great for Brunch. I went with my mom and my brother. Even though they were super busy, they were able to seat us right away, and our food came in a timely manner. The server was very friendly and sensitive to my dietary restrictions. \\n\\nThe food was very fresh, and the chefs knew exactly what they were doing. I ordered the eggs benedict florentine. The hollandaise sauce was perfect: smooth and mildly tart. The biscuit under it was cooked to perfection. The eggs were perfect: solid on the outside, runny on the inside. However, the spinach although cooked well, kind of took away from the dish. It was difficult to cut along with everything else, and pulling the spinach out from under the uncut part made parts of the egg fall off the biscuit. Had the spinach been softer, this would have been more enjoyable to eat. Otherwise, it tasted delicious. \\n\\nMy brother had the Huevos Rancheros. I wish I had ordered that instead. It was delicious. His eggs were sunny side up, and perfectly runny. The beans were seasoned perfectly, as was the rest of the tomato sauce, The tortilla was fresh and soft, and it came with delicious guacamole and sour cream. \\n\\nMy mother ordered the frittata, which was also very good. As per her request, they put less goat cheese. The flavors blended very well together. The portobello mushrooms were cut into small enough pieces to fit in one bite, but were soft enough to cut further if they were too big for you. The frittata itself was soft and fluffy without being undercooked. \\n\\nTheir coffee is from Brooklyn Roasting Company. I don\\'t normally drink coffee, but I would have had a whole cup of it had I not ordered the hot chocolate, which was also delicious. The hot chocolate was made with real cocoa powder and milk. \\n\\nI gave this place four stars instead of five because of the consistency of the spinach in the eggs benedict florentine. Otherwise, I\\'d have given this place five stars.\\n\\nVeggie sandwich on gluten free bread here. Nom nommmm. The veggies were perfect and fresh! \\n\\nUnfortunately, the GF bread is an upcharge for a sandwich half the size of the normal sandwich. Still delicious, but sad when you see your non-GF friend with a full size sandwich. I wish I took a picture, but I dug right in due to brunch hunger and slow service. \\n\\nI\\'d come back again, but be sure to have a snack before if you are feeling at all hungry like me.\\nI came here on a Saturday morning with one of my friends without a reservation around 10:30 am and luckily we were seated outside right away. A man came over to the table and filled our waters but didn\\'t introduce himself as our waiter so I wasn\\'t sure if he was the busboy or the waiter; regardless, he took our drink order. I ordered a mimosa, which was pretty good, and my friend ordered a coffee which was served in a huge mug. We both then ordered the breakfast biscuit. I was not a big fan of the sausage that was served with it and would much more have preferred bacon but overall it was good. And the carrot hash browns were yummy too! They were mostly made of potato with hints of carrots, so it wasn\\'t too carroty. The bathrooms were also clean! My friend and I had a very good time.\\nI\\'ve come here several times with a friend for brunch and once for dinner -- we\\'ve both really enjoyed a lot of the breakfast foods available; my favorite is the brioche French toast with blackberry and lemon curd & she loves heir waffles. Their maple butter sauce light, sweet and adds a nice taste as opposed to heavier syrups. If you come between 8-9am they have a pancake deal (blueberry or chocolate and a coffee or OJ for $12, not bad considering the area and average prices. Pancakes were fluffy and very filling) \\n\\nTheir lattes sometimes taste a bit burnt and not mixed properly -- don\\'t waste your money. \\n\\nDinner looked pretty...and that was all. Overpriced small portions that were essentially inedible.\\n\\nDinner on Tuesday, usually a quiet affair, but given that Community is one of few good spots on Broadway for a good sit down, even at 6:30 p.m. it was bumping. I work at CU, and may be one of the few people that\\'s never been to Community before. \\n\\nNice little tip, they have a deal between 5 pm and 7 pm on weekdays - beef burger and beer for $16. To note - any revisions/additions to your order is $2. Let\\'s be honest, sometimes a man just wants some sweet sweet avocado in the cool winter months. Nice little draft selection, I went for the Fire Island Beer Co. Lighthouse - nice and crisp and not hoppy - a rare breed in NYC. \\n\\nOur waiter Sam D. was the perfect level of attentive, there for a question and to fill our water glasses, I don\\'t think my ever dipped below half-filled. All and all a solid meal, the burger was a wee bit dry, but cooked to my specifications (medium rare). I\\'d be interested to check out their lunch, which alas is usually a crush of CU staff and students, but there\\'s always summer break ...\\nCame here for brunch with my wife after she found the good review, and it did not disappoint! \\n\\nWe did have to wait to be seated (which is a good sign even though no one really wants to)...\\n\\nThe food is awesome! Very fresh, clean, and NOT oily, which is my usually qualm.\\n\\nDisclaimer: I like diner food but it is almost always to greasy which I hate, but this place has very fresh and carefully prepared food. \\n\\nI wanted to order everything off the menu, but settled on the juevos rancheros with side of carrot hash browns, and biscuit. My wife got the blueberry pancakes. Everything was awesome. The hash browns were not the least bit greasy; the pancakes were delicious, and I really enjoyed the juevos (w/ chorizo).\\n\\nI also tried my first ever bloody mary, and it was really good. \\n\\nWill definitely be back!\\nThis place is fantastic. Everyone is super friendly and accommodating vegetarian requests! P.s. Your whole party has to be there to be sat!\\nExcellent menu!  The seven grain waffles, blueberry pancakes with a side of turkey chorizo. Who knew turkey chorizo existed!!!\\nAll the food was amazing. My new favorite brunch spot. Will be exploring more items on the menu.\\nService is great - our water was also filled, our coffee was replenished at appropriate times. The attention to the details of the flavors in the food is impeccable. The accompanying sauces and jams were so memorable and delicious! \\n\\nInitially, we went for brunch in the early afternoon, but ended up staying for appetizers and split a bottle of wine.  The staff did not make us feel guilty at all, but welcomed us to stay until their dinner hour started. During the whole time, not one waiter came over to encourage us to pay our bill and leave. Instead, they filled our coffees and water. Speaking of coffee - their black drip coffee from a roaster in Brooklyn is delicious! Down to the last drop - it was smooth, nutty, and not bitter even cold. \\n\\nDetails of the food, including the presentation of each dish. The biscuit sandwich was healthy-ish as they utilized whole wheat flour. The sausage was not fatty at all and the meat patty - although a little smaller when compared to the biscuit (meat:bread ratio) was small, it went was so tasty with the tomato jam, as well as the perfectly cooked eggs!  The raspberry preserve was so fresh! Not overly sweet and definitely enjoyed the seeds within the preserve.  The 7 grain waffle with the fresh berries, butterscotch sauce (maple glaze?) with FRESH whipped cream was THE BEST dish there.  There was a raspberry sauce beautifully spread on the plate that added a nice tartness to the whole bite. Pancakes were fluffy and they used real, non-frozen blueberries which I loved!  The sauce that came with it was definitely different than the waffle glaze, so it was so tasty to discover the flavors within the glaze. \\n\\nCommunity is definitely one of my favorite, non-boozy brunch spots in the UWS/Morningside! Will go back!\\nTraveled up here from the upper east side to get away from the usual brunch places. Only a 20 minute bus ride from 79th, very easy to get to. Came on Sunday near 1pm and it was VERY busy, ended up waiting an hour and a half (1 hour more than we were told) however, the food was ah-mazing. Everything looks and sounds good and this place smells like heaven. I had the special of 2 fried eggs, vegetable ragout, bacon and truffle vinaigrette and it was Delish. Cheaper brunch cocktails than most places (only $10....but yes, it is nyc where most are $14+) if I have one recommendation, it\\'s the POTATO PANCAKES!!! SO GOOD, My bf and I split them. He had the pancakes and said they were the best he had in the city. Also GREAT FOR GLUTEN FREE! I am gluten/dairy intolerant and they were able to fully accommodate me. Also super close to Colombia\\'s main campus, great place to walk around and digest.\\n2 HOURS AND NO FOOD!\\nSunday Brunch July 13th 2014. We had to wait 30 minuets for a seat OK Sunday brunch it\\'s popular. 15 minuets wait for the wait staff, 45 minuets before we got the wrong dish! another 30 minuets still no food we left. They where gracious enough not to charge for the momosasas.\\nCommunity is a brunch place next to Columbia. I came here one day to meet up with my cousin who studies at Columbia. Seated around 10 mins on a cozy Sat morning, not too bad. The interior was normal, nothing fancy, but we enjoyed window seats and a tiny desk instead of the long family style tables at the center of the restaurant which gives limited privacy. I really like the hanging lights from the ceiling which is quite cute. The ground leveled glass windows allow you to see the views outside- it is a nice change from the busy pedestrians and giant high rise buildings view of the typical New York street cues in Midtown. Morningside feels more like a college town with older residential building and quieter streets. \\nDespite the 3.5 stars I was pleasantly surprised at the food here. I thought it was delicious! Much better than my experience at Stephanie\\'s at Newbury in Boston or even many of the brunch places I\\'ve been in LA. \\nWe ordered the morning specials : 7 grains waffle and truffle egg dish. \\n-7 grains waffle: had vanilla cream, raspberry, cherry, and toasted nuts. Tasted slightly more chewy than the usual waffle with flour, and on top there was marinated peach slices and cream. I really like how it wasn\\'t hard and overly sweet- especially how the toasted nuts added a level of crunchiness to the heaviness of the cream. \\n\\n- The truffle egg dish: had sausage, potatoes, some leafy greens, sautéed mushrooms, and poached egg on top. To be honest I  could not tasted the truffle at all, besides the garlic and the pepper and the salt; however with this mix it can hardly go wrong. It was flavorful and not overly salty. \\n\\nThe only thing I guess I can \"complain\" is that the dishes were small. \\nBill came up to be around 50, which isn\\'t exactly cheap considering how small the portions are- but justifiable still due to the taste.\\nOverpriced, oversized, oversweet... Oh wait, this is America.\\n\\nThe pancakes with banana and walnut were okay. They could have done without the maple butter and walnuts and would have been better with maple syrup. I\\'d rather have paid half price for half the portion.\\n\\nBottomless coffee was standard.\\n\\nThe waitress serving our table was polite and courteous considering how many customers she was dealing with. \\n\\nHaving seen the title of this place, I did expect somewhere a little cosier, trendier, more rustic and more inviting. The interior was a little canteenish and there were only a couple of juices on the menu. I wouldn\\'t go back at these prices and with these crowds.\\n\"I have a degree from Columbia, and now I have to get one from America.\" - Jeff Winger, Community.\\n\\nI came here with my friend who also is a huge fan of the show \"Community\", which used to be aired on NBC then got cancelled and then re-birthed on Yahoo! Screen. That\\'s right, Yahoo! Screen. \\n\\nSigh, oh how I miss the golden age of that glorious, glorious show.\\n\\nMy friend, however, is actually pursuing a REAL degree from Columbia University--not Colombia the country, unlike our hateable yet lovable ex-lawyer who attended Greendale Community College.\\n\\nShe chose this place because of the name--I mean come on, can\\'t get more fitting than that--and because of its proximity to Columbia\\'s campus. Community Food & Juice is literally a few blocks away, so it\\'s perfect for students.\\n\\nOn a nice New York morning, we had brunch and got to talk about everything from racist experiences to the TV show we can\\'t quite get over. \\n\\nThe food? My chocolate pancakes were pretty darn good and pretty darn rich. I don\\'t know what I was expecting. In fact, the \"syrup\"--not even sure what it is (apple?) was kind of overkill because the pancakes and chocolate were far sweet enough.\\n\\nI also got a shiso mojito which sounds fancy--and it better be for the $11 I paid for it. Flor de Cana aged white rum, fresh lime juice, shiso-mint simple syrup, yuzu splash, muddled mint, and crushed ice made up the drink that Jeff Winger would have called a \"kid\\'s drink\".\\n\\nIt was pretty strong but the shiso-mint did come through, so it was worth it (I\\'m rationalizing the price right now).\\n\\nAll in all, a pleasant experience with nice service and nice company. It\\'s not every day I get to go to New York, take some subways to meet a friend, eat some good food, get a tour of a top university, and walk away with my wallet much lighter.\\n\\nOn that note,\\n\\n\"It said market price.  What market are you shopping at!?!?!\" - Troy Barnes\\n\\nMan I love that show.\\nWe stopped in for lunch. We had ordered three things the beet salad, the rice bowl and the veggie burger. The place was packed. Even though it was packed service was very good. The beat salad and rice bowl were delicious. Although we thought the veggie burger could\\'ve used another flavor component.\\nSolid breakfast place in Morningside Heights.\\nI came here with a friend - we were seated promptly and service was attentive. The decor was beautiful and the lighting was warm - a great place for a brunch date. \\n\\nI ordered the Country Breakfast and the eggs were delicious and fluffy, the biscuit was moist and flavorful, the carrot hash browns were warm and comforting, and the ham was sweet and juicy. \\n\\nPricing was around $15 per person, which was reasonable for the quality and amount of food, especially considering it\\'s New York. The restaurant is within walking distance of Columbia, and I would recommend for a nice brunch in the area!\\nNice experience there.\\nMy friend n me went there early to enjoy pancake with fresh juice n on site coffee.\\nThanks to the kind service as well,i will remember this restaurant as a Columbian.\\nThis place is really good for breakfast and has great pancakes, sausages, eggs. Although you really have to spring ti get in, since there are very big lines to eat.\\n')"
      ]
     },
     "execution_count": 52,
     "metadata": {},
     "output_type": "execute_result"
    }
   ],
   "source": [
    "len(restaurant_data)\n",
    "restaurant_data[0]"
   ]
  },
  {
   "cell_type": "code",
   "execution_count": 53,
   "metadata": {},
   "outputs": [
    {
     "data": {
      "image/png": "[encoded data removed]",
      "text/plain": [
       "<matplotlib.figure.Figure at 0x11144ebe0>"
      ]
     },
     "metadata": {},
     "output_type": "display_data"
    }
   ],
   "source": [
    "texts = restaurant_data\n",
    "from wordcloud import WordCloud, STOPWORDS\n",
    "import matplotlib.pyplot as plt\n",
    "%matplotlib inline\n",
    "#Remove unwanted words\n",
    "#As we look at the cloud, we can get rid of words that don't make sense by adding them to this variable\n",
    "DELETE_WORDS = []\n",
    "def remove_words(text_string,DELETE_WORDS=DELETE_WORDS):\n",
    "    for word in DELETE_WORDS:\n",
    "        text_string = text_string.replace(word,' ')\n",
    "    return text_string\n",
    "\n",
    "#Remove short words\n",
    "MIN_LENGTH = 0\n",
    "def remove_short_words(text_string,min_length = MIN_LENGTH):\n",
    "    word_list = text_string.split()\n",
    "    for word in word_list:\n",
    "        if len(word) < min_length:\n",
    "            text_string = text_string.replace(' '+word+' ',' ',1)\n",
    "    return text_string\n",
    "\n",
    "\n",
    "#Set up side by side clouds\n",
    "COL_NUM = 2\n",
    "ROW_NUM = 2\n",
    "fig, axes = plt.subplots(ROW_NUM, COL_NUM, figsize=(12,12))\n",
    "\n",
    "for i in range(0,len(texts)):\n",
    "    text_string = remove_words(texts[i][1])\n",
    "    text_string = remove_short_words(text_string)\n",
    "    ax = axes[i%2]\n",
    "    ax = axes[i//2, i%2] #Use this if ROW_NUM >=2\n",
    "    ax.set_title(texts[i][0])\n",
    "    wordcloud = WordCloud(stopwords=STOPWORDS,background_color='white',width=1200,height=1000,max_words=20).generate(text_string)\n",
    "    ax.imshow(wordcloud)\n",
    "    ax.axis('off')\n",
    "plt.show()"
   ]
  },
  {
   "cell_type": "markdown",
   "metadata": {},
   "source": [
    "<h3>Comparing complexity of restaurant reviews won't get us anything useful</h3>\n",
    "<h3>Let's look at something more useful</h3>"
   ]
  },
  {
   "cell_type": "markdown",
   "metadata": {},
   "source": [
    "<h2>nltk: Python's natural language toolkit</h2>\n"
   ]
  },
  {
   "cell_type": "markdown",
   "metadata": {},
   "source": [
    "<h3>ntlk documentation link:</h3> http://www.nltk.org/api/nltk.html\n",
    "<h3>Commands cheat sheet</h3> https://blogs.princeton.edu/etc/files/2014/03/Text-Analysis-with-NLTK-Cheatsheet.pdf\n",
    "<h3>nltk book</h3>http://www.nltk.org/book/"
   ]
  },
  {
   "cell_type": "markdown",
   "metadata": {},
   "source": [
    "<h2>nltk contains a large corpora of pre-tokenized text</h2>\n",
    "Load it using the command:<p>\n",
    "nltk.download()\n",
    "\n",
    "    "
   ]
  },
  {
   "cell_type": "markdown",
   "metadata": {},
   "source": [
    "<h4>Import the corpora</h4>"
   ]
  },
  {
   "cell_type": "code",
   "execution_count": 62,
   "metadata": {
    "collapsed": true
   },
   "outputs": [],
   "source": [
    "from nltk.book import *"
   ]
  },
  {
   "cell_type": "markdown",
   "metadata": {},
   "source": [
    "<h1>Often, a comparitive analysis helps us understand text better</h1>\n",
    "<h2>Let's look at US Presidentinaugural speeches</h2>\n",
    "<h4>Copy the files 2013-Obama.txt and 2017-Trump.txt to the nltk_data/corpora/inaugural directory. nltk_data should be under your home directory</h4>"
   ]
  },
  {
   "cell_type": "code",
   "execution_count": 61,
   "metadata": {
    "collapsed": true
   },
   "outputs": [
    {
     "data": {
      "text/plain": [
       "['1789-Washington.txt',\n",
       " '1793-Washington.txt',\n",
       " '1797-Adams.txt',\n",
       " '1801-Jefferson.txt',\n",
       " '1805-Jefferson.txt',\n",
       " '1809-Madison.txt',\n",
       " '1813-Madison.txt',\n",
       " '1817-Monroe.txt',\n",
       " '1821-Monroe.txt',\n",
       " '1825-Adams.txt',\n",
       " '1829-Jackson.txt',\n",
       " '1833-Jackson.txt',\n",
       " '1837-VanBuren.txt',\n",
       " '1841-Harrison.txt',\n",
       " '1845-Polk.txt',\n",
       " '1849-Taylor.txt',\n",
       " '1853-Pierce.txt',\n",
       " '1857-Buchanan.txt',\n",
       " '1861-Lincoln.txt',\n",
       " '1865-Lincoln.txt',\n",
       " '1869-Grant.txt',\n",
       " '1873-Grant.txt',\n",
       " '1877-Hayes.txt',\n",
       " '1881-Garfield.txt',\n",
       " '1885-Cleveland.txt',\n",
       " '1889-Harrison.txt',\n",
       " '1893-Cleveland.txt',\n",
       " '1897-McKinley.txt',\n",
       " '1901-McKinley.txt',\n",
       " '1905-Roosevelt.txt',\n",
       " '1909-Taft.txt',\n",
       " '1913-Wilson.txt',\n",
       " '1917-Wilson.txt',\n",
       " '1921-Harding.txt',\n",
       " '1925-Coolidge.txt',\n",
       " '1929-Hoover.txt',\n",
       " '1933-Roosevelt.txt',\n",
       " '1937-Roosevelt.txt',\n",
       " '1941-Roosevelt.txt',\n",
       " '1945-Roosevelt.txt',\n",
       " '1949-Truman.txt',\n",
       " '1953-Eisenhower.txt',\n",
       " '1957-Eisenhower.txt',\n",
       " '1961-Kennedy.txt',\n",
       " '1965-Johnson.txt',\n",
       " '1969-Nixon.txt',\n",
       " '1973-Nixon.txt',\n",
       " '1977-Carter.txt',\n",
       " '1981-Reagan.txt',\n",
       " '1985-Reagan.txt',\n",
       " '1989-Bush.txt',\n",
       " '1993-Clinton.txt',\n",
       " '1997-Clinton.txt',\n",
       " '2001-Bush.txt',\n",
       " '2005-Bush.txt',\n",
       " '2009-Obama.txt']"
      ]
     },
     "execution_count": 61,
     "metadata": {},
     "output_type": "execute_result"
    }
   ],
   "source": [
    "inaugural.fileids()"
   ]
  },
  {
   "cell_type": "code",
   "execution_count": 56,
   "metadata": {
    "collapsed": true
   },
   "outputs": [
    {
     "data": {
      "text/plain": [
       "'Fellow-Citizens of the United States: In compliance with a custom as old as the Government itself, I appear before you to address you briefly and to take in your presence the oath prescribed by the Constitution of the United States to be taken by the President \"before he enters on the execution of this office.\"\\n\\nI do not consider it necessary at present for me to discuss those matters of administration about which there is no special anxiety or excitement.\\n\\nApprehension seems to exist among the people of the Southern States that by the accession of a Republican Administration their property and their peace and personal security are to be endangered. There has never been any reasonable cause for such apprehension. Indeed, the most ample evidence to the contrary has all the while existed and been open to their inspection. It is found in nearly all the published speeches of him who now addresses you. I do but quote from one of those speeches when I declare that -- \\n\\nI have no purpose, directly or indirectly, to interfere with the institution of slavery in the States where it exists. I believe I have no lawful right to do so, and I have no inclination to do so.\\n\\nThose who nominated and elected me did so with full knowledge that I had made this and many similar declarations and had never recanted them; and more than this, they placed in the platform for my acceptance, and as a law to themselves and to me, the clear and emphatic resolution which I now read:\\n\\nResolved, That the maintenance inviolate of the rights of the States, and especially the right of each State to order and control its own domestic institutions according to its own judgment exclusively, is essential to that balance of power on which the perfection and endurance of our political fabric depend; and we denounce the lawless invasion by armed force of the soil of any State or Territory, no matter what pretext, as among the gravest of crimes.\\n\\nI now reiterate these sentiments, and in doing so I only press upon the public attention the most conclusive evidence of which the case is susceptible that the property, peace, and security of no section are to be in any wise endangered by the now incoming Administration. I add, too, that all the protection which, consistently with the Constitution and the laws, can be given will be cheerfully given to all the States when lawfully demanded, for whatever cause -- as cheerfully to one section as to another.\\n\\nThere is much controversy about the delivering up of fugitives from service or labor. The clause I now read is as plainly written in the Constitution as any other of its provisions:\\n\\nNo person held to service or labor in one State, under the laws thereof, escaping into another, shall in consequence of any law or regulation therein be discharged from such service or labor, but shall be delivered up on claim of the party to whom such service or labor may be due.\\n\\nIt is scarcely questioned that this provision was intended by those who made it for the reclaiming of what we call fugitive slaves; and the intention of the lawgiver is the law. All members of Congress swear their support to the whole Constitution -- to this provision as much as to any other. To the proposition, then, that slaves whose cases come within the terms of this clause \"shall be delivered up\" their oaths are unanimous. Now, if they would make the effort in good temper, could they not with nearly equal unanimity frame and pass a law by means of which to keep good that unanimous oath?\\n\\nThere is some difference of opinion whether this clause should be enforced by national or by State authority, but surely that difference is not a very material one. If the slave is to be surrendered, it can be of but little consequence to him or to others by which authority it is done. And should anyone in any case be content that his oath shall go unkept on a merely unsubstantial controversy as to how it shall be kept?\\n\\nAgain: In any law upon this subject ought not all the safeguards of liberty known in civilized and humane jurisprudence to be introduced, so that a free man be not in any case surrendered as a slave? And might it not be well at the same time to provide by law for the enforcement of that clause in the Constitution which guarantees that \"the citizens of each State shall be entitled to all privileges and immunities of citizens in the several States\"?\\n\\nI take the official oath to-day with no mental reservations and with no purpose to construe the Constitution or laws by any hypercritical rules; and while I do not choose now to specify particular acts of Congress as proper to be enforced, I do suggest that it will be much safer for all, both in official and private stations, to conform to and abide by all those acts which stand unrepealed than to violate any of them trusting to find impunity in having them held to be unconstitutional.\\n\\nIt is seventy-two years since the first inauguration of a President under our National Constitution. During that period fifteen different and greatly distinguished citizens have in succession administered the executive branch of the Government. They have conducted it through many perils, and generally with great success. Yet, with all this scope of precedent, I now enter upon the same task for the brief constitutional term of four years under great and peculiar difficulty. A disruption of the Federal Union, heretofore only menaced, is now formidably attempted.\\n\\nI hold that in contemplation of universal law and of the Constitution the Union of these States is perpetual. Perpetuity is implied, if not expressed, in the fundamental law of all national governments. It is safe to assert that no government proper ever had a provision in its organic law for its own termination. Continue to execute all the express provisions of our National Constitution, and the Union will endure forever, it being impossible to destroy it except by some action not provided for in the instrument itself.\\n\\nAgain: If the United States be not a government proper, but an association of States in the nature of contract merely, can it, as a contract, be peaceably unmade by less than all the parties who made it? One party to a contract may violate it -- break it, so to speak -- but does it not require all to lawfully rescind it?\\n\\nDescending from these general principles, we find the proposition that in legal contemplation the Union is perpetual confirmed by the history of the Union itself. The Union is much older than the Constitution. It was formed, in fact, by the Articles of Association in 1774. It was matured and continued by the Declaration of Independence in 1776. It was further matured, and the faith of all the then thirteen States expressly plighted and engaged that it should be perpetual, by the Articles of Confederation in 1778. And finally, in 1787, one of the declared objects for ordaining and establishing the Constitution was \"to form a more perfect Union.\"\\n\\nBut if destruction of the Union by one or by a part only of the States be lawfully possible, the Union is less perfect than before the Constitution, having lost the vital element of perpetuity.\\n\\nIt follows from these views that no State upon its own mere motion can lawfully get out of the Union; that resolves and ordinances to that effect are legally void, and that acts of violence within any State or States against the authority of the United States are insurrectionary or revolutionary, according to circumstances.\\n\\nI therefore consider that in view of the Constitution and the laws the Union is unbroken, and to the extent of my ability, I shall take care, as the Constitution itself expressly enjoins upon me, that the laws of the Union be faithfully executed in all the States. Doing this I deem to be only a simple duty on my part, and I shall perform it so far as practicable unless my rightful masters, the American people, shall withhold the requisite means or in some authoritative manner direct the contrary. I trust this will not be regarded as a menace, but only as the declared purpose of the Union that it will constitutionally defend and maintain itself.\\n\\nIn doing this there needs to be no bloodshed or violence, and there shall be none unless it be forced upon the national authority. The power confided to me will be used to hold, occupy, and possess the property and places belonging to the Government and to collect the duties and imposts; but beyond what may be necessary for these objects, there will be no invasion, no using of force against or among the people anywhere. Where hostility to the United States in any interior locality shall be so great and universal as to prevent competent resident citizens from holding the Federal offices, there will be no attempt to force obnoxious strangers among the people for that object. While the strict legal right may exist in the Government to enforce the exercise of these offices, the attempt to do so would be so irritating and so nearly impracticable withal that I deem it better to forego for the time the uses of such offices.\\n\\nThe mails, unless repelled, will continue to be furnished in all parts of the Union. So far as possible the people everywhere shall have that sense of perfect security which is most favorable to calm thought and reflection. The course here indicated will be followed unless current events and experience shall show a modification or change to be proper, and in every case and exigency my best discretion will be exercised, according to circumstances actually existing and with a view and a hope of a peaceful solution of the national troubles and the restoration of fraternal sympathies and affections.\\n\\nThat there are persons in one section or another who seek to destroy the Union at all events and are glad of any pretext to do it I will neither affirm nor deny; but if there be such, I need address no word to them. To those, however, who really love the Union may I not speak?\\n\\nBefore entering upon so grave a matter as the destruction of our national fabric, with all its benefits, its memories, and its hopes, would it not be wise to ascertain precisely why we do it? Will you hazard so desperate a step while there is any possibility that any portion of the ills you fly from have no real existence? Will you, while the certain ills you fly to are greater than all the real ones you fly from, will you risk the commission of so fearful a mistake?\\n\\nAll profess to be content in the Union if all constitutional rights can be maintained. Is it true, then, that any right plainly written in the Constitution has been denied? I think not. Happily, the human mind is so constituted that no party can reach to the audacity of doing this. Think, if you can, of a single instance in which a plainly written provision of the Constitution has ever been denied. If by the mere force of numbers a majority should deprive a minority of any clearly written constitutional right, it might in a moral point of view justify revolution; certainly would if such right were a vital one. But such is not our case. All the vital rights of minorities and of individuals are so plainly assured to them by affirmations and negations, guaranties and prohibitions, in the Constitution that controversies never arise concerning them. But no organic law can ever be framed with a provision specifically applicable to every question which may occur in practical administration. No foresight can anticipate nor any document of reasonable length contain express provisions for all possible questions. Shall fugitives from labor be surrendered by national or by State authority? The Constitution does not expressly say. May Congress prohibit slavery in the Territories? The Constitution does not expressly say. Must Congress protect slavery in the Territories? The Constitution does not expressly say.\\n\\nFrom questions of this class spring all our constitutional controversies, and we divide upon them into majorities and minorities. If the minority will not acquiesce, the majority must, or the Government must cease. There is no other alternative, for continuing the Government is acquiescence on one side or the other. If a minority in such case will secede rather than acquiesce, they make a precedent which in turn will divide and ruin them, for a minority of their own will secede from them whenever a majority refuses to be controlled by such minority. For instance, why may not any portion of a new confederacy a year or two hence arbitrarily secede again, precisely as portions of the present Union now claim to secede from it? All who cherish disunion sentiments are now being educated to the exact temper of doing this.\\n\\nIs there such perfect identity of interests among the States to compose a new union as to produce harmony only and prevent renewed secession?\\n\\nPlainly the central idea of secession is the essence of anarchy. A majority held in restraint by constitutional checks and limitations, and always changing easily with deliberate changes of popular opinions and sentiments, is the only true sovereign of a free people. Whoever rejects it does of necessity fly to anarchy or to despotism. Unanimity is impossible. The rule of a minority, as a permanent arrangement, is wholly inadmissible; so that, rejecting the majority principle, anarchy or despotism in some form is all that is left.\\n\\nI do not forget the position assumed by some that constitutional questions are to be decided by the Supreme Court, nor do I deny that such decisions must be binding in any case upon the parties to a suit as to the object of that suit, while they are also entitled to very high respect and consideration in all parallel cases by all other departments of the Government. And while it is obviously possible that such decision may be erroneous in any given case, still the evil effect following it, being limited to that particular case, with the chance that it may be overruled and never become a precedent for other cases, can better be borne than could the evils of a different practice. At the same time, the candid citizen must confess that if the policy of the Government upon vital questions affecting the whole people is to be irrevocably fixed by decisions of the Supreme Court, the instant they are made in ordinary litigation between parties in personal actions the people will have ceased to be their own rulers, having to that extent practically resigned their Government into the hands of that eminent tribunal. Nor is there in this view any assault upon the court or the judges. It is a duty from which they may not shrink to decide cases properly brought before them, and it is no fault of theirs if others seek to turn their decisions to political purposes.\\n\\nOne section of our country believes slavery is right and ought to be extended, while the other believes it is wrong and ought not to be extended. This is the only substantial dispute. The fugitive-slave clause of the Constitution and the law for the suppression of the foreign slave trade are each as well enforced, perhaps, as any law can ever be in a community where the moral sense of the people imperfectly supports the law itself. The great body of the people abide by the dry legal obligation in both cases, and a few break over in each. This, I think, can not be perfectly cured, and it would be worse in both cases after the separation of the sections than before. The foreign slave trade, now imperfectly suppressed, would be ultimately revived without restriction in one section, while fugitive slaves, now only partially surrendered, would not be surrendered at all by the other.\\n\\nPhysically speaking, we can not separate. We can not remove our respective sections from each other nor build an impassable wall between them. A husband and wife may be divorced and go out of the presence and beyond the reach of each other, but the different parts of our country can not do this. They can not but remain face to face, and intercourse, either amicable or hostile, must continue between them. Is it possible, then, to make that intercourse more advantageous or more satisfactory after separation than before? Can aliens make treaties easier than friends can make laws? Can treaties be more faithfully enforced between aliens than laws can among friends? Suppose you go to war, you can not fight always; and when, after much loss on both sides and no gain on either, you cease fighting, the identical old questions, as to terms of intercourse, are again upon you.\\n\\nThis country, with its institutions, belongs to the people who inhabit it. Whenever they shall grow weary of the existing Government, they can exercise their constitutional right of amending it or their revolutionary right to dismember or overthrow it. I can not be ignorant of the fact that many worthy and patriotic citizens are desirous of having the National Constitution amended. While I make no recommendation of amendments, I fully recognize the rightful authority of the people over the whole subject, to be exercised in either of the modes prescribed in the instrument itself; and I should, under existing circumstances, favor rather than oppose a fair opportunity being afforded the people to act upon it. I will venture to add that to me the convention mode seems preferable, in that it allows amendments to originate with the people themselves, instead of only permitting them to take or reject propositions originated by others, not especially chosen for the purpose, and which might not be precisely such as they would wish to either accept or refuse. I understand a proposed amendment to the Constitution -- which amendment, however, I have not seen--has passed Congress, to the effect that the Federal Government shall never interfere with the domestic institutions of the States, including that of persons held to service. To avoid misconstruction of what I have said, I depart from my purpose not to speak of particular amendments so far as to say that, holding such a provision to now be implied constitutional law, I have no objection to its being made express and irrevocable.\\n\\nThe Chief Magistrate derives all his authority from the people, and they have referred none upon him to fix terms for the separation of the States. The people themselves can do this if also they choose, but the Executive as such has nothing to do with it. His duty is to administer the present Government as it came to his hands and to transmit it unimpaired by him to his successor.\\n\\nWhy should there not be a patient confidence in the ultimate justice of the people? Is there any better or equal hope in the world? In our present differences, is either party without faith of being in the right? If the Almighty Ruler of Nations, with His eternal truth and justice, be on your side of the North, or on yours of the South, that truth and that justice will surely prevail by the judgment of this great tribunal of the American people.\\n\\nBy the frame of the Government under which we live this same people have wisely given their public servants but little power for mischief, and have with equal wisdom provided for the return of that little to their own hands at very short intervals. While the people retain their virtue and vigilance no Administration by any extreme of wickedness or folly can very seriously injure the Government in the short space of four years.\\n\\nMy countrymen, one and all, think calmly and well upon this whole subject. Nothing valuable can be lost by taking time. If there be an object to hurry any of you in hot haste to a step which you would never take deliberately, that object will be frustrated by taking time; but no good object can be frustrated by it. Such of you as are now dissatisfied still have the old Constitution unimpaired, and, on the sensitive point, the laws of your own framing under it; while the new Administration will have no immediate power, if it would, to change either. If it were admitted that you who are dissatisfied hold the right side in the dispute, there still is no single good reason for precipitate action. Intelligence, patriotism, Christianity, and a firm reliance on Him who has never yet forsaken this favored land are still competent to adjust in the best way all our present difficulty.\\n\\nIn your hands, my dissatisfied fellow-countrymen, and not in mine, is the momentous issue of civil war. The Government will not assail you. You can have no conflict without being yourselves the aggressors. You have no oath registered in heaven to destroy the Government, while I shall have the most solemn one to \"preserve, protect, and defend it.\"\\n\\nI am loath to close. We are not enemies, but friends. We must not be enemies. Though passion may have strained it must not break our bonds of affection. The mystic chords of memory, stretching from every battlefield and patriot grave to every living heart and hearthstone all over this broad land, will yet swell the chorus of the Union, when again touched, as surely they will be, by the better angels of our nature.\\n'"
      ]
     },
     "execution_count": 56,
     "metadata": {},
     "output_type": "execute_result"
    }
   ],
   "source": [
    "inaugural.raw('1861-Lincoln.txt')"
   ]
  },
  {
   "cell_type": "markdown",
   "metadata": {},
   "source": [
    "<h4>Let's look at the complexity of the speeches by four presidents</h4>"
   ]
  },
  {
   "cell_type": "code",
   "execution_count": 57,
   "metadata": {
    "collapsed": true
   },
   "outputs": [
    {
     "ename": "OSError",
     "evalue": "No such file or directory: '/Users/william/nltk_data/corpora/inaugural/2017-Trump.txt'",
     "output_type": "error",
     "traceback": [
      "\u001b[0;31m---------------------------------------------------------------------------\u001b[0m",
      "\u001b[0;31mOSError\u001b[0m                                   Traceback (most recent call last)",
      "\u001b[0;32m<ipython-input-57-01be85fa6b60>\u001b[0m in \u001b[0;36m<module>\u001b[0;34m()\u001b[0m\n\u001b[0;32m----> 1\u001b[0;31m texts = [('trump',inaugural.raw('2017-Trump.txt')),\n\u001b[0m\u001b[1;32m      2\u001b[0m          \u001b[0;34m(\u001b[0m\u001b[0;34m'obama'\u001b[0m\u001b[0;34m,\u001b[0m\u001b[0minaugural\u001b[0m\u001b[0;34m.\u001b[0m\u001b[0mraw\u001b[0m\u001b[0;34m(\u001b[0m\u001b[0;34m'2009-Obama.txt'\u001b[0m\u001b[0;34m)\u001b[0m\u001b[0;34m+\u001b[0m\u001b[0minaugural\u001b[0m\u001b[0;34m.\u001b[0m\u001b[0mraw\u001b[0m\u001b[0;34m(\u001b[0m\u001b[0;34m'2013-Obama.txt'\u001b[0m\u001b[0;34m)\u001b[0m\u001b[0;34m)\u001b[0m\u001b[0;34m,\u001b[0m\u001b[0;34m\u001b[0m\u001b[0m\n\u001b[1;32m      3\u001b[0m          \u001b[0;34m(\u001b[0m\u001b[0;34m'jackson'\u001b[0m\u001b[0;34m,\u001b[0m\u001b[0minaugural\u001b[0m\u001b[0;34m.\u001b[0m\u001b[0mraw\u001b[0m\u001b[0;34m(\u001b[0m\u001b[0;34m'1829-Jackson.txt'\u001b[0m\u001b[0;34m)\u001b[0m\u001b[0;34m+\u001b[0m\u001b[0minaugural\u001b[0m\u001b[0;34m.\u001b[0m\u001b[0mraw\u001b[0m\u001b[0;34m(\u001b[0m\u001b[0;34m'1833-Jackson.txt'\u001b[0m\u001b[0;34m)\u001b[0m\u001b[0;34m)\u001b[0m\u001b[0;34m,\u001b[0m\u001b[0;34m\u001b[0m\u001b[0m\n\u001b[1;32m      4\u001b[0m          ('washington',inaugural.raw('1789-Washington.txt')+inaugural.raw('1793-Washington.txt'))]\n\u001b[1;32m      5\u001b[0m \u001b[0;32mfor\u001b[0m \u001b[0mtext\u001b[0m \u001b[0;32min\u001b[0m \u001b[0mtexts\u001b[0m\u001b[0;34m:\u001b[0m\u001b[0;34m\u001b[0m\u001b[0m\n",
      "\u001b[0;32m~/anaconda3/lib/python3.6/site-packages/nltk/corpus/reader/plaintext.py\u001b[0m in \u001b[0;36mraw\u001b[0;34m(self, fileids)\u001b[0m\n\u001b[1;32m     74\u001b[0m         \u001b[0mraw_texts\u001b[0m \u001b[0;34m=\u001b[0m \u001b[0;34m[\u001b[0m\u001b[0;34m]\u001b[0m\u001b[0;34m\u001b[0m\u001b[0m\n\u001b[1;32m     75\u001b[0m         \u001b[0;32mfor\u001b[0m \u001b[0mf\u001b[0m \u001b[0;32min\u001b[0m \u001b[0mfileids\u001b[0m\u001b[0;34m:\u001b[0m\u001b[0;34m\u001b[0m\u001b[0m\n\u001b[0;32m---> 76\u001b[0;31m             \u001b[0m_fin\u001b[0m \u001b[0;34m=\u001b[0m \u001b[0mself\u001b[0m\u001b[0;34m.\u001b[0m\u001b[0mopen\u001b[0m\u001b[0;34m(\u001b[0m\u001b[0mf\u001b[0m\u001b[0;34m)\u001b[0m\u001b[0;34m\u001b[0m\u001b[0m\n\u001b[0m\u001b[1;32m     77\u001b[0m             \u001b[0mraw_texts\u001b[0m\u001b[0;34m.\u001b[0m\u001b[0mappend\u001b[0m\u001b[0;34m(\u001b[0m\u001b[0m_fin\u001b[0m\u001b[0;34m.\u001b[0m\u001b[0mread\u001b[0m\u001b[0;34m(\u001b[0m\u001b[0;34m)\u001b[0m\u001b[0;34m)\u001b[0m\u001b[0;34m\u001b[0m\u001b[0m\n\u001b[1;32m     78\u001b[0m             \u001b[0m_fin\u001b[0m\u001b[0;34m.\u001b[0m\u001b[0mclose\u001b[0m\u001b[0;34m(\u001b[0m\u001b[0;34m)\u001b[0m\u001b[0;34m\u001b[0m\u001b[0m\n",
      "\u001b[0;32m~/anaconda3/lib/python3.6/site-packages/nltk/corpus/reader/api.py\u001b[0m in \u001b[0;36mopen\u001b[0;34m(self, file)\u001b[0m\n\u001b[1;32m    211\u001b[0m         \"\"\"\n\u001b[1;32m    212\u001b[0m         \u001b[0mencoding\u001b[0m \u001b[0;34m=\u001b[0m \u001b[0mself\u001b[0m\u001b[0;34m.\u001b[0m\u001b[0mencoding\u001b[0m\u001b[0;34m(\u001b[0m\u001b[0mfile\u001b[0m\u001b[0;34m)\u001b[0m\u001b[0;34m\u001b[0m\u001b[0m\n\u001b[0;32m--> 213\u001b[0;31m         \u001b[0mstream\u001b[0m \u001b[0;34m=\u001b[0m \u001b[0mself\u001b[0m\u001b[0;34m.\u001b[0m\u001b[0m_root\u001b[0m\u001b[0;34m.\u001b[0m\u001b[0mjoin\u001b[0m\u001b[0;34m(\u001b[0m\u001b[0mfile\u001b[0m\u001b[0;34m)\u001b[0m\u001b[0;34m.\u001b[0m\u001b[0mopen\u001b[0m\u001b[0;34m(\u001b[0m\u001b[0mencoding\u001b[0m\u001b[0;34m)\u001b[0m\u001b[0;34m\u001b[0m\u001b[0m\n\u001b[0m\u001b[1;32m    214\u001b[0m         \u001b[0;32mreturn\u001b[0m \u001b[0mstream\u001b[0m\u001b[0;34m\u001b[0m\u001b[0m\n\u001b[1;32m    215\u001b[0m \u001b[0;34m\u001b[0m\u001b[0m\n",
      "\u001b[0;32m~/anaconda3/lib/python3.6/site-packages/nltk/data.py\u001b[0m in \u001b[0;36mjoin\u001b[0;34m(self, fileid)\u001b[0m\n\u001b[1;32m    323\u001b[0m     \u001b[0;32mdef\u001b[0m \u001b[0mjoin\u001b[0m\u001b[0;34m(\u001b[0m\u001b[0mself\u001b[0m\u001b[0;34m,\u001b[0m \u001b[0mfileid\u001b[0m\u001b[0;34m)\u001b[0m\u001b[0;34m:\u001b[0m\u001b[0;34m\u001b[0m\u001b[0m\n\u001b[1;32m    324\u001b[0m         \u001b[0m_path\u001b[0m \u001b[0;34m=\u001b[0m \u001b[0mos\u001b[0m\u001b[0;34m.\u001b[0m\u001b[0mpath\u001b[0m\u001b[0;34m.\u001b[0m\u001b[0mjoin\u001b[0m\u001b[0;34m(\u001b[0m\u001b[0mself\u001b[0m\u001b[0;34m.\u001b[0m\u001b[0m_path\u001b[0m\u001b[0;34m,\u001b[0m \u001b[0mfileid\u001b[0m\u001b[0;34m)\u001b[0m\u001b[0;34m\u001b[0m\u001b[0m\n\u001b[0;32m--> 325\u001b[0;31m         \u001b[0;32mreturn\u001b[0m \u001b[0mFileSystemPathPointer\u001b[0m\u001b[0;34m(\u001b[0m\u001b[0m_path\u001b[0m\u001b[0;34m)\u001b[0m\u001b[0;34m\u001b[0m\u001b[0m\n\u001b[0m\u001b[1;32m    326\u001b[0m \u001b[0;34m\u001b[0m\u001b[0m\n\u001b[1;32m    327\u001b[0m     \u001b[0;32mdef\u001b[0m \u001b[0m__repr__\u001b[0m\u001b[0;34m(\u001b[0m\u001b[0mself\u001b[0m\u001b[0;34m)\u001b[0m\u001b[0;34m:\u001b[0m\u001b[0;34m\u001b[0m\u001b[0m\n",
      "\u001b[0;32m~/anaconda3/lib/python3.6/site-packages/nltk/compat.py\u001b[0m in \u001b[0;36m_decorator\u001b[0;34m(*args, **kwargs)\u001b[0m\n\u001b[1;32m    219\u001b[0m     \u001b[0;32mdef\u001b[0m \u001b[0m_decorator\u001b[0m\u001b[0;34m(\u001b[0m\u001b[0;34m*\u001b[0m\u001b[0margs\u001b[0m\u001b[0;34m,\u001b[0m \u001b[0;34m**\u001b[0m\u001b[0mkwargs\u001b[0m\u001b[0;34m)\u001b[0m\u001b[0;34m:\u001b[0m\u001b[0;34m\u001b[0m\u001b[0m\n\u001b[1;32m    220\u001b[0m         \u001b[0margs\u001b[0m \u001b[0;34m=\u001b[0m \u001b[0;34m(\u001b[0m\u001b[0margs\u001b[0m\u001b[0;34m[\u001b[0m\u001b[0;36m0\u001b[0m\u001b[0;34m]\u001b[0m\u001b[0;34m,\u001b[0m \u001b[0madd_py3_data\u001b[0m\u001b[0;34m(\u001b[0m\u001b[0margs\u001b[0m\u001b[0;34m[\u001b[0m\u001b[0;36m1\u001b[0m\u001b[0;34m]\u001b[0m\u001b[0;34m)\u001b[0m\u001b[0;34m)\u001b[0m \u001b[0;34m+\u001b[0m \u001b[0margs\u001b[0m\u001b[0;34m[\u001b[0m\u001b[0;36m2\u001b[0m\u001b[0;34m:\u001b[0m\u001b[0;34m]\u001b[0m\u001b[0;34m\u001b[0m\u001b[0m\n\u001b[0;32m--> 221\u001b[0;31m         \u001b[0;32mreturn\u001b[0m \u001b[0minit_func\u001b[0m\u001b[0;34m(\u001b[0m\u001b[0;34m*\u001b[0m\u001b[0margs\u001b[0m\u001b[0;34m,\u001b[0m \u001b[0;34m**\u001b[0m\u001b[0mkwargs\u001b[0m\u001b[0;34m)\u001b[0m\u001b[0;34m\u001b[0m\u001b[0m\n\u001b[0m\u001b[1;32m    222\u001b[0m     \u001b[0;32mreturn\u001b[0m \u001b[0mwraps\u001b[0m\u001b[0;34m(\u001b[0m\u001b[0minit_func\u001b[0m\u001b[0;34m)\u001b[0m\u001b[0;34m(\u001b[0m\u001b[0m_decorator\u001b[0m\u001b[0;34m)\u001b[0m\u001b[0;34m\u001b[0m\u001b[0m\n\u001b[1;32m    223\u001b[0m \u001b[0;34m\u001b[0m\u001b[0m\n",
      "\u001b[0;32m~/anaconda3/lib/python3.6/site-packages/nltk/data.py\u001b[0m in \u001b[0;36m__init__\u001b[0;34m(self, _path)\u001b[0m\n\u001b[1;32m    301\u001b[0m         \u001b[0m_path\u001b[0m \u001b[0;34m=\u001b[0m \u001b[0mos\u001b[0m\u001b[0;34m.\u001b[0m\u001b[0mpath\u001b[0m\u001b[0;34m.\u001b[0m\u001b[0mabspath\u001b[0m\u001b[0;34m(\u001b[0m\u001b[0m_path\u001b[0m\u001b[0;34m)\u001b[0m\u001b[0;34m\u001b[0m\u001b[0m\n\u001b[1;32m    302\u001b[0m         \u001b[0;32mif\u001b[0m \u001b[0;32mnot\u001b[0m \u001b[0mos\u001b[0m\u001b[0;34m.\u001b[0m\u001b[0mpath\u001b[0m\u001b[0;34m.\u001b[0m\u001b[0mexists\u001b[0m\u001b[0;34m(\u001b[0m\u001b[0m_path\u001b[0m\u001b[0;34m)\u001b[0m\u001b[0;34m:\u001b[0m\u001b[0;34m\u001b[0m\u001b[0m\n\u001b[0;32m--> 303\u001b[0;31m             \u001b[0;32mraise\u001b[0m \u001b[0mIOError\u001b[0m\u001b[0;34m(\u001b[0m\u001b[0;34m'No such file or directory: %r'\u001b[0m \u001b[0;34m%\u001b[0m \u001b[0m_path\u001b[0m\u001b[0;34m)\u001b[0m\u001b[0;34m\u001b[0m\u001b[0m\n\u001b[0m\u001b[1;32m    304\u001b[0m         \u001b[0mself\u001b[0m\u001b[0;34m.\u001b[0m\u001b[0m_path\u001b[0m \u001b[0;34m=\u001b[0m \u001b[0m_path\u001b[0m\u001b[0;34m\u001b[0m\u001b[0m\n\u001b[1;32m    305\u001b[0m \u001b[0;34m\u001b[0m\u001b[0m\n",
      "\u001b[0;31mOSError\u001b[0m: No such file or directory: '/Users/william/nltk_data/corpora/inaugural/2017-Trump.txt'"
     ]
    }
   ],
   "source": [
    "texts = [('trump',inaugural.raw('2017-Trump.txt')),\n",
    "         ('obama',inaugural.raw('2009-Obama.txt')+inaugural.raw('2013-Obama.txt')),\n",
    "         ('jackson',inaugural.raw('1829-Jackson.txt')+inaugural.raw('1833-Jackson.txt')),\n",
    "         ('washington',inaugural.raw('1789-Washington.txt')+inaugural.raw('1793-Washington.txt'))]\n",
    "for text in texts:\n",
    "    (vocab,word_size,sent_size,vocab_to_text) = get_complexity(text[1])\n",
    "    print(\"{0:15s}\\t{1:1.2f}\\t{2:1.2f}\\t{3:1.2f}\\t{4:1.2f}\".format(text[0],vocab,word_size,sent_size,vocab_to_text))"
   ]
  },
  {
   "cell_type": "markdown",
   "metadata": {},
   "source": [
    "<h2>Analysis over time</h2>\n"
   ]
  },
  {
   "cell_type": "markdown",
   "metadata": {},
   "source": [
    "<h3>The files are arranged over time so we can analyze how complexity has changed between Washington and Trump</h3>"
   ]
  },
  {
   "cell_type": "code",
   "execution_count": null,
   "metadata": {
    "collapsed": true
   },
   "outputs": [],
   "source": [
    "from nltk.corpus import inaugural\n",
    "sentence_lengths = list()\n",
    "for fileid in inaugural.fileids():\n",
    "    sentence_lengths.append(get_complexity(' '.join(inaugural.words(fileid)))[2])\n",
    "plt.plot(sentence_lengths)"
   ]
  },
  {
   "cell_type": "markdown",
   "metadata": {},
   "source": [
    "<h1>dispersion plots</h1>\n",
    "<h2>Dispersion plots show the relative frequency of words over the text</h2>\n",
    "<h3>Let's see how the frequency of some words has changed over the course of the republic</h3>\n",
    "<h3>That should give us some idea of how the focus of the nation has changed</h3>"
   ]
  },
  {
   "cell_type": "code",
   "execution_count": null,
   "metadata": {
    "collapsed": true
   },
   "outputs": [],
   "source": [
    "text4.dispersion_plot([\"government\", \"citizen\", \"freedom\", \"duties\", \"America\",'independence','God','patriotism'])"
   ]
  },
  {
   "cell_type": "markdown",
   "metadata": {},
   "source": [
    "<h4>We may want to use word stems rather than the part of speect form</h4>\n",
    "<li>For example: patriot, patriotic, patriotism all express roughly the same idea\n",
    "<li>nltk has a stemmer that implements the \"Porter Stemming Algorithm\" (https://tartarus.org/martin/PorterStemmer/)\n",
    "<li>We'll push everything to lowercase as well"
   ]
  },
  {
   "cell_type": "code",
   "execution_count": null,
   "metadata": {
    "collapsed": true
   },
   "outputs": [],
   "source": [
    "from nltk.stem.porter import PorterStemmer\n",
    "p_stemmer = PorterStemmer()\n",
    "text = inaugural.raw()\n",
    "striptext = text.replace('\\n\\n', ' ')\n",
    "striptext = striptext.replace('\\n', ' ')\n",
    "sentences = sent_tokenize(striptext)\n",
    "words = word_tokenize(striptext)\n",
    "text = nltk.Text([p_stemmer.stem(i).lower() for i in words])\n",
    "text.dispersion_plot([\"govern\", \"citizen\", \"free\", \"america\",'independ','god','patriot'])"
   ]
  },
  {
   "cell_type": "markdown",
   "metadata": {},
   "source": [
    "<h2>Weighted word analysis using Vader</h2>\n",
    "<h4>Vader contains a list of 7500 features weighted by how positive or negative they are</h4>\n",
    "<h4>It uses these features to calculate stats on how positive, negative and neutral a passage is</h4>\n",
    "<h4>And combines these results to give a compound sentiment (higher = more positive) for the passage</h4>\n",
    "<h4>Human trained on twitter data and generally considered good for informal communication</h4>\n",
    "<h4>10 humans rated each feature in each tweet in context from -4 to +4</h4>\n",
    "<h4>Calculates the sentiment in a sentence using word order analysis</h4>\n",
    "<li>\"marginally good\" will get a lower positive score than \"extremely good\"\n",
    "<h4>Computes a \"compound\" score based on heuristics (between -1 and +1)</h4>\n",
    "<h4>Includes sentiment of emoticons, punctuation, and other 'social media' lexicon elements</h4>\n"
   ]
  },
  {
   "cell_type": "code",
   "execution_count": null,
   "metadata": {
    "collapsed": true
   },
   "outputs": [],
   "source": [
    "!pip install vaderSentiment"
   ]
  },
  {
   "cell_type": "code",
   "execution_count": null,
   "metadata": {
    "collapsed": true
   },
   "outputs": [],
   "source": [
    "from vaderSentiment.vaderSentiment import SentimentIntensityAnalyzer"
   ]
  },
  {
   "cell_type": "code",
   "execution_count": null,
   "metadata": {
    "collapsed": true
   },
   "outputs": [],
   "source": [
    "headers = ['pos','neg','neu','compound']\n",
    "texts = restaurant_data\n",
    "analyzer = SentimentIntensityAnalyzer()\n",
    "for i in range(len(texts)):\n",
    "    name = texts[i][0]\n",
    "    sentences = sent_tokenize(texts[i][1])\n",
    "    pos=compound=neu=neg=0\n",
    "    for sentence in sentences:\n",
    "        vs = analyzer.polarity_scores(sentence)\n",
    "        pos+=vs['pos']/(len(sentences))\n",
    "        compound+=vs['compound']/(len(sentences))\n",
    "        neu+=vs['neu']/(len(sentences))\n",
    "        neg+=vs['neg']/(len(sentences))\n",
    "    print(name,pos,neg,neu,compound)"
   ]
  },
  {
   "cell_type": "markdown",
   "metadata": {},
   "source": [
    "<h4>And functionalize this as well</h4>"
   ]
  },
  {
   "cell_type": "code",
   "execution_count": null,
   "metadata": {
    "collapsed": true
   },
   "outputs": [],
   "source": [
    "def vader_comparison(texts):\n",
    "    from vaderSentiment.vaderSentiment import SentimentIntensityAnalyzer\n",
    "    headers = ['pos','neg','neu','compound']\n",
    "    print(\"Name\\t\",'  pos\\t','neg\\t','neu\\t','compound')\n",
    "    analyzer = SentimentIntensityAnalyzer()\n",
    "    for i in range(len(texts)):\n",
    "        name = texts[i][0]\n",
    "        sentences = sent_tokenize(texts[i][1])\n",
    "        pos=compound=neu=neg=0\n",
    "        for sentence in sentences:\n",
    "            vs = analyzer.polarity_scores(sentence)\n",
    "            pos+=vs['pos']/(len(sentences))\n",
    "            compound+=vs['compound']/(len(sentences))\n",
    "            neu+=vs['neu']/(len(sentences))\n",
    "            neg+=vs['neg']/(len(sentences))\n",
    "        print('%-10s'%name,'%1.2f\\t'%pos,'%1.2f\\t'%neg,'%1.2f\\t'%neu,'%1.2f\\t'%compound)"
   ]
  },
  {
   "cell_type": "code",
   "execution_count": null,
   "metadata": {
    "collapsed": true
   },
   "outputs": [],
   "source": [
    "vader_comparison(restaurant_data)"
   ]
  },
  {
   "cell_type": "markdown",
   "metadata": {
    "collapsed": true
   },
   "source": [
    "<h2>Named Entities</h2>\n",
    "<h4>People, places, organizations</h4>\n",
    "Named entities are often the subject of sentiments so identifying them can be very useful"
   ]
  },
  {
   "cell_type": "markdown",
   "metadata": {},
   "source": [
    "<h4>Named entity detection is based on Part-of-speech tagging of words and chunks (groups of words)</h4>\n",
    "<li>Start with sentences (using a sentence tokenizer)\n",
    "<li>tokenize words in each sentence\n",
    "<li>chunk them. ne_chunk identifies likely chunked candidates (ne = named entity)\n",
    "<li>Finally build chunks using nltk's guess on what members of chunk represent (people, place, organization)\n"
   ]
  },
  {
   "cell_type": "code",
   "execution_count": 1,
   "metadata": {},
   "outputs": [
    {
     "name": "stdout",
     "output_type": "stream",
     "text": [
      "name 'nltk' is not defined\n",
      "{}\n"
     ]
    }
   ],
   "source": [
    "en={}\n",
    "try:\n",
    "    sent_detector = nltk.data.load('tokenizers/punkt/english.pickle')\n",
    "    sentences = sent_detector.tokenize(community_data.raw().strip())\n",
    "    for sentence in sentences:\n",
    "            tokenized = nltk.word_tokenize(sentence)\n",
    "            tagged = nltk.pos_tag(tokenized)\n",
    "            chunked = nltk.ne_chunk(tagged)\n",
    "            for tree in chunked:\n",
    "                if hasattr(tree, 'label'):\n",
    "                    ne = ' '.join(c[0] for c in tree.leaves())\n",
    "                    en[ne] = [tree.label(), ' '.join(c[1] for c in tree.leaves())]\n",
    "except Exception as e:\n",
    "    print(str(e))\n",
    "import pprint\n",
    "pp = pprint.PrettyPrinter(indent=4)\n",
    "pp.pprint(en)"
   ]
  },
  {
   "cell_type": "markdown",
   "metadata": {},
   "source": [
    "<h4>Assuming we've done a good job of identifying named entities, we can get an affect score on entities</h4>"
   ]
  },
  {
   "cell_type": "code",
   "execution_count": null,
   "metadata": {
    "collapsed": true
   },
   "outputs": [],
   "source": [
    "meaningful_sents = list()\n",
    "i=0\n",
    "for sentence in sentences:\n",
    "    if 'service' in sentence:\n",
    "        i+=1\n",
    "        meaningful_sents.append((i,sentence))\n",
    "\n",
    "vader_comparison(meaningful_sents)       "
   ]
  },
  {
   "cell_type": "markdown",
   "metadata": {},
   "source": [
    "<h4>We could also develop a affect calculator for common terms in our domain (e.g., food items)</h4>"
   ]
  },
  {
   "cell_type": "code",
   "execution_count": null,
   "metadata": {
    "collapsed": true
   },
   "outputs": [],
   "source": [
    "def get_affect(text,word,lower=False):\n",
    "    import nltk\n",
    "    from vaderSentiment.vaderSentiment import SentimentIntensityAnalyzer\n",
    "    analyzer = SentimentIntensityAnalyzer()\n",
    "    sent_detector = nltk.data.load('tokenizers/punkt/english.pickle')\n",
    "    sentences = sent_detector.tokenize(text.strip())\n",
    "    sentence_count = 0\n",
    "    running_total = 0\n",
    "    for sentence in sentences:\n",
    "        if lower: sentence = sentence.lower()\n",
    "        if word in sentence:\n",
    "            vs = analyzer.polarity_scores(sentence) \n",
    "            running_total += vs['compound']\n",
    "            sentence_count += 1\n",
    "    if sentence_count == 0: return 0\n",
    "    return running_total/sentence_count"
   ]
  },
  {
   "cell_type": "code",
   "execution_count": null,
   "metadata": {
    "collapsed": true
   },
   "outputs": [],
   "source": [
    "get_affect(community_data.raw(),'service',True)"
   ]
  },
  {
   "cell_type": "markdown",
   "metadata": {},
   "source": [
    "<h4>The nltk function concordance returns text fragments around a word</h4>"
   ]
  },
  {
   "cell_type": "code",
   "execution_count": null,
   "metadata": {
    "collapsed": true
   },
   "outputs": [],
   "source": [
    "nltk.Text(community_data.words()).concordance('service',100)"
   ]
  },
  {
   "cell_type": "markdown",
   "metadata": {},
   "source": [
    "<h2>Text summarization</h2>\n",
    "<h4>Text summarization is useful because you can generate a short summary of a large piece of text automatically</h4>\n",
    "<h4>Then, these summaries can serve as an input into a topic analyzer to figure out what the main topic of the text is</h4>"
   ]
  },
  {
   "cell_type": "markdown",
   "metadata": {},
   "source": [
    "A naive form of summarization is to identify the most frequent words in a piece of text and use the occurrence of these words in sentences to rate the importance of a sentence. "
   ]
  },
  {
   "cell_type": "markdown",
   "metadata": {},
   "source": [
    "<h4>First the imports</h4>"
   ]
  },
  {
   "cell_type": "code",
   "execution_count": null,
   "metadata": {
    "collapsed": true
   },
   "outputs": [],
   "source": [
    "from nltk.tokenize import word_tokenize\n",
    "from nltk.tokenize import sent_tokenize\n",
    "from nltk.probability import FreqDist\n",
    "from nltk.corpus import stopwords\n",
    "from collections import OrderedDict\n",
    "import pprint"
   ]
  },
  {
   "cell_type": "markdown",
   "metadata": {},
   "source": [
    "<h4>Then prep the text. Get rid of end of line chars</h4>"
   ]
  },
  {
   "cell_type": "code",
   "execution_count": null,
   "metadata": {
    "collapsed": true
   },
   "outputs": [],
   "source": [
    "text = community_data.raw()\n",
    "summary_sentences = []\n",
    "candidate_sentences = {}\n",
    "candidate_sentence_counts = {}\n",
    "striptext = text.replace('\\n\\n', ' ')\n",
    "striptext = striptext.replace('\\n', ' ')"
   ]
  },
  {
   "cell_type": "markdown",
   "metadata": {},
   "source": [
    "<h4>Construct a list of words after getting rid of unimportant ones and numbers</h4>"
   ]
  },
  {
   "cell_type": "code",
   "execution_count": null,
   "metadata": {
    "collapsed": true
   },
   "outputs": [],
   "source": [
    "words = word_tokenize(striptext)\n",
    "lowercase_words = [word.lower() for word in words\n",
    "                  if word not in stopwords.words() and word.isalpha()]\n"
   ]
  },
  {
   "cell_type": "markdown",
   "metadata": {},
   "source": [
    "<h4>Construct word frequencies and choose the most common n (20)</h4>"
   ]
  },
  {
   "cell_type": "code",
   "execution_count": null,
   "metadata": {
    "collapsed": true
   },
   "outputs": [],
   "source": [
    "word_frequencies = FreqDist(lowercase_words)\n",
    "most_frequent_words = FreqDist(lowercase_words).most_common(20)\n",
    "pp = pprint.PrettyPrinter(indent=4)\n",
    "pp.pprint(most_frequent_words)"
   ]
  },
  {
   "cell_type": "markdown",
   "metadata": {},
   "source": [
    "<h4>lowercase the sentences</h4>\n",
    "candidate_sentences is a dictionary with the original sentence as the key, and its lowercase version as the value"
   ]
  },
  {
   "cell_type": "code",
   "execution_count": null,
   "metadata": {
    "collapsed": true
   },
   "outputs": [],
   "source": [
    "sentences = sent_tokenize(striptext)\n",
    "for sentence in sentences:\n",
    "    candidate_sentences[sentence] = sentence.lower()\n",
    "candidate_sentences"
   ]
  },
  {
   "cell_type": "code",
   "execution_count": null,
   "metadata": {
    "collapsed": true
   },
   "outputs": [],
   "source": [
    "for long, short in candidate_sentences.items():\n",
    "    count = 0\n",
    "    for freq_word, frequency_score in most_frequent_words:\n",
    "        if freq_word in short:\n",
    "            count += frequency_score\n",
    "            candidate_sentence_counts[long] = count"
   ]
  },
  {
   "cell_type": "code",
   "execution_count": null,
   "metadata": {
    "collapsed": true
   },
   "outputs": [],
   "source": [
    "sorted_sentences = OrderedDict(sorted(\n",
    "                    candidate_sentence_counts.items(),\n",
    "                    key = lambda x: x[0],\n",
    "                    reverse = True)[:4])\n",
    "pp.pprint(sorted_sentences)"
   ]
  },
  {
   "cell_type": "markdown",
   "metadata": {},
   "source": [
    "<h4>Packaging all this into a function</h4>\n"
   ]
  },
  {
   "cell_type": "code",
   "execution_count": null,
   "metadata": {
    "collapsed": true
   },
   "outputs": [],
   "source": [
    "def build_naive_summary(text):\n",
    "    from nltk.tokenize import word_tokenize\n",
    "    from nltk.tokenize import sent_tokenize\n",
    "    from nltk.probability import FreqDist\n",
    "    from nltk.corpus import stopwords\n",
    "    from collections import OrderedDict\n",
    "    summary_sentences = []\n",
    "    candidate_sentences = {}\n",
    "    candidate_sentence_counts = {}\n",
    "    striptext = text.replace('\\n\\n', ' ')\n",
    "    striptext = striptext.replace('\\n', ' ')\n",
    "    words = word_tokenize(striptext)\n",
    "    lowercase_words = [word.lower() for word in words\n",
    "                      if word not in stopwords.words() and word.isalpha()]\n",
    "    word_frequencies = FreqDist(lowercase_words)\n",
    "    most_frequent_words = FreqDist(lowercase_words).most_common(20)\n",
    "    sentences = sent_tokenize(striptext)\n",
    "    for sentence in sentences:\n",
    "        candidate_sentences[sentence] = sentence.lower()\n",
    "    for long, short in candidate_sentences.items():\n",
    "        count = 0\n",
    "        for freq_word, frequency_score in most_frequent_words:\n",
    "            if freq_word in short:\n",
    "                count += frequency_score\n",
    "                candidate_sentence_counts[long] = count   \n",
    "    sorted_sentences = OrderedDict(sorted(\n",
    "                        candidate_sentence_counts.items(),\n",
    "                        key = lambda x: x[1],\n",
    "                        reverse = True)[:4])\n",
    "    return sorted_sentences   "
   ]
  },
  {
   "cell_type": "code",
   "execution_count": null,
   "metadata": {
    "collapsed": true
   },
   "outputs": [],
   "source": [
    "summary = '\\n'.join(build_naive_summary(community_data.raw()))\n",
    "print(summary)"
   ]
  },
  {
   "cell_type": "code",
   "execution_count": null,
   "metadata": {
    "collapsed": true
   },
   "outputs": [],
   "source": [
    "summary = '\\n'.join(build_naive_summary(le_monde_data.raw()))\n",
    "print(summary)"
   ]
  },
  {
   "cell_type": "markdown",
   "metadata": {},
   "source": [
    "<h4>We can summarize George Washington's first inaugural speech<h4>"
   ]
  },
  {
   "cell_type": "code",
   "execution_count": null,
   "metadata": {
    "collapsed": true
   },
   "outputs": [],
   "source": [
    "build_naive_summary(inaugural.raw('2013-Obama.txt'))"
   ]
  },
  {
   "cell_type": "markdown",
   "metadata": {},
   "source": [
    "<h3>gensim: another text summarizer</h3>\n",
    "Gensim uses a network with sentences as nodes and 'lexical similarity' as weights on the arcs between nodes<p>\n"
   ]
  },
  {
   "cell_type": "code",
   "execution_count": null,
   "metadata": {
    "collapsed": true
   },
   "outputs": [],
   "source": [
    "from wordcloud import WordCloud, STOPWORDS\n",
    "import matplotlib.pyplot as plt\n",
    "%matplotlib inline\n",
    "import nltk\n",
    "from nltk.corpus import PlaintextCorpusReader\n",
    "from nltk import sent_tokenize,word_tokenize \n",
    "from nltk.book import *"
   ]
  },
  {
   "cell_type": "code",
   "execution_count": null,
   "metadata": {
    "collapsed": true
   },
   "outputs": [],
   "source": [
    "import nltk\n",
    "from nltk.corpus import PlaintextCorpusReader\n",
    "community_root = \"data/community\"\n",
    "le_monde_root = \"data/le_monde\"\n",
    "community_files = \"community.*\"\n",
    "le_monde_files = \"le_monde.*\"\n",
    "heights_root = \"data/heights\"\n",
    "heights_files = \"heights.*\"\n",
    "amigos_root = \"data/amigos\"\n",
    "amigos_files = \"amigos.*\"\n",
    "community_data = PlaintextCorpusReader(community_root,community_files)\n",
    "le_monde_data = PlaintextCorpusReader(le_monde_root,le_monde_files)\n",
    "heights_data = PlaintextCorpusReader(heights_root,heights_files)\n",
    "amigos_data = PlaintextCorpusReader(amigos_root,amigos_files)"
   ]
  },
  {
   "cell_type": "code",
   "execution_count": null,
   "metadata": {
    "collapsed": true
   },
   "outputs": [],
   "source": [
    "type(community_data)"
   ]
  },
  {
   "cell_type": "code",
   "execution_count": null,
   "metadata": {
    "collapsed": true
   },
   "outputs": [],
   "source": [
    "text = community_data.raw()\n",
    "summary_sentences = []\n",
    "candidate_sentences = {}\n",
    "candidate_sentence_counts = {}\n",
    "striptext = text.replace('\\n\\n', ' ')\n",
    "striptext = striptext.replace('\\n', ' ')"
   ]
  },
  {
   "cell_type": "code",
   "execution_count": null,
   "metadata": {
    "collapsed": true
   },
   "outputs": [],
   "source": [
    "import gensim.summarization"
   ]
  },
  {
   "cell_type": "code",
   "execution_count": null,
   "metadata": {
    "collapsed": true
   },
   "outputs": [],
   "source": []
  },
  {
   "cell_type": "code",
   "execution_count": null,
   "metadata": {
    "collapsed": true
   },
   "outputs": [],
   "source": [
    "!pip install gensim"
   ]
  },
  {
   "cell_type": "code",
   "execution_count": null,
   "metadata": {
    "collapsed": true
   },
   "outputs": [],
   "source": [
    "import gensim.summarization"
   ]
  },
  {
   "cell_type": "code",
   "execution_count": null,
   "metadata": {
    "collapsed": true
   },
   "outputs": [],
   "source": [
    "summary = gensim.summarization.summarize(striptext, word_count=100) \n",
    "print(summary)"
   ]
  },
  {
   "cell_type": "code",
   "execution_count": null,
   "metadata": {
    "collapsed": true
   },
   "outputs": [],
   "source": [
    "print(gensim.summarization.keywords(striptext,words=10))"
   ]
  },
  {
   "cell_type": "code",
   "execution_count": null,
   "metadata": {
    "collapsed": true
   },
   "outputs": [],
   "source": [
    "summary = '\\n'.join(build_naive_summary(community_data.raw()))\n",
    "print(summary)"
   ]
  },
  {
   "cell_type": "code",
   "execution_count": null,
   "metadata": {
    "collapsed": true
   },
   "outputs": [],
   "source": [
    "text = le_monde_data.raw()\n",
    "summary_sentences = []\n",
    "candidate_sentences = {}\n",
    "candidate_sentence_counts = {}\n",
    "striptext = text.replace('\\n\\n', ' ')\n",
    "striptext = striptext.replace('\\n', ' ')\n",
    "summary = gensim.summarization.summarize(striptext, word_count=100) \n",
    "print(summary)\n",
    "#print(gensim.summarization.keywords(striptext,words=10))"
   ]
  },
  {
   "cell_type": "markdown",
   "metadata": {},
   "source": [
    "<h1>Topic modeling</h1>\n",
    "<h4>The goal of topic modeling is to identify the major concepts underlying a piece of text</h4>\n",
    "<h4>Topic modeling uses \"Unsupervised Learning\". No apriori knowledge is necessary\n",
    "<li>Though it is helpful in cleaning up results!"
   ]
  },
  {
   "cell_type": "markdown",
   "metadata": {},
   "source": [
    "<h3>LDA: Latent Dirichlet Allocation Model</h3>\n",
    "<li>Identifies potential topics using pruning techniques like 'upward closure'\n",
    "<li>Computes conditional probabilities for topic word sets\n",
    "<li>Identifies the most likely topics\n",
    "<li>Does this over multiple passes probabilistically picking topics in each pass\n",
    "<li>Good intuitive explanation: http://blog.echen.me/2011/08/22/introduction-to-latent-dirichlet-allocation/"
   ]
  },
  {
   "cell_type": "code",
   "execution_count": null,
   "metadata": {
    "collapsed": true
   },
   "outputs": [],
   "source": [
    "from gensim import corpora\n",
    "from gensim.models.ldamodel import LdaModel\n",
    "from gensim.parsing.preprocessing import STOPWORDS\n",
    "import pprint"
   ]
  },
  {
   "cell_type": "markdown",
   "metadata": {},
   "source": [
    "<h4>Prepare the text</h4>"
   ]
  },
  {
   "cell_type": "code",
   "execution_count": null,
   "metadata": {
    "collapsed": true
   },
   "outputs": [],
   "source": [
    "text = PlaintextCorpusReader(\"data/\",\"Nikon_coolpix_4300.txt\").raw()\n",
    "striptext = text.replace('\\n\\n', ' ')\n",
    "striptext = striptext.replace('\\n', ' ')\n",
    "sentences = sent_tokenize(striptext)\n",
    "#words = word_tokenize(striptext)\n",
    "#tokenize each sentence into word tokens\n",
    "texts = [[word for word in sentence.lower().split()\n",
    "        if word not in STOPWORDS and word.isalnum()]\n",
    "        for sentence in sentences]\n",
    "len(texts)"
   ]
  },
  {
   "cell_type": "markdown",
   "metadata": {},
   "source": [
    "<h4>Create a (word,frequency) dictionary for each word in the text</h4>"
   ]
  },
  {
   "cell_type": "code",
   "execution_count": null,
   "metadata": {
    "collapsed": true
   },
   "outputs": [],
   "source": [
    "print(text)"
   ]
  },
  {
   "cell_type": "code",
   "execution_count": null,
   "metadata": {
    "collapsed": true
   },
   "outputs": [],
   "source": [
    "text"
   ]
  },
  {
   "cell_type": "code",
   "execution_count": null,
   "metadata": {
    "collapsed": true
   },
   "outputs": [],
   "source": [
    "dictionary = corpora.Dictionary(texts) #(word_id,frequency) pairs\n",
    "corpus = [dictionary.doc2bow(text) for text in texts] #(word_id,freq) pairs by sentence\n",
    "#print(dictionary.token2id)\n",
    "#print(dictionary.keys())\n",
    "#print(corpus[9])\n",
    "#print(texts[9])\n",
    "#print(dictionary[73])\n",
    "#dictionary[4]"
   ]
  },
  {
   "cell_type": "markdown",
   "metadata": {},
   "source": [
    "<h4>Do the LDA</h4>"
   ]
  },
  {
   "cell_type": "markdown",
   "metadata": {},
   "source": [
    "<h4>Parameters:</h4>\n",
    "<li>Number of topics: The number of topics you want generated. The larger the document, the more the desirable topics\n",
    "<li>Passes: The LDA model makes through the document. More passes, slower analysis"
   ]
  },
  {
   "cell_type": "code",
   "execution_count": null,
   "metadata": {
    "collapsed": true
   },
   "outputs": [],
   "source": [
    "#Set parameters\n",
    "num_topics = 5 #The number of topics that should be generated\n",
    "passes = 10 "
   ]
  },
  {
   "cell_type": "code",
   "execution_count": null,
   "metadata": {
    "collapsed": true
   },
   "outputs": [],
   "source": [
    "lda = LdaModel(corpus,\n",
    "              id2word=dictionary,\n",
    "              num_topics=num_topics,\n",
    "              passes=10)"
   ]
  },
  {
   "cell_type": "code",
   "execution_count": null,
   "metadata": {
    "collapsed": true
   },
   "outputs": [],
   "source": []
  },
  {
   "cell_type": "markdown",
   "metadata": {},
   "source": [
    "<h4>See results</h4>"
   ]
  },
  {
   "cell_type": "code",
   "execution_count": null,
   "metadata": {
    "collapsed": true
   },
   "outputs": [],
   "source": [
    "pp = pprint.PrettyPrinter(indent=4)\n",
    "pp.pprint(lda.print_topics(num_words=3))"
   ]
  },
  {
   "cell_type": "markdown",
   "metadata": {},
   "source": [
    "<h2>Matching topics to documents</h2>\n",
    "<h3>Sort topics by probability</h3>"
   ]
  },
  {
   "cell_type": "markdown",
   "metadata": {},
   "source": [
    "<h4>We're using sentences as documents here, so this is less than ideal</h4>"
   ]
  },
  {
   "cell_type": "code",
   "execution_count": null,
   "metadata": {
    "collapsed": true
   },
   "outputs": [],
   "source": [
    "from operator import itemgetter\n",
    "lda.get_document_topics(corpus[0],minimum_probability=0.05,per_word_topics=False)\n",
    "sorted(lda.get_document_topics(corpus[0],minimum_probability=0,per_word_topics=False),key=itemgetter(1),reverse=True)"
   ]
  },
  {
   "cell_type": "markdown",
   "metadata": {},
   "source": [
    "<h3>Making sense of the topics</h3>\n"
   ]
  },
  {
   "cell_type": "markdown",
   "metadata": {},
   "source": [
    "<h4>Draw wordclouds</h4>"
   ]
  },
  {
   "cell_type": "code",
   "execution_count": null,
   "metadata": {
    "collapsed": true
   },
   "outputs": [],
   "source": [
    "def draw_wordcloud(lda,topicnum,min_size=0,STOPWORDS=[]):\n",
    "    word_list=[]\n",
    "    prob_total = 0\n",
    "    for word,prob in lda.show_topic(topicnum,topn=50):\n",
    "        prob_total +=prob\n",
    "    for word,prob in lda.show_topic(topicnum,topn=50):\n",
    "        if word in STOPWORDS or  len(word) < min_size:\n",
    "            continue\n",
    "        freq = int(prob/prob_total*1000)\n",
    "        alist=[word]\n",
    "        word_list.extend(alist*freq)\n",
    "\n",
    "    from wordcloud import WordCloud, STOPWORDS\n",
    "    import matplotlib.pyplot as plt\n",
    "    %matplotlib inline\n",
    "    text = ' '.join(word_list)\n",
    "    wordcloud = WordCloud(stopwords=STOPWORDS,background_color='white',width=3000,height=3000).generate(' '.join(word_list))\n",
    "\n",
    "\n",
    "    plt.imshow(wordcloud)\n",
    "    plt.axis('off')\n",
    "    plt.show()"
   ]
  },
  {
   "cell_type": "code",
   "execution_count": null,
   "metadata": {
    "collapsed": true
   },
   "outputs": [],
   "source": [
    "# Look at topic number 2\n",
    "draw_wordcloud(lda,2)"
   ]
  },
  {
   "cell_type": "markdown",
   "metadata": {},
   "source": [
    "<h4>Roughly,</h4>\n",
    "<li>lda looks for candidate topics assuming that there are many such candidates\n",
    "<li>looks for words related to the candidate topics\n",
    "<li>assign probablilites to those words"
   ]
  },
  {
   "cell_type": "markdown",
   "metadata": {},
   "source": [
    "<h3>Let's look at Presidential addresses to see what sorts of topics emerge from there</h3>\n",
    "<li>Each document will be analyzed for topic</li>\n",
    "<li>The corpus will consist of 58 documents, one per presidential address"
   ]
  },
  {
   "cell_type": "code",
   "execution_count": null,
   "metadata": {
    "collapsed": true
   },
   "outputs": [],
   "source": [
    "REMOVE_WORDS = {'shall','generally','spirit','country','people','nation','nations','great','better'}\n",
    "#Create a word dictionary (id, word)\n",
    "texts = [[word for word in sentence.lower().split()\n",
    "        if word not in STOPWORDS and word not in REMOVE_WORDS and word.isalnum()]\n",
    "        for sentence in sentences]\n",
    "dictionary = corpora.Dictionary(texts)\n",
    "\n",
    "#Create a corpus of documents\n",
    "text_list = list()\n",
    "for fileid in inaugural.fileids():\n",
    "    text = inaugural.words(fileid)\n",
    "    doc=list()\n",
    "    for word in text:\n",
    "        if word in STOPWORDS or word in REMOVE_WORDS or not word.isalpha() or len(word) <5:\n",
    "            continue\n",
    "        doc.append(word)\n",
    "    text_list.append(doc)\n",
    "by_address_corpus = [dictionary.doc2bow(text) for text in text_list]"
   ]
  },
  {
   "cell_type": "markdown",
   "metadata": {},
   "source": [
    "<h2>Create the model</h2>"
   ]
  },
  {
   "cell_type": "code",
   "execution_count": null,
   "metadata": {
    "collapsed": true
   },
   "outputs": [],
   "source": [
    "lda = LdaModel(by_address_corpus,\n",
    "              id2word=dictionary,\n",
    "              num_topics=20,\n",
    "              passes=10)"
   ]
  },
  {
   "cell_type": "code",
   "execution_count": null,
   "metadata": {
    "collapsed": true
   },
   "outputs": [],
   "source": [
    "pp = pprint.PrettyPrinter(indent=4)\n",
    "pp.pprint(lda.print_topics(num_words=10))"
   ]
  },
  {
   "cell_type": "markdown",
   "metadata": {},
   "source": [
    "<h2>We can now compare presidential addresses by topic</h2>"
   ]
  },
  {
   "cell_type": "code",
   "execution_count": null,
   "metadata": {
    "collapsed": true
   },
   "outputs": [],
   "source": [
    "len(by_address_corpus)"
   ]
  },
  {
   "cell_type": "code",
   "execution_count": null,
   "metadata": {
    "collapsed": true
   },
   "outputs": [],
   "source": [
    "from operator import itemgetter\n",
    "sorted(lda.get_document_topics(by_address_corpus[0],minimum_probability=0,per_word_topics=False),key=itemgetter(1),reverse=True)"
   ]
  },
  {
   "cell_type": "code",
   "execution_count": null,
   "metadata": {
    "collapsed": true
   },
   "outputs": [],
   "source": [
    "draw_wordcloud(lda,18)"
   ]
  },
  {
   "cell_type": "code",
   "execution_count": null,
   "metadata": {
    "collapsed": true
   },
   "outputs": [],
   "source": [
    "print(lda.show_topic(12,topn=5))\n",
    "print(lda.show_topic(18,topn=5))"
   ]
  },
  {
   "cell_type": "markdown",
   "metadata": {
    "collapsed": true
   },
   "source": [
    "<h1>Similarity</h1>\n",
    "<h2>Given a corpus of documents, when a new document arrives, find the document that is the most similar</h2>"
   ]
  },
  {
   "cell_type": "code",
   "execution_count": null,
   "metadata": {
    "collapsed": true
   },
   "outputs": [],
   "source": [
    "doc_list = [community_data,le_monde_data,amigos_data,heights_data]\n",
    "all_text = community_data.raw() + le_monde_data.raw() + amigos_data.raw() + heights_data.raw()\n",
    "\n",
    "documents = [doc.raw() for doc in doc_list]\n",
    "texts = [[word for word in document.lower().split()\n",
    "        if word not in STOPWORDS and word.isalnum()]\n",
    "        for document in documents]\n",
    "dictionary = corpora.Dictionary(texts)\n",
    "corpus = [dictionary.doc2bow(text) for text in texts]\n"
   ]
  },
  {
   "cell_type": "code",
   "execution_count": null,
   "metadata": {
    "collapsed": true
   },
   "outputs": [],
   "source": [
    "from gensim.similarities.docsim import Similarity\n",
    "from gensim import corpora, models, similarities\n",
    "lsi = models.LsiModel(corpus, id2word=dictionary, num_topics=2)\n",
    "doc = \"\"\"\n",
    "Many, many years ago, I used to frequent this place for their amazing french toast. \n",
    "It's been a while since then and I've been hesitant to review a place I haven't been to in 7-8 years... \n",
    "but I passed by French Roast and, feeling nostalgic, decided to go back.\n",
    "\n",
    "It was a great decision.\n",
    "\n",
    "Their Bloody Mary is fantastic and includes bacon (which was perfectly cooked!!), olives, \n",
    "cucumber, and celery. The Irish coffee is also excellent, even without the cream which is what I ordered.\n",
    "\n",
    "Great food, great drinks, a great ambiance that is casual yet familiar like a tiny little French cafe. \n",
    "I highly recommend coming here, and will be back whenever I'm in the area next.\n",
    "\n",
    "Juan, the bartender, is great!! One of the best in any brunch spot in the city, by far.\n",
    "\"\"\"\n",
    "vec_bow = dictionary.doc2bow(doc.lower().split())\n",
    "vec_lsi = lsi[vec_bow]\n",
    "index = similarities.MatrixSimilarity(lsi[corpus])\n",
    "sims = index[vec_lsi]\n",
    "sims = sorted(enumerate(sims), key=lambda item: -item[1])\n"
   ]
  },
  {
   "cell_type": "code",
   "execution_count": null,
   "metadata": {
    "collapsed": true
   },
   "outputs": [],
   "source": [
    "sims"
   ]
  },
  {
   "cell_type": "code",
   "execution_count": null,
   "metadata": {
    "collapsed": true
   },
   "outputs": [],
   "source": [
    "doc=\"\"\"\n",
    "I went to Mexican Festival Restaurant for Cinco De Mayo because I had been there years \n",
    "prior and had such a good experience. This time wasn't so good. The food was just \n",
    "mediocre and it wasn't hot when it was brought to our table. They brought my friends food out \n",
    "10 minutes before everyone else and it took forever to get drinks. We let it slide because the place was \n",
    "packed with people and it was Cinco De Mayo. Also, the margaritas we had were slamming! Pure tequila. \n",
    "\n",
    "But then things took a turn for the worst. As I went to get something out of my purse which was on \n",
    "the back of my chair, I looked down and saw a huge water bug. I had to warn the lady next to me because \n",
    "it was so close to her chair. We called the waitress over and someone came with a broom and a dustpan and \n",
    "swept it away like it was an everyday experience. No one seemed phased.\n",
    "\n",
    "Even though our waitress was very nice, I do not think we will be returning to Mexican Festival again. \n",
    "It seems the restaurant is a shadow of its former self.\n",
    "\"\"\"\n",
    "vec_bow = dictionary.doc2bow(doc.lower().split())\n",
    "vec_lsi = lsi[vec_bow]\n",
    "index = similarities.MatrixSimilarity(lsi[corpus])\n",
    "sims = index[vec_lsi]\n",
    "sims = sorted(enumerate(sims), key=lambda item: -item[1])\n",
    "sims"
   ]
  },
  {
   "cell_type": "code",
   "execution_count": null,
   "metadata": {
    "collapsed": true
   },
   "outputs": [],
   "source": []
  }
 ],
 "metadata": {
  "anaconda-cloud": {},
  "kernelspec": {
   "display_name": "Python 3",
   "language": "python",
   "name": "python3"
  },
  "language_info": {
   "codemirror_mode": {
    "name": "ipython",
    "version": 3
   },
   "file_extension": ".py",
   "mimetype": "text/x-python",
   "name": "python",
   "nbconvert_exporter": "python",
   "pygments_lexer": "ipython3",
   "version": "3.6.3"
  }
 },
 "nbformat": 4,
 "nbformat_minor": 1
}
