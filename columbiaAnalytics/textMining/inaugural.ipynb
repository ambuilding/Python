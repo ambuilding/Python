{
 "cells": [
  {
   "cell_type": "code",
   "execution_count": 1,
   "metadata": {},
   "outputs": [
    {
     "name": "stdout",
     "output_type": "stream",
     "text": [
      "*** Introductory Examples for the NLTK Book ***\n",
      "Loading text1, ..., text9 and sent1, ..., sent9\n",
      "Type the name of the text or sentence to view it.\n",
      "Type: 'texts()' or 'sents()' to list the materials.\n",
      "text1: Moby Dick by Herman Melville 1851\n",
      "text2: Sense and Sensibility by Jane Austen 1811\n",
      "text3: The Book of Genesis\n",
      "text4: Inaugural Address Corpus\n",
      "text5: Chat Corpus\n",
      "text6: Monty Python and the Holy Grail\n",
      "text7: Wall Street Journal\n",
      "text8: Personals Corpus\n",
      "text9: The Man Who Was Thursday by G . K . Chesterton 1908\n"
     ]
    }
   ],
   "source": [
    "from nltk.book import *"
   ]
  },
  {
   "cell_type": "code",
   "execution_count": 2,
   "metadata": {},
   "outputs": [
    {
     "data": {
      "text/plain": [
       "['1789-Washington.txt',\n",
       " '1793-Washington.txt',\n",
       " '1797-Adams.txt',\n",
       " '1801-Jefferson.txt',\n",
       " '1805-Jefferson.txt',\n",
       " '1809-Madison.txt',\n",
       " '1813-Madison.txt',\n",
       " '1817-Monroe.txt',\n",
       " '1821-Monroe.txt',\n",
       " '1825-Adams.txt',\n",
       " '1829-Jackson.txt',\n",
       " '1833-Jackson.txt',\n",
       " '1837-VanBuren.txt',\n",
       " '1841-Harrison.txt',\n",
       " '1845-Polk.txt',\n",
       " '1849-Taylor.txt',\n",
       " '1853-Pierce.txt',\n",
       " '1857-Buchanan.txt',\n",
       " '1861-Lincoln.txt',\n",
       " '1865-Lincoln.txt',\n",
       " '1869-Grant.txt',\n",
       " '1873-Grant.txt',\n",
       " '1877-Hayes.txt',\n",
       " '1881-Garfield.txt',\n",
       " '1885-Cleveland.txt',\n",
       " '1889-Harrison.txt',\n",
       " '1893-Cleveland.txt',\n",
       " '1897-McKinley.txt',\n",
       " '1901-McKinley.txt',\n",
       " '1905-Roosevelt.txt',\n",
       " '1909-Taft.txt',\n",
       " '1913-Wilson.txt',\n",
       " '1917-Wilson.txt',\n",
       " '1921-Harding.txt',\n",
       " '1925-Coolidge.txt',\n",
       " '1929-Hoover.txt',\n",
       " '1933-Roosevelt.txt',\n",
       " '1937-Roosevelt.txt',\n",
       " '1941-Roosevelt.txt',\n",
       " '1945-Roosevelt.txt',\n",
       " '1949-Truman.txt',\n",
       " '1953-Eisenhower.txt',\n",
       " '1957-Eisenhower.txt',\n",
       " '1961-Kennedy.txt',\n",
       " '1965-Johnson.txt',\n",
       " '1969-Nixon.txt',\n",
       " '1973-Nixon.txt',\n",
       " '1977-Carter.txt',\n",
       " '1981-Reagan.txt',\n",
       " '1985-Reagan.txt',\n",
       " '1989-Bush.txt',\n",
       " '1993-Clinton.txt',\n",
       " '1997-Clinton.txt',\n",
       " '2001-Bush.txt',\n",
       " '2005-Bush.txt',\n",
       " '2009-Obama.txt',\n",
       " '2013-Obama.txt',\n",
       " '2017-Trump.txt']"
      ]
     },
     "execution_count": 2,
     "metadata": {},
     "output_type": "execute_result"
    }
   ],
   "source": [
    "inaugural.fileids()"
   ]
  },
  {
   "cell_type": "code",
   "execution_count": 3,
   "metadata": {},
   "outputs": [
    {
     "data": {
      "text/plain": [
       "21017"
      ]
     },
     "execution_count": 3,
     "metadata": {},
     "output_type": "execute_result"
    }
   ],
   "source": [
    "type(inaugural.raw())\n",
    "len(inaugural.raw())\n",
    "len(inaugural.raw('1861-Lincoln.txt'))"
   ]
  },
  {
   "cell_type": "code",
   "execution_count": 4,
   "metadata": {
    "collapsed": true
   },
   "outputs": [],
   "source": [
    "import nltk\n",
    "from nltk import sent_tokenize,word_tokenize "
   ]
  },
  {
   "cell_type": "code",
   "execution_count": 5,
   "metadata": {
    "collapsed": true
   },
   "outputs": [],
   "source": [
    "def get_complexity(text):\n",
    "    num_chars=len(text)\n",
    "    num_words=len(word_tokenize(text))\n",
    "    num_sentences=len(sent_tokenize(text))\n",
    "    vocab = {x.lower() for x in word_tokenize(text)}\n",
    "    \n",
    "    return len(vocab),int(num_chars/num_words),int(num_words/num_sentences),len(vocab)/num_words"
   ]
  },
  {
   "cell_type": "code",
   "execution_count": 6,
   "metadata": {},
   "outputs": [
    {
     "name": "stdout",
     "output_type": "stream",
     "text": [
      "trump          \t540.00\t5.00\t18.00\t0.32\n",
      "obama          \t1349.00\t5.00\t25.00\t0.27\n",
      "jackson        \t813.00\t5.00\t45.00\t0.33\n",
      "washington     \t636.00\t5.00\t62.00\t0.38\n"
     ]
    }
   ],
   "source": [
    "texts = [('trump',inaugural.raw('2017-Trump.txt')),\n",
    "         ('obama',inaugural.raw('2009-Obama.txt')+inaugural.raw('2013-Obama.txt')),\n",
    "         ('jackson',inaugural.raw('1829-Jackson.txt')+inaugural.raw('1833-Jackson.txt')),\n",
    "         ('washington',inaugural.raw('1789-Washington.txt')+inaugural.raw('1793-Washington.txt'))]\n",
    "\n",
    "for text in texts:\n",
    "    (vocab,word_size,sent_size,vocab_to_text) = get_complexity(text[1])\n",
    "    print(\"{0:15s}\\t{1:1.2f}\\t{2:1.2f}\\t{3:1.2f}\\t{4:1.2f}\".format(text[0],vocab,word_size,sent_size,vocab_to_text))"
   ]
  },
  {
   "cell_type": "code",
   "execution_count": 7,
   "metadata": {
    "collapsed": true
   },
   "outputs": [],
   "source": [
    "# vocabulary. 5 characters per word\n",
    "# Four to five is usually what you expect.\n",
    "# number of words per sentence. \n",
    "# vocabulary to text ratios\n",
    "# And this is partly because Obama also has probably the longest speeches,\n",
    "# so he has the lowest vocabulary to length ratio."
   ]
  },
  {
   "cell_type": "markdown",
   "metadata": {},
   "source": [
    "<h2>Analysis over time</h2>\n"
   ]
  },
  {
   "cell_type": "markdown",
   "metadata": {},
   "source": [
    "<h3>The files are arranged over time so we can analyze how complexity has changed between Washington and Trump</h3>"
   ]
  },
  {
   "cell_type": "code",
   "execution_count": 8,
   "metadata": {
    "collapsed": true
   },
   "outputs": [],
   "source": [
    "from wordcloud import WordCloud, STOPWORDS\n",
    "import matplotlib.pyplot as plt\n",
    "%matplotlib inline"
   ]
  },
  {
   "cell_type": "code",
   "execution_count": 9,
   "metadata": {},
   "outputs": [
    {
     "data": {
      "text/plain": [
       "(604, 5, 66, 0.39246263807667314)"
      ]
     },
     "execution_count": 9,
     "metadata": {},
     "output_type": "execute_result"
    }
   ],
   "source": [
    "inaugural.words(inaugural.fileids()[0])\n",
    "speech = ' '.join(inaugural.words(inaugural.fileids()[0]))\n",
    "get_complexity(speech)"
   ]
  },
  {
   "cell_type": "code",
   "execution_count": 10,
   "metadata": {},
   "outputs": [
    {
     "data": {
      "text/plain": [
       "[<matplotlib.lines.Line2D at 0x10d7ebd30>]"
      ]
     },
     "execution_count": 10,
     "metadata": {},
     "output_type": "execute_result"
    },
    {
     "data": {
      "image/png": "[encoded data removed]",
      "text/plain": [
       "<matplotlib.figure.Figure at 0x10d793908>"
      ]
     },
     "metadata": {},
     "output_type": "display_data"
    }
   ],
   "source": [
    "from nltk.corpus import inaugural\n",
    "sentence_lengths = list()\n",
    "for fileid in inaugural.fileids():\n",
    "    sentence_lengths.append(get_complexity(' '.join(inaugural.words(fileid)))[2])\n",
    "plt.plot(sentence_lengths)"
   ]
  },
  {
   "cell_type": "markdown",
   "metadata": {},
   "source": [
    "How complexity - the number of words per sentence - has changed between Washington and Trump. \n",
    "Analysis the US Presidential Inaugural Addresses over time. From 1789 to 2017.\n",
    "\n",
    "So it's a secular trend, \n",
    "where presidents in general--and probably president specific and probably people in general speak in shorter sentences."
   ]
  },
  {
   "cell_type": "markdown",
   "metadata": {},
   "source": [
    "<h1>dispersion plots</h1>\n",
    "<h2>Dispersion plots show the relative frequency of words over the text</h2>\n",
    "<h3>Let's see how the frequency of some words has changed over the course of the republic</h3>\n",
    "<h3>That should give us some idea of how the focus of the nation has changed</h3>"
   ]
  },
  {
   "cell_type": "code",
   "execution_count": 11,
   "metadata": {
    "scrolled": true
   },
   "outputs": [
    {
     "data": {
      "image/png": "[encoded data removed]",
      "text/plain": [
       "<matplotlib.figure.Figure at 0x10d7c6208>"
      ]
     },
     "metadata": {},
     "output_type": "display_data"
    }
   ],
   "source": [
    "text4.dispersion_plot([\"government\", \"citizen\", \"freedom\", \"duties\", \"America\",'independence','God','patriotism'])"
   ]
  },
  {
   "cell_type": "code",
   "execution_count": 12,
   "metadata": {},
   "outputs": [
    {
     "data": {
      "text/plain": [
       "'apple'"
      ]
     },
     "execution_count": 12,
     "metadata": {},
     "output_type": "execute_result"
    }
   ],
   "source": [
    "'APple'.lower()"
   ]
  },
  {
   "cell_type": "markdown",
   "metadata": {},
   "source": [
    "<h4>We may want to use word stems rather than the part of speech form</h4>\n",
    "<li>For example: patriot, patriotic, patriotism all express roughly the same idea\n",
    "<li>nltk has a stemmer that implements the \"Porter Stemming Algorithm\" (https://tartarus.org/martin/PorterStemmer/)\n",
    "<li>We'll push everything to lowercase as well"
   ]
  },
  {
   "cell_type": "code",
   "execution_count": 13,
   "metadata": {},
   "outputs": [
    {
     "data": {
      "image/png": "[encoded data removed]",
      "text/plain": [
       "<matplotlib.figure.Figure at 0x10f31a8d0>"
      ]
     },
     "metadata": {},
     "output_type": "display_data"
    }
   ],
   "source": [
    "from nltk.stem.porter import PorterStemmer\n",
    "p_stemmer = PorterStemmer()\n",
    "text = inaugural.raw()\n",
    "striptext = text.replace('\\n\\n', ' ')\n",
    "striptext = striptext.replace('\\n', ' ')\n",
    "sentences = sent_tokenize(striptext)\n",
    "words = word_tokenize(striptext)\n",
    "text = nltk.Text([p_stemmer.stem(i).lower() for i in words])\n",
    "text.dispersion_plot([\"govern\", \"citizen\", \"free\", \"america\",'independ','god','patriot'])"
   ]
  },
  {
   "cell_type": "markdown",
   "metadata": {},
   "source": [
    "How the relative frequency of those words change over time.\n",
    "That should give us some idea of how the focus of the nation has changed.\n",
    "Look at 'america'. Clearly, 'america' are bigger and bigger in recent yesrs.\n",
    "- \"Make America Great Again\" -\n"
   ]
  },
  {
   "cell_type": "code",
   "execution_count": 14,
   "metadata": {},
   "outputs": [
    {
     "data": {
      "text/plain": [
       "'Make America Great Again'"
      ]
     },
     "execution_count": 14,
     "metadata": {},
     "output_type": "execute_result"
    }
   ],
   "source": [
    "great = 'make america great again'\n",
    "great.title()"
   ]
  },
  {
   "cell_type": "markdown",
   "metadata": {},
   "source": [
    "<h2>Weighted word analysis using Vader</h2>\n",
    "<h4>Vader contains a list of 7500 features weighted by how positive or negative they are</h4>\n",
    "<h4>It uses these features to calculate stats on how positive, negative and neutral a passage is</h4>\n",
    "<h4>And combines these results to give a compound sentiment (higher = more positive) for the passage</h4>\n",
    "<h4>Human trained on twitter data and generally considered good for informal communication</h4>\n",
    "<h4>10 humans rated each feature in each tweet in context from -4 to +4</h4>\n",
    "<h4>Calculates the sentiment in a sentence using word order analysis</h4>\n",
    "<li>\"marginally good\" will get a lower positive score than \"extremely good\"\n",
    "<h4>Computes a \"compound\" score based on heuristics (between -1 and +1)</h4>\n",
    "<h4>Includes sentiment of emoticons, punctuation, and other 'social media' lexicon elements</h4>\n",
    "\n"
   ]
  },
  {
   "cell_type": "code",
   "execution_count": 22,
   "metadata": {
    "collapsed": true
   },
   "outputs": [],
   "source": [
    "from vaderSentiment.vaderSentiment import SentimentIntensityAnalyzer"
   ]
  },
  {
   "cell_type": "code",
   "execution_count": 23,
   "metadata": {
    "collapsed": true
   },
   "outputs": [],
   "source": [
    "import nltk\n",
    "from nltk.corpus import PlaintextCorpusReader\n",
    "community_root = \"data/community\"\n",
    "le_monde_root = \"data/le_monde\"\n",
    "community_files = \"community.*\"\n",
    "le_monde_files = \"le_monde.*\"\n",
    "heights_root = \"data/heights\"\n",
    "heights_files = \"heights.*\"\n",
    "amigos_root = \"data/amigos\"\n",
    "amigos_files = \"amigos.*\"\n",
    "community_data = PlaintextCorpusReader(community_root,community_files)\n",
    "le_monde_data = PlaintextCorpusReader(le_monde_root,le_monde_files)\n",
    "heights_data = PlaintextCorpusReader(heights_root,heights_files)\n",
    "amigos_data = PlaintextCorpusReader(amigos_root,amigos_files)"
   ]
  },
  {
   "cell_type": "code",
   "execution_count": 24,
   "metadata": {
    "collapsed": true
   },
   "outputs": [],
   "source": [
    "restaurant_data = [('community',community_data.raw()),('le monde',le_monde_data.raw())\n",
    "                  ,('heights',heights_data.raw()), ('amigos',amigos_data.raw())]"
   ]
  },
  {
   "cell_type": "code",
   "execution_count": 25,
   "metadata": {},
   "outputs": [
    {
     "data": {
      "text/plain": [
       "'I ate here Monday night for a working dinner with a coworker. I immediately saw its reason for name, beyond the owner\\'s fandom of the show of the same name: the tablet setup are nearly all communal long tables. There\\'re rather few non-shared tables which is fine as not only is NYC filled with such setup but there\\'s a liveliness in the Columbia area vibe which prefers this setup. There\\'s a shortage of such nice sit-down restaurants in the Columbia area so this place is not only capitalizing on its presence but doing so with great style and flare.\\n\\nI ordered the beef burger which was very juicy, perfectly lean, well sauced, cooked as desired (medium-well, for those who wonder), and paired with a dill pickle, a handmade cole slaw that lacked mayo (which is good as mayo\\'s pure trans-fat), and a spindle of fries. My coworker got the salmon sandwich, same review applies.\\n\\nAwesome bar alongside, but we didn\\'t patronize it. Vast amounts of seating and an open kitchen where tons of food is prepared live makes for a fun environ.\\n\\nI accidentally left my headphones, called to ask if it was found, and fetched them the day later. The staff were so helpful, kind, and soft-spoken about recovering and returning it that I\\'m duly humbled. Thanks, all!\\nThe food here is quite good, and I have no complaints in that area. The reason for only two stars is the cost of that food--OMG are they overpriced. My wife and I went here for breakfast. We each ordered blueberry pancakes and a cup of coffee--no fresh fruit, no juice, no bacon. The pancakes were $13 and the coffee was $4, so the initial bill was $34. The tax was $3, and I left a tip of $6--resulting in a final total of $43 for a breakfast of flapjacks and coffee. Now I know this is NY and costs here are higher--but $43!  Ugh!  There are a lot of nice places in the city where you can get a very good breakfast for 1/3rd to 1/2 less than Community. I recommend you seek them out.\\nThis is such a good brunch spot! The food, service & ambiance was exactly what we were looking for. We sat at an adorable table on the outdoor patio and our waiter (sadly forgot his name) was awesome.\\n\\nI started with a raspberry iced tea & ordered the community custom egg white omelette with sautéed spinach & mushrooms and a side of smoked salmon. The omelette was thin (I would ask for eggs more well done next time) and was jam packed with veggies. The mushrooms were perfectly cooked. The salmon was so fresh and delicious. \\n\\nMy friend got the house smoked salmon plate. He loved it! I used some of the chive cream cheese on the toast that came with the eggs - highly recommend asking for some on the side! \\n\\nWe also shared & loved the fruit salad. We were pleasantly surprised by how big it was and the fruit was all very fresh. \\n\\nOverall, great brunch & highly recommend for a lovely brunch! Such a cute neighborhood spot and perfect for a pre-park brunch.\\nThis place is great for Brunch. I went with my mom and my brother. Even though they were super busy, they were able to seat us right away, and our food came in a timely manner. The server was very friendly and sensitive to my dietary restrictions. \\n\\nThe food was very fresh, and the chefs knew exactly what they were doing. I ordered the eggs benedict florentine. The hollandaise sauce was perfect: smooth and mildly tart. The biscuit under it was cooked to perfection. The eggs were perfect: solid on the outside, runny on the inside. However, the spinach although cooked well, kind of took away from the dish. It was difficult to cut along with everything else, and pulling the spinach out from under the uncut part made parts of the egg fall off the biscuit. Had the spinach been softer, this would have been more enjoyable to eat. Otherwise, it tasted delicious. \\n\\nMy brother had the Huevos Rancheros. I wish I had ordered that instead. It was delicious. His eggs were sunny side up, and perfectly runny. The beans were seasoned perfectly, as was the rest of the tomato sauce, The tortilla was fresh and soft, and it came with delicious guacamole and sour cream. \\n\\nMy mother ordered the frittata, which was also very good. As per her request, they put less goat cheese. The flavors blended very well together. The portobello mushrooms were cut into small enough pieces to fit in one bite, but were soft enough to cut further if they were too big for you. The frittata itself was soft and fluffy without being undercooked. \\n\\nTheir coffee is from Brooklyn Roasting Company. I don\\'t normally drink coffee, but I would have had a whole cup of it had I not ordered the hot chocolate, which was also delicious. The hot chocolate was made with real cocoa powder and milk. \\n\\nI gave this place four stars instead of five because of the consistency of the spinach in the eggs benedict florentine. Otherwise, I\\'d have given this place five stars.\\n\\nVeggie sandwich on gluten free bread here. Nom nommmm. The veggies were perfect and fresh! \\n\\nUnfortunately, the GF bread is an upcharge for a sandwich half the size of the normal sandwich. Still delicious, but sad when you see your non-GF friend with a full size sandwich. I wish I took a picture, but I dug right in due to brunch hunger and slow service. \\n\\nI\\'d come back again, but be sure to have a snack before if you are feeling at all hungry like me.\\nI came here on a Saturday morning with one of my friends without a reservation around 10:30 am and luckily we were seated outside right away. A man came over to the table and filled our waters but didn\\'t introduce himself as our waiter so I wasn\\'t sure if he was the busboy or the waiter; regardless, he took our drink order. I ordered a mimosa, which was pretty good, and my friend ordered a coffee which was served in a huge mug. We both then ordered the breakfast biscuit. I was not a big fan of the sausage that was served with it and would much more have preferred bacon but overall it was good. And the carrot hash browns were yummy too! They were mostly made of potato with hints of carrots, so it wasn\\'t too carroty. The bathrooms were also clean! My friend and I had a very good time.\\nI\\'ve come here several times with a friend for brunch and once for dinner -- we\\'ve both really enjoyed a lot of the breakfast foods available; my favorite is the brioche French toast with blackberry and lemon curd & she loves heir waffles. Their maple butter sauce light, sweet and adds a nice taste as opposed to heavier syrups. If you come between 8-9am they have a pancake deal (blueberry or chocolate and a coffee or OJ for $12, not bad considering the area and average prices. Pancakes were fluffy and very filling) \\n\\nTheir lattes sometimes taste a bit burnt and not mixed properly -- don\\'t waste your money. \\n\\nDinner looked pretty...and that was all. Overpriced small portions that were essentially inedible.\\n\\nDinner on Tuesday, usually a quiet affair, but given that Community is one of few good spots on Broadway for a good sit down, even at 6:30 p.m. it was bumping. I work at CU, and may be one of the few people that\\'s never been to Community before. \\n\\nNice little tip, they have a deal between 5 pm and 7 pm on weekdays - beef burger and beer for $16. To note - any revisions/additions to your order is $2. Let\\'s be honest, sometimes a man just wants some sweet sweet avocado in the cool winter months. Nice little draft selection, I went for the Fire Island Beer Co. Lighthouse - nice and crisp and not hoppy - a rare breed in NYC. \\n\\nOur waiter Sam D. was the perfect level of attentive, there for a question and to fill our water glasses, I don\\'t think my ever dipped below half-filled. All and all a solid meal, the burger was a wee bit dry, but cooked to my specifications (medium rare). I\\'d be interested to check out their lunch, which alas is usually a crush of CU staff and students, but there\\'s always summer break ...\\nCame here for brunch with my wife after she found the good review, and it did not disappoint! \\n\\nWe did have to wait to be seated (which is a good sign even though no one really wants to)...\\n\\nThe food is awesome! Very fresh, clean, and NOT oily, which is my usually qualm.\\n\\nDisclaimer: I like diner food but it is almost always to greasy which I hate, but this place has very fresh and carefully prepared food. \\n\\nI wanted to order everything off the menu, but settled on the juevos rancheros with side of carrot hash browns, and biscuit. My wife got the blueberry pancakes. Everything was awesome. The hash browns were not the least bit greasy; the pancakes were delicious, and I really enjoyed the juevos (w/ chorizo).\\n\\nI also tried my first ever bloody mary, and it was really good. \\n\\nWill definitely be back!\\nThis place is fantastic. Everyone is super friendly and accommodating vegetarian requests! P.s. Your whole party has to be there to be sat!\\nExcellent menu!  The seven grain waffles, blueberry pancakes with a side of turkey chorizo. Who knew turkey chorizo existed!!!\\nAll the food was amazing. My new favorite brunch spot. Will be exploring more items on the menu.\\nService is great - our water was also filled, our coffee was replenished at appropriate times. The attention to the details of the flavors in the food is impeccable. The accompanying sauces and jams were so memorable and delicious! \\n\\nInitially, we went for brunch in the early afternoon, but ended up staying for appetizers and split a bottle of wine.  The staff did not make us feel guilty at all, but welcomed us to stay until their dinner hour started. During the whole time, not one waiter came over to encourage us to pay our bill and leave. Instead, they filled our coffees and water. Speaking of coffee - their black drip coffee from a roaster in Brooklyn is delicious! Down to the last drop - it was smooth, nutty, and not bitter even cold. \\n\\nDetails of the food, including the presentation of each dish. The biscuit sandwich was healthy-ish as they utilized whole wheat flour. The sausage was not fatty at all and the meat patty - although a little smaller when compared to the biscuit (meat:bread ratio) was small, it went was so tasty with the tomato jam, as well as the perfectly cooked eggs!  The raspberry preserve was so fresh! Not overly sweet and definitely enjoyed the seeds within the preserve.  The 7 grain waffle with the fresh berries, butterscotch sauce (maple glaze?) with FRESH whipped cream was THE BEST dish there.  There was a raspberry sauce beautifully spread on the plate that added a nice tartness to the whole bite. Pancakes were fluffy and they used real, non-frozen blueberries which I loved!  The sauce that came with it was definitely different than the waffle glaze, so it was so tasty to discover the flavors within the glaze. \\n\\nCommunity is definitely one of my favorite, non-boozy brunch spots in the UWS/Morningside! Will go back!\\nTraveled up here from the upper east side to get away from the usual brunch places. Only a 20 minute bus ride from 79th, very easy to get to. Came on Sunday near 1pm and it was VERY busy, ended up waiting an hour and a half (1 hour more than we were told) however, the food was ah-mazing. Everything looks and sounds good and this place smells like heaven. I had the special of 2 fried eggs, vegetable ragout, bacon and truffle vinaigrette and it was Delish. Cheaper brunch cocktails than most places (only $10....but yes, it is nyc where most are $14+) if I have one recommendation, it\\'s the POTATO PANCAKES!!! SO GOOD, My bf and I split them. He had the pancakes and said they were the best he had in the city. Also GREAT FOR GLUTEN FREE! I am gluten/dairy intolerant and they were able to fully accommodate me. Also super close to Colombia\\'s main campus, great place to walk around and digest.\\n2 HOURS AND NO FOOD!\\nSunday Brunch July 13th 2014. We had to wait 30 minuets for a seat OK Sunday brunch it\\'s popular. 15 minuets wait for the wait staff, 45 minuets before we got the wrong dish! another 30 minuets still no food we left. They where gracious enough not to charge for the momosasas.\\nCommunity is a brunch place next to Columbia. I came here one day to meet up with my cousin who studies at Columbia. Seated around 10 mins on a cozy Sat morning, not too bad. The interior was normal, nothing fancy, but we enjoyed window seats and a tiny desk instead of the long family style tables at the center of the restaurant which gives limited privacy. I really like the hanging lights from the ceiling which is quite cute. The ground leveled glass windows allow you to see the views outside- it is a nice change from the busy pedestrians and giant high rise buildings view of the typical New York street cues in Midtown. Morningside feels more like a college town with older residential building and quieter streets. \\nDespite the 3.5 stars I was pleasantly surprised at the food here. I thought it was delicious! Much better than my experience at Stephanie\\'s at Newbury in Boston or even many of the brunch places I\\'ve been in LA. \\nWe ordered the morning specials : 7 grains waffle and truffle egg dish. \\n-7 grains waffle: had vanilla cream, raspberry, cherry, and toasted nuts. Tasted slightly more chewy than the usual waffle with flour, and on top there was marinated peach slices and cream. I really like how it wasn\\'t hard and overly sweet- especially how the toasted nuts added a level of crunchiness to the heaviness of the cream. \\n\\n- The truffle egg dish: had sausage, potatoes, some leafy greens, sautéed mushrooms, and poached egg on top. To be honest I  could not tasted the truffle at all, besides the garlic and the pepper and the salt; however with this mix it can hardly go wrong. It was flavorful and not overly salty. \\n\\nThe only thing I guess I can \"complain\" is that the dishes were small. \\nBill came up to be around 50, which isn\\'t exactly cheap considering how small the portions are- but justifiable still due to the taste.\\nOverpriced, oversized, oversweet... Oh wait, this is America.\\n\\nThe pancakes with banana and walnut were okay. They could have done without the maple butter and walnuts and would have been better with maple syrup. I\\'d rather have paid half price for half the portion.\\n\\nBottomless coffee was standard.\\n\\nThe waitress serving our table was polite and courteous considering how many customers she was dealing with. \\n\\nHaving seen the title of this place, I did expect somewhere a little cosier, trendier, more rustic and more inviting. The interior was a little canteenish and there were only a couple of juices on the menu. I wouldn\\'t go back at these prices and with these crowds.\\n\"I have a degree from Columbia, and now I have to get one from America.\" - Jeff Winger, Community.\\n\\nI came here with my friend who also is a huge fan of the show \"Community\", which used to be aired on NBC then got cancelled and then re-birthed on Yahoo! Screen. That\\'s right, Yahoo! Screen. \\n\\nSigh, oh how I miss the golden age of that glorious, glorious show.\\n\\nMy friend, however, is actually pursuing a REAL degree from Columbia University--not Colombia the country, unlike our hateable yet lovable ex-lawyer who attended Greendale Community College.\\n\\nShe chose this place because of the name--I mean come on, can\\'t get more fitting than that--and because of its proximity to Columbia\\'s campus. Community Food & Juice is literally a few blocks away, so it\\'s perfect for students.\\n\\nOn a nice New York morning, we had brunch and got to talk about everything from racist experiences to the TV show we can\\'t quite get over. \\n\\nThe food? My chocolate pancakes were pretty darn good and pretty darn rich. I don\\'t know what I was expecting. In fact, the \"syrup\"--not even sure what it is (apple?) was kind of overkill because the pancakes and chocolate were far sweet enough.\\n\\nI also got a shiso mojito which sounds fancy--and it better be for the $11 I paid for it. Flor de Cana aged white rum, fresh lime juice, shiso-mint simple syrup, yuzu splash, muddled mint, and crushed ice made up the drink that Jeff Winger would have called a \"kid\\'s drink\".\\n\\nIt was pretty strong but the shiso-mint did come through, so it was worth it (I\\'m rationalizing the price right now).\\n\\nAll in all, a pleasant experience with nice service and nice company. It\\'s not every day I get to go to New York, take some subways to meet a friend, eat some good food, get a tour of a top university, and walk away with my wallet much lighter.\\n\\nOn that note,\\n\\n\"It said market price.  What market are you shopping at!?!?!\" - Troy Barnes\\n\\nMan I love that show.\\nWe stopped in for lunch. We had ordered three things the beet salad, the rice bowl and the veggie burger. The place was packed. Even though it was packed service was very good. The beat salad and rice bowl were delicious. Although we thought the veggie burger could\\'ve used another flavor component.\\nSolid breakfast place in Morningside Heights.\\nI came here with a friend - we were seated promptly and service was attentive. The decor was beautiful and the lighting was warm - a great place for a brunch date. \\n\\nI ordered the Country Breakfast and the eggs were delicious and fluffy, the biscuit was moist and flavorful, the carrot hash browns were warm and comforting, and the ham was sweet and juicy. \\n\\nPricing was around $15 per person, which was reasonable for the quality and amount of food, especially considering it\\'s New York. The restaurant is within walking distance of Columbia, and I would recommend for a nice brunch in the area!\\nNice experience there.\\nMy friend n me went there early to enjoy pancake with fresh juice n on site coffee.\\nThanks to the kind service as well,i will remember this restaurant as a Columbian.\\nThis place is really good for breakfast and has great pancakes, sausages, eggs. Although you really have to spring ti get in, since there are very big lines to eat.\\n'"
      ]
     },
     "execution_count": 25,
     "metadata": {},
     "output_type": "execute_result"
    }
   ],
   "source": [
    "restaurant_data[0][1]"
   ]
  },
  {
   "cell_type": "code",
   "execution_count": 26,
   "metadata": {
    "collapsed": true
   },
   "outputs": [],
   "source": [
    "texts = [('trump',inaugural.raw('2017-Trump.txt')),\n",
    "         ('obama',inaugural.raw('2009-Obama.txt')+inaugural.raw('2013-Obama.txt')),\n",
    "         ('jackson',inaugural.raw('1829-Jackson.txt')+inaugural.raw('1833-Jackson.txt')),\n",
    "         ('washington',inaugural.raw('1789-Washington.txt')+inaugural.raw('1793-Washington.txt'))]"
   ]
  },
  {
   "cell_type": "code",
   "execution_count": 27,
   "metadata": {
    "collapsed": true
   },
   "outputs": [],
   "source": [
    "trump_data = PlaintextCorpusReader(\"data\", \"2017-Trump.txt\")"
   ]
  },
  {
   "cell_type": "code",
   "execution_count": 28,
   "metadata": {},
   "outputs": [
    {
     "name": "stdout",
     "output_type": "stream",
     "text": [
      "community 0.20231531531531521 0.026099099099099105 0.7715900900900892 0.33487432432432435\n",
      "le monde 0.17217021276595745 0.04306914893617022 0.7847712765957447 0.2149292553191488\n",
      "heights 0.18540645161290326 0.03818064516129032 0.7764000000000002 0.2778316129032258\n",
      "amigos 0.19277464788732385 0.051741784037558705 0.7554976525821597 0.2521694835680751\n"
     ]
    }
   ],
   "source": [
    "headers = ['pos','neg','neu','compound']\n",
    "texts = restaurant_data\n",
    "analyzer = SentimentIntensityAnalyzer()\n",
    "for i in range(len(texts)):\n",
    "    name = texts[i][0]\n",
    "    sentences = sent_tokenize(texts[i][1])\n",
    "    pos=compound=neu=neg=0\n",
    "    for sentence in sentences:\n",
    "        vs = analyzer.polarity_scores(sentence)\n",
    "        pos+=vs['pos']/(len(sentences))\n",
    "        compound+=vs['compound']/(len(sentences))\n",
    "        neu+=vs['neu']/(len(sentences))\n",
    "        neg+=vs['neg']/(len(sentences))\n",
    "    print(name,pos,neg,neu,compound)"
   ]
  },
  {
   "cell_type": "code",
   "execution_count": 29,
   "metadata": {
    "collapsed": true
   },
   "outputs": [],
   "source": [
    "def vader_comparison(texts):\n",
    "    from vaderSentiment.vaderSentiment import SentimentIntensityAnalyzer\n",
    "    headers = ['pos','neg','neu','compound']\n",
    "    print(\"Name\\t\",'  pos\\t','neg\\t','neu\\t','compound')\n",
    "    analyzer = SentimentIntensityAnalyzer()\n",
    "    for i in range(len(texts)):\n",
    "        name = texts[i][0]\n",
    "        sentences = sent_tokenize(texts[i][1])\n",
    "        pos=compound=neu=neg=0\n",
    "        for sentence in sentences:\n",
    "            vs = analyzer.polarity_scores(sentence)\n",
    "            pos+=vs['pos']/(len(sentences))\n",
    "            compound+=vs['compound']/(len(sentences))\n",
    "            neu+=vs['neu']/(len(sentences))\n",
    "            neg+=vs['neg']/(len(sentences))\n",
    "        print('%-10s'%name,'%1.2f\\t'%pos,'%1.2f\\t'%neg,'%1.2f\\t'%neu,'%1.2f\\t'%compound)"
   ]
  },
  {
   "cell_type": "code",
   "execution_count": 30,
   "metadata": {
    "scrolled": true
   },
   "outputs": [
    {
     "name": "stdout",
     "output_type": "stream",
     "text": [
      "Name\t   pos\t neg\t neu\t compound\n",
      "community  0.20\t 0.03\t 0.77\t 0.33\t\n",
      "le monde   0.17\t 0.04\t 0.78\t 0.21\t\n",
      "heights    0.19\t 0.04\t 0.78\t 0.28\t\n",
      "amigos     0.19\t 0.05\t 0.76\t 0.25\t\n"
     ]
    }
   ],
   "source": [
    "vader_comparison(restaurant_data)"
   ]
  },
  {
   "cell_type": "code",
   "execution_count": 31,
   "metadata": {
    "scrolled": true
   },
   "outputs": [
    {
     "name": "stdout",
     "output_type": "stream",
     "text": [
      "Name\t   pos\t neg\t neu\t compound\n",
      "community  0.20\t 0.03\t 0.77\t 0.33\t\n",
      "le monde   0.17\t 0.04\t 0.78\t 0.21\t\n",
      "heights    0.19\t 0.04\t 0.78\t 0.28\t\n",
      "amigos     0.19\t 0.05\t 0.76\t 0.25\t\n"
     ]
    }
   ],
   "source": [
    "vader_comparison(texts)"
   ]
  },
  {
   "cell_type": "code",
   "execution_count": 32,
   "metadata": {},
   "outputs": [
    {
     "data": {
      "text/plain": [
       "str"
      ]
     },
     "execution_count": 32,
     "metadata": {},
     "output_type": "execute_result"
    }
   ],
   "source": [
    "type(texts[0][1])"
   ]
  },
  {
   "cell_type": "code",
   "execution_count": 33,
   "metadata": {},
   "outputs": [
    {
     "name": "stdout",
     "output_type": "stream",
     "text": [
      "Displaying 20 of 20 matches:\n",
      "of the world , thank you . We the citizens of America are now joined in a great national effort to \n",
      "le . Together we will determine the course of America , and the world , for many , many years to co\n",
      "re today , and everyone watching , all across America . This is your day . This is your celebration\n",
      "celebration , and this , the United States of America , is your country . What truly matters is not\n",
      "ons and trillions of dollars overseas , while America ' s infrastructure has fallen into disrepair \n",
      "om this day forward , it ' s going to be only America first . America first . Every decision on tra\n",
      "ard , it ' s going to be only America first . America first . Every decision on trade , on taxes , \n",
      "body , and I will never , ever let you down . America will start winning again , winning like never\n",
      "be a total allegiance to the United States of America , and through our loyalty to our country , we\n",
      "eements , but always pursue solidarity . When America is united , America is totally unstoppable . \n",
      " pursue solidarity . When America is united , America is totally unstoppable . There should be no f\n",
      " we must think big and dream even bigger . In America , we understand that a nation is only living \n",
      "e can match the heart and fight and spirit of America . We will not fail . Our country will thrive \n",
      "de us along the way . Together , we will make America strong again . We will make America wealthy a\n",
      "will make America strong again . We will make America wealthy again . We will make America proud ag\n",
      "ill make America wealthy again . We will make America proud again We will make America safe again ,\n",
      "We will make America proud again We will make America safe again , And yes , together , we will mak\n",
      "nd yes , together , we will make we will make America great again . Thank you . God bless you . And\n",
      "n . Thank you . God bless you . And god bless America . Thank you . God bless America .\n",
      "And god bless America . Thank you . God bless America .\n"
     ]
    }
   ],
   "source": [
    "nltk.Text(trump_data.words()).concordance('america',100)"
   ]
  },
  {
   "cell_type": "markdown",
   "metadata": {},
   "source": [
    "- The lower compound score, 国际国内局势充满挑战 - 金融危机，恐怖袭击\n",
    "- The higher positive rating, 更加鼓励人们充满希望\n",
    "- The higher negative rating, 现在或者近一段时间，发生了更多不美好的事情"
   ]
  },
  {
   "cell_type": "markdown",
   "metadata": {},
   "source": [
    "- Community has a 0.20 positive and a 0.03 negative,\n",
    "- which actually is the highest positive and the lowest negative rating of all of them.\n",
    "- the highest compound score 0.33.\n",
    "- So looking at this stuff, we find that Community is the most positive restaurant.\n",
    "- And that's kind of borne out with the fact that, to be honest, \n",
    "- if you live in this neighborhood,\n",
    "- you'll see that to get a table in Community at night is really, really hard.\n"
   ]
  },
  {
   "cell_type": "markdown",
   "metadata": {},
   "source": [
    "<h2>Named Entities</h2>\n",
    "<h4>People, places, organizations</h4>\n",
    "Named entities are often the subject of sentiments so identifying them can be very useful"
   ]
  },
  {
   "cell_type": "markdown",
   "metadata": {},
   "source": [
    "<h4>Named entity detection is based on Part-of-speech tagging of words and chunks (groups of words)</h4>\n",
    "<li>Start with sentences (using a sentence tokenizer)\n",
    "<li>tokenize words in each sentence\n",
    "<li>chunk them. ne_chunk identifies likely chunked candidates (ne = named entity)\n",
    "<li>Finally build chunks using nltk's guess on what members of chunk represent (people, place, organization)\n",
    "\n"
   ]
  },
  {
   "cell_type": "code",
   "execution_count": 34,
   "metadata": {
    "collapsed": true
   },
   "outputs": [],
   "source": [
    "sent_detector = nltk.data.load('tokenizers/punkt/english.pickle')\n",
    "sentences = sent_detector.tokenize(community_data.raw().strip())"
   ]
  },
  {
   "cell_type": "code",
   "execution_count": 35,
   "metadata": {
    "collapsed": true
   },
   "outputs": [],
   "source": [
    "sentence_t = sentences[2]\n",
    "tokenized = nltk.word_tokenize(sentence_t)\n",
    "tagged = nltk.pos_tag(tokenized)\n",
    "chunked = nltk.ne_chunk(tagged)"
   ]
  },
  {
   "cell_type": "code",
   "execution_count": 36,
   "metadata": {},
   "outputs": [
    {
     "name": "stdout",
     "output_type": "stream",
     "text": [
      "NYC\n",
      "Columbia\n"
     ]
    }
   ],
   "source": [
    "type(chunked)\n",
    "#print(chunked[0])\n",
    "#chunked[0].leaves()\n",
    "\n",
    "for tree in chunked:\n",
    "    if hasattr(tree, 'label'):\n",
    "        for c in tree.leaves():\n",
    "            print(c[0])\n",
    "        ne = ' '.join(c[0] for c in tree.leaves())"
   ]
  },
  {
   "cell_type": "code",
   "execution_count": 37,
   "metadata": {},
   "outputs": [
    {
     "data": {
      "text/plain": [
       "'Columbia'"
      ]
     },
     "execution_count": 37,
     "metadata": {},
     "output_type": "execute_result"
    }
   ],
   "source": [
    "ne"
   ]
  },
  {
   "cell_type": "code",
   "execution_count": 38,
   "metadata": {},
   "outputs": [
    {
     "data": {
      "text/plain": [
       "[Tree('ORGANIZATION', [('NYC', 'NNP')]), Tree('GPE', [('Columbia', 'NNP')])]"
      ]
     },
     "execution_count": 38,
     "metadata": {},
     "output_type": "execute_result"
    }
   ],
   "source": [
    "#sum([hasattr(tree, 'label') for tree in chunked if hasattr(tree, 'label')])\n",
    "[tree for tree in chunked if hasattr(tree, 'label')]"
   ]
  },
  {
   "cell_type": "code",
   "execution_count": 39,
   "metadata": {
    "scrolled": true
   },
   "outputs": [
    {
     "name": "stdout",
     "output_type": "stream",
     "text": [
      "{   'America': ['GPE', 'NNP'],\n",
      "    'Awesome': ['GPE', 'NNP'],\n",
      "    'BEST': ['ORGANIZATION', 'NNP'],\n",
      "    'Bill': ['PERSON', 'NN'],\n",
      "    'Boston': ['GPE', 'NNP'],\n",
      "    'Bottomless': ['GPE', 'NNP'],\n",
      "    'Broadway': ['GPE', 'NNP'],\n",
      "    'Brooklyn': ['GPE', 'NNP'],\n",
      "    'Brunch': ['PERSON', 'NNP'],\n",
      "    'CU': ['ORGANIZATION', 'NNP'],\n",
      "    'Came': ['GPE', 'NN'],\n",
      "    'Cana': ['PERSON', 'NNP'],\n",
      "    'Cheaper': ['GPE', 'NNP'],\n",
      "    'Colombia': ['GPE', 'NNP'],\n",
      "    'Columbia': ['GPE', 'NNP'],\n",
      "    'Columbia University': ['ORGANIZATION', 'NNP NNP'],\n",
      "    'Columbian': ['GPE', 'JJ'],\n",
      "    'Community': ['ORGANIZATION', 'NNP'],\n",
      "    'Community Food': ['ORGANIZATION', 'NNP NNP'],\n",
      "    'Company': ['ORGANIZATION', 'NNP'],\n",
      "    'Country Breakfast': ['ORGANIZATION', 'NNP NNP'],\n",
      "    'Delish': ['GPE', 'NNP'],\n",
      "    'Dinner': ['GPE', 'NN'],\n",
      "    'Disclaimer': ['GPE', 'NN'],\n",
      "    'Everyone': ['GPE', 'NN'],\n",
      "    'FRESH': ['ORGANIZATION', 'NNP'],\n",
      "    'Fire Island Beer': ['ORGANIZATION', 'NNP NNP NNP'],\n",
      "    'Flor': ['GPE', 'NNP'],\n",
      "    'French': ['GPE', 'JJ'],\n",
      "    'GF': ['ORGANIZATION', 'NNP'],\n",
      "    'GLUTEN': ['ORGANIZATION', 'NNP'],\n",
      "    'GOOD': ['ORGANIZATION', 'JJ'],\n",
      "    'GREAT FOR': ['ORGANIZATION', 'NNP NNP'],\n",
      "    'Greendale Community College': ['PERSON', 'NNP NNP NNP'],\n",
      "    'HOURS': ['ORGANIZATION', 'NNP'],\n",
      "    'Huevos Rancheros': ['ORGANIZATION', 'NNP NNP'],\n",
      "    'Jeff Winger': ['PERSON', 'NNP NNP'],\n",
      "    'LA': ['GPE', 'NNP'],\n",
      "    'Lighthouse': ['ORGANIZATION', 'NNP'],\n",
      "    'Midtown': ['GPE', 'NNP'],\n",
      "    'Morningside': ['GPE', 'NNP'],\n",
      "    'NBC': ['ORGANIZATION', 'NNP'],\n",
      "    'NOT': ['ORGANIZATION', 'NNP'],\n",
      "    'NYC': ['ORGANIZATION', 'NNP'],\n",
      "    'New York': ['GPE', 'NNP NNP'],\n",
      "    'Newbury': ['ORGANIZATION', 'NNP'],\n",
      "    'Nom': ['GPE', 'NNP'],\n",
      "    'Overall': ['GPE', 'JJ'],\n",
      "    'Overpriced': ['GPE', 'NNP'],\n",
      "    'POTATO': ['ORGANIZATION', 'NNP'],\n",
      "    'REAL': ['ORGANIZATION', 'JJ'],\n",
      "    'Sam D.': ['PERSON', 'NNP NNP'],\n",
      "    'Screen': ['GPE', 'NN'],\n",
      "    'Service': ['GPE', 'NNP'],\n",
      "    'Sigh': ['GPE', 'NNP'],\n",
      "    'Solid': ['GPE', 'NNP'],\n",
      "    'Stephanie': ['PERSON', 'NNP'],\n",
      "    'THE': ['ORGANIZATION', 'NNP'],\n",
      "    'Thanks': ['GPE', 'NNS'],\n",
      "    'Troy Barnes': ['ORGANIZATION', 'NN NNPS'],\n",
      "    'VERY': ['ORGANIZATION', 'NNP'],\n",
      "    'Vast': ['GPE', 'JJ'],\n",
      "    'Veggie': ['GPE', 'NNP'],\n",
      "    'Yahoo': ['ORGANIZATION', 'NN']}\n"
     ]
    }
   ],
   "source": [
    "en={}\n",
    "try:\n",
    "    sent_detector = nltk.data.load('tokenizers/punkt/english.pickle')\n",
    "    sentences = sent_detector.tokenize(community_data.raw().strip())\n",
    "    for sentence in sentences:\n",
    "            tokenized = nltk.word_tokenize(sentence)\n",
    "            tagged = nltk.pos_tag(tokenized)\n",
    "            chunked = nltk.ne_chunk(tagged)\n",
    "            for tree in chunked:\n",
    "                if hasattr(tree, 'label'):\n",
    "                    ne = ' '.join(c[0] for c in tree.leaves())\n",
    "                    en[ne] = [tree.label(), ' '.join(c[1] for c in tree.leaves())]\n",
    "except Exception as e:\n",
    "    print(str(e))\n",
    "import pprint\n",
    "pp = pprint.PrettyPrinter(indent=4)\n",
    "pp.pprint(en)"
   ]
  },
  {
   "cell_type": "markdown",
   "metadata": {},
   "source": [
    "<h4>Assuming we've done a good job of identifying named entities, we can get an affect score on entities</h4>"
   ]
  },
  {
   "cell_type": "code",
   "execution_count": 40,
   "metadata": {
    "scrolled": true
   },
   "outputs": [
    {
     "name": "stdout",
     "output_type": "stream",
     "text": [
      "Name\t   pos\t neg\t neu\t compound\n",
      "1          0.00\t 0.00\t 1.00\t 0.00\t\n",
      "2          0.11\t 0.15\t 0.73\t -0.17\t\n",
      "3          0.53\t 0.00\t 0.47\t 0.84\t\n",
      "4          0.28\t 0.00\t 0.71\t 0.49\t\n",
      "5          0.23\t 0.00\t 0.78\t 0.49\t\n",
      "6          0.36\t 0.00\t 0.64\t 0.74\t\n"
     ]
    }
   ],
   "source": [
    "meaningful_sents = list()\n",
    "i=0\n",
    "for sentence in sentences:\n",
    "    if 'service' in sentence:\n",
    "        i+=1\n",
    "        meaningful_sents.append((i,sentence))\n",
    "\n",
    "vader_comparison(meaningful_sents) "
   ]
  },
  {
   "cell_type": "code",
   "execution_count": 41,
   "metadata": {},
   "outputs": [
    {
     "data": {
      "text/plain": [
       "[(1, 'The food, service & ambiance was exactly what we were looking for.'),\n",
       " (2,\n",
       "  'I wish I took a picture, but I dug right in due to brunch hunger and slow service.'),\n",
       " (3, 'All in all, a pleasant experience with nice service and nice company.'),\n",
       " (4, 'Even though it was packed service was very good.'),\n",
       " (5,\n",
       "  'I came here with a friend - we were seated promptly and service was attentive.'),\n",
       " (6,\n",
       "  'Thanks to the kind service as well,i will remember this restaurant as a Columbian.')]"
      ]
     },
     "execution_count": 41,
     "metadata": {},
     "output_type": "execute_result"
    }
   ],
   "source": [
    "meaningful_sents"
   ]
  },
  {
   "cell_type": "markdown",
   "metadata": {},
   "source": [
    "<h4>We could also develop a affect calculator for common terms in our domain (e.g., food items)</h4>"
   ]
  },
  {
   "cell_type": "code",
   "execution_count": 42,
   "metadata": {
    "collapsed": true
   },
   "outputs": [],
   "source": [
    "def get_affect(text,word,lower=False):\n",
    "    import nltk\n",
    "    from vaderSentiment.vaderSentiment import SentimentIntensityAnalyzer\n",
    "    analyzer = SentimentIntensityAnalyzer()\n",
    "    sent_detector = nltk.data.load('tokenizers/punkt/english.pickle')\n",
    "    sentences = sent_detector.tokenize(text.strip())\n",
    "    #print(sentences)\n",
    "    sentence_count = 0\n",
    "    running_total = 0\n",
    "    for sentence in sentences:\n",
    "        if lower: sentence = sentence.lower()\n",
    "        if word in sentence:\n",
    "            vs = analyzer.polarity_scores(sentence) \n",
    "            running_total += vs['compound']\n",
    "            sentence_count += 1\n",
    "    if sentence_count == 0: return 0\n",
    "    return running_total/sentence_count"
   ]
  },
  {
   "cell_type": "code",
   "execution_count": 43,
   "metadata": {},
   "outputs": [
    {
     "data": {
      "text/plain": [
       "0.4215"
      ]
     },
     "execution_count": 43,
     "metadata": {},
     "output_type": "execute_result"
    }
   ],
   "source": [
    "get_affect(community_data.raw(),'service',True)\n",
    "get_affect(amigos_data.raw(),'service',True)\n",
    "get_affect(heights_data.raw(),'brunch',True)"
   ]
  },
  {
   "cell_type": "code",
   "execution_count": 44,
   "metadata": {},
   "outputs": [
    {
     "data": {
      "text/plain": [
       "{'compound': 0.0, 'neg': 0.0, 'neu': 1.0, 'pos': 0.0}"
      ]
     },
     "execution_count": 44,
     "metadata": {},
     "output_type": "execute_result"
    }
   ],
   "source": [
    "from vaderSentiment.vaderSentiment import SentimentIntensityAnalyzer\n",
    "analyzer = SentimentIntensityAnalyzer()\n",
    "sent_detector = nltk.data.load('tokenizers/punkt/english.pickle')\n",
    "sentences_t1 = sent_detector.tokenize(community_data.raw().strip())\n",
    "sentence_count = 0\n",
    "running_total = 0\n",
    "vs = analyzer.polarity_scores(sentences_t1[0]) \n",
    "vs\n",
    "# for sentence_t1 in sentences_t1:\n",
    "#     if lower: sentence_t1 = sentence_t1.lower()\n",
    "#     if word in sentence_t1:\n",
    "#         vs = analyzer.polarity_scores(sentence_t1) \n",
    "#         running_total += vs['compound']\n",
    "#         sentence_count += 1"
   ]
  },
  {
   "cell_type": "markdown",
   "metadata": {},
   "source": [
    "<h4>The nltk function concordance returns text fragments around a word</h4>\n"
   ]
  },
  {
   "cell_type": "code",
   "execution_count": 45,
   "metadata": {
    "scrolled": false
   },
   "outputs": [
    {
     "name": "stdout",
     "output_type": "stream",
     "text": [
      "Displaying 20 of 20 matches:\n",
      "ommend you seek them out . This is such a good brunch spot ! The food , service & ambiance was exact\n",
      "the fruit was all very fresh . Overall , great brunch & highly recommend for a lovely brunch ! Such \n",
      ", great brunch & highly recommend for a lovely brunch ! Such a cute neighborhood spot and perfect fo\n",
      "neighborhood spot and perfect for a pre - park brunch . This place is great for Brunch . I went with\n",
      " a pre - park brunch . This place is great for Brunch . I went with my mom and my brother . Even tho\n",
      "h I took a picture , but I dug right in due to brunch hunger and slow service . I ' d come back agai\n",
      "' ve come here several times with a friend for brunch and once for dinner -- we ' ve both really enj\n",
      "here ' s always summer break ... Came here for brunch with my wife after she found the good review ,\n",
      "!!! All the food was amazing . My new favorite brunch spot . Will be exploring more items on the men\n",
      "orable and delicious ! Initially , we went for brunch in the early afternoon , but ended up staying \n",
      "is definitely one of my favorite , non - boozy brunch spots in the UWS / Morningside ! Will go back \n",
      "the upper east side to get away from the usual brunch places . Only a 20 minute bus ride from 79th ,\n",
      "ruffle vinaigrette and it was Delish . Cheaper brunch cocktails than most places ( only $ 10 .... bu\n",
      "ound and digest . 2 HOURS AND NO FOOD ! Sunday Brunch July 13th 2014 . We had to wait 30 minuets for\n",
      "We had to wait 30 minuets for a seat OK Sunday brunch it ' s popular . 15 minuets wait for the wait \n",
      "t to charge for the momosasas . Community is a brunch place next to Columbia . I came here one day t\n",
      "e ' s at Newbury in Boston or even many of the brunch places I ' ve been in LA . We ordered the morn\n",
      "students . On a nice New York morning , we had brunch and got to talk about everything from racist e\n",
      "nd the lighting was warm - a great place for a brunch date . I ordered the Country Breakfast and the\n",
      "of Columbia , and I would recommend for a nice brunch in the area ! Nice experience there . My frien\n"
     ]
    }
   ],
   "source": [
    "nltk.Text(community_data.words()).concordance('brunch',100)"
   ]
  },
  {
   "cell_type": "markdown",
   "metadata": {},
   "source": [
    "<h2>Text summarization</h2>\n",
    "<h4>Text summarization is useful because you can generate a short summary of a large piece of text automatically</h4>\n",
    "<h4>Then, these summaries can serve as an input into a topic analyzer to figure out what the main topic of the text is</h4>"
   ]
  },
  {
   "cell_type": "markdown",
   "metadata": {},
   "source": [
    "A naive form of summarization is to \n",
    "- identify the most frequent words in a piece of text and \n",
    "- use the occurrence of these words in sentences to \n",
    "- rate the importance of a sentence. "
   ]
  },
  {
   "cell_type": "code",
   "execution_count": 46,
   "metadata": {
    "collapsed": true
   },
   "outputs": [],
   "source": [
    "from nltk.tokenize import word_tokenize\n",
    "from nltk.tokenize import sent_tokenize\n",
    "from nltk.probability import FreqDist\n",
    "from nltk.corpus import stopwords\n",
    "from collections import OrderedDict\n",
    "import pprint"
   ]
  },
  {
   "cell_type": "markdown",
   "metadata": {},
   "source": [
    "<h4>Then prep the text. Get rid of end of line chars</h4>"
   ]
  },
  {
   "cell_type": "code",
   "execution_count": 47,
   "metadata": {
    "collapsed": true
   },
   "outputs": [],
   "source": [
    "text = community_data.raw()\n",
    "summary_sentences = []\n",
    "candidate_sentences = {}\n",
    "candidate_sentence_counts = {}\n",
    "striptext = text.replace('\\n\\n', ' ')\n",
    "striptext = striptext.replace('\\n', ' ')"
   ]
  },
  {
   "cell_type": "code",
   "execution_count": 48,
   "metadata": {},
   "outputs": [
    {
     "name": "stdout",
     "output_type": "stream",
     "text": [
      "-1\n"
     ]
    },
    {
     "data": {
      "text/plain": [
       "551"
      ]
     },
     "execution_count": 48,
     "metadata": {},
     "output_type": "execute_result"
    }
   ],
   "source": [
    "print(striptext.find('\\n'))\n",
    "text.find('\\n')"
   ]
  },
  {
   "cell_type": "code",
   "execution_count": 49,
   "metadata": {},
   "outputs": [
    {
     "data": {
      "text/plain": [
       "True"
      ]
     },
     "execution_count": 49,
     "metadata": {},
     "output_type": "execute_result"
    }
   ],
   "source": [
    "'confidence'.isalpha()"
   ]
  },
  {
   "cell_type": "markdown",
   "metadata": {},
   "source": [
    "<h4>Construct a list of words after getting rid of unimportant ones and numbers</h4>\n"
   ]
  },
  {
   "cell_type": "code",
   "execution_count": 50,
   "metadata": {
    "collapsed": true
   },
   "outputs": [],
   "source": [
    "words = word_tokenize(striptext)\n",
    "lowercase_words = [word.lower() for word in words\n",
    "                  if word not in stopwords.words() and word.isalpha()]"
   ]
  },
  {
   "cell_type": "markdown",
   "metadata": {},
   "source": [
    "<h4>Construct word frequencies and choose the most common n (20)</h4>"
   ]
  },
  {
   "cell_type": "code",
   "execution_count": 51,
   "metadata": {
    "scrolled": true
   },
   "outputs": [
    {
     "name": "stdout",
     "output_type": "stream",
     "text": [
      "[   ('i', 73),\n",
      "    ('the', 46),\n",
      "    ('food', 20),\n",
      "    ('brunch', 20),\n",
      "    ('good', 19),\n",
      "    ('place', 15),\n",
      "    ('nice', 13),\n",
      "    ('ordered', 13),\n",
      "    ('pancakes', 13),\n",
      "    ('fresh', 13),\n",
      "    ('came', 13),\n",
      "    ('my', 12),\n",
      "    ('coffee', 12),\n",
      "    ('delicious', 12),\n",
      "    ('we', 10),\n",
      "    ('community', 10),\n",
      "    ('eggs', 10),\n",
      "    ('friend', 10),\n",
      "    ('one', 10),\n",
      "    ('get', 9)]\n"
     ]
    }
   ],
   "source": [
    "word_frequencies = FreqDist(lowercase_words)\n",
    "most_frequent_words = FreqDist(lowercase_words).most_common(20)\n",
    "pp = pprint.PrettyPrinter(indent=4)\n",
    "pp.pprint(most_frequent_words)"
   ]
  },
  {
   "cell_type": "markdown",
   "metadata": {},
   "source": [
    "<h4>lowercase the sentences</h4>\n",
    "candidate_sentences is a dictionary with the original sentence as the key, and its lowercase version as the value"
   ]
  },
  {
   "cell_type": "code",
   "execution_count": 52,
   "metadata": {},
   "outputs": [
    {
     "data": {
      "text/plain": [
       "{'\"I have a degree from Columbia, and now I have to get one from America.\"': '\"i have a degree from columbia, and now i have to get one from america.\"',\n",
       " '- Jeff Winger, Community.': '- jeff winger, community.',\n",
       " '- The truffle egg dish: had sausage, potatoes, some leafy greens, sautéed mushrooms, and poached egg on top.': '- the truffle egg dish: had sausage, potatoes, some leafy greens, sautéed mushrooms, and poached egg on top.',\n",
       " '- Troy Barnes Man I love that show.': '- troy barnes man i love that show.',\n",
       " '-7 grains waffle: had vanilla cream, raspberry, cherry, and toasted nuts.': '-7 grains waffle: had vanilla cream, raspberry, cherry, and toasted nuts.',\n",
       " '15 minuets wait for the wait staff, 45 minuets before we got the wrong dish!': '15 minuets wait for the wait staff, 45 minuets before we got the wrong dish!',\n",
       " '2 HOURS AND NO FOOD!': '2 hours and no food!',\n",
       " \"A man came over to the table and filled our waters but didn't introduce himself as our waiter so I wasn't sure if he was the busboy or the waiter; regardless, he took our drink order.\": \"a man came over to the table and filled our waters but didn't introduce himself as our waiter so i wasn't sure if he was the busboy or the waiter; regardless, he took our drink order.\",\n",
       " 'All and all a solid meal, the burger was a wee bit dry, but cooked to my specifications (medium rare).': 'all and all a solid meal, the burger was a wee bit dry, but cooked to my specifications (medium rare).',\n",
       " 'All in all, a pleasant experience with nice service and nice company.': 'all in all, a pleasant experience with nice service and nice company.',\n",
       " 'All the food was amazing.': 'all the food was amazing.',\n",
       " 'Also GREAT FOR GLUTEN FREE!': 'also great for gluten free!',\n",
       " \"Also super close to Colombia's main campus, great place to walk around and digest.\": \"also super close to colombia's main campus, great place to walk around and digest.\",\n",
       " \"Although we thought the veggie burger could've used another flavor component.\": \"although we thought the veggie burger could've used another flavor component.\",\n",
       " 'Although you really have to spring ti get in, since there are very big lines to eat.': 'although you really have to spring ti get in, since there are very big lines to eat.',\n",
       " 'And the carrot hash browns were yummy too!': 'and the carrot hash browns were yummy too!',\n",
       " 'As per her request, they put less goat cheese.': 'as per her request, they put less goat cheese.',\n",
       " \"Awesome bar alongside, but we didn't patronize it.\": \"awesome bar alongside, but we didn't patronize it.\",\n",
       " \"Bill came up to be around 50, which isn't exactly cheap considering how small the portions are- but justifiable still due to the taste.\": \"bill came up to be around 50, which isn't exactly cheap considering how small the portions are- but justifiable still due to the taste.\",\n",
       " 'Bottomless coffee was standard.': 'bottomless coffee was standard.',\n",
       " 'Came here for brunch with my wife after she found the good review, and it did not disappoint!': 'came here for brunch with my wife after she found the good review, and it did not disappoint!',\n",
       " 'Came on Sunday near 1pm and it was VERY busy, ended up waiting an hour and a half (1 hour more than we were told) however, the food was ah-mazing.': 'came on sunday near 1pm and it was very busy, ended up waiting an hour and a half (1 hour more than we were told) however, the food was ah-mazing.',\n",
       " \"Cheaper brunch cocktails than most places (only $10....but yes, it is nyc where most are $14+) if I have one recommendation, it's the POTATO PANCAKES!!!\": \"cheaper brunch cocktails than most places (only $10....but yes, it is nyc where most are $14+) if i have one recommendation, it's the potato pancakes!!!\",\n",
       " \"Community Food & Juice is literally a few blocks away, so it's perfect for students.\": \"community food & juice is literally a few blocks away, so it's perfect for students.\",\n",
       " 'Community is a brunch place next to Columbia.': 'community is a brunch place next to columbia.',\n",
       " 'Community is definitely one of my favorite, non-boozy brunch spots in the UWS/Morningside!': 'community is definitely one of my favorite, non-boozy brunch spots in the uws/morningside!',\n",
       " 'Despite the 3.5 stars I was pleasantly surprised at the food here.': 'despite the 3.5 stars i was pleasantly surprised at the food here.',\n",
       " 'Details of the food, including the presentation of each dish.': 'details of the food, including the presentation of each dish.',\n",
       " 'Dinner looked pretty...and that was all.': 'dinner looked pretty...and that was all.',\n",
       " 'Dinner on Tuesday, usually a quiet affair, but given that Community is one of few good spots on Broadway for a good sit down, even at 6:30 p.m. it was bumping.': 'dinner on tuesday, usually a quiet affair, but given that community is one of few good spots on broadway for a good sit down, even at 6:30 p.m. it was bumping.',\n",
       " 'Disclaimer: I like diner food but it is almost always to greasy which I hate, but this place has very fresh and carefully prepared food.': 'disclaimer: i like diner food but it is almost always to greasy which i hate, but this place has very fresh and carefully prepared food.',\n",
       " 'Down to the last drop - it was smooth, nutty, and not bitter even cold.': 'down to the last drop - it was smooth, nutty, and not bitter even cold.',\n",
       " 'During the whole time, not one waiter came over to encourage us to pay our bill and leave.': 'during the whole time, not one waiter came over to encourage us to pay our bill and leave.',\n",
       " 'Even though it was packed service was very good.': 'even though it was packed service was very good.',\n",
       " 'Even though they were super busy, they were able to seat us right away, and our food came in a timely manner.': 'even though they were super busy, they were able to seat us right away, and our food came in a timely manner.',\n",
       " 'Everyone is super friendly and accommodating vegetarian requests!': 'everyone is super friendly and accommodating vegetarian requests!',\n",
       " 'Everything looks and sounds good and this place smells like heaven.': 'everything looks and sounds good and this place smells like heaven.',\n",
       " 'Everything was awesome.': 'everything was awesome.',\n",
       " 'Excellent menu!': 'excellent menu!',\n",
       " 'Flor de Cana aged white rum, fresh lime juice, shiso-mint simple syrup, yuzu splash, muddled mint, and crushed ice made up the drink that Jeff Winger would have called a \"kid\\'s drink\".': 'flor de cana aged white rum, fresh lime juice, shiso-mint simple syrup, yuzu splash, muddled mint, and crushed ice made up the drink that jeff winger would have called a \"kid\\'s drink\".',\n",
       " 'Had the spinach been softer, this would have been more enjoyable to eat.': 'had the spinach been softer, this would have been more enjoyable to eat.',\n",
       " 'Having seen the title of this place, I did expect somewhere a little cosier, trendier, more rustic and more inviting.': 'having seen the title of this place, i did expect somewhere a little cosier, trendier, more rustic and more inviting.',\n",
       " 'He had the pancakes and said they were the best he had in the city.': 'he had the pancakes and said they were the best he had in the city.',\n",
       " 'He loved it!': 'he loved it!',\n",
       " 'His eggs were sunny side up, and perfectly runny.': 'his eggs were sunny side up, and perfectly runny.',\n",
       " 'However, the spinach although cooked well, kind of took away from the dish.': 'however, the spinach although cooked well, kind of took away from the dish.',\n",
       " 'I accidentally left my headphones, called to ask if it was found, and fetched them the day later.': 'i accidentally left my headphones, called to ask if it was found, and fetched them the day later.',\n",
       " 'I also got a shiso mojito which sounds fancy--and it better be for the $11 I paid for it.': 'i also got a shiso mojito which sounds fancy--and it better be for the $11 i paid for it.',\n",
       " 'I also tried my first ever bloody mary, and it was really good.': 'i also tried my first ever bloody mary, and it was really good.',\n",
       " 'I am gluten/dairy intolerant and they were able to fully accommodate me.': 'i am gluten/dairy intolerant and they were able to fully accommodate me.',\n",
       " 'I ate here Monday night for a working dinner with a coworker.': 'i ate here monday night for a working dinner with a coworker.',\n",
       " 'I came here on a Saturday morning with one of my friends without a reservation around 10:30 am and luckily we were seated outside right away.': 'i came here on a saturday morning with one of my friends without a reservation around 10:30 am and luckily we were seated outside right away.',\n",
       " 'I came here one day to meet up with my cousin who studies at Columbia.': 'i came here one day to meet up with my cousin who studies at columbia.',\n",
       " 'I came here with a friend - we were seated promptly and service was attentive.': 'i came here with a friend - we were seated promptly and service was attentive.',\n",
       " 'I came here with my friend who also is a huge fan of the show \"Community\", which used to be aired on NBC then got cancelled and then re-birthed on Yahoo!': 'i came here with my friend who also is a huge fan of the show \"community\", which used to be aired on nbc then got cancelled and then re-birthed on yahoo!',\n",
       " \"I don't know what I was expecting.\": \"i don't know what i was expecting.\",\n",
       " \"I don't normally drink coffee, but I would have had a whole cup of it had I not ordered the hot chocolate, which was also delicious.\": \"i don't normally drink coffee, but i would have had a whole cup of it had i not ordered the hot chocolate, which was also delicious.\",\n",
       " 'I gave this place four stars instead of five because of the consistency of the spinach in the eggs benedict florentine.': 'i gave this place four stars instead of five because of the consistency of the spinach in the eggs benedict florentine.',\n",
       " 'I had the special of 2 fried eggs, vegetable ragout, bacon and truffle vinaigrette and it was Delish.': 'i had the special of 2 fried eggs, vegetable ragout, bacon and truffle vinaigrette and it was delish.',\n",
       " \"I immediately saw its reason for name, beyond the owner's fandom of the show of the same name: the tablet setup are nearly all communal long tables.\": \"i immediately saw its reason for name, beyond the owner's fandom of the show of the same name: the tablet setup are nearly all communal long tables.\",\n",
       " 'I ordered a mimosa, which was pretty good, and my friend ordered a coffee which was served in a huge mug.': 'i ordered a mimosa, which was pretty good, and my friend ordered a coffee which was served in a huge mug.',\n",
       " 'I ordered the Country Breakfast and the eggs were delicious and fluffy, the biscuit was moist and flavorful, the carrot hash browns were warm and comforting, and the ham was sweet and juicy.': 'i ordered the country breakfast and the eggs were delicious and fluffy, the biscuit was moist and flavorful, the carrot hash browns were warm and comforting, and the ham was sweet and juicy.',\n",
       " \"I ordered the beef burger which was very juicy, perfectly lean, well sauced, cooked as desired (medium-well, for those who wonder), and paired with a dill pickle, a handmade cole slaw that lacked mayo (which is good as mayo's pure trans-fat), and a spindle of fries.\": \"i ordered the beef burger which was very juicy, perfectly lean, well sauced, cooked as desired (medium-well, for those who wonder), and paired with a dill pickle, a handmade cole slaw that lacked mayo (which is good as mayo's pure trans-fat), and a spindle of fries.\",\n",
       " 'I ordered the eggs benedict florentine.': 'i ordered the eggs benedict florentine.',\n",
       " \"I really like how it wasn't hard and overly sweet- especially how the toasted nuts added a level of crunchiness to the heaviness of the cream.\": \"i really like how it wasn't hard and overly sweet- especially how the toasted nuts added a level of crunchiness to the heaviness of the cream.\",\n",
       " 'I really like the hanging lights from the ceiling which is quite cute.': 'i really like the hanging lights from the ceiling which is quite cute.',\n",
       " 'I recommend you seek them out.': 'i recommend you seek them out.',\n",
       " 'I started with a raspberry iced tea & ordered the community custom egg white omelette with sautéed spinach & mushrooms and a side of smoked salmon.': 'i started with a raspberry iced tea & ordered the community custom egg white omelette with sautéed spinach & mushrooms and a side of smoked salmon.',\n",
       " 'I thought it was delicious!': 'i thought it was delicious!',\n",
       " 'I used some of the chive cream cheese on the toast that came with the eggs - highly recommend asking for some on the side!': 'i used some of the chive cream cheese on the toast that came with the eggs - highly recommend asking for some on the side!',\n",
       " 'I wanted to order everything off the menu, but settled on the juevos rancheros with side of carrot hash browns, and biscuit.': 'i wanted to order everything off the menu, but settled on the juevos rancheros with side of carrot hash browns, and biscuit.',\n",
       " 'I was not a big fan of the sausage that was served with it and would much more have preferred bacon but overall it was good.': 'i was not a big fan of the sausage that was served with it and would much more have preferred bacon but overall it was good.',\n",
       " 'I went with my mom and my brother.': 'i went with my mom and my brother.',\n",
       " 'I wish I had ordered that instead.': 'i wish i had ordered that instead.',\n",
       " 'I wish I took a picture, but I dug right in due to brunch hunger and slow service.': 'i wish i took a picture, but i dug right in due to brunch hunger and slow service.',\n",
       " \"I work at CU, and may be one of the few people that's never been to Community before.\": \"i work at cu, and may be one of the few people that's never been to community before.\",\n",
       " \"I wouldn't go back at these prices and with these crowds.\": \"i wouldn't go back at these prices and with these crowds.\",\n",
       " \"I'd be interested to check out their lunch, which alas is usually a crush of CU staff and students, but there's always summer break ...\": \"i'd be interested to check out their lunch, which alas is usually a crush of cu staff and students, but there's always summer break ...\",\n",
       " \"I'd come back again, but be sure to have a snack before if you are feeling at all hungry like me.\": \"i'd come back again, but be sure to have a snack before if you are feeling at all hungry like me.\",\n",
       " \"I'd rather have paid half price for half the portion.\": \"i'd rather have paid half price for half the portion.\",\n",
       " \"I've come here several times with a friend for brunch and once for dinner -- we've both really enjoyed a lot of the breakfast foods available; my favorite is the brioche French toast with blackberry and lemon curd & she loves heir waffles.\": \"i've come here several times with a friend for brunch and once for dinner -- we've both really enjoyed a lot of the breakfast foods available; my favorite is the brioche french toast with blackberry and lemon curd & she loves heir waffles.\",\n",
       " 'If you come between 8-9am they have a pancake deal (blueberry or chocolate and a coffee or OJ for $12, not bad considering the area and average prices.': 'if you come between 8-9am they have a pancake deal (blueberry or chocolate and a coffee or oj for $12, not bad considering the area and average prices.',\n",
       " 'In fact, the \"syrup\"--not even sure what it is (apple?)': 'in fact, the \"syrup\"--not even sure what it is (apple?)',\n",
       " 'Initially, we went for brunch in the early afternoon, but ended up staying for appetizers and split a bottle of wine.': 'initially, we went for brunch in the early afternoon, but ended up staying for appetizers and split a bottle of wine.',\n",
       " 'Instead, they filled our coffees and water.': 'instead, they filled our coffees and water.',\n",
       " 'It was delicious.': 'it was delicious.',\n",
       " 'It was difficult to cut along with everything else, and pulling the spinach out from under the uncut part made parts of the egg fall off the biscuit.': 'it was difficult to cut along with everything else, and pulling the spinach out from under the uncut part made parts of the egg fall off the biscuit.',\n",
       " 'It was flavorful and not overly salty.': 'it was flavorful and not overly salty.',\n",
       " \"It was pretty strong but the shiso-mint did come through, so it was worth it (I'm rationalizing the price right now).\": \"it was pretty strong but the shiso-mint did come through, so it was worth it (i'm rationalizing the price right now).\",\n",
       " \"It's not every day I get to go to New York, take some subways to meet a friend, eat some good food, get a tour of a top university, and walk away with my wallet much lighter.\": \"it's not every day i get to go to new york, take some subways to meet a friend, eat some good food, get a tour of a top university, and walk away with my wallet much lighter.\",\n",
       " \"Let's be honest, sometimes a man just wants some sweet sweet avocado in the cool winter months.\": \"let's be honest, sometimes a man just wants some sweet sweet avocado in the cool winter months.\",\n",
       " 'Morningside feels more like a college town with older residential building and quieter streets.': 'morningside feels more like a college town with older residential building and quieter streets.',\n",
       " \"Much better than my experience at Stephanie's at Newbury in Boston or even many of the brunch places I've been in LA.\": \"much better than my experience at stephanie's at newbury in boston or even many of the brunch places i've been in la.\",\n",
       " 'My brother had the Huevos Rancheros.': 'my brother had the huevos rancheros.',\n",
       " 'My chocolate pancakes were pretty darn good and pretty darn rich.': 'my chocolate pancakes were pretty darn good and pretty darn rich.',\n",
       " 'My coworker got the salmon sandwich, same review applies.': 'my coworker got the salmon sandwich, same review applies.',\n",
       " 'My friend and I had a very good time.': 'my friend and i had a very good time.',\n",
       " 'My friend got the house smoked salmon plate.': 'my friend got the house smoked salmon plate.',\n",
       " 'My friend n me went there early to enjoy pancake with fresh juice n on site coffee.': 'my friend n me went there early to enjoy pancake with fresh juice n on site coffee.',\n",
       " 'My friend, however, is actually pursuing a REAL degree from Columbia University--not Colombia the country, unlike our hateable yet lovable ex-lawyer who attended Greendale Community College.': 'my friend, however, is actually pursuing a real degree from columbia university--not colombia the country, unlike our hateable yet lovable ex-lawyer who attended greendale community college.',\n",
       " 'My mother ordered the frittata, which was also very good.': 'my mother ordered the frittata, which was also very good.',\n",
       " 'My new favorite brunch spot.': 'my new favorite brunch spot.',\n",
       " 'My wife and I went here for breakfast.': 'my wife and i went here for breakfast.',\n",
       " 'My wife got the blueberry pancakes.': 'my wife got the blueberry pancakes.',\n",
       " 'Nice experience there.': 'nice experience there.',\n",
       " 'Nice little draft selection, I went for the Fire Island Beer Co. Lighthouse - nice and crisp and not hoppy - a rare breed in NYC.': 'nice little draft selection, i went for the fire island beer co. lighthouse - nice and crisp and not hoppy - a rare breed in nyc.',\n",
       " 'Nice little tip, they have a deal between 5 pm and 7 pm on weekdays - beef burger and beer for $16.': 'nice little tip, they have a deal between 5 pm and 7 pm on weekdays - beef burger and beer for $16.',\n",
       " 'Nom nommmm.': 'nom nommmm.',\n",
       " 'Not overly sweet and definitely enjoyed the seeds within the preserve.': 'not overly sweet and definitely enjoyed the seeds within the preserve.',\n",
       " 'Now I know this is NY and costs here are higher--but $43!': 'now i know this is ny and costs here are higher--but $43!',\n",
       " \"On a nice New York morning, we had brunch and got to talk about everything from racist experiences to the TV show we can't quite get over.\": \"on a nice new york morning, we had brunch and got to talk about everything from racist experiences to the tv show we can't quite get over.\",\n",
       " 'On that note, \"It said market price.': 'on that note, \"it said market price.',\n",
       " 'Only a 20 minute bus ride from 79th, very easy to get to.': 'only a 20 minute bus ride from 79th, very easy to get to.',\n",
       " \"Otherwise, I'd have given this place five stars.\": \"otherwise, i'd have given this place five stars.\",\n",
       " 'Otherwise, it tasted delicious.': 'otherwise, it tasted delicious.',\n",
       " \"Our waiter Sam D. was the perfect level of attentive, there for a question and to fill our water glasses, I don't think my ever dipped below half-filled.\": \"our waiter sam d. was the perfect level of attentive, there for a question and to fill our water glasses, i don't think my ever dipped below half-filled.\",\n",
       " 'Overall, great brunch & highly recommend for a lovely brunch!': 'overall, great brunch & highly recommend for a lovely brunch!',\n",
       " 'Overpriced small portions that were essentially inedible.': 'overpriced small portions that were essentially inedible.',\n",
       " 'Overpriced, oversized, oversweet... Oh wait, this is America.': 'overpriced, oversized, oversweet... oh wait, this is america.',\n",
       " 'P.s.': 'p.s.',\n",
       " 'Pancakes were fluffy and they used real, non-frozen blueberries which I loved!': 'pancakes were fluffy and they used real, non-frozen blueberries which i loved!',\n",
       " \"Pancakes were fluffy and very filling)  Their lattes sometimes taste a bit burnt and not mixed properly -- don't waste your money.\": \"pancakes were fluffy and very filling)  their lattes sometimes taste a bit burnt and not mixed properly -- don't waste your money.\",\n",
       " \"Pricing was around $15 per person, which was reasonable for the quality and amount of food, especially considering it's New York.\": \"pricing was around $15 per person, which was reasonable for the quality and amount of food, especially considering it's new york.\",\n",
       " 'SO GOOD, My bf and I split them.': 'so good, my bf and i split them.',\n",
       " 'Screen.': 'screen.',\n",
       " 'Seated around 10 mins on a cozy Sat morning, not too bad.': 'seated around 10 mins on a cozy sat morning, not too bad.',\n",
       " 'Service is great - our water was also filled, our coffee was replenished at appropriate times.': 'service is great - our water was also filled, our coffee was replenished at appropriate times.',\n",
       " \"She chose this place because of the name--I mean come on, can't get more fitting than that--and because of its proximity to Columbia's campus.\": \"she chose this place because of the name--i mean come on, can't get more fitting than that--and because of its proximity to columbia's campus.\",\n",
       " 'Sigh, oh how I miss the golden age of that glorious, glorious show.': 'sigh, oh how i miss the golden age of that glorious, glorious show.',\n",
       " 'Solid breakfast place in Morningside Heights.': 'solid breakfast place in morningside heights.',\n",
       " 'Speaking of coffee - their black drip coffee from a roaster in Brooklyn is delicious!': 'speaking of coffee - their black drip coffee from a roaster in brooklyn is delicious!',\n",
       " 'Still delicious, but sad when you see your non-GF friend with a full size sandwich.': 'still delicious, but sad when you see your non-gf friend with a full size sandwich.',\n",
       " 'Such a cute neighborhood spot and perfect for a pre-park brunch.': 'such a cute neighborhood spot and perfect for a pre-park brunch.',\n",
       " 'Sunday Brunch July 13th 2014.': 'sunday brunch july 13th 2014.',\n",
       " 'Tasted slightly more chewy than the usual waffle with flour, and on top there was marinated peach slices and cream.': 'tasted slightly more chewy than the usual waffle with flour, and on top there was marinated peach slices and cream.',\n",
       " 'Thanks to the kind service as well,i will remember this restaurant as a Columbian.': 'thanks to the kind service as well,i will remember this restaurant as a columbian.',\n",
       " 'Thanks, all!': 'thanks, all!',\n",
       " \"That's right, Yahoo!\": \"that's right, yahoo!\",\n",
       " 'The 7 grain waffle with the fresh berries, butterscotch sauce (maple glaze?)': 'the 7 grain waffle with the fresh berries, butterscotch sauce (maple glaze?)',\n",
       " 'The accompanying sauces and jams were so memorable and delicious!': 'the accompanying sauces and jams were so memorable and delicious!',\n",
       " 'The attention to the details of the flavors in the food is impeccable.': 'the attention to the details of the flavors in the food is impeccable.',\n",
       " 'The bathrooms were also clean!': 'the bathrooms were also clean!',\n",
       " 'The beans were seasoned perfectly, as was the rest of the tomato sauce, The tortilla was fresh and soft, and it came with delicious guacamole and sour cream.': 'the beans were seasoned perfectly, as was the rest of the tomato sauce, the tortilla was fresh and soft, and it came with delicious guacamole and sour cream.',\n",
       " 'The beat salad and rice bowl were delicious.': 'the beat salad and rice bowl were delicious.',\n",
       " 'The biscuit sandwich was healthy-ish as they utilized whole wheat flour.': 'the biscuit sandwich was healthy-ish as they utilized whole wheat flour.',\n",
       " 'The biscuit under it was cooked to perfection.': 'the biscuit under it was cooked to perfection.',\n",
       " 'The decor was beautiful and the lighting was warm - a great place for a brunch date.': 'the decor was beautiful and the lighting was warm - a great place for a brunch date.',\n",
       " 'The eggs were perfect: solid on the outside, runny on the inside.': 'the eggs were perfect: solid on the outside, runny on the inside.',\n",
       " 'The flavors blended very well together.': 'the flavors blended very well together.',\n",
       " 'The food here is quite good, and I have no complaints in that area.': 'the food here is quite good, and i have no complaints in that area.',\n",
       " 'The food is awesome!': 'the food is awesome!',\n",
       " 'The food was very fresh, and the chefs knew exactly what they were doing.': 'the food was very fresh, and the chefs knew exactly what they were doing.',\n",
       " 'The food, service & ambiance was exactly what we were looking for.': 'the food, service & ambiance was exactly what we were looking for.',\n",
       " 'The food?': 'the food?',\n",
       " 'The frittata itself was soft and fluffy without being undercooked.': 'the frittata itself was soft and fluffy without being undercooked.',\n",
       " 'The ground leveled glass windows allow you to see the views outside- it is a nice change from the busy pedestrians and giant high rise buildings view of the typical New York street cues in Midtown.': 'the ground leveled glass windows allow you to see the views outside- it is a nice change from the busy pedestrians and giant high rise buildings view of the typical new york street cues in midtown.',\n",
       " 'The hash browns were not the least bit greasy; the pancakes were delicious, and I really enjoyed the juevos (w/ chorizo).': 'the hash browns were not the least bit greasy; the pancakes were delicious, and i really enjoyed the juevos (w/ chorizo).',\n",
       " 'The hollandaise sauce was perfect: smooth and mildly tart.': 'the hollandaise sauce was perfect: smooth and mildly tart.',\n",
       " 'The hot chocolate was made with real cocoa powder and milk.': 'the hot chocolate was made with real cocoa powder and milk.',\n",
       " 'The interior was a little canteenish and there were only a couple of juices on the menu.': 'the interior was a little canteenish and there were only a couple of juices on the menu.',\n",
       " 'The interior was normal, nothing fancy, but we enjoyed window seats and a tiny desk instead of the long family style tables at the center of the restaurant which gives limited privacy.': 'the interior was normal, nothing fancy, but we enjoyed window seats and a tiny desk instead of the long family style tables at the center of the restaurant which gives limited privacy.',\n",
       " 'The mushrooms were perfectly cooked.': 'the mushrooms were perfectly cooked.',\n",
       " 'The omelette was thin (I would ask for eggs more well done next time) and was jam packed with veggies.': 'the omelette was thin (i would ask for eggs more well done next time) and was jam packed with veggies.',\n",
       " 'The only thing I guess I can \"complain\" is that the dishes were small.': 'the only thing i guess i can \"complain\" is that the dishes were small.',\n",
       " 'The pancakes were $13 and the coffee was $4, so the initial bill was $34.': 'the pancakes were $13 and the coffee was $4, so the initial bill was $34.',\n",
       " 'The pancakes with banana and walnut were okay.': 'the pancakes with banana and walnut were okay.',\n",
       " 'The place was packed.': 'the place was packed.',\n",
       " 'The portobello mushrooms were cut into small enough pieces to fit in one bite, but were soft enough to cut further if they were too big for you.': 'the portobello mushrooms were cut into small enough pieces to fit in one bite, but were soft enough to cut further if they were too big for you.',\n",
       " 'The raspberry preserve was so fresh!': 'the raspberry preserve was so fresh!',\n",
       " 'The reason for only two stars is the cost of that food--OMG are they overpriced.': 'the reason for only two stars is the cost of that food--omg are they overpriced.',\n",
       " 'The restaurant is within walking distance of Columbia, and I would recommend for a nice brunch in the area!': 'the restaurant is within walking distance of columbia, and i would recommend for a nice brunch in the area!',\n",
       " 'The salmon was so fresh and delicious.': 'the salmon was so fresh and delicious.',\n",
       " 'The sauce that came with it was definitely different than the waffle glaze, so it was so tasty to discover the flavors within the glaze.': 'the sauce that came with it was definitely different than the waffle glaze, so it was so tasty to discover the flavors within the glaze.',\n",
       " 'The sausage was not fatty at all and the meat patty - although a little smaller when compared to the biscuit (meat:bread ratio) was small, it went was so tasty with the tomato jam, as well as the perfectly cooked eggs!': 'the sausage was not fatty at all and the meat patty - although a little smaller when compared to the biscuit (meat:bread ratio) was small, it went was so tasty with the tomato jam, as well as the perfectly cooked eggs!',\n",
       " 'The server was very friendly and sensitive to my dietary restrictions.': 'the server was very friendly and sensitive to my dietary restrictions.',\n",
       " 'The seven grain waffles, blueberry pancakes with a side of turkey chorizo.': 'the seven grain waffles, blueberry pancakes with a side of turkey chorizo.',\n",
       " 'The staff did not make us feel guilty at all, but welcomed us to stay until their dinner hour started.': 'the staff did not make us feel guilty at all, but welcomed us to stay until their dinner hour started.',\n",
       " \"The staff were so helpful, kind, and soft-spoken about recovering and returning it that I'm duly humbled.\": \"the staff were so helpful, kind, and soft-spoken about recovering and returning it that i'm duly humbled.\",\n",
       " 'The tax was $3, and I left a tip of $6--resulting in a final total of $43 for a breakfast of flapjacks and coffee.': 'the tax was $3, and i left a tip of $6--resulting in a final total of $43 for a breakfast of flapjacks and coffee.',\n",
       " 'The veggies were perfect and fresh!': 'the veggies were perfect and fresh!',\n",
       " 'The waitress serving our table was polite and courteous considering how many customers she was dealing with.': 'the waitress serving our table was polite and courteous considering how many customers she was dealing with.',\n",
       " 'Their coffee is from Brooklyn Roasting Company.': 'their coffee is from brooklyn roasting company.',\n",
       " 'Their maple butter sauce light, sweet and adds a nice taste as opposed to heavier syrups.': 'their maple butter sauce light, sweet and adds a nice taste as opposed to heavier syrups.',\n",
       " 'There are a lot of nice places in the city where you can get a very good breakfast for 1/3rd to 1/2 less than Community.': 'there are a lot of nice places in the city where you can get a very good breakfast for 1/3rd to 1/2 less than community.',\n",
       " 'There was a raspberry sauce beautifully spread on the plate that added a nice tartness to the whole bite.': 'there was a raspberry sauce beautifully spread on the plate that added a nice tartness to the whole bite.',\n",
       " \"There're rather few non-shared tables which is fine as not only is NYC filled with such setup but there's a liveliness in the Columbia area vibe which prefers this setup.\": \"there're rather few non-shared tables which is fine as not only is nyc filled with such setup but there's a liveliness in the columbia area vibe which prefers this setup.\",\n",
       " \"There's a shortage of such nice sit-down restaurants in the Columbia area so this place is not only capitalizing on its presence but doing so with great style and flare.\": \"there's a shortage of such nice sit-down restaurants in the columbia area so this place is not only capitalizing on its presence but doing so with great style and flare.\",\n",
       " 'They could have done without the maple butter and walnuts and would have been better with maple syrup.': 'they could have done without the maple butter and walnuts and would have been better with maple syrup.',\n",
       " \"They were mostly made of potato with hints of carrots, so it wasn't too carroty.\": \"they were mostly made of potato with hints of carrots, so it wasn't too carroty.\",\n",
       " 'They where gracious enough not to charge for the momosasas.': 'they where gracious enough not to charge for the momosasas.',\n",
       " 'This is such a good brunch spot!': 'this is such a good brunch spot!',\n",
       " 'This place is fantastic.': 'this place is fantastic.',\n",
       " 'This place is great for Brunch.': 'this place is great for brunch.',\n",
       " 'This place is really good for breakfast and has great pancakes, sausages, eggs.': 'this place is really good for breakfast and has great pancakes, sausages, eggs.',\n",
       " 'To be honest I  could not tasted the truffle at all, besides the garlic and the pepper and the salt; however with this mix it can hardly go wrong.': 'to be honest i  could not tasted the truffle at all, besides the garlic and the pepper and the salt; however with this mix it can hardly go wrong.',\n",
       " 'To note - any revisions/additions to your order is $2.': 'to note - any revisions/additions to your order is $2.',\n",
       " 'Traveled up here from the upper east side to get away from the usual brunch places.': 'traveled up here from the upper east side to get away from the usual brunch places.',\n",
       " 'Ugh!': 'ugh!',\n",
       " 'Unfortunately, the GF bread is an upcharge for a sandwich half the size of the normal sandwich.': 'unfortunately, the gf bread is an upcharge for a sandwich half the size of the normal sandwich.',\n",
       " 'Vast amounts of seating and an open kitchen where tons of food is prepared live makes for a fun environ.': 'vast amounts of seating and an open kitchen where tons of food is prepared live makes for a fun environ.',\n",
       " 'Veggie sandwich on gluten free bread here.': 'veggie sandwich on gluten free bread here.',\n",
       " 'Very fresh, clean, and NOT oily, which is my usually qualm.': 'very fresh, clean, and not oily, which is my usually qualm.',\n",
       " 'We also shared & loved the fruit salad.': 'we also shared & loved the fruit salad.',\n",
       " 'We both then ordered the breakfast biscuit.': 'we both then ordered the breakfast biscuit.',\n",
       " 'We did have to wait to be seated (which is a good sign even though no one really wants to)...': 'we did have to wait to be seated (which is a good sign even though no one really wants to)...',\n",
       " 'We each ordered blueberry pancakes and a cup of coffee--no fresh fruit, no juice, no bacon.': 'we each ordered blueberry pancakes and a cup of coffee--no fresh fruit, no juice, no bacon.',\n",
       " 'We had ordered three things the beet salad, the rice bowl and the veggie burger.': 'we had ordered three things the beet salad, the rice bowl and the veggie burger.',\n",
       " \"We had to wait 30 minuets for a seat OK Sunday brunch it's popular.\": \"we had to wait 30 minuets for a seat ok sunday brunch it's popular.\",\n",
       " 'We ordered the morning specials : 7 grains waffle and truffle egg dish.': 'we ordered the morning specials : 7 grains waffle and truffle egg dish.',\n",
       " 'We sat at an adorable table on the outdoor patio and our waiter (sadly forgot his name) was awesome.': 'we sat at an adorable table on the outdoor patio and our waiter (sadly forgot his name) was awesome.',\n",
       " 'We stopped in for lunch.': 'we stopped in for lunch.',\n",
       " 'We were pleasantly surprised by how big it was and the fruit was all very fresh.': 'we were pleasantly surprised by how big it was and the fruit was all very fresh.',\n",
       " 'What market are you shopping at!?!?!\"': 'what market are you shopping at!?!?!\"',\n",
       " 'Who knew turkey chorizo existed!!!': 'who knew turkey chorizo existed!!!',\n",
       " 'Will be exploring more items on the menu.': 'will be exploring more items on the menu.',\n",
       " 'Will definitely be back!': 'will definitely be back!',\n",
       " 'Will go back!': 'will go back!',\n",
       " 'Your whole party has to be there to be sat!': 'your whole party has to be there to be sat!',\n",
       " 'another 30 minuets still no food we left.': 'another 30 minuets still no food we left.',\n",
       " 'was kind of overkill because the pancakes and chocolate were far sweet enough.': 'was kind of overkill because the pancakes and chocolate were far sweet enough.',\n",
       " 'with FRESH whipped cream was THE BEST dish there.': 'with fresh whipped cream was the best dish there.'}"
      ]
     },
     "execution_count": 52,
     "metadata": {},
     "output_type": "execute_result"
    }
   ],
   "source": [
    "sentences = sent_tokenize(striptext)\n",
    "for sentence in sentences:\n",
    "    candidate_sentences[sentence] = sentence.lower()\n",
    "candidate_sentences"
   ]
  },
  {
   "cell_type": "code",
   "execution_count": 53,
   "metadata": {},
   "outputs": [
    {
     "name": "stdout",
     "output_type": "stream",
     "text": [
      "('I ate here Monday night for a working dinner with a coworker.', 'i ate here monday night for a working dinner with a coworker.')\n",
      "\n",
      "(\"I immediately saw its reason for name, beyond the owner's fandom of the show of the same name: the tablet setup are nearly all communal long tables.\", \"i immediately saw its reason for name, beyond the owner's fandom of the show of the same name: the tablet setup are nearly all communal long tables.\")\n",
      "\n",
      "(\"There're rather few non-shared tables which is fine as not only is NYC filled with such setup but there's a liveliness in the Columbia area vibe which prefers this setup.\", \"there're rather few non-shared tables which is fine as not only is nyc filled with such setup but there's a liveliness in the columbia area vibe which prefers this setup.\")\n",
      "\n",
      "(\"There's a shortage of such nice sit-down restaurants in the Columbia area so this place is not only capitalizing on its presence but doing so with great style and flare.\", \"there's a shortage of such nice sit-down restaurants in the columbia area so this place is not only capitalizing on its presence but doing so with great style and flare.\")\n",
      "\n",
      "(\"I ordered the beef burger which was very juicy, perfectly lean, well sauced, cooked as desired (medium-well, for those who wonder), and paired with a dill pickle, a handmade cole slaw that lacked mayo (which is good as mayo's pure trans-fat), and a spindle of fries.\", \"i ordered the beef burger which was very juicy, perfectly lean, well sauced, cooked as desired (medium-well, for those who wonder), and paired with a dill pickle, a handmade cole slaw that lacked mayo (which is good as mayo's pure trans-fat), and a spindle of fries.\")\n",
      "\n",
      "('My coworker got the salmon sandwich, same review applies.', 'my coworker got the salmon sandwich, same review applies.')\n",
      "\n",
      "(\"Awesome bar alongside, but we didn't patronize it.\", \"awesome bar alongside, but we didn't patronize it.\")\n",
      "\n",
      "('Vast amounts of seating and an open kitchen where tons of food is prepared live makes for a fun environ.', 'vast amounts of seating and an open kitchen where tons of food is prepared live makes for a fun environ.')\n",
      "\n",
      "('I accidentally left my headphones, called to ask if it was found, and fetched them the day later.', 'i accidentally left my headphones, called to ask if it was found, and fetched them the day later.')\n",
      "\n",
      "(\"The staff were so helpful, kind, and soft-spoken about recovering and returning it that I'm duly humbled.\", \"the staff were so helpful, kind, and soft-spoken about recovering and returning it that i'm duly humbled.\")\n",
      "\n",
      "('Thanks, all!', 'thanks, all!')\n",
      "\n",
      "('The food here is quite good, and I have no complaints in that area.', 'the food here is quite good, and i have no complaints in that area.')\n",
      "\n",
      "('The reason for only two stars is the cost of that food--OMG are they overpriced.', 'the reason for only two stars is the cost of that food--omg are they overpriced.')\n",
      "\n",
      "('My wife and I went here for breakfast.', 'my wife and i went here for breakfast.')\n",
      "\n",
      "('We each ordered blueberry pancakes and a cup of coffee--no fresh fruit, no juice, no bacon.', 'we each ordered blueberry pancakes and a cup of coffee--no fresh fruit, no juice, no bacon.')\n",
      "\n",
      "('The pancakes were $13 and the coffee was $4, so the initial bill was $34.', 'the pancakes were $13 and the coffee was $4, so the initial bill was $34.')\n",
      "\n",
      "('The tax was $3, and I left a tip of $6--resulting in a final total of $43 for a breakfast of flapjacks and coffee.', 'the tax was $3, and i left a tip of $6--resulting in a final total of $43 for a breakfast of flapjacks and coffee.')\n",
      "\n",
      "('Now I know this is NY and costs here are higher--but $43!', 'now i know this is ny and costs here are higher--but $43!')\n",
      "\n",
      "('Ugh!', 'ugh!')\n",
      "\n",
      "('There are a lot of nice places in the city where you can get a very good breakfast for 1/3rd to 1/2 less than Community.', 'there are a lot of nice places in the city where you can get a very good breakfast for 1/3rd to 1/2 less than community.')\n",
      "\n",
      "('I recommend you seek them out.', 'i recommend you seek them out.')\n",
      "\n",
      "('This is such a good brunch spot!', 'this is such a good brunch spot!')\n",
      "\n",
      "('The food, service & ambiance was exactly what we were looking for.', 'the food, service & ambiance was exactly what we were looking for.')\n",
      "\n",
      "('We sat at an adorable table on the outdoor patio and our waiter (sadly forgot his name) was awesome.', 'we sat at an adorable table on the outdoor patio and our waiter (sadly forgot his name) was awesome.')\n",
      "\n",
      "('I started with a raspberry iced tea & ordered the community custom egg white omelette with sautéed spinach & mushrooms and a side of smoked salmon.', 'i started with a raspberry iced tea & ordered the community custom egg white omelette with sautéed spinach & mushrooms and a side of smoked salmon.')\n",
      "\n",
      "('The omelette was thin (I would ask for eggs more well done next time) and was jam packed with veggies.', 'the omelette was thin (i would ask for eggs more well done next time) and was jam packed with veggies.')\n",
      "\n",
      "('The mushrooms were perfectly cooked.', 'the mushrooms were perfectly cooked.')\n",
      "\n",
      "('The salmon was so fresh and delicious.', 'the salmon was so fresh and delicious.')\n",
      "\n",
      "('My friend got the house smoked salmon plate.', 'my friend got the house smoked salmon plate.')\n",
      "\n",
      "('He loved it!', 'he loved it!')\n",
      "\n",
      "('I used some of the chive cream cheese on the toast that came with the eggs - highly recommend asking for some on the side!', 'i used some of the chive cream cheese on the toast that came with the eggs - highly recommend asking for some on the side!')\n",
      "\n",
      "('We also shared & loved the fruit salad.', 'we also shared & loved the fruit salad.')\n",
      "\n",
      "('We were pleasantly surprised by how big it was and the fruit was all very fresh.', 'we were pleasantly surprised by how big it was and the fruit was all very fresh.')\n",
      "\n",
      "('Overall, great brunch & highly recommend for a lovely brunch!', 'overall, great brunch & highly recommend for a lovely brunch!')\n",
      "\n",
      "('Such a cute neighborhood spot and perfect for a pre-park brunch.', 'such a cute neighborhood spot and perfect for a pre-park brunch.')\n",
      "\n",
      "('This place is great for Brunch.', 'this place is great for brunch.')\n",
      "\n",
      "('I went with my mom and my brother.', 'i went with my mom and my brother.')\n",
      "\n",
      "('Even though they were super busy, they were able to seat us right away, and our food came in a timely manner.', 'even though they were super busy, they were able to seat us right away, and our food came in a timely manner.')\n",
      "\n",
      "('The server was very friendly and sensitive to my dietary restrictions.', 'the server was very friendly and sensitive to my dietary restrictions.')\n",
      "\n",
      "('The food was very fresh, and the chefs knew exactly what they were doing.', 'the food was very fresh, and the chefs knew exactly what they were doing.')\n",
      "\n",
      "('I ordered the eggs benedict florentine.', 'i ordered the eggs benedict florentine.')\n",
      "\n",
      "('The hollandaise sauce was perfect: smooth and mildly tart.', 'the hollandaise sauce was perfect: smooth and mildly tart.')\n",
      "\n",
      "('The biscuit under it was cooked to perfection.', 'the biscuit under it was cooked to perfection.')\n",
      "\n",
      "('The eggs were perfect: solid on the outside, runny on the inside.', 'the eggs were perfect: solid on the outside, runny on the inside.')\n",
      "\n",
      "('However, the spinach although cooked well, kind of took away from the dish.', 'however, the spinach although cooked well, kind of took away from the dish.')\n",
      "\n",
      "('It was difficult to cut along with everything else, and pulling the spinach out from under the uncut part made parts of the egg fall off the biscuit.', 'it was difficult to cut along with everything else, and pulling the spinach out from under the uncut part made parts of the egg fall off the biscuit.')\n",
      "\n",
      "('Had the spinach been softer, this would have been more enjoyable to eat.', 'had the spinach been softer, this would have been more enjoyable to eat.')\n",
      "\n",
      "('Otherwise, it tasted delicious.', 'otherwise, it tasted delicious.')\n",
      "\n",
      "('My brother had the Huevos Rancheros.', 'my brother had the huevos rancheros.')\n",
      "\n",
      "('I wish I had ordered that instead.', 'i wish i had ordered that instead.')\n",
      "\n",
      "('It was delicious.', 'it was delicious.')\n",
      "\n",
      "('His eggs were sunny side up, and perfectly runny.', 'his eggs were sunny side up, and perfectly runny.')\n",
      "\n",
      "('The beans were seasoned perfectly, as was the rest of the tomato sauce, The tortilla was fresh and soft, and it came with delicious guacamole and sour cream.', 'the beans were seasoned perfectly, as was the rest of the tomato sauce, the tortilla was fresh and soft, and it came with delicious guacamole and sour cream.')\n",
      "\n",
      "('My mother ordered the frittata, which was also very good.', 'my mother ordered the frittata, which was also very good.')\n",
      "\n",
      "('As per her request, they put less goat cheese.', 'as per her request, they put less goat cheese.')\n",
      "\n",
      "('The flavors blended very well together.', 'the flavors blended very well together.')\n",
      "\n",
      "('The portobello mushrooms were cut into small enough pieces to fit in one bite, but were soft enough to cut further if they were too big for you.', 'the portobello mushrooms were cut into small enough pieces to fit in one bite, but were soft enough to cut further if they were too big for you.')\n",
      "\n",
      "('The frittata itself was soft and fluffy without being undercooked.', 'the frittata itself was soft and fluffy without being undercooked.')\n",
      "\n",
      "('Their coffee is from Brooklyn Roasting Company.', 'their coffee is from brooklyn roasting company.')\n",
      "\n",
      "(\"I don't normally drink coffee, but I would have had a whole cup of it had I not ordered the hot chocolate, which was also delicious.\", \"i don't normally drink coffee, but i would have had a whole cup of it had i not ordered the hot chocolate, which was also delicious.\")\n",
      "\n",
      "('The hot chocolate was made with real cocoa powder and milk.', 'the hot chocolate was made with real cocoa powder and milk.')\n",
      "\n",
      "('I gave this place four stars instead of five because of the consistency of the spinach in the eggs benedict florentine.', 'i gave this place four stars instead of five because of the consistency of the spinach in the eggs benedict florentine.')\n",
      "\n",
      "(\"Otherwise, I'd have given this place five stars.\", \"otherwise, i'd have given this place five stars.\")\n",
      "\n",
      "('Veggie sandwich on gluten free bread here.', 'veggie sandwich on gluten free bread here.')\n",
      "\n",
      "('Nom nommmm.', 'nom nommmm.')\n",
      "\n",
      "('The veggies were perfect and fresh!', 'the veggies were perfect and fresh!')\n",
      "\n",
      "('Unfortunately, the GF bread is an upcharge for a sandwich half the size of the normal sandwich.', 'unfortunately, the gf bread is an upcharge for a sandwich half the size of the normal sandwich.')\n",
      "\n",
      "('Still delicious, but sad when you see your non-GF friend with a full size sandwich.', 'still delicious, but sad when you see your non-gf friend with a full size sandwich.')\n",
      "\n",
      "('I wish I took a picture, but I dug right in due to brunch hunger and slow service.', 'i wish i took a picture, but i dug right in due to brunch hunger and slow service.')\n",
      "\n",
      "(\"I'd come back again, but be sure to have a snack before if you are feeling at all hungry like me.\", \"i'd come back again, but be sure to have a snack before if you are feeling at all hungry like me.\")\n",
      "\n",
      "('I came here on a Saturday morning with one of my friends without a reservation around 10:30 am and luckily we were seated outside right away.', 'i came here on a saturday morning with one of my friends without a reservation around 10:30 am and luckily we were seated outside right away.')\n",
      "\n",
      "(\"A man came over to the table and filled our waters but didn't introduce himself as our waiter so I wasn't sure if he was the busboy or the waiter; regardless, he took our drink order.\", \"a man came over to the table and filled our waters but didn't introduce himself as our waiter so i wasn't sure if he was the busboy or the waiter; regardless, he took our drink order.\")\n",
      "\n",
      "('I ordered a mimosa, which was pretty good, and my friend ordered a coffee which was served in a huge mug.', 'i ordered a mimosa, which was pretty good, and my friend ordered a coffee which was served in a huge mug.')\n",
      "\n",
      "('We both then ordered the breakfast biscuit.', 'we both then ordered the breakfast biscuit.')\n",
      "\n",
      "('I was not a big fan of the sausage that was served with it and would much more have preferred bacon but overall it was good.', 'i was not a big fan of the sausage that was served with it and would much more have preferred bacon but overall it was good.')\n",
      "\n",
      "('And the carrot hash browns were yummy too!', 'and the carrot hash browns were yummy too!')\n",
      "\n",
      "(\"They were mostly made of potato with hints of carrots, so it wasn't too carroty.\", \"they were mostly made of potato with hints of carrots, so it wasn't too carroty.\")\n",
      "\n",
      "('The bathrooms were also clean!', 'the bathrooms were also clean!')\n",
      "\n",
      "('My friend and I had a very good time.', 'my friend and i had a very good time.')\n",
      "\n",
      "(\"I've come here several times with a friend for brunch and once for dinner -- we've both really enjoyed a lot of the breakfast foods available; my favorite is the brioche French toast with blackberry and lemon curd & she loves heir waffles.\", \"i've come here several times with a friend for brunch and once for dinner -- we've both really enjoyed a lot of the breakfast foods available; my favorite is the brioche french toast with blackberry and lemon curd & she loves heir waffles.\")\n",
      "\n",
      "('Their maple butter sauce light, sweet and adds a nice taste as opposed to heavier syrups.', 'their maple butter sauce light, sweet and adds a nice taste as opposed to heavier syrups.')\n",
      "\n",
      "('If you come between 8-9am they have a pancake deal (blueberry or chocolate and a coffee or OJ for $12, not bad considering the area and average prices.', 'if you come between 8-9am they have a pancake deal (blueberry or chocolate and a coffee or oj for $12, not bad considering the area and average prices.')\n",
      "\n",
      "(\"Pancakes were fluffy and very filling)  Their lattes sometimes taste a bit burnt and not mixed properly -- don't waste your money.\", \"pancakes were fluffy and very filling)  their lattes sometimes taste a bit burnt and not mixed properly -- don't waste your money.\")\n",
      "\n",
      "('Dinner looked pretty...and that was all.', 'dinner looked pretty...and that was all.')\n",
      "\n",
      "('Overpriced small portions that were essentially inedible.', 'overpriced small portions that were essentially inedible.')\n",
      "\n",
      "('Dinner on Tuesday, usually a quiet affair, but given that Community is one of few good spots on Broadway for a good sit down, even at 6:30 p.m. it was bumping.', 'dinner on tuesday, usually a quiet affair, but given that community is one of few good spots on broadway for a good sit down, even at 6:30 p.m. it was bumping.')\n",
      "\n",
      "(\"I work at CU, and may be one of the few people that's never been to Community before.\", \"i work at cu, and may be one of the few people that's never been to community before.\")\n",
      "\n",
      "('Nice little tip, they have a deal between 5 pm and 7 pm on weekdays - beef burger and beer for $16.', 'nice little tip, they have a deal between 5 pm and 7 pm on weekdays - beef burger and beer for $16.')\n",
      "\n",
      "('To note - any revisions/additions to your order is $2.', 'to note - any revisions/additions to your order is $2.')\n",
      "\n",
      "(\"Let's be honest, sometimes a man just wants some sweet sweet avocado in the cool winter months.\", \"let's be honest, sometimes a man just wants some sweet sweet avocado in the cool winter months.\")\n",
      "\n",
      "('Nice little draft selection, I went for the Fire Island Beer Co. Lighthouse - nice and crisp and not hoppy - a rare breed in NYC.', 'nice little draft selection, i went for the fire island beer co. lighthouse - nice and crisp and not hoppy - a rare breed in nyc.')\n",
      "\n",
      "(\"Our waiter Sam D. was the perfect level of attentive, there for a question and to fill our water glasses, I don't think my ever dipped below half-filled.\", \"our waiter sam d. was the perfect level of attentive, there for a question and to fill our water glasses, i don't think my ever dipped below half-filled.\")\n",
      "\n",
      "('All and all a solid meal, the burger was a wee bit dry, but cooked to my specifications (medium rare).', 'all and all a solid meal, the burger was a wee bit dry, but cooked to my specifications (medium rare).')\n",
      "\n",
      "(\"I'd be interested to check out their lunch, which alas is usually a crush of CU staff and students, but there's always summer break ...\", \"i'd be interested to check out their lunch, which alas is usually a crush of cu staff and students, but there's always summer break ...\")\n",
      "\n",
      "('Came here for brunch with my wife after she found the good review, and it did not disappoint!', 'came here for brunch with my wife after she found the good review, and it did not disappoint!')\n",
      "\n",
      "('We did have to wait to be seated (which is a good sign even though no one really wants to)...', 'we did have to wait to be seated (which is a good sign even though no one really wants to)...')\n",
      "\n",
      "('The food is awesome!', 'the food is awesome!')\n",
      "\n",
      "('Very fresh, clean, and NOT oily, which is my usually qualm.', 'very fresh, clean, and not oily, which is my usually qualm.')\n",
      "\n",
      "('Disclaimer: I like diner food but it is almost always to greasy which I hate, but this place has very fresh and carefully prepared food.', 'disclaimer: i like diner food but it is almost always to greasy which i hate, but this place has very fresh and carefully prepared food.')\n",
      "\n",
      "('I wanted to order everything off the menu, but settled on the juevos rancheros with side of carrot hash browns, and biscuit.', 'i wanted to order everything off the menu, but settled on the juevos rancheros with side of carrot hash browns, and biscuit.')\n",
      "\n",
      "('My wife got the blueberry pancakes.', 'my wife got the blueberry pancakes.')\n",
      "\n",
      "('Everything was awesome.', 'everything was awesome.')\n",
      "\n",
      "('The hash browns were not the least bit greasy; the pancakes were delicious, and I really enjoyed the juevos (w/ chorizo).', 'the hash browns were not the least bit greasy; the pancakes were delicious, and i really enjoyed the juevos (w/ chorizo).')\n",
      "\n",
      "('I also tried my first ever bloody mary, and it was really good.', 'i also tried my first ever bloody mary, and it was really good.')\n",
      "\n",
      "('Will definitely be back!', 'will definitely be back!')\n",
      "\n",
      "('This place is fantastic.', 'this place is fantastic.')\n",
      "\n",
      "('Everyone is super friendly and accommodating vegetarian requests!', 'everyone is super friendly and accommodating vegetarian requests!')\n",
      "\n",
      "('P.s.', 'p.s.')\n",
      "\n",
      "('Your whole party has to be there to be sat!', 'your whole party has to be there to be sat!')\n",
      "\n",
      "('Excellent menu!', 'excellent menu!')\n",
      "\n",
      "('The seven grain waffles, blueberry pancakes with a side of turkey chorizo.', 'the seven grain waffles, blueberry pancakes with a side of turkey chorizo.')\n",
      "\n",
      "('Who knew turkey chorizo existed!!!', 'who knew turkey chorizo existed!!!')\n",
      "\n",
      "('All the food was amazing.', 'all the food was amazing.')\n",
      "\n",
      "('My new favorite brunch spot.', 'my new favorite brunch spot.')\n",
      "\n",
      "('Will be exploring more items on the menu.', 'will be exploring more items on the menu.')\n",
      "\n",
      "('Service is great - our water was also filled, our coffee was replenished at appropriate times.', 'service is great - our water was also filled, our coffee was replenished at appropriate times.')\n",
      "\n",
      "('The attention to the details of the flavors in the food is impeccable.', 'the attention to the details of the flavors in the food is impeccable.')\n",
      "\n",
      "('The accompanying sauces and jams were so memorable and delicious!', 'the accompanying sauces and jams were so memorable and delicious!')\n",
      "\n",
      "('Initially, we went for brunch in the early afternoon, but ended up staying for appetizers and split a bottle of wine.', 'initially, we went for brunch in the early afternoon, but ended up staying for appetizers and split a bottle of wine.')\n",
      "\n",
      "('The staff did not make us feel guilty at all, but welcomed us to stay until their dinner hour started.', 'the staff did not make us feel guilty at all, but welcomed us to stay until their dinner hour started.')\n",
      "\n",
      "('During the whole time, not one waiter came over to encourage us to pay our bill and leave.', 'during the whole time, not one waiter came over to encourage us to pay our bill and leave.')\n",
      "\n",
      "('Instead, they filled our coffees and water.', 'instead, they filled our coffees and water.')\n",
      "\n",
      "('Speaking of coffee - their black drip coffee from a roaster in Brooklyn is delicious!', 'speaking of coffee - their black drip coffee from a roaster in brooklyn is delicious!')\n",
      "\n",
      "('Down to the last drop - it was smooth, nutty, and not bitter even cold.', 'down to the last drop - it was smooth, nutty, and not bitter even cold.')\n",
      "\n",
      "('Details of the food, including the presentation of each dish.', 'details of the food, including the presentation of each dish.')\n",
      "\n",
      "('The biscuit sandwich was healthy-ish as they utilized whole wheat flour.', 'the biscuit sandwich was healthy-ish as they utilized whole wheat flour.')\n",
      "\n",
      "('The sausage was not fatty at all and the meat patty - although a little smaller when compared to the biscuit (meat:bread ratio) was small, it went was so tasty with the tomato jam, as well as the perfectly cooked eggs!', 'the sausage was not fatty at all and the meat patty - although a little smaller when compared to the biscuit (meat:bread ratio) was small, it went was so tasty with the tomato jam, as well as the perfectly cooked eggs!')\n",
      "\n",
      "('The raspberry preserve was so fresh!', 'the raspberry preserve was so fresh!')\n",
      "\n",
      "('Not overly sweet and definitely enjoyed the seeds within the preserve.', 'not overly sweet and definitely enjoyed the seeds within the preserve.')\n",
      "\n",
      "('The 7 grain waffle with the fresh berries, butterscotch sauce (maple glaze?)', 'the 7 grain waffle with the fresh berries, butterscotch sauce (maple glaze?)')\n",
      "\n",
      "('with FRESH whipped cream was THE BEST dish there.', 'with fresh whipped cream was the best dish there.')\n",
      "\n",
      "('There was a raspberry sauce beautifully spread on the plate that added a nice tartness to the whole bite.', 'there was a raspberry sauce beautifully spread on the plate that added a nice tartness to the whole bite.')\n",
      "\n",
      "('Pancakes were fluffy and they used real, non-frozen blueberries which I loved!', 'pancakes were fluffy and they used real, non-frozen blueberries which i loved!')\n",
      "\n",
      "('The sauce that came with it was definitely different than the waffle glaze, so it was so tasty to discover the flavors within the glaze.', 'the sauce that came with it was definitely different than the waffle glaze, so it was so tasty to discover the flavors within the glaze.')\n",
      "\n",
      "('Community is definitely one of my favorite, non-boozy brunch spots in the UWS/Morningside!', 'community is definitely one of my favorite, non-boozy brunch spots in the uws/morningside!')\n",
      "\n",
      "('Will go back!', 'will go back!')\n",
      "\n",
      "('Traveled up here from the upper east side to get away from the usual brunch places.', 'traveled up here from the upper east side to get away from the usual brunch places.')\n",
      "\n",
      "('Only a 20 minute bus ride from 79th, very easy to get to.', 'only a 20 minute bus ride from 79th, very easy to get to.')\n",
      "\n",
      "('Came on Sunday near 1pm and it was VERY busy, ended up waiting an hour and a half (1 hour more than we were told) however, the food was ah-mazing.', 'came on sunday near 1pm and it was very busy, ended up waiting an hour and a half (1 hour more than we were told) however, the food was ah-mazing.')\n",
      "\n",
      "('Everything looks and sounds good and this place smells like heaven.', 'everything looks and sounds good and this place smells like heaven.')\n",
      "\n",
      "('I had the special of 2 fried eggs, vegetable ragout, bacon and truffle vinaigrette and it was Delish.', 'i had the special of 2 fried eggs, vegetable ragout, bacon and truffle vinaigrette and it was delish.')\n",
      "\n",
      "(\"Cheaper brunch cocktails than most places (only $10....but yes, it is nyc where most are $14+) if I have one recommendation, it's the POTATO PANCAKES!!!\", \"cheaper brunch cocktails than most places (only $10....but yes, it is nyc where most are $14+) if i have one recommendation, it's the potato pancakes!!!\")\n",
      "\n",
      "('SO GOOD, My bf and I split them.', 'so good, my bf and i split them.')\n",
      "\n",
      "('He had the pancakes and said they were the best he had in the city.', 'he had the pancakes and said they were the best he had in the city.')\n",
      "\n",
      "('Also GREAT FOR GLUTEN FREE!', 'also great for gluten free!')\n",
      "\n",
      "('I am gluten/dairy intolerant and they were able to fully accommodate me.', 'i am gluten/dairy intolerant and they were able to fully accommodate me.')\n",
      "\n",
      "(\"Also super close to Colombia's main campus, great place to walk around and digest.\", \"also super close to colombia's main campus, great place to walk around and digest.\")\n",
      "\n",
      "('2 HOURS AND NO FOOD!', '2 hours and no food!')\n",
      "\n",
      "('Sunday Brunch July 13th 2014.', 'sunday brunch july 13th 2014.')\n",
      "\n",
      "(\"We had to wait 30 minuets for a seat OK Sunday brunch it's popular.\", \"we had to wait 30 minuets for a seat ok sunday brunch it's popular.\")\n",
      "\n",
      "('15 minuets wait for the wait staff, 45 minuets before we got the wrong dish!', '15 minuets wait for the wait staff, 45 minuets before we got the wrong dish!')\n",
      "\n",
      "('another 30 minuets still no food we left.', 'another 30 minuets still no food we left.')\n",
      "\n",
      "('They where gracious enough not to charge for the momosasas.', 'they where gracious enough not to charge for the momosasas.')\n",
      "\n",
      "('Community is a brunch place next to Columbia.', 'community is a brunch place next to columbia.')\n",
      "\n",
      "('I came here one day to meet up with my cousin who studies at Columbia.', 'i came here one day to meet up with my cousin who studies at columbia.')\n",
      "\n",
      "('Seated around 10 mins on a cozy Sat morning, not too bad.', 'seated around 10 mins on a cozy sat morning, not too bad.')\n",
      "\n",
      "('The interior was normal, nothing fancy, but we enjoyed window seats and a tiny desk instead of the long family style tables at the center of the restaurant which gives limited privacy.', 'the interior was normal, nothing fancy, but we enjoyed window seats and a tiny desk instead of the long family style tables at the center of the restaurant which gives limited privacy.')\n",
      "\n",
      "('I really like the hanging lights from the ceiling which is quite cute.', 'i really like the hanging lights from the ceiling which is quite cute.')\n",
      "\n",
      "('The ground leveled glass windows allow you to see the views outside- it is a nice change from the busy pedestrians and giant high rise buildings view of the typical New York street cues in Midtown.', 'the ground leveled glass windows allow you to see the views outside- it is a nice change from the busy pedestrians and giant high rise buildings view of the typical new york street cues in midtown.')\n",
      "\n",
      "('Morningside feels more like a college town with older residential building and quieter streets.', 'morningside feels more like a college town with older residential building and quieter streets.')\n",
      "\n",
      "('Despite the 3.5 stars I was pleasantly surprised at the food here.', 'despite the 3.5 stars i was pleasantly surprised at the food here.')\n",
      "\n",
      "('I thought it was delicious!', 'i thought it was delicious!')\n",
      "\n",
      "(\"Much better than my experience at Stephanie's at Newbury in Boston or even many of the brunch places I've been in LA.\", \"much better than my experience at stephanie's at newbury in boston or even many of the brunch places i've been in la.\")\n",
      "\n",
      "('We ordered the morning specials : 7 grains waffle and truffle egg dish.', 'we ordered the morning specials : 7 grains waffle and truffle egg dish.')\n",
      "\n",
      "('-7 grains waffle: had vanilla cream, raspberry, cherry, and toasted nuts.', '-7 grains waffle: had vanilla cream, raspberry, cherry, and toasted nuts.')\n",
      "\n",
      "('Tasted slightly more chewy than the usual waffle with flour, and on top there was marinated peach slices and cream.', 'tasted slightly more chewy than the usual waffle with flour, and on top there was marinated peach slices and cream.')\n",
      "\n",
      "(\"I really like how it wasn't hard and overly sweet- especially how the toasted nuts added a level of crunchiness to the heaviness of the cream.\", \"i really like how it wasn't hard and overly sweet- especially how the toasted nuts added a level of crunchiness to the heaviness of the cream.\")\n",
      "\n",
      "('- The truffle egg dish: had sausage, potatoes, some leafy greens, sautéed mushrooms, and poached egg on top.', '- the truffle egg dish: had sausage, potatoes, some leafy greens, sautéed mushrooms, and poached egg on top.')\n",
      "\n",
      "('To be honest I  could not tasted the truffle at all, besides the garlic and the pepper and the salt; however with this mix it can hardly go wrong.', 'to be honest i  could not tasted the truffle at all, besides the garlic and the pepper and the salt; however with this mix it can hardly go wrong.')\n",
      "\n",
      "('It was flavorful and not overly salty.', 'it was flavorful and not overly salty.')\n",
      "\n",
      "('The only thing I guess I can \"complain\" is that the dishes were small.', 'the only thing i guess i can \"complain\" is that the dishes were small.')\n",
      "\n",
      "(\"Bill came up to be around 50, which isn't exactly cheap considering how small the portions are- but justifiable still due to the taste.\", \"bill came up to be around 50, which isn't exactly cheap considering how small the portions are- but justifiable still due to the taste.\")\n",
      "\n",
      "('Overpriced, oversized, oversweet... Oh wait, this is America.', 'overpriced, oversized, oversweet... oh wait, this is america.')\n",
      "\n",
      "('The pancakes with banana and walnut were okay.', 'the pancakes with banana and walnut were okay.')\n",
      "\n",
      "('They could have done without the maple butter and walnuts and would have been better with maple syrup.', 'they could have done without the maple butter and walnuts and would have been better with maple syrup.')\n",
      "\n",
      "(\"I'd rather have paid half price for half the portion.\", \"i'd rather have paid half price for half the portion.\")\n",
      "\n",
      "('Bottomless coffee was standard.', 'bottomless coffee was standard.')\n",
      "\n",
      "('The waitress serving our table was polite and courteous considering how many customers she was dealing with.', 'the waitress serving our table was polite and courteous considering how many customers she was dealing with.')\n",
      "\n",
      "('Having seen the title of this place, I did expect somewhere a little cosier, trendier, more rustic and more inviting.', 'having seen the title of this place, i did expect somewhere a little cosier, trendier, more rustic and more inviting.')\n",
      "\n",
      "('The interior was a little canteenish and there were only a couple of juices on the menu.', 'the interior was a little canteenish and there were only a couple of juices on the menu.')\n",
      "\n",
      "(\"I wouldn't go back at these prices and with these crowds.\", \"i wouldn't go back at these prices and with these crowds.\")\n",
      "\n",
      "('\"I have a degree from Columbia, and now I have to get one from America.\"', '\"i have a degree from columbia, and now i have to get one from america.\"')\n",
      "\n",
      "('- Jeff Winger, Community.', '- jeff winger, community.')\n",
      "\n",
      "('I came here with my friend who also is a huge fan of the show \"Community\", which used to be aired on NBC then got cancelled and then re-birthed on Yahoo!', 'i came here with my friend who also is a huge fan of the show \"community\", which used to be aired on nbc then got cancelled and then re-birthed on yahoo!')\n",
      "\n",
      "('Screen.', 'screen.')\n",
      "\n",
      "(\"That's right, Yahoo!\", \"that's right, yahoo!\")\n",
      "\n",
      "('Sigh, oh how I miss the golden age of that glorious, glorious show.', 'sigh, oh how i miss the golden age of that glorious, glorious show.')\n",
      "\n",
      "('My friend, however, is actually pursuing a REAL degree from Columbia University--not Colombia the country, unlike our hateable yet lovable ex-lawyer who attended Greendale Community College.', 'my friend, however, is actually pursuing a real degree from columbia university--not colombia the country, unlike our hateable yet lovable ex-lawyer who attended greendale community college.')\n",
      "\n",
      "(\"She chose this place because of the name--I mean come on, can't get more fitting than that--and because of its proximity to Columbia's campus.\", \"she chose this place because of the name--i mean come on, can't get more fitting than that--and because of its proximity to columbia's campus.\")\n",
      "\n",
      "(\"Community Food & Juice is literally a few blocks away, so it's perfect for students.\", \"community food & juice is literally a few blocks away, so it's perfect for students.\")\n",
      "\n",
      "(\"On a nice New York morning, we had brunch and got to talk about everything from racist experiences to the TV show we can't quite get over.\", \"on a nice new york morning, we had brunch and got to talk about everything from racist experiences to the tv show we can't quite get over.\")\n",
      "\n",
      "('The food?', 'the food?')\n",
      "\n",
      "('My chocolate pancakes were pretty darn good and pretty darn rich.', 'my chocolate pancakes were pretty darn good and pretty darn rich.')\n",
      "\n",
      "(\"I don't know what I was expecting.\", \"i don't know what i was expecting.\")\n",
      "\n",
      "('In fact, the \"syrup\"--not even sure what it is (apple?)', 'in fact, the \"syrup\"--not even sure what it is (apple?)')\n",
      "\n",
      "('was kind of overkill because the pancakes and chocolate were far sweet enough.', 'was kind of overkill because the pancakes and chocolate were far sweet enough.')\n",
      "\n",
      "('I also got a shiso mojito which sounds fancy--and it better be for the $11 I paid for it.', 'i also got a shiso mojito which sounds fancy--and it better be for the $11 i paid for it.')\n",
      "\n",
      "('Flor de Cana aged white rum, fresh lime juice, shiso-mint simple syrup, yuzu splash, muddled mint, and crushed ice made up the drink that Jeff Winger would have called a \"kid\\'s drink\".', 'flor de cana aged white rum, fresh lime juice, shiso-mint simple syrup, yuzu splash, muddled mint, and crushed ice made up the drink that jeff winger would have called a \"kid\\'s drink\".')\n",
      "\n",
      "(\"It was pretty strong but the shiso-mint did come through, so it was worth it (I'm rationalizing the price right now).\", \"it was pretty strong but the shiso-mint did come through, so it was worth it (i'm rationalizing the price right now).\")\n",
      "\n",
      "('All in all, a pleasant experience with nice service and nice company.', 'all in all, a pleasant experience with nice service and nice company.')\n",
      "\n",
      "(\"It's not every day I get to go to New York, take some subways to meet a friend, eat some good food, get a tour of a top university, and walk away with my wallet much lighter.\", \"it's not every day i get to go to new york, take some subways to meet a friend, eat some good food, get a tour of a top university, and walk away with my wallet much lighter.\")\n",
      "\n",
      "('On that note, \"It said market price.', 'on that note, \"it said market price.')\n",
      "\n",
      "('What market are you shopping at!?!?!\"', 'what market are you shopping at!?!?!\"')\n",
      "\n",
      "('- Troy Barnes Man I love that show.', '- troy barnes man i love that show.')\n",
      "\n",
      "('We stopped in for lunch.', 'we stopped in for lunch.')\n",
      "\n",
      "('We had ordered three things the beet salad, the rice bowl and the veggie burger.', 'we had ordered three things the beet salad, the rice bowl and the veggie burger.')\n",
      "\n",
      "('The place was packed.', 'the place was packed.')\n",
      "\n",
      "('Even though it was packed service was very good.', 'even though it was packed service was very good.')\n",
      "\n",
      "('The beat salad and rice bowl were delicious.', 'the beat salad and rice bowl were delicious.')\n",
      "\n",
      "(\"Although we thought the veggie burger could've used another flavor component.\", \"although we thought the veggie burger could've used another flavor component.\")\n",
      "\n",
      "('Solid breakfast place in Morningside Heights.', 'solid breakfast place in morningside heights.')\n",
      "\n",
      "('I came here with a friend - we were seated promptly and service was attentive.', 'i came here with a friend - we were seated promptly and service was attentive.')\n",
      "\n",
      "('The decor was beautiful and the lighting was warm - a great place for a brunch date.', 'the decor was beautiful and the lighting was warm - a great place for a brunch date.')\n",
      "\n",
      "('I ordered the Country Breakfast and the eggs were delicious and fluffy, the biscuit was moist and flavorful, the carrot hash browns were warm and comforting, and the ham was sweet and juicy.', 'i ordered the country breakfast and the eggs were delicious and fluffy, the biscuit was moist and flavorful, the carrot hash browns were warm and comforting, and the ham was sweet and juicy.')\n",
      "\n",
      "(\"Pricing was around $15 per person, which was reasonable for the quality and amount of food, especially considering it's New York.\", \"pricing was around $15 per person, which was reasonable for the quality and amount of food, especially considering it's new york.\")\n",
      "\n",
      "('The restaurant is within walking distance of Columbia, and I would recommend for a nice brunch in the area!', 'the restaurant is within walking distance of columbia, and i would recommend for a nice brunch in the area!')\n",
      "\n",
      "('Nice experience there.', 'nice experience there.')\n",
      "\n",
      "('My friend n me went there early to enjoy pancake with fresh juice n on site coffee.', 'my friend n me went there early to enjoy pancake with fresh juice n on site coffee.')\n",
      "\n",
      "('Thanks to the kind service as well,i will remember this restaurant as a Columbian.', 'thanks to the kind service as well,i will remember this restaurant as a columbian.')\n",
      "\n",
      "('This place is really good for breakfast and has great pancakes, sausages, eggs.', 'this place is really good for breakfast and has great pancakes, sausages, eggs.')\n",
      "\n",
      "('Although you really have to spring ti get in, since there are very big lines to eat.', 'although you really have to spring ti get in, since there are very big lines to eat.')\n",
      "\n"
     ]
    }
   ],
   "source": [
    "for long, short in candidate_sentences.items():\n",
    "    print((long, short))\n",
    "    print()"
   ]
  },
  {
   "cell_type": "code",
   "execution_count": 54,
   "metadata": {
    "collapsed": true
   },
   "outputs": [],
   "source": [
    "for long, short in candidate_sentences.items():\n",
    "    count = 0\n",
    "    for freq_word, frequency_score in most_frequent_words[3:]:\n",
    "        if freq_word in short:\n",
    "            count += frequency_score\n",
    "    candidate_sentence_counts[long] = count"
   ]
  },
  {
   "cell_type": "code",
   "execution_count": 55,
   "metadata": {
    "collapsed": true
   },
   "outputs": [],
   "source": [
    "#candidate_sentence_counts"
   ]
  },
  {
   "cell_type": "code",
   "execution_count": 57,
   "metadata": {
    "scrolled": true
   },
   "outputs": [
    {
     "name": "stdout",
     "output_type": "stream",
     "text": [
      "OrderedDict([   (   'There are a lot of nice places in the city where you can '\n",
      "                    'get a very good breakfast for 1/3rd to 1/2 less than '\n",
      "                    'Community.',\n",
      "                    66),\n",
      "                (   'I ordered a mimosa, which was pretty good, and my friend '\n",
      "                    'ordered a coffee which was served in a huge mug.',\n",
      "                    66),\n",
      "                (   'Came here for brunch with my wife after she found the '\n",
      "                    'good review, and it did not disappoint!',\n",
      "                    64),\n",
      "                (   'We each ordered blueberry pancakes and a cup of '\n",
      "                    'coffee--no fresh fruit, no juice, no bacon.',\n",
      "                    61)])\n"
     ]
    }
   ],
   "source": [
    "sorted_sentences = OrderedDict(sorted(\n",
    "                    candidate_sentence_counts.items(),\n",
    "                    key = lambda x: x[1],\n",
    "                    reverse = True)[:4])\n",
    "pp.pprint(sorted_sentences)"
   ]
  },
  {
   "cell_type": "markdown",
   "metadata": {},
   "source": [
    "<h4>Packaging all this into a function</h4>"
   ]
  },
  {
   "cell_type": "code",
   "execution_count": 58,
   "metadata": {
    "collapsed": true
   },
   "outputs": [],
   "source": [
    "def build_naive_summary(text):\n",
    "    from nltk.tokenize import word_tokenize\n",
    "    from nltk.tokenize import sent_tokenize\n",
    "    from nltk.probability import FreqDist\n",
    "    from nltk.corpus import stopwords\n",
    "    from collections import OrderedDict\n",
    "    summary_sentences = []\n",
    "    candidate_sentences = {}\n",
    "    candidate_sentence_counts = {}\n",
    "    striptext = text.replace('\\n\\n', ' ')\n",
    "    striptext = striptext.replace('\\n', ' ')\n",
    "    words = word_tokenize(striptext)\n",
    "    lowercase_words = [word.lower() for word in words\n",
    "                      if word not in stopwords.words() and word.isalpha()]\n",
    "    word_frequencies = FreqDist(lowercase_words)\n",
    "    most_frequent_words = FreqDist(lowercase_words).most_common(20)\n",
    "    sentences = sent_tokenize(striptext)\n",
    "    for sentence in sentences:\n",
    "        candidate_sentences[sentence] = sentence.lower()\n",
    "    for long, short in candidate_sentences.items():\n",
    "        count = 0\n",
    "        for freq_word, frequency_score in most_frequent_words:\n",
    "            if freq_word in short:\n",
    "                count += frequency_score\n",
    "        candidate_sentence_counts[long] = count   \n",
    "    sorted_sentences = OrderedDict(sorted(\n",
    "                        candidate_sentence_counts.items(),\n",
    "                        key = lambda x: x[1],\n",
    "                        reverse = True)[:4])\n",
    "    return sorted_sentences   "
   ]
  },
  {
   "cell_type": "code",
   "execution_count": 59,
   "metadata": {
    "collapsed": true
   },
   "outputs": [],
   "source": [
    "# summary = '\\n'.join(build_naive_summary(community_data.raw()))\n",
    "# print(summary)"
   ]
  },
  {
   "cell_type": "code",
   "execution_count": 60,
   "metadata": {},
   "outputs": [
    {
     "name": "stdout",
     "output_type": "stream",
     "text": [
      "i would recommend going for brunch over any other meal, as everything i've ordered for brunch has been quite good the shakshuka is great, and you can't anything else like it in the area.\n",
      "\n",
      "I would love to try them out for dinner, as I said, the service was great and we were checked on regularly.\n",
      "\n",
      "I would give them a better review because the food was good but the waiting really was long.\n",
      "\n",
      "The food was really good and they are known for their brunch menu.\n"
     ]
    }
   ],
   "source": [
    "summary = '\\n\\n'.join(build_naive_summary(le_monde_data.raw()))\n",
    "print(summary)"
   ]
  },
  {
   "cell_type": "markdown",
   "metadata": {},
   "source": [
    "<h4>We can summarize George Washington's first inaugural speech<h4>"
   ]
  },
  {
   "cell_type": "code",
   "execution_count": 61,
   "metadata": {
    "collapsed": true
   },
   "outputs": [],
   "source": [
    "# build_naive_summary(inaugural.raw('1789-Washington.txt'))"
   ]
  },
  {
   "cell_type": "code",
   "execution_count": 62,
   "metadata": {
    "scrolled": true
   },
   "outputs": [
    {
     "name": "stdout",
     "output_type": "stream",
     "text": [
      "We, the people, declare today that the most evident of truths â- that all of us are created equal â- is the star that guides us still; just as it guided our forebears through Seneca Falls, and Selma, and Stonewall; just as it guided all those men and women, sung and unsung, who left footprints along this great Mall, to hear a preacher say that we cannot walk alone; to hear a King proclaim that our individual freedom is inextricably bound to the freedom of every soul on Earth.\n",
      "\n",
      "But we have always understood that when times change, so must we; that fidelity to our founding principles requires new responses to new challenges; that preserving our individual freedoms ultimately requires collective action.\n",
      "\n",
      "So we must harness new ideas and technology to remake our government, revamp our tax code, reform our schools, and empower our citizens with the skills they need to work harder, learn more, reach higher.\n",
      "\n",
      "Our journey is not complete until our gay brothers and sisters are treated like anyone else under the law  â-  -- for if we are truly created equal, then surely the love we commit to one another must be equal as well.\n"
     ]
    }
   ],
   "source": [
    "Obama2013 = '\\n\\n'.join(build_naive_summary(inaugural.raw('2013-Obama.txt')))\n",
    "print(Obama2013)"
   ]
  },
  {
   "cell_type": "code",
   "execution_count": 63,
   "metadata": {},
   "outputs": [
    {
     "name": "stdout",
     "output_type": "stream",
     "text": [
      "We the citizens of America are now joined in a great national effort to rebuild our country and restore its promise for all of our people.\n",
      "\n",
      "We will get our people off of welfare and back to work, rebuilding our country with American hands and American labor.\n",
      "\n",
      "One by one, the factories shuddered and left our shores, with not even a thought about the millions and millions of American workers that were left behind.\n",
      "\n",
      "We all enjoy the same glorious freedoms, and we all salute the same, great American flag.\n"
     ]
    }
   ],
   "source": [
    "Trump2017 = '\\n\\n'.join(build_naive_summary(inaugural.raw('2017-Trump.txt')))\n",
    "print(Trump2017)"
   ]
  },
  {
   "cell_type": "markdown",
   "metadata": {},
   "source": [
    "<h1>Topic modeling</h1>\n",
    "<h4>The goal of topic modeling is to identify the major concepts underlying a piece of text</h4>\n",
    "<h4>Topic modeling uses \"Unsupervised Learning\". No apriori knowledge is necessary\n",
    "<li>Though it is helpful in cleaning up results!"
   ]
  },
  {
   "cell_type": "markdown",
   "metadata": {},
   "source": [
    "<h3>LDA: Latent Dirichlet Allocation Model</h3>\n",
    "<li>Identifies potential topics using pruning techniques like 'upward closure'\n",
    "<li>Computes conditional probabilities for topic word sets\n",
    "<li>Identifies the most likely topics\n",
    "<li>Does this over multiple passes probabilistically picking topics in each pass\n",
    "<li>Good intuitive explanation: http://blog.echen.me/2011/08/22/introduction-to-latent-dirichlet-allocation/"
   ]
  },
  {
   "cell_type": "code",
   "execution_count": 64,
   "metadata": {
    "collapsed": true
   },
   "outputs": [],
   "source": [
    "from gensim import corpora\n",
    "from gensim.models.ldamodel import LdaModel\n",
    "from gensim.parsing.preprocessing import STOPWORDS\n",
    "import pprint"
   ]
  },
  {
   "cell_type": "code",
   "execution_count": 65,
   "metadata": {},
   "outputs": [
    {
     "data": {
      "text/plain": [
       "360"
      ]
     },
     "execution_count": 65,
     "metadata": {},
     "output_type": "execute_result"
    }
   ],
   "source": [
    "text = PlaintextCorpusReader(\"data/\",\"Nikon_coolpix_4300.txt\").raw()\n",
    "striptext = text.replace('\\n\\n', ' ')\n",
    "striptext = striptext.replace('\\n', ' ')\n",
    "sentences = sent_tokenize(striptext)\n",
    "#words = word_tokenize(striptext)\n",
    "#tokenize each sentence into word tokens\n",
    "texts = [[word for word in sentence.lower().split()\n",
    "        if word not in STOPWORDS and word.isalnum()]\n",
    "        for sentence in sentences]\n",
    "len(texts)"
   ]
  },
  {
   "cell_type": "code",
   "execution_count": 66,
   "metadata": {},
   "outputs": [
    {
     "name": "stdout",
     "output_type": "stream",
     "text": [
      "True\n",
      "True\n"
     ]
    },
    {
     "data": {
      "text/plain": [
       "False"
      ]
     },
     "execution_count": 66,
     "metadata": {},
     "output_type": "execute_result"
    }
   ],
   "source": [
    "# texts = []\n",
    "# for sentence in sentences:\n",
    "#     for word in sentence.lower().split():\n",
    "#         if word not in STOPWORDS and word.isalnum():\n",
    "#             texts.append(word)\n",
    "print('1'.isalnum())\n",
    "print('nba'.isalnum())\n",
    "'1'.isalpha()"
   ]
  },
  {
   "cell_type": "markdown",
   "metadata": {},
   "source": [
    "<h4>Create a (word,frequency) dictionary for each word in the text</h4>\n",
    "- create a dictionary and a corpus.\n",
    "- the dictionary is every word in the text is given a number.\n",
    "- the goal here roughly is to construct sentences that are \n",
    "  - these numbers instead of the actual words itself, \n",
    "  - all LDA is doing is it's creating a network of these sentences.\n",
    "  - And we'll see how closely related they are.\n",
    "  \n",
    "- So if it says sentence one is word 7, 14, 23, 24, 25,\n",
    "  - and sentence two is 7, 14, 6, 9, 25, then it knows that\n",
    "  - there's a linkage of three of the words are connected in those two sentences.\n",
    "  - So rather than looking at words, it looks at numbers. It's much faster\n",
    "  \n",
    "- it's replacing the word by number.\n",
    "  - And this is keeping track of what the linkage between the word and the number is.\n",
    "  \n",
    "- Corpus\n",
    "  - It's telling us that sentence number nine has word number 17 occurs once,\n",
    "  - word number 66 occurs twice ... \n",
    "  - the number of the word in a sentence and \n",
    "  - the frequency of its occurrence in that sentence.\n"
   ]
  },
  {
   "cell_type": "code",
   "execution_count": 68,
   "metadata": {},
   "outputs": [
    {
     "name": "stdout",
     "output_type": "stream",
     "text": [
      "[(20, 1), (32, 1), (66, 1), (67, 1), (68, 1), (69, 1), (70, 1), (71, 1), (72, 1), (73, 2), (74, 1)]\n",
      "['rechargable', '16', 'mb', 'compact', 'flash', 'rechargable', 'battery', 'charging', 'unit', 'included', 'fast', 'small']\n",
      "rechargable\n"
     ]
    }
   ],
   "source": [
    "dictionary = corpora.Dictionary(texts) #(word_id,frequency) pairs\n",
    "corpus = [dictionary.doc2bow(text) for text in texts] #(word_id,freq) pairs by sentence\n",
    "# print(dictionary.token2id)\n",
    "# print(dictionary.keys())\n",
    "print(corpus[9])\n",
    "print(texts[9])\n",
    "print(dictionary[73])\n",
    "#dictionary[4]"
   ]
  },
  {
   "cell_type": "code",
   "execution_count": 75,
   "metadata": {},
   "outputs": [
    {
     "name": "stdout",
     "output_type": "stream",
     "text": [
      "['annotated', 'minqing', 'hu', 'bing']\n"
     ]
    },
    {
     "data": {
      "text/plain": [
       "[(0, 1), (1, 1), (2, 1), (3, 1)]"
      ]
     },
     "execution_count": 75,
     "metadata": {},
     "output_type": "execute_result"
    }
   ],
   "source": [
    "print(texts[0])\n",
    "dictionary.doc2bow(texts[0])"
   ]
  },
  {
   "cell_type": "markdown",
   "metadata": {},
   "source": [
    "- So the sentence is rechargeable twice.\n",
    "- So that's why we got 73 comma 2 in our corpus.\n",
    "- And that's the whole linkage here."
   ]
  },
  {
   "cell_type": "code",
   "execution_count": 76,
   "metadata": {
    "collapsed": true
   },
   "outputs": [],
   "source": [
    "#Set parameters\n",
    "num_topics = 5 #The number of topics that should be generated\n",
    "passes = 10 # how many passes we want to do."
   ]
  },
  {
   "cell_type": "code",
   "execution_count": 77,
   "metadata": {
    "collapsed": true
   },
   "outputs": [],
   "source": [
    "lda = LdaModel(corpus,\n",
    "              id2word=dictionary,\n",
    "              num_topics=num_topics,\n",
    "              passes=10)"
   ]
  },
  {
   "cell_type": "code",
   "execution_count": 78,
   "metadata": {},
   "outputs": [
    {
     "name": "stdout",
     "output_type": "stream",
     "text": [
      "[   (0, '0.035*\"camera\" + 0.027*\"battery\" + 0.022*\"pictures\"'),\n",
      "    (1, '0.033*\"camera\" + 0.022*\"use\" + 0.013*\"easy\"'),\n",
      "    (2, '0.033*\"camera\" + 0.020*\"card\" + 0.011*\"picture\"'),\n",
      "    (3, '0.058*\"camera\" + 0.015*\"nikon\" + 0.014*\"easy\"'),\n",
      "    (4, '0.018*\"camera\" + 0.014*\"card\" + 0.014*\"pictures\"')]\n"
     ]
    }
   ],
   "source": [
    "pp = pprint.PrettyPrinter(indent=4)\n",
    "pp.pprint(lda.print_topics(num_words=3)) # print only three words per topic"
   ]
  },
  {
   "cell_type": "code",
   "execution_count": 79,
   "metadata": {},
   "outputs": [
    {
     "name": "stdout",
     "output_type": "stream",
     "text": [
      "360\n",
      "[(0, 1), (1, 1), (2, 1), (3, 1)]\n"
     ]
    }
   ],
   "source": [
    "print(len(corpus))\n",
    "print(corpus[0])\n",
    "#corpus[1]"
   ]
  },
  {
   "cell_type": "markdown",
   "metadata": {},
   "source": [
    "<h2>Matching topics to documents</h2>\n",
    "<h3>Sort topics by probability</h3>\n",
    "\n",
    "- let's say you have 1,000 different documents, and you have a new document coming in.\n",
    "- take your initial set of 1,000 documents, print it up into a training and test sample,\n",
    "- take the training sample, look at that for possible topics,\n",
    "- as a new document comes in, what are the main topics\n",
    "\n",
    "- it's really a question of \n",
    "  - taking a large number of topics and \n",
    "  - deciding what are the range of topics that they cover.\n",
    "  - When you get a new document,\n",
    "  - you can figure out which particular topic or topics that new document addresses.\n"
   ]
  },
  {
   "cell_type": "markdown",
   "metadata": {},
   "source": [
    "<h4>We're using sentences as documents here, so this is less than ideal</h4>"
   ]
  },
  {
   "cell_type": "code",
   "execution_count": 110,
   "metadata": {},
   "outputs": [
    {
     "data": {
      "text/plain": [
       "[(0, 0.83995926),\n",
       " (4, 0.04001236),\n",
       " (2, 0.040010743),\n",
       " (1, 0.04000895),\n",
       " (3, 0.040008694)]"
      ]
     },
     "execution_count": 110,
     "metadata": {},
     "output_type": "execute_result"
    }
   ],
   "source": [
    "# corpus 0 is the first sentence in our document\n",
    "# it says that the first sentenceis focused on topic number 4, which was camera picture use.\n",
    "\n",
    "# giving a minimum probability 0, which says that \n",
    "# you don't include anything that has probability of less than 0.\n",
    "\n",
    "from operator import itemgetter\n",
    "lda.get_document_topics(corpus[0],minimum_probability=0.05,per_word_topics=False)\n",
    "sorted(lda.get_document_topics(corpus[0],minimum_probability=0,per_word_topics=False),key=itemgetter(1),reverse=True)"
   ]
  },
  {
   "cell_type": "markdown",
   "metadata": {},
   "source": [
    "<h3>Making sense of the topics</h3>"
   ]
  },
  {
   "cell_type": "code",
   "execution_count": 103,
   "metadata": {},
   "outputs": [],
   "source": [
    "# prob_tol = sum([prob for word,prob in lda.show_topic(2,topn=50)])\n",
    "# print(prob_tol)\n",
    "\n",
    "# word_list = []\n",
    "# for word,prob in lda.show_topic(2,topn=50):\n",
    "#     #print(word, prob)\n",
    "#     prob_total += prob\n",
    "#     freq = int(prob/prob_total*1000)\n",
    "#     alist=[word]\n",
    "#     word_list.extend(alist*freq)\n",
    "\n",
    "#  take all these words, rate them by their probabilities,"
   ]
  },
  {
   "cell_type": "code",
   "execution_count": 104,
   "metadata": {
    "scrolled": false
   },
   "outputs": [
    {
     "data": {
      "text/plain": [
       "['camera', 'camera', 'camera', 'camera', 'camera']"
      ]
     },
     "execution_count": 104,
     "metadata": {},
     "output_type": "execute_result"
    }
   ],
   "source": [
    "['camera']*5"
   ]
  },
  {
   "cell_type": "code",
   "execution_count": 105,
   "metadata": {},
   "outputs": [
    {
     "name": "stdout",
     "output_type": "stream",
     "text": [
      "['egg', ['coffee', 'milk']]\n"
     ]
    },
    {
     "data": {
      "text/plain": [
       "['egg', ['coffee', 'milk'], 'bread', 'orange']"
      ]
     },
     "execution_count": 105,
     "metadata": {},
     "output_type": "execute_result"
    }
   ],
   "source": [
    "breakfast = ['egg']\n",
    "breakfast.append(['coffee', 'milk'])\n",
    "print(breakfast)\n",
    "breakfast.extend(['bread', 'orange'])\n",
    "breakfast"
   ]
  },
  {
   "cell_type": "code",
   "execution_count": 106,
   "metadata": {
    "collapsed": true
   },
   "outputs": [],
   "source": [
    "# for any given topic-- we can actually draw a word cloud\n",
    "\n",
    "def draw_wordcloud(lda,topicnum,min_size=0,STOPWORDS=[]):\n",
    "    word_list=[]\n",
    "    prob_total = 0\n",
    "    for word,prob in lda.show_topic(topicnum,topn=50):\n",
    "        prob_total +=prob\n",
    "#    prob_tol = sum([prob for word,prob in lda.show_topic(topicnum,topn=50)])\n",
    "    for word,prob in lda.show_topic(topicnum,topn=50):\n",
    "        if word in STOPWORDS or  len(word) < min_size:\n",
    "            continue\n",
    "        freq = int(prob/prob_total*1000)\n",
    "        alist=[word]\n",
    "        word_list.extend(alist*freq)\n",
    "\n",
    "    from wordcloud import WordCloud, STOPWORDS\n",
    "    import matplotlib.pyplot as plt\n",
    "    %matplotlib inline\n",
    "    text = ' '.join(word_list)\n",
    "    #wordcloud = WordCloud(stopwords=STOPWORDS,background_color='white',width=3000,height=3000).generate(' '.join(word_list))\n",
    "    wordcloud = WordCloud(stopwords=STOPWORDS,background_color='white',width=3000,height=3000).generate(text)\n",
    "\n",
    "\n",
    "    plt.imshow(wordcloud)\n",
    "    plt.axis('off')\n",
    "    plt.show()"
   ]
  },
  {
   "cell_type": "code",
   "execution_count": 107,
   "metadata": {},
   "outputs": [
    {
     "data": {
      "image/png": "[encoded data removed]",
      "text/plain": [
       "<matplotlib.figure.Figure at 0x10df79d68>"
      ]
     },
     "metadata": {},
     "output_type": "display_data"
    }
   ],
   "source": [
    "draw_wordcloud(lda,2) # topicnum"
   ]
  },
  {
   "cell_type": "markdown",
   "metadata": {},
   "source": [
    "<h4>Roughly,</h4>\n",
    "<li>lda looks for candidate topics assuming that there are many such candidates\n",
    "<li>looks for words related to the candidate topics\n",
    "<li>assign probablilites to those words"
   ]
  },
  {
   "cell_type": "markdown",
   "metadata": {},
   "source": [
    "<h3>Let's look at Presidential addresses to see what sorts of topics emerge from there</h3>\n",
    "<li>Each document will be analyzed for topic</li>\n",
    "<li>The corpus will consist of 58 documents, one per presidential address"
   ]
  },
  {
   "cell_type": "code",
   "execution_count": 116,
   "metadata": {},
   "outputs": [
    {
     "data": {
      "text/plain": [
       "['Chief', 'Justice', 'Roberts', ',', 'President', ...]"
      ]
     },
     "execution_count": 116,
     "metadata": {},
     "output_type": "execute_result"
    }
   ],
   "source": [
    "trump = inaugural.fileids()[-1]\n",
    "inaugural.words(trump)"
   ]
  },
  {
   "cell_type": "code",
   "execution_count": 112,
   "metadata": {
    "collapsed": true
   },
   "outputs": [],
   "source": [
    "REMOVE_WORDS = {'shall','generally','spirit','country','people','nation','nations','great','better'}\n",
    "#Create a word dictionary (id, word)\n",
    "texts = [[word for word in sentence.lower().split()\n",
    "        if word not in STOPWORDS and word not in REMOVE_WORDS and word.isalnum()]\n",
    "        for sentence in sentences]\n",
    "dictionary = corpora.Dictionary(texts)\n",
    "\n",
    "texts_0502 = [[word for word in inaugural.words(fileid) \n",
    "               if word not in STOPWORDS and word not in REMOVE_WORDS and word.isalpha() and len(word) >4]\n",
    "              for fileid in inaugural.fileids()]\n",
    "dictionary_0502 = corpora.Dictionary(texts_0502)\n",
    "\n",
    "#Create a corpus of documents\n",
    "text_list = list()\n",
    "for fileid in inaugural.fileids():\n",
    "    text = inaugural.words(fileid)\n",
    "    doc=list()\n",
    "    for word in text:\n",
    "        if word in STOPWORDS or word in REMOVE_WORDS or not word.isalpha() or len(word) <5:\n",
    "            continue\n",
    "        doc.append(word)\n",
    "    text_list.append(doc)\n",
    "by_address_corpus = [dictionary.doc2bow(text) for text in text_list] # each one of them is a document "
   ]
  },
  {
   "cell_type": "code",
   "execution_count": 121,
   "metadata": {
    "collapsed": true
   },
   "outputs": [],
   "source": [
    "texts_0502 = [[word for word in inaugural.words(fileid) \n",
    "               if word not in STOPWORDS and word not in REMOVE_WORDS and word.isalpha() and len(word) >4]\n",
    "              for fileid in inaugural.fileids()]\n",
    "dictionary_0502 = corpora.Dictionary(texts_0502)\n",
    "\n",
    "#Create a corpus of documents\n",
    "text_list = list()\n",
    "for fileid in inaugural.fileids():\n",
    "    text = inaugural.words(fileid)\n",
    "    doc=list()\n",
    "    for word in text:\n",
    "        if word in STOPWORDS or word in REMOVE_WORDS or not word.isalpha() or len(word) <5:\n",
    "            continue\n",
    "        doc.append(word)\n",
    "    text_list.append(doc)\n",
    "by_address_corpus_0502 = [dictionary_0502.doc2bow(text) for text in text_list] # each one of them is a document "
   ]
  },
  {
   "cell_type": "markdown",
   "metadata": {},
   "source": [
    "<h2>Create the model</h2>"
   ]
  },
  {
   "cell_type": "code",
   "execution_count": 113,
   "metadata": {
    "collapsed": true
   },
   "outputs": [],
   "source": [
    "lda = LdaModel(by_address_corpus,\n",
    "              id2word=dictionary,\n",
    "              num_topics=20,\n",
    "              passes=10)"
   ]
  },
  {
   "cell_type": "code",
   "execution_count": 122,
   "metadata": {
    "collapsed": true
   },
   "outputs": [],
   "source": [
    "lda_0502 = LdaModel(by_address_corpus_0502,\n",
    "              id2word=dictionary_0502,\n",
    "              num_topics=20,\n",
    "              passes=10)"
   ]
  },
  {
   "cell_type": "code",
   "execution_count": 123,
   "metadata": {
    "scrolled": true
   },
   "outputs": [
    {
     "name": "stdout",
     "output_type": "stream",
     "text": [
      "[   (   0,\n",
      "        '0.038*\"world\" + 0.030*\"action\" + 0.028*\"right\" + 0.025*\"power\" + '\n",
      "        '0.022*\"means\" + 0.022*\"support\" + 0.021*\"thought\" + 0.018*\"course\" + '\n",
      "        '0.018*\"little\" + 0.015*\"conditions\"'),\n",
      "    (   1,\n",
      "        '0.035*\"power\" + 0.033*\"experience\" + 0.025*\"trust\" + 0.017*\"subject\" '\n",
      "        '+ 0.015*\"office\" + 0.015*\"action\" + 0.015*\"control\" + 0.014*\"rapid\" + '\n",
      "        '0.013*\"looking\" + 0.013*\"years\"'),\n",
      "    (   2,\n",
      "        '0.056*\"helped\" + 0.037*\"money\" + 0.036*\"action\" + 0.033*\"emergency\" + '\n",
      "        '0.020*\"important\" + 0.016*\"performance\" + 0.016*\"problem\" + '\n",
      "        '0.015*\"adequate\" + 0.015*\"direct\" + 0.015*\"larger\"'),\n",
      "    (   3,\n",
      "        '0.151*\"world\" + 0.031*\"power\" + 0.019*\"years\" + 0.018*\"future\" + '\n",
      "        '0.018*\"right\" + 0.018*\"change\" + 0.015*\"forward\" + 0.014*\"moment\" + '\n",
      "        '0.014*\"place\" + 0.014*\"cause\"'),\n",
      "    (   4,\n",
      "        '0.031*\"power\" + 0.030*\"right\" + 0.025*\"protection\" + 0.022*\"years\" + '\n",
      "        '0.021*\"world\" + 0.021*\"subject\" + 0.019*\"support\" + 0.018*\"service\" + '\n",
      "        '0.018*\"labor\" + 0.017*\"office\"'),\n",
      "    (   5,\n",
      "        '0.051*\"office\" + 0.030*\"ability\" + 0.028*\"requires\" + 0.028*\"years\" + '\n",
      "        '0.021*\"subject\" + 0.021*\"having\" + 0.020*\"careful\" + 0.018*\"capacity\" '\n",
      "        '+ 0.017*\"taken\" + 0.011*\"effective\"'),\n",
      "    (   6,\n",
      "        '0.001*\"power\" + 0.001*\"right\" + 0.001*\"hands\" + 0.001*\"given\" + '\n",
      "        '0.001*\"having\" + 0.001*\"subject\" + 0.001*\"opinion\" + 0.001*\"means\" + '\n",
      "        '0.001*\"service\" + 0.001*\"state\"'),\n",
      "    (   7,\n",
      "        '0.001*\"world\" + 0.001*\"power\" + 0.001*\"right\" + 0.001*\"friends\" + '\n",
      "        '0.001*\"children\" + 0.001*\"things\" + 0.001*\"years\" + 0.001*\"action\" + '\n",
      "        '0.001*\"place\" + 0.001*\"means\"'),\n",
      "    (   8,\n",
      "        '0.001*\"power\" + 0.001*\"service\" + 0.001*\"worth\" + 0.001*\"course\" + '\n",
      "        '0.001*\"subjects\" + 0.001*\"money\" + 0.001*\"insure\" + 0.001*\"steadily\" '\n",
      "        '+ 0.001*\"situation\" + 0.001*\"cover\"'),\n",
      "    (   9,\n",
      "        '0.032*\"world\" + 0.027*\"believe\" + 0.024*\"state\" + 0.023*\"support\" + '\n",
      "        '0.019*\"reason\" + 0.018*\"means\" + 0.016*\"period\" + 0.015*\"learned\" + '\n",
      "        '0.015*\"produce\" + 0.015*\"order\"'),\n",
      "    (   10,\n",
      "        '0.034*\"things\" + 0.025*\"right\" + 0.025*\"change\" + 0.024*\"world\" + '\n",
      "        '0.022*\"means\" + 0.019*\"trust\" + 0.016*\"thought\" + 0.015*\"support\" + '\n",
      "        '0.014*\"wrong\" + 0.013*\"children\"'),\n",
      "    (   11,\n",
      "        '0.001*\"service\" + 0.001*\"right\" + 0.001*\"having\" + 0.001*\"power\" + '\n",
      "        '0.001*\"friendly\" + 0.001*\"perfect\" + 0.001*\"given\" + 0.001*\"cases\" + '\n",
      "        '0.001*\"years\" + 0.001*\"labor\"'),\n",
      "    (   12,\n",
      "        '0.039*\"years\" + 0.038*\"power\" + 0.037*\"right\" + 0.030*\"future\" + '\n",
      "        '0.023*\"experience\" + 0.022*\"cause\" + 0.018*\"field\" + 0.018*\"realized\" '\n",
      "        '+ 0.017*\"place\" + 0.015*\"trust\"'),\n",
      "    (   13,\n",
      "        '0.001*\"world\" + 0.001*\"friends\" + 0.001*\"things\" + 0.001*\"power\" + '\n",
      "        '0.001*\"right\" + 0.001*\"children\" + 0.001*\"place\" + 0.001*\"experience\" '\n",
      "        '+ 0.001*\"sound\" + 0.001*\"action\"'),\n",
      "    (   14,\n",
      "        '0.058*\"power\" + 0.047*\"problems\" + 0.031*\"things\" + 0.025*\"children\" '\n",
      "        '+ 0.024*\"cause\" + 0.022*\"conditions\" + 0.021*\"world\" + 0.020*\"years\" '\n",
      "        '+ 0.018*\"order\" + 0.017*\"change\"'),\n",
      "    (   15,\n",
      "        '0.054*\"world\" + 0.028*\"service\" + 0.027*\"office\" + 0.022*\"support\" + '\n",
      "        '0.018*\"local\" + 0.018*\"large\" + 0.018*\"highest\" + 0.018*\"advance\" + '\n",
      "        '0.017*\"given\" + 0.016*\"believe\"'),\n",
      "    (   16,\n",
      "        '0.058*\"world\" + 0.045*\"years\" + 0.033*\"believe\" + 0.032*\"future\" + '\n",
      "        '0.030*\"children\" + 0.022*\"place\" + 0.022*\"things\" + 0.021*\"moment\" + '\n",
      "        '0.020*\"change\" + 0.019*\"journey\"'),\n",
      "    (   17,\n",
      "        '0.001*\"world\" + 0.001*\"means\" + 0.001*\"thought\" + 0.001*\"action\" + '\n",
      "        '0.001*\"support\" + 0.001*\"results\" + 0.001*\"reason\" + 0.001*\"sound\" + '\n",
      "        '0.001*\"course\" + 0.001*\"making\"'),\n",
      "    (   18,\n",
      "        '0.034*\"power\" + 0.032*\"years\" + 0.022*\"cases\" + 0.020*\"service\" + '\n",
      "        '0.020*\"little\" + 0.019*\"friends\" + 0.019*\"single\" + 0.017*\"support\" + '\n",
      "        '0.017*\"internal\" + 0.017*\"knowledge\"'),\n",
      "    (   19,\n",
      "        '0.069*\"power\" + 0.019*\"state\" + 0.014*\"years\" + 0.014*\"having\" + '\n",
      "        '0.014*\"produce\" + 0.014*\"office\" + 0.014*\"support\" + 0.014*\"given\" + '\n",
      "        '0.014*\"happy\" + 0.013*\"opinion\"')]\n"
     ]
    }
   ],
   "source": [
    "pp = pprint.PrettyPrinter(indent=4)\n",
    "pp.pprint(lda.print_topics(num_words=10))"
   ]
  },
  {
   "cell_type": "code",
   "execution_count": 124,
   "metadata": {
    "scrolled": true
   },
   "outputs": [
    {
     "name": "stdout",
     "output_type": "stream",
     "text": [
      "[   (   0,\n",
      "        '0.000*\"world\" + 0.000*\"power\" + 0.000*\"States\" + 0.000*\"America\" + '\n",
      "        '0.000*\"Government\" + 0.000*\"citizens\" + 0.000*\"government\" + '\n",
      "        '0.000*\"American\" + 0.000*\"peace\" + 0.000*\"freedom\"'),\n",
      "    (   1,\n",
      "        '0.011*\"States\" + 0.008*\"Government\" + 0.007*\"citizens\" + '\n",
      "        '0.006*\"United\" + 0.006*\"public\" + 0.005*\"power\" + 0.005*\"foreign\" + '\n",
      "        '0.005*\"fellow\" + 0.004*\"principles\" + 0.004*\"peace\"'),\n",
      "    (   2,\n",
      "        '0.006*\"office\" + 0.005*\"subject\" + 0.004*\"present\" + 0.004*\"support\" '\n",
      "        '+ 0.004*\"Executive\" + 0.004*\"proposition\" + 0.003*\"States\" + '\n",
      "        '0.003*\"world\" + 0.003*\"government\" + 0.003*\"power\"'),\n",
      "    (   3,\n",
      "        '0.000*\"States\" + 0.000*\"Government\" + 0.000*\"Constitution\" + '\n",
      "        '0.000*\"citizens\" + 0.000*\"government\" + 0.000*\"world\" + 0.000*\"power\" '\n",
      "        '+ 0.000*\"rights\" + 0.000*\"peace\" + 0.000*\"public\"'),\n",
      "    (   4,\n",
      "        '0.000*\"Government\" + 0.000*\"States\" + 0.000*\"Constitution\" + '\n",
      "        '0.000*\"peace\" + 0.000*\"power\" + 0.000*\"government\" + 0.000*\"citizens\" '\n",
      "        '+ 0.000*\"powers\" + 0.000*\"world\" + 0.000*\"public\"'),\n",
      "    (   5,\n",
      "        '0.011*\"world\" + 0.006*\"peace\" + 0.006*\"national\" + 0.005*\"Nation\" + '\n",
      "        '0.005*\"States\" + 0.005*\"United\" + 0.005*\"freedom\" + 0.005*\"action\" + '\n",
      "        '0.005*\"right\" + 0.004*\"purpose\"'),\n",
      "    (   6,\n",
      "        '0.009*\"public\" + 0.007*\"Government\" + 0.007*\"States\" + '\n",
      "        '0.006*\"Constitution\" + 0.005*\"policy\" + 0.005*\"Union\" + '\n",
      "        '0.005*\"rights\" + 0.004*\"duties\" + 0.004*\"peace\" + 0.004*\"Congress\"'),\n",
      "    (   7,\n",
      "        '0.012*\"world\" + 0.009*\"freedom\" + 0.009*\"peace\" + 0.009*\"America\" + '\n",
      "        '0.008*\"government\" + 0.006*\"Americans\" + 0.005*\"today\" + '\n",
      "        '0.005*\"citizens\" + 0.005*\"power\" + 0.005*\"history\"'),\n",
      "    (   8,\n",
      "        '0.004*\"infirm\" + 0.004*\"rates\" + 0.002*\"Mathias\" + 0.002*\"unemployed\" '\n",
      "        '+ 0.002*\"climb\" + 0.002*\"sending\" + 0.002*\"scorn\" + 0.002*\"reckoning\" '\n",
      "        '+ 0.002*\"staff\" + 0.002*\"bloated\"'),\n",
      "    (   9,\n",
      "        '0.009*\"government\" + 0.007*\"Government\" + 0.006*\"peace\" + '\n",
      "        '0.006*\"public\" + 0.006*\"world\" + 0.005*\"American\" + 0.005*\"support\" + '\n",
      "        '0.005*\"justice\" + 0.005*\"service\" + 0.004*\"citizens\"'),\n",
      "    (   10,\n",
      "        '0.020*\"America\" + 0.015*\"world\" + 0.010*\"peace\" + 0.008*\"American\" + '\n",
      "        '0.008*\"government\" + 0.005*\"history\" + 0.005*\"years\" + 0.005*\"today\" '\n",
      "        '+ 0.005*\"responsibility\" + 0.005*\"right\"'),\n",
      "    (   11,\n",
      "        '0.019*\"world\" + 0.014*\"America\" + 0.006*\"American\" + '\n",
      "        '0.006*\"democracy\" + 0.006*\"freedom\" + 0.005*\"There\" + 0.004*\"human\" + '\n",
      "        '0.004*\"civilization\" + 0.004*\"today\" + 0.004*\"Americans\"'),\n",
      "    (   12,\n",
      "        '0.000*\"Government\" + 0.000*\"States\" + 0.000*\"Constitution\" + '\n",
      "        '0.000*\"public\" + 0.000*\"power\" + 0.000*\"citizens\" + '\n",
      "        '0.000*\"government\" + 0.000*\"world\" + 0.000*\"United\" + '\n",
      "        '0.000*\"Congress\"'),\n",
      "    (   13,\n",
      "        '0.006*\"government\" + 0.005*\"sides\" + 0.005*\"world\" + 0.004*\"citizens\" '\n",
      "        '+ 0.004*\"things\" + 0.004*\"justice\" + 0.003*\"pledge\" + '\n",
      "        '0.003*\"President\" + 0.003*\"Government\" + 0.003*\"public\"'),\n",
      "    (   14,\n",
      "        '0.007*\"government\" + 0.007*\"States\" + 0.007*\"Government\" + '\n",
      "        '0.007*\"United\" + 0.006*\"Congress\" + 0.006*\"American\" + 0.006*\"public\" '\n",
      "        '+ 0.005*\"peace\" + 0.005*\"Executive\" + 0.005*\"national\"'),\n",
      "    (   15,\n",
      "        '0.012*\"States\" + 0.012*\"Government\" + 0.007*\"Constitution\" + '\n",
      "        '0.006*\"Union\" + 0.005*\"Congress\" + 0.005*\"United\" + '\n",
      "        '0.005*\"government\" + 0.005*\"power\" + 0.005*\"public\" + '\n",
      "        '0.005*\"citizens\"'),\n",
      "    (   16,\n",
      "        '0.000*\"States\" + 0.000*\"Government\" + 0.000*\"public\" + '\n",
      "        '0.000*\"Constitution\" + 0.000*\"world\" + 0.000*\"Congress\" + '\n",
      "        '0.000*\"citizens\" + 0.000*\"power\" + 0.000*\"United\" + 0.000*\"peace\"'),\n",
      "    (   17,\n",
      "        '0.013*\"century\" + 0.010*\"world\" + 0.009*\"American\" + 0.008*\"union\" + '\n",
      "        '0.008*\"change\" + 0.008*\"promise\" + 0.006*\"fellow\" + 0.005*\"America\" + '\n",
      "        '0.005*\"children\" + 0.005*\"liberty\"'),\n",
      "    (   18,\n",
      "        '0.011*\"power\" + 0.009*\"Constitution\" + 0.008*\"citizens\" + '\n",
      "        '0.007*\"liberty\" + 0.006*\"freedom\" + 0.006*\"government\" + '\n",
      "        '0.006*\"Government\" + 0.005*\"States\" + 0.005*\"fellow\" + '\n",
      "        '0.005*\"character\"'),\n",
      "    (   19,\n",
      "        '0.000*\"world\" + 0.000*\"America\" + 0.000*\"States\" + 0.000*\"Union\" + '\n",
      "        '0.000*\"government\" + 0.000*\"peace\" + 0.000*\"years\" + 0.000*\"citizens\" '\n",
      "        '+ 0.000*\"power\" + 0.000*\"Constitution\"')]\n"
     ]
    }
   ],
   "source": [
    "pp = pprint.PrettyPrinter(indent=4)\n",
    "pp.pprint(lda_0502.print_topics(num_words=10))"
   ]
  },
  {
   "cell_type": "markdown",
   "metadata": {},
   "source": [
    "<h2>We can now compare presidential addresses by topic</h2>"
   ]
  },
  {
   "cell_type": "code",
   "execution_count": 125,
   "metadata": {},
   "outputs": [
    {
     "data": {
      "text/plain": [
       "58"
      ]
     },
     "execution_count": 125,
     "metadata": {},
     "output_type": "execute_result"
    }
   ],
   "source": [
    "len(by_address_corpus)"
   ]
  },
  {
   "cell_type": "code",
   "execution_count": 129,
   "metadata": {},
   "outputs": [
    {
     "data": {
      "text/plain": [
       "[(16, 0.99159294),\n",
       " (0, 0.00044247796),\n",
       " (1, 0.00044247796),\n",
       " (2, 0.00044247796),\n",
       " (3, 0.00044247796),\n",
       " (4, 0.00044247796),\n",
       " (5, 0.00044247796),\n",
       " (6, 0.00044247796),\n",
       " (7, 0.00044247796),\n",
       " (8, 0.00044247796),\n",
       " (9, 0.00044247796),\n",
       " (10, 0.00044247796),\n",
       " (11, 0.00044247796),\n",
       " (12, 0.00044247796),\n",
       " (13, 0.00044247796),\n",
       " (14, 0.00044247796),\n",
       " (15, 0.00044247796),\n",
       " (17, 0.00044247796),\n",
       " (18, 0.00044247796),\n",
       " (19, 0.00044247796)]"
      ]
     },
     "execution_count": 129,
     "metadata": {},
     "output_type": "execute_result"
    }
   ],
   "source": [
    "from operator import itemgetter\n",
    "sorted(lda.get_document_topics(by_address_corpus[56],minimum_probability=0,per_word_topics=False),key=itemgetter(1),reverse=True)"
   ]
  },
  {
   "cell_type": "code",
   "execution_count": 89,
   "metadata": {},
   "outputs": [
    {
     "data": {
      "image/png": "[encoded data removed]",
      "text/plain": [
       "<matplotlib.figure.Figure at 0x1a18e9a908>"
      ]
     },
     "metadata": {},
     "output_type": "display_data"
    }
   ],
   "source": [
    "draw_wordcloud(lda,15)"
   ]
  },
  {
   "cell_type": "code",
   "execution_count": 79,
   "metadata": {},
   "outputs": [
    {
     "name": "stdout",
     "output_type": "stream",
     "text": [
      "[('protection', 0.048713334), ('power', 0.028730301), ('means', 0.028194424), ('right', 0.02778061), ('opinion', 0.027463747)]\n",
      "[('world', 0.054191414), ('power', 0.033326074), ('future', 0.026917486), ('children', 0.024975007), ('office', 0.024153478)]\n"
     ]
    }
   ],
   "source": [
    "print(lda.show_topic(12,topn=5))\n",
    "print(lda.show_topic(18,topn=5))"
   ]
  },
  {
   "cell_type": "markdown",
   "metadata": {
    "collapsed": true
   },
   "source": [
    "<h1>Similarity</h1>\n",
    "<h2>Given a corpus of documents, when a new document arrives, find the document that is the most similar</h2>"
   ]
  },
  {
   "cell_type": "code",
   "execution_count": 131,
   "metadata": {
    "collapsed": true
   },
   "outputs": [],
   "source": [
    "doc_list = [community_data,le_monde_data,amigos_data,heights_data]\n",
    "all_text = community_data.raw() + le_monde_data.raw() + amigos_data.raw() + heights_data.raw()\n",
    "\n",
    "documents = [doc.raw() for doc in doc_list]\n",
    "texts = [[word for word in document.lower().split()\n",
    "        if word not in STOPWORDS and word.isalnum()]\n",
    "        for document in documents]\n",
    "dictionary = corpora.Dictionary(texts)\n",
    "corpus = [dictionary.doc2bow(text) for text in texts]\n"
   ]
  },
  {
   "cell_type": "code",
   "execution_count": 132,
   "metadata": {
    "collapsed": true
   },
   "outputs": [],
   "source": [
    "from gensim.similarities.docsim import Similarity\n",
    "from gensim import corpora, models, similarities\n",
    "lsi = models.LsiModel(corpus, id2word=dictionary, num_topics=2)\n",
    "doc = \"\"\"\n",
    "Many, many years ago, I used to frequent this place for their amazing french toast. \n",
    "It's been a while since then and I've been hesitant to review a place I haven't been to in 7-8 years... \n",
    "but I passed by French Roast and, feeling nostalgic, decided to go back.\n",
    "\n",
    "It was a great decision.\n",
    "\n",
    "Their Bloody Mary is fantastic and includes bacon (which was perfectly cooked!!), olives, \n",
    "cucumber, and celery. The Irish coffee is also excellent, even without the cream which is what I ordered.\n",
    "\n",
    "Great food, great drinks, a great ambiance that is casual yet familiar like a tiny little French cafe. \n",
    "I highly recommend coming here, and will be back whenever I'm in the area next.\n",
    "\n",
    "Juan, the bartender, is great!! One of the best in any brunch spot in the city, by far.\n",
    "\"\"\"\n",
    "vec_bow = dictionary.doc2bow(doc.lower().split())\n",
    "vec_lsi = lsi[vec_bow]\n",
    "index = similarities.MatrixSimilarity(lsi[corpus])\n",
    "sims = index[vec_lsi]\n",
    "sims = sorted(enumerate(sims), key=lambda item: -item[1])"
   ]
  },
  {
   "cell_type": "code",
   "execution_count": 138,
   "metadata": {},
   "outputs": [
    {
     "data": {
      "text/plain": [
       "array([0.67548543, 0.93145514, 0.9868139 , 0.9921291 ], dtype=float32)"
      ]
     },
     "execution_count": 138,
     "metadata": {},
     "output_type": "execute_result"
    }
   ],
   "source": [
    "index[vec_lsi]"
   ]
  },
  {
   "cell_type": "code",
   "execution_count": 133,
   "metadata": {},
   "outputs": [
    {
     "data": {
      "text/plain": [
       "[(1, 0.9876573), (0, 0.95548683), (3, 0.7929068), (2, 0.7698077)]"
      ]
     },
     "execution_count": 133,
     "metadata": {},
     "output_type": "execute_result"
    }
   ],
   "source": [
    "sims"
   ]
  },
  {
   "cell_type": "code",
   "execution_count": 134,
   "metadata": {},
   "outputs": [
    {
     "data": {
      "text/plain": [
       "[(3, 0.9921291), (2, 0.9868139), (1, 0.93145514), (0, 0.67548543)]"
      ]
     },
     "execution_count": 134,
     "metadata": {},
     "output_type": "execute_result"
    }
   ],
   "source": [
    "doc=\"\"\"\n",
    "I went to Mexican Festival Restaurant for Cinco De Mayo because I had been there years \n",
    "prior and had such a good experience. This time wasn't so good. The food was just \n",
    "mediocre and it wasn't hot when it was brought to our table. They brought my friends food out \n",
    "10 minutes before everyone else and it took forever to get drinks. We let it slide because the place was \n",
    "packed with people and it was Cinco De Mayo. Also, the margaritas we had were slamming! Pure tequila. \n",
    "\n",
    "But then things took a turn for the worst. As I went to get something out of my purse which was on \n",
    "the back of my chair, I looked down and saw a huge water bug. I had to warn the lady next to me because \n",
    "it was so close to her chair. We called the waitress over and someone came with a broom and a dustpan and \n",
    "swept it away like it was an everyday experience. No one seemed phased.\n",
    "\n",
    "Even though our waitress was very nice, I do not think we will be returning to Mexican Festival again. \n",
    "It seems the restaurant is a shadow of its former self.\n",
    "\"\"\"\n",
    "vec_bow = dictionary.doc2bow(doc.lower().split())\n",
    "vec_lsi = lsi[vec_bow]\n",
    "index = similarities.MatrixSimilarity(lsi[corpus])\n",
    "sims = index[vec_lsi]\n",
    "sims = sorted(enumerate(sims), key=lambda item: -item[1])\n",
    "sims"
   ]
  },
  {
   "cell_type": "code",
   "execution_count": null,
   "metadata": {
    "collapsed": true
   },
   "outputs": [],
   "source": []
  }
 ],
 "metadata": {
  "kernelspec": {
   "display_name": "Python 3",
   "language": "python",
   "name": "python3"
  },
  "language_info": {
   "codemirror_mode": {
    "name": "ipython",
    "version": 3
   },
   "file_extension": ".py",
   "mimetype": "text/x-python",
   "name": "python",
   "nbconvert_exporter": "python",
   "pygments_lexer": "ipython3",
   "version": "3.6.3"
  }
 },
 "nbformat": 4,
 "nbformat_minor": 2
}
